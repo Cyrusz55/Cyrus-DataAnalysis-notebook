{
 "cells": [
  {
   "cell_type": "code",
   "execution_count": 1,
   "id": "6903c4ae-534c-41d9-96c8-6f68ca0e26a3",
   "metadata": {},
   "outputs": [
    {
     "name": "stdout",
     "output_type": "stream",
     "text": [
      "Toyota Camry engine started!\n"
     ]
    }
   ],
   "source": [
    "class Car:\n",
    "    wheels = 4\n",
    "\n",
    "    def __init__(self, brand, model, year):\n",
    "        self.brand = brand\n",
    "        self.model = model\n",
    "        self.year = year\n",
    "        self.is_running = False\n",
    "\n",
    "    def start_engine(self):\n",
    "        self.is_running = True\n",
    "        return f\"{self.brand} {self.model} engine started!\"\n",
    "\n",
    "    def stop_engine(self):\n",
    "        self.is_running = False\n",
    "        return f\"{self.brand} {self.model} engine stopped!\"\n",
    "\n",
    "my_car = Car(\"Toyota\", \"Camry\", 2022)\n",
    "your_car = Car(\"Honda\", \"Civic\", 2021)\n",
    "\n",
    "print(my_car.start_engine())"
   ]
  },
  {
   "cell_type": "code",
   "execution_count": 2,
   "id": "c0614e0c-68b0-4978-a28a-d80200c235b2",
   "metadata": {},
   "outputs": [
    {
     "name": "stdout",
     "output_type": "stream",
     "text": [
      "Toyota\n"
     ]
    }
   ],
   "source": [
    "print(my_car.brand)"
   ]
  },
  {
   "cell_type": "code",
   "execution_count": 3,
   "id": "2db0787c-7b1a-40d0-afa0-18053fab7651",
   "metadata": {},
   "outputs": [
    {
     "name": "stdout",
     "output_type": "stream",
     "text": [
      "4\n"
     ]
    }
   ],
   "source": [
    "print(Car.wheels)"
   ]
  },
  {
   "cell_type": "code",
   "execution_count": 10,
   "id": "80aa811d-369f-413c-9e00-627c897aa9a2",
   "metadata": {},
   "outputs": [
    {
     "name": "stdout",
     "output_type": "stream",
     "text": [
      "25\n",
      "77.0\n",
      "30.0\n"
     ]
    }
   ],
   "source": [
    "class Temperature:\n",
    "    def __init__(self, celsius=0):\n",
    "        self._celsius = celsius\n",
    "\n",
    "    @property\n",
    "    def celsius(self):\n",
    "        return self._celsius\n",
    "\n",
    "    @celsius.setter\n",
    "    def celsius(self, value):\n",
    "        if value < -273.15:\n",
    "            raise ValueError(\"Temperature cannot be below absolute zero\")\n",
    "        self._celsius = value\n",
    "\n",
    "    @property\n",
    "    def fahrenheit(self):\n",
    "        return (self._celsius * 9/5) + 32\n",
    "\n",
    "    @fahrenheit.setter\n",
    "    def fahrenheit(self, value):\n",
    "        self._celsius = (value - 32) * 5/9\n",
    "\n",
    "        \n",
    "temp = Temperature(25)\n",
    "print(temp.celsius)\n",
    "print(temp.fahrenheit)\n",
    "\n",
    "temp.fahrenheit = 86\n",
    "print(temp.celsius)\n",
    "        "
   ]
  },
  {
   "cell_type": "code",
   "execution_count": 11,
   "id": "393dacc1-060a-4489-8fdf-7244afbae8e2",
   "metadata": {},
   "outputs": [
    {
     "name": "stdout",
     "output_type": "stream",
     "text": [
      "1000\n"
     ]
    }
   ],
   "source": [
    "class BankAccount:\n",
    "    def __init__(self, account_number, initial_balance=0):\n",
    "        self.account_number = account_number\n",
    "        self._balance = initial_balance\n",
    "        self.__transaction_history = []\n",
    "\n",
    "    def deposit(self, amount):\n",
    "        if amount > 0:\n",
    "            self._balance += amount\n",
    "            self.__transaction_history.append(f\"Deposited: ${amount}\")\n",
    "            return True\n",
    "        return False\n",
    "\n",
    "    def withdraw(self, amount):\n",
    "        if 0 < amount <= self._balance:\n",
    "            self._balance -= amount\n",
    "            self.__transaction_history.append(f\"withdrew: ${amount}\")\n",
    "            return True\n",
    "        return False\n",
    "\n",
    "    def get_balance(self):\n",
    "        return self._balance\n",
    "\n",
    "    def get_transaction_history(self):\n",
    "        return self.__transaction_history.copy()\n",
    "\n",
    "account = BankAccount(\"123456\", 1000)\n",
    "account.deposit(500)\n",
    "print(account.get_balance())"
   ]
  },
  {
   "cell_type": "code",
   "execution_count": 13,
   "id": "0db3c636-a6a1-4fef-b12f-daad8a33f56e",
   "metadata": {},
   "outputs": [
    {
     "name": "stdout",
     "output_type": "stream",
     "text": [
      "Quack!\n",
      "Flying like a duck\n",
      "Robotic quack!\n",
      "Flying with propellers\n",
      "This animal can't quack or fly: 'Dog' object has no attribute 'quack'\n"
     ]
    }
   ],
   "source": [
    "class Duck:\n",
    "    def quack(self):\n",
    "        return \"Quack!\"\n",
    "\n",
    "    def fly(self):\n",
    "        return \"Flying like a duck\"\n",
    "\n",
    "class Robot:\n",
    "    def quack(self):\n",
    "        return \"Robotic quack!\"\n",
    "\n",
    "    def fly(self):\n",
    "        return \"Flying with propellers\"\n",
    "\n",
    "class Dog:\n",
    "    def bark(self):\n",
    "        return\"Woof!\"\n",
    "\n",
    "def make_it_quack_and_fly(animal):\n",
    "    try:\n",
    "        print(animal.quack())\n",
    "        print(animal.fly())\n",
    "    except AttributeError as e:\n",
    "        print(f\"This animal can't quack or fly: {e}\")\n",
    "\n",
    "duck = Duck()\n",
    "robot = Robot()\n",
    "dog = Dog()\n",
    "\n",
    "make_it_quack_and_fly(duck)\n",
    "make_it_quack_and_fly(robot)\n",
    "make_it_quack_and_fly(dog)"
   ]
  },
  {
   "cell_type": "code",
   "execution_count": 16,
   "id": "fe55e56b-d65d-48fd-ae8f-a5887942ac38",
   "metadata": {},
   "outputs": [],
   "source": [
    "class FileHandler:\n",
    "    def __init__(self, filename):\n",
    "        self.filename = filename\n",
    "\n",
    "    def read(self):\n",
    "        with open(self.filename, 'r') as f:\n",
    "            returnf.read()\n",
    "            \n",
    "    def write(self, data):\n",
    "        with open(self.filename, 'w') as f:\n",
    "            f.write(data)\n",
    "\n",
    "class StringHandler:\n",
    "    def __init__(self):\n",
    "        self.data = \"\"\n",
    "\n",
    "    def read(self):\n",
    "        return self.data\n",
    "\n",
    "    def write(self, data):\n",
    "        self.data = data\n",
    "\n",
    "def process_data(handler, data):\n",
    "    current_content = handler.read()\n",
    "    new_content = current_content + data\n",
    "    handler.write(new_content)\n",
    "    return handler.read()\n",
    "\n",
    "file_handler = FileHandler(\"text.txt\")\n",
    "string_handler = StringHandler()\n",
    "    \n",
    "result1 = process_data(string_handler, \"Hello, \")\n",
    "result2 = process_data(string_handler, \"world!\")\n",
    "        "
   ]
  },
  {
   "cell_type": "code",
   "execution_count": 19,
   "id": "f229fe6d-3aea-44a4-8ee5-e1203f18d3c5",
   "metadata": {},
   "outputs": [
    {
     "name": "stdout",
     "output_type": "stream",
     "text": [
      "1\n",
      "2\n",
      "3\n",
      "4\n"
     ]
    }
   ],
   "source": [
    "class NumberRange:\n",
    "    def __init__(self, start, end):\n",
    "        self.start = start\n",
    "        self.end = end\n",
    "\n",
    "    def __iter__(self):\n",
    "        return self\n",
    "\n",
    "    def __next__(self):\n",
    "        if self.start < self.end:\n",
    "            current = self.start\n",
    "            self.start += 1\n",
    "            return current\n",
    "        else:\n",
    "            raise StopIteration\n",
    "\n",
    "numbers = NumberRange(1, 5)\n",
    "for num in numbers:\n",
    "    print(num)"
   ]
  },
  {
   "cell_type": "code",
   "execution_count": 22,
   "id": "fe6b99af-4364-4905-9b31-6543dde355be",
   "metadata": {},
   "outputs": [
    {
     "name": "stdout",
     "output_type": "stream",
     "text": [
      "1\n",
      "2\n",
      "3\n",
      "4\n",
      "5\n",
      "Second iteration: 1\n",
      "Second iteration: 2\n",
      "Second iteration: 3\n",
      "Second iteration: 4\n",
      "Second iteration: 5\n"
     ]
    }
   ],
   "source": [
    "class CustomContainer:\n",
    "    def __init__(self, items):\n",
    "        self.items = items\n",
    "\n",
    "    def __iter__(self):\n",
    "        return CustomIterator(self.items)\n",
    "\n",
    "class CustomIterator:\n",
    "    def __init__(self, items):\n",
    "        self.items = items\n",
    "        self.index = 0\n",
    "\n",
    "    def __iter__(self):\n",
    "        return self\n",
    "\n",
    "    def __next__(self):\n",
    "        if self.index < len(self.items):\n",
    "            item = self.items[self.index]\n",
    "            self.index += 1\n",
    "            return item\n",
    "        raise StopIteration\n",
    "\n",
    "container = CustomContainer([1, 2, 3, 4, 5])\n",
    "for item in container:\n",
    "    print(item)\n",
    "\n",
    "for item in container:\n",
    "    print(f\"Second iteration: {item}\")"
   ]
  },
  {
   "cell_type": "code",
   "execution_count": 25,
   "id": "941ceeb2-b507-4721-ab4f-71bfa7e1b1de",
   "metadata": {},
   "outputs": [
    {
     "name": "stdout",
     "output_type": "stream",
     "text": [
      "5\n",
      "3\n",
      "True\n",
      "10\n"
     ]
    }
   ],
   "source": [
    "class CustomSequence:\n",
    "    def __init__(self, data):\n",
    "        self.data = data\n",
    "\n",
    "    def __len__(self):\n",
    "        return len(self.data)\n",
    "\n",
    "    def __getitem__(self, index):\n",
    "        return self.data[index]\n",
    "\n",
    "    def __setitem__(self, index, value):\n",
    "        self.data[index] = value\n",
    "\n",
    "    def __contains__(self, item):\n",
    "        return item in self.data\n",
    "\n",
    "seq = CustomSequence([1, 2, 3, 4, 5])\n",
    "print(len(seq))\n",
    "print(seq[2])\n",
    "print(3 in seq)\n",
    "seq[1] = 10\n",
    "print(seq[1])"
   ]
  },
  {
   "cell_type": "code",
   "execution_count": 12,
   "id": "fc37c87c-92e7-4525-bd0a-78f57fd2f37b",
   "metadata": {},
   "outputs": [
    {
     "name": "stdout",
     "output_type": "stream",
     "text": [
      "Buddy barks: Woof!\n",
      "Whiskers meows: Meow!\n",
      "Buddy is sleeping\n",
      "Buddy fetches the ball\n"
     ]
    }
   ],
   "source": [
    "class Animal:\n",
    "    def __init__(self, name, species):\n",
    "        self.name = name\n",
    "        self.species = species\n",
    "        self.is_alive = True\n",
    "\n",
    "    def speak(self):\n",
    "        return f\"{self.name} make a sound\"\n",
    "\n",
    "    def sleep(self):\n",
    "        return f\"{self.name} is sleeping\"\n",
    "\n",
    "class Dog(Animal):\n",
    "    def __init__(self, name, breed):\n",
    "        super().__init__(name, \"Canine\")\n",
    "        self.breed = breed\n",
    "\n",
    "    def speak(self):\n",
    "        return f\"{self.name} barks: Woof!\"\n",
    "\n",
    "    def fetch(self):\n",
    "        return f\"{self.name} fetches the ball\"\n",
    "\n",
    "class Cat(Animal):\n",
    "    def __init__(self, name, color):\n",
    "        super().__init__(name, \"Feline\")\n",
    "        self.color = color\n",
    "\n",
    "    def speak(self):\n",
    "        return f\"{self.name} meows: Meow!\"\n",
    "\n",
    "    def climb(self):\n",
    "        return f\"{self.name} climbs the tree\"\n",
    "\n",
    "\n",
    "dog = Dog(\"Buddy\", \"Golden Retriever\")\n",
    "cat = Cat(\"Whiskers\", \"Orange\")\n",
    "\n",
    "print(dog.speak())\n",
    "print(cat.speak())\n",
    "print(dog.sleep())\n",
    "print(dog.fetch())\n",
    "        "
   ]
  },
  {
   "cell_type": "code",
   "execution_count": 13,
   "id": "82734897-589c-4b0f-a43d-dfafc1242d37",
   "metadata": {},
   "outputs": [],
   "source": [
    "class Flyer:\n",
    "    def fly(self):\n",
    "        return \"Flying through the air\"\n",
    "\n",
    "class Swimmer:\n",
    "    def swim(self):\n",
    "        return \"Swimming in water\"\n",
    "\n",
    "class Duck(Animal, Flyer, Swimmer):\n",
    "    def __init__(self, name):\n",
    "        super().__init__(name, \"Waterflow\")\n",
    "\n",
    "        def speak(self):\n",
    "            return f\"{self.name} quacks: Quack!\""
   ]
  },
  {
   "cell_type": "code",
   "execution_count": 14,
   "id": "dca59420-736a-47bd-aecb-48e0e1c7717d",
   "metadata": {},
   "outputs": [
    {
     "name": "stdout",
     "output_type": "stream",
     "text": [
      "Donald make a sound\n",
      "Flying through the air\n",
      "Swimming in water\n",
      "Donald is sleeping\n"
     ]
    }
   ],
   "source": [
    "duck = Duck(\"Donald\")\n",
    "print(duck.speak())\n",
    "print(duck.fly())\n",
    "print(duck.swim())\n",
    "print(duck.sleep())"
   ]
  },
  {
   "cell_type": "code",
   "execution_count": 15,
   "id": "79617890-66a7-4d07-aa0c-fd4a3a7cb9f3",
   "metadata": {},
   "outputs": [
    {
     "name": "stdout",
     "output_type": "stream",
     "text": [
      "[<class '__main__.D'>, <class '__main__.B'>, <class '__main__.C'>, <class '__main__.A'>, <class 'object'>]\n",
      "B\n"
     ]
    }
   ],
   "source": [
    "class A:\n",
    "    def method(self):\n",
    "        return \"A\"\n",
    "\n",
    "class B(A):\n",
    "    def method(self):\n",
    "        return \"B\"\n",
    "\n",
    "class C(A):\n",
    "    def method(self):\n",
    "        return \"C\"\n",
    "\n",
    "class D(B, C):\n",
    "    pass\n",
    "\n",
    "print(D.mro())\n",
    "\n",
    "d = D()\n",
    "print(d.method())"
   ]
  },
  {
   "cell_type": "code",
   "execution_count": 16,
   "id": "7e554b22-df46-4886-bcdb-d75242a5866c",
   "metadata": {},
   "outputs": [
    {
     "name": "stdout",
     "output_type": "stream",
     "text": [
      "15\n",
      "25.13272\n",
      "THis is a Rectangle\n"
     ]
    }
   ],
   "source": [
    "from abc import ABC, abstractmethod\n",
    "\n",
    "class Shape(ABC):\n",
    "    @abstractmethod\n",
    "    def area(self):\n",
    "        pass\n",
    "\n",
    "    @abstractmethod\n",
    "    def perimeter(self):\n",
    "        pass\n",
    "\n",
    "    def description(self):\n",
    "        return F\"THis is a {self.__class__.__name__}\"\n",
    "\n",
    "class Rectangle(Shape):\n",
    "    def __init__(self, width, height):\n",
    "        self.width = width\n",
    "        self.height = height\n",
    "\n",
    "    def area(self):\n",
    "        return self.width * self.height\n",
    "\n",
    "    def perimeter(self):\n",
    "        return 2 * (self.width + self.height)\n",
    "\n",
    "class Circle(Shape):\n",
    "    def __init__(self, radius):\n",
    "        self.radius = radius\n",
    "\n",
    "    def area(self):\n",
    "        return 3.14159 * self.radius\n",
    "\n",
    "    def perimeter(self):\n",
    "        return 2 * 3.14159 * self.radius\n",
    "\n",
    "rect = Rectangle(5, 3)\n",
    "circle = Circle(4)\n",
    "\n",
    "print(rect.area())\n",
    "print(circle.perimeter())\n",
    "print(rect.description())\n"
   ]
  },
  {
   "cell_type": "code",
   "execution_count": 18,
   "id": "2dfa292d-75e3-4422-b269-979e7668d03e",
   "metadata": {},
   "outputs": [
    {
     "name": "stdout",
     "output_type": "stream",
     "text": [
      "48\n",
      "48\n"
     ]
    }
   ],
   "source": [
    "class RegularClass:\n",
    "    def __init__(self, x, y):\n",
    "        self.x = x\n",
    "        self.y = y\n",
    "\n",
    "class SlottedClass:\n",
    "    __slots__ = ['x', 'y']\n",
    "\n",
    "    def __init__(self, x, y):\n",
    "        self.x = x\n",
    "        self.y = y\n",
    "\n",
    "import sys\n",
    "regular = RegularClass(1, 2)\n",
    "slotted = SlottedClass(1, 2)\n",
    "\n",
    "print(sys.getsizeof(regular))\n",
    "print(sys.getsizeof(slotted))"
   ]
  },
  {
   "cell_type": "code",
   "execution_count": 25,
   "id": "dee8a815-dd53-4ad0-a7b4-e453b994c6a1",
   "metadata": {},
   "outputs": [
    {
     "name": "stdout",
     "output_type": "stream",
     "text": [
      "25\n"
     ]
    }
   ],
   "source": [
    "class ValidatedAttribute:\n",
    "    def __init__(self, min_value=None, max_value=None):\n",
    "        self.min_value = min_value  # Fixed: was main_value\n",
    "        self.max_value = max_value\n",
    "    \n",
    "    def __set_name__(self, owner, name):\n",
    "        self.name = name\n",
    "        self.private_name = f'_{name}'\n",
    "    \n",
    "    def __get__(self, instance, owner):  # Fixed: added underscores\n",
    "        if instance is None:\n",
    "            return self\n",
    "        return getattr(instance, self.private_name)\n",
    "    \n",
    "    def __set__(self, instance, value):  # Fixed: added underscores\n",
    "        if self.min_value is not None and value < self.min_value:\n",
    "            raise ValueError(f\"{self.name} must be >= {self.min_value}\")\n",
    "        if self.max_value is not None and value > self.max_value:\n",
    "            raise ValueError(f\"{self.name} must be <= {self.max_value}\")\n",
    "        setattr(instance, self.private_name, value)\n",
    "\n",
    "class Person:\n",
    "    age = ValidatedAttribute(min_value=0, max_value=150)\n",
    "    \n",
    "    def __init__(self, name, age):  # Fixed: added parentheses and underscores\n",
    "        self.name = name\n",
    "        self.age = age  # This will trigger the descriptor's __set__ method\n",
    "\n",
    "# Test the code\n",
    "person = Person(\"Alice\", 25)\n",
    "print(person.age)  # Output: 25"
   ]
  },
  {
   "cell_type": "code",
   "execution_count": 26,
   "id": "3b671d18-f58c-4a1a-8046-f47699044cac",
   "metadata": {},
   "outputs": [
    {
     "name": "stdout",
     "output_type": "stream",
     "text": [
      "<class 'type'>\n",
      "<class 'type'>\n"
     ]
    }
   ],
   "source": [
    "class MyClass:\n",
    "    pass\n",
    "print(type(MyClass))\n",
    "print(type(type))"
   ]
  },
  {
   "cell_type": "code",
   "execution_count": 28,
   "id": "9faf88fe-d7dd-4ee5-b59c-5fbf94f29fb3",
   "metadata": {},
   "outputs": [
    {
     "name": "stdout",
     "output_type": "stream",
     "text": [
      "True\n",
      "Connected to database\n"
     ]
    }
   ],
   "source": [
    "# custom Metaclass\n",
    "class SingletonMeta(type):\n",
    "    _instances = {}\n",
    "\n",
    "    def __call__(cls, *args, **kwargs):\n",
    "        if cls not in cls._instances:\n",
    "            cls._instances[cls] = super().__call__(*args, **kwargs)\n",
    "        return cls._instances[cls]\n",
    "\n",
    "class Database(metaclass=SingletonMeta):\n",
    "    def __init__(self):\n",
    "        self.connection = \"Connected to database\"\n",
    "\n",
    "    def query(self, sql):\n",
    "        return f\"Executing: {sql}\"\n",
    "\n",
    "db1 = Database()\n",
    "db2 = Database()\n",
    "\n",
    "print(db1 is db2)\n",
    "print(db1.connection)"
   ]
  },
  {
   "cell_type": "code",
   "execution_count": 31,
   "id": "d12ea743-a1f5-4ce2-98f9-ac02615db260",
   "metadata": {},
   "outputs": [
    {
     "name": "stdout",
     "output_type": "stream",
     "text": [
      "{'UserModel': <class '__main__.UserModel'>, 'ProductModel': <class '__main__.ProductModel'>}\n",
      "john_doe\n"
     ]
    }
   ],
   "source": [
    "class RegisteredMeta(type):\n",
    "    registry = {}\n",
    "\n",
    "    def __new__(mcs, name, bases, attrs):\n",
    "        cls = super().__new__(mcs, name, bases, attrs)\n",
    "        if name != 'RegisteredBase':\n",
    "            RegisteredMeta.registry[name] = cls\n",
    "        return cls\n",
    "\n",
    "class RegisteredBase(metaclass=RegisteredMeta):\n",
    "    pass\n",
    "\n",
    "class UserModel(RegisteredBase):\n",
    "    def __init__(self, username):\n",
    "        self.username = username\n",
    "\n",
    "class ProductModel(RegisteredBase):\n",
    "    def __init__(self, username):\n",
    "        self.username = username\n",
    "\n",
    "class ProductModel(RegisteredBase):\n",
    "    def __init__(self, name, price):\n",
    "        self.name = name\n",
    "        self.price = price\n",
    "\n",
    "print(RegisteredMeta.registry)\n",
    "\n",
    "user_class = RegisteredMeta.registry['UserModel']\n",
    "user = user_class(\"john_doe\")\n",
    "\n",
    "print(user.username)\n",
    "            "
   ]
  },
  {
   "cell_type": "code",
   "execution_count": 42,
   "id": "ef56b63b-2a58-47c7-9c42-039181dac5c2",
   "metadata": {},
   "outputs": [
    {
     "name": "stdout",
     "output_type": "stream",
     "text": [
      "Logging plugin file_logger executed\n",
      "Security plugin auth_checker executed\n",
      "\n",
      "--- Testing invalid plugin ---\n",
      "Error: plugin must inherit from PluginBase\n"
     ]
    }
   ],
   "source": [
    "class PluginBase:\n",
    "    def __init__(self, name):  # Fixed: added underscores\n",
    "        self.name = name\n",
    "    \n",
    "    def execute(self):\n",
    "        raise NotImplementedError(\"Plugins must implement execute()\")\n",
    "\n",
    "class LoggingPlugin(PluginBase):\n",
    "    def execute(self):\n",
    "        return f\"Logging plugin {self.name} executed\"  # Fixed: was \"Security plugin\"\n",
    "\n",
    "class SecurityPlugin(PluginBase):\n",
    "    def execute(self):\n",
    "        return f\"Security plugin {self.name} executed\"\n",
    "\n",
    "class PluginManager:\n",
    "    def __init__(self):  # Fixed: added underscores\n",
    "        self.plugins = []\n",
    "    \n",
    "    def register_plugin(self, plugin):\n",
    "        if isinstance(plugin, PluginBase):\n",
    "            self.plugins.append(plugin)\n",
    "        else:\n",
    "            raise TypeError(\"plugin must inherit from PluginBase\")\n",
    "    \n",
    "    def execute_all(self):  # Fixed: indentation\n",
    "        results = []\n",
    "        for plugin in self.plugins:\n",
    "            results.append(plugin.execute())\n",
    "        return results\n",
    "\n",
    "# Test the plugin system\n",
    "manager = PluginManager()\n",
    "manager.register_plugin(LoggingPlugin(\"file_logger\"))\n",
    "manager.register_plugin(SecurityPlugin(\"auth_checker\"))  # Fixed: typo in method name\n",
    "results = manager.execute_all()\n",
    "for result in results:\n",
    "    print(result)\n",
    "\n",
    "# Demonstrate error handling\n",
    "print(\"\\n--- Testing invalid plugin ---\")\n",
    "class InvalidPlugin:\n",
    "    def __init__(self, name):\n",
    "        self.name = name\n",
    "\n",
    "try:\n",
    "    manager.register_plugin(InvalidPlugin(\"bad_plugin\"))\n",
    "except TypeError as e:\n",
    "    print(f\"Error: {e}\")\n",
    "\n",
    "# Output will be:\n",
    "# Logging plugin file_logger executed\n",
    "# Security plugin auth_checker executed\n",
    "# Error: plugin must inherit from PluginBase"
   ]
  },
  {
   "cell_type": "code",
   "execution_count": 3,
   "id": "09914eb7-09de-45d2-a7dd-651715efaf53",
   "metadata": {},
   "outputs": [
    {
     "name": "stdout",
     "output_type": "stream",
     "text": [
      "Connecting to users_db\n",
      "Executing 'SELECT * FROM users' on users_db\n",
      "Closing connection to users_db\n"
     ]
    }
   ],
   "source": [
    "class DatabaseConnection:\n",
    "    def __init__(self, db_name):\n",
    "        self.db_name = db_name\n",
    "        self.connection = None\n",
    "\n",
    "    def __enter__(self):\n",
    "        print(f\"Connecting to {self.db_name}\")\n",
    "        self.connection = f\"Connection to {self.db_name}\"\n",
    "        return self\n",
    "\n",
    "    def __exit__(self, exc_type, exc_val, exc_tb):\n",
    "        print(f\"Closing connection to {self.db_name}\")\n",
    "        self.connection = None\n",
    "        return False\n",
    "\n",
    "    def query(self, sql):\n",
    "        if self.connection:\n",
    "            return f\"Executing '{sql}' on {self.db_name}\"\n",
    "        else:\n",
    "            raise ConnectionError(\"No active connection\")\n",
    "\n",
    "with DatabaseConnection(\"users_db\") as db:\n",
    "    result = db.query(\"SELECT * FROM users\")\n",
    "    print(result)\n",
    "    \n",
    "    "
   ]
  },
  {
   "cell_type": "code",
   "execution_count": 6,
   "id": "23b3a681-cd2d-4da1-9eb1-12da4917d1fc",
   "metadata": {},
   "outputs": [
    {
     "name": "stdout",
     "output_type": "stream",
     "text": [
      "TV Station received: Breaking news: Major scientific breakthrough!\n",
      "Radio Station received: Breaking news: Major scientific breakthrough!\n"
     ]
    }
   ],
   "source": [
    "class Subject:\n",
    "    def __init__(self):\n",
    "        self._observers = []\n",
    "\n",
    "    def attach(self, observer):\n",
    "        self._observers.append(observer)\n",
    "\n",
    "    def detach(self, observer):\n",
    "        self._observers.remove(observer)\n",
    "\n",
    "    def notify(self, message):\n",
    "        for observer in self._observers:\n",
    "            observer.update(message)\n",
    "\n",
    "class Observer:\n",
    "    def __init__(self, name):\n",
    "        self.name = name\n",
    "\n",
    "    def update(self, message):\n",
    "        print(f\"{self.name} received: {message}\")\n",
    "\n",
    "class NewsAgency(Subject):\n",
    "    def __init__(self):\n",
    "        super().__init__()\n",
    "        self.news = \"\"\n",
    "\n",
    "    def set_news(self, news):\n",
    "        self._news = news\n",
    "        self.notify(f\"Breaking news: {news}\")\n",
    "\n",
    "agency = NewsAgency()\n",
    "observer1 = Observer(\"TV Station\")\n",
    "observer2 = Observer(\"Radio Station\")\n",
    "\n",
    "agency.attach(observer1)\n",
    "agency.attach(observer2)\n",
    "\n",
    "agency.set_news(\"Major scientific breakthrough!\")\n"
   ]
  },
  {
   "cell_type": "code",
   "execution_count": null,
   "id": "cf7213cb-71ca-45f2-8a62-56deb63a1fba",
   "metadata": {},
   "outputs": [],
   "source": []
  }
 ],
 "metadata": {
  "kernelspec": {
   "display_name": "Python 3 (ipykernel)",
   "language": "python",
   "name": "python3"
  },
  "language_info": {
   "codemirror_mode": {
    "name": "ipython",
    "version": 3
   },
   "file_extension": ".py",
   "mimetype": "text/x-python",
   "name": "python",
   "nbconvert_exporter": "python",
   "pygments_lexer": "ipython3",
   "version": "3.13.6"
  }
 },
 "nbformat": 4,
 "nbformat_minor": 5
}
