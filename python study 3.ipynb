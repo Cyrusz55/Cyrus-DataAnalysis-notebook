{
 "cells": [
  {
   "cell_type": "code",
   "execution_count": 1,
   "id": "b1d1b781-f5fe-4d76-a8e5-f7347c21b47d",
   "metadata": {},
   "outputs": [
    {
     "name": "stdout",
     "output_type": "stream",
     "text": [
      "0\n",
      "1\n",
      "2\n",
      "3\n",
      "4\n",
      "5\n"
     ]
    }
   ],
   "source": [
    "import itertools\n",
    "\n",
    "counter = itertools.count()\n",
    "for i in counter:\n",
    "    print(i)\n",
    "    if i >= 5:\n",
    "        break"
   ]
  },
  {
   "cell_type": "raw",
   "id": "88e4b00e-ad0f-4860-bf60-bdf2c81c63da",
   "metadata": {},
   "source": []
  },
  {
   "cell_type": "code",
   "execution_count": 2,
   "id": "eb83f73d-5cf2-4319-a47f-903898d8d621",
   "metadata": {},
   "outputs": [
    {
     "name": "stdout",
     "output_type": "stream",
     "text": [
      "[10, 12, 14, 16, 18]\n"
     ]
    }
   ],
   "source": [
    "counter = itertools.count(start=10, step=2)\n",
    "numbers = [next(counter) for _ in range(5)]\n",
    "print(numbers)"
   ]
  },
  {
   "cell_type": "code",
   "execution_count": 4,
   "id": "2da9f5a3-7a96-4666-9066-97f8cc3665ff",
   "metadata": {},
   "outputs": [
    {
     "name": "stdout",
     "output_type": "stream",
     "text": [
      "Item 0: red\n",
      "Item 1: green\n",
      "Item 2: blue\n",
      "Item 3: red\n",
      "Item 4: green\n",
      "Item 5: blue\n",
      "Item 6: red\n",
      "Item 7: green\n",
      "Item 8: blue\n"
     ]
    }
   ],
   "source": [
    "colors = itertools.cycle(['red', 'green', 'blue'])\n",
    "for i, color in enumerate(colors):\n",
    "    print(f\"Item {i}: {color}\")\n",
    "    if i >= 8:\n",
    "        break"
   ]
  },
  {
   "cell_type": "code",
   "execution_count": 5,
   "id": "782d74bc-86a2-41c4-b3ab-9392dbf18723",
   "metadata": {},
   "outputs": [
    {
     "name": "stdout",
     "output_type": "stream",
     "text": [
      "[1, 1, 1, 1, 1]\n"
     ]
    }
   ],
   "source": [
    "ones = itertools.repeat(1)\n",
    "print([next(ones) for _ in range(5)])"
   ]
  },
  {
   "cell_type": "code",
   "execution_count": 6,
   "id": "8d14a3e2-2ef5-4d7d-b3c9-d32b4c26d99c",
   "metadata": {},
   "outputs": [
    {
     "name": "stdout",
     "output_type": "stream",
     "text": [
      "['Hello', 'Hello', 'Hello']\n"
     ]
    }
   ],
   "source": [
    "hellos = itertools.repeat(\"Hello\", 3)\n",
    "print(list(hellos))"
   ]
  },
  {
   "cell_type": "code",
   "execution_count": 10,
   "id": "04f4629e-8539-4b9b-88d4-be30ca859366",
   "metadata": {},
   "outputs": [
    {
     "name": "stdout",
     "output_type": "stream",
     "text": [
      "[1, 3, 6, 10, 15]\n"
     ]
    }
   ],
   "source": [
    "numbers = [1, 2, 3, 4, 5]\n",
    "\n",
    "cumsum = list(itertools.accumulate(numbers))\n",
    "print(cumsum)"
   ]
  },
  {
   "cell_type": "code",
   "execution_count": 12,
   "id": "e4330859-bb0b-4a3a-a0ed-1eaa9ac3e72b",
   "metadata": {},
   "outputs": [
    {
     "name": "stdout",
     "output_type": "stream",
     "text": [
      "[1, 2, 6, 24, 120]\n"
     ]
    }
   ],
   "source": [
    "import operator\n",
    "cumprod = list(itertools.accumulate(numbers, operator.mul))\n",
    "print(cumprod)"
   ]
  },
  {
   "cell_type": "code",
   "execution_count": 13,
   "id": "02ebf609-4544-4a28-bb55-69c4003457e1",
   "metadata": {},
   "outputs": [
    {
     "name": "stdout",
     "output_type": "stream",
     "text": [
      "[3, 3, 4, 4, 5]\n"
     ]
    }
   ],
   "source": [
    "running_max = list(itertools.accumulate([3, 1, 4, 1, 5], max))\n",
    "print(running_max)"
   ]
  },
  {
   "cell_type": "code",
   "execution_count": 15,
   "id": "bbf8d277-8c2e-46c5-ab05-fa1c0edfc88a",
   "metadata": {},
   "outputs": [
    {
     "name": "stdout",
     "output_type": "stream",
     "text": [
      "[1, 2, 3, 4, 5, 6, 7, 8, 9]\n"
     ]
    }
   ],
   "source": [
    "list1 = [1, 2, 3]\n",
    "list2 = [4, 5, 6]\n",
    "list3 = [7, 8, 9]\n",
    "chained = list(itertools.chain(list1, list2, list3))\n",
    "print(chained)\n"
   ]
  },
  {
   "cell_type": "code",
   "execution_count": 16,
   "id": "522160a3-7d16-4d0b-8661-331eee0f69bf",
   "metadata": {},
   "outputs": [
    {
     "name": "stdout",
     "output_type": "stream",
     "text": [
      "[1, 2, 3, 4, 5, 6]\n"
     ]
    }
   ],
   "source": [
    "lists = [[1, 2], [3, 4], [5, 6]]\n",
    "flattened = list(itertools.chain.from_iterable(lists))\n",
    "print(flattened)"
   ]
  },
  {
   "cell_type": "code",
   "execution_count": 19,
   "id": "6dc626c8-4519-43cd-9d51-ea6b8819486b",
   "metadata": {},
   "outputs": [
    {
     "name": "stdout",
     "output_type": "stream",
     "text": [
      "['A', 'C', 'E']\n"
     ]
    }
   ],
   "source": [
    "data = ['A', 'B', 'C', 'D', 'E']\n",
    "selectors = [1, 0, 1, 0, 1]\n",
    "\n",
    "filtered = list(itertools.compress(data, selectors))\n",
    "print(filtered)"
   ]
  },
  {
   "cell_type": "code",
   "execution_count": 20,
   "id": "952399aa-f264-4f15-ad25-53164ac97138",
   "metadata": {},
   "outputs": [
    {
     "name": "stdout",
     "output_type": "stream",
     "text": [
      "[6, 7, 8, 9]\n"
     ]
    }
   ],
   "source": [
    "numbers = [1, 3, 5, 6, 7, 8, 9]\n",
    "\n",
    "result = list(itertools.dropwhile(lambda x: x % 2 == 1, numbers))\n",
    "print(result)"
   ]
  },
  {
   "cell_type": "code",
   "execution_count": 22,
   "id": "7d8a0529-0346-49b0-911c-914120efc7af",
   "metadata": {},
   "outputs": [
    {
     "name": "stdout",
     "output_type": "stream",
     "text": [
      "[1, 3, 5]\n"
     ]
    }
   ],
   "source": [
    "numbers = [1, 3, 5, 6, 7, 8, 9]\n",
    "\n",
    "result = list(itertools.takewhile(lambda x: x % 2 == 1, numbers))\n",
    "print(result)"
   ]
  },
  {
   "cell_type": "raw",
   "id": "6bee26a3-0d87-41cd-b050-57e75015bf7a",
   "metadata": {},
   "source": [
    "colors = ['red', 'blue']\n",
    "sizes = ['S', 'M', 'L']\n",
    "\n",
    "combinations = list(itertools.product(colors, sizes))\n",
    "print(combinations)"
   ]
  },
  {
   "cell_type": "code",
   "execution_count": 25,
   "id": "b620d305-89e0-46e5-8154-77a7af4a9180",
   "metadata": {},
   "outputs": [
    {
     "name": "stdout",
     "output_type": "stream",
     "text": [
      "36\n"
     ]
    }
   ],
   "source": [
    "dice_rolls = list(itertools.product(range(1, 7), repeat=2))\n",
    "print(len(dice_rolls))\n",
    "                  "
   ]
  },
  {
   "cell_type": "code",
   "execution_count": 26,
   "id": "54335994-be08-4bc4-8b12-868e3058e123",
   "metadata": {},
   "outputs": [
    {
     "name": "stdout",
     "output_type": "stream",
     "text": [
      "[('Alice', 'Bob'), ('Alice', 'Charlie'), ('Alice', 'Diana'), ('Bob', 'Charlie'), ('Bob', 'Diana'), ('Charlie', 'Diana')]\n"
     ]
    }
   ],
   "source": [
    "team = ['Alice', 'Bob', 'Charlie', 'Diana']\n",
    "\n",
    "pairs = list(itertools.combinations(team, 2))\n",
    "print(pairs)"
   ]
  },
  {
   "cell_type": "code",
   "execution_count": 27,
   "id": "346e4aaa-4421-4269-a342-7e178ce8654f",
   "metadata": {},
   "outputs": [
    {
     "name": "stdout",
     "output_type": "stream",
     "text": [
      "[('Alice', 'Bob'), ('Alice', 'Charlie'), ('Bob', 'Alice'), ('Bob', 'Charlie'), ('Charlie', 'Alice'), ('Charlie', 'Bob')]\n"
     ]
    }
   ],
   "source": [
    "team = ['Alice', 'Bob', 'Charlie']\n",
    "\n",
    "perms = list(itertools.permutations(team, 2))\n",
    "print(perms)"
   ]
  },
  {
   "cell_type": "code",
   "execution_count": 29,
   "id": "2111f463-0533-4298-a6de-6a3b2b615429",
   "metadata": {},
   "outputs": [
    {
     "name": "stdout",
     "output_type": "stream",
     "text": [
      "[('vanilla', 'vanilla'), ('vanilla', 'chocolate'), ('vanilla', 'strawberry'), ('chocolate', 'chocolate'), ('chocolate', 'strawberry'), ('strawberry', 'strawberry')]\n"
     ]
    }
   ],
   "source": [
    "flavors = ['vanilla', 'chocolate', 'strawberry']\n",
    "\n",
    "scoops = list(itertools.combinations_with_replacement(flavors, 2))\n",
    "print(scoops)"
   ]
  },
  {
   "cell_type": "code",
   "execution_count": 30,
   "id": "5ef633be-218f-4c6a-9d57-c0dd02053e00",
   "metadata": {},
   "outputs": [
    {
     "name": "stdout",
     "output_type": "stream",
     "text": [
      "[4, 20, 56, 120, 220]\n"
     ]
    }
   ],
   "source": [
    "def process_numbers(numbers):\n",
    "    # step 1 filter even numbers\n",
    "    evens = filter(lambda x: x % 2 == 0, numbers)\n",
    "\n",
    "    # Step 2 Square them\n",
    "    squared = map(lambda x: x**2, evens)\n",
    "\n",
    "    # Step 3: Accmulate (running sum)\n",
    "    accumulated = itertools.accumulate(squared)\n",
    "\n",
    "    return accumulated\n",
    "\n",
    "numbers = range(1, 11)\n",
    "result = list(process_numbers(numbers))\n",
    "\n",
    "print(result)"
   ]
  },
  {
   "cell_type": "code",
   "execution_count": 31,
   "id": "e128f3a7-7872-4866-898f-f7c2334e04d1",
   "metadata": {},
   "outputs": [
    {
     "name": "stdout",
     "output_type": "stream",
     "text": [
      "10: a\n",
      "15: b\n",
      "20: c\n",
      "25: d\n",
      "30: e\n"
     ]
    }
   ],
   "source": [
    "def enumerate_with_step(iterable, start=0, step=1):\n",
    "    \"\"\"Custom enumerate with step\"\"\"\n",
    "    counter = itertools.count(start, step)\n",
    "    return zip(counter, iterable)\n",
    "\n",
    "data = ['a', 'b', 'c', 'd', 'e']\n",
    "for index, value in enumerate_with_step(data, start=10, step=5):\n",
    "    print(f\"{index}: {value}\")"
   ]
  },
  {
   "cell_type": "code",
   "execution_count": 1,
   "id": "7c8eebca-8fc0-4c3d-81d1-75ebfb8cdceb",
   "metadata": {},
   "outputs": [],
   "source": [
    "def cached_iterator(func):\n",
    "    \"\"\"Decorator to cache iterator results\"\"\"\n",
    "    cache = {}\n",
    "\n",
    "    def wrapped(*args, **kwargs):\n",
    "        key = str(args) + str(kwargs)\n",
    "        if key not in cache:\n",
    "            cache[key] = list(func(*args, **kwargs))\n",
    "        return iter(cache[key])\n",
    "\n",
    "    return wrapped\n",
    "\n",
    "@cached_iterator\n",
    "def fibonacci_sequence(n):\n",
    "    a, b = 0, 1\n",
    "    for _ in range(n):\n",
    "        yield a\n",
    "        a, b=b, a+b"
   ]
  },
  {
   "cell_type": "code",
   "execution_count": 2,
   "id": "84934bbd-8ca0-4cb3-9790-65c33648f8b3",
   "metadata": {},
   "outputs": [
    {
     "name": "stdout",
     "output_type": "stream",
     "text": [
      "Starting iterator processing\n",
      "[0, 1, 2, 3, 4]\n",
      "Processed 5 items\n"
     ]
    }
   ],
   "source": [
    "class IteratorContext:\n",
    "    def __init__(self, iterator):\n",
    "        self.iterator = iterator\n",
    "        self.processed = 0\n",
    "\n",
    "    def __enter__(self):\n",
    "        print(\"Starting iterator processing\")\n",
    "        return self\n",
    "\n",
    "    def __exit__(self, exc_type, exc_val, exc_tb):\n",
    "        print(f\"Processed {self.processed} items\")\n",
    "        return False\n",
    "\n",
    "    def process(self):\n",
    "        for item in self.iterator:\n",
    "            self.processed += 1\n",
    "            yield item\n",
    "\n",
    "with IteratorContext(range(5)) as ctx:\n",
    "    result = list(ctx.process())\n",
    "    print(result)"
   ]
  },
  {
   "cell_type": "code",
   "execution_count": 4,
   "id": "b2e4ebfd-0cb3-4674-bf3a-0b54eaa87433",
   "metadata": {},
   "outputs": [
    {
     "name": "stdout",
     "output_type": "stream",
     "text": [
      "Sum: 499500\n",
      "Iterator processing took 0.00 seconds\n"
     ]
    }
   ],
   "source": [
    "from contextlib import contextmanager\n",
    "import itertools\n",
    "\n",
    "@contextmanager\n",
    "def timed_iterator(iterator):\n",
    "    import time\n",
    "    start = time.time()\n",
    "    try:\n",
    "        yield iterator\n",
    "    finally:\n",
    "        end = time.time()\n",
    "        print(f\"Iterator processing took {end - start:.2f} seconds\")\n",
    "\n",
    "with timed_iterator(range(1000000)) as numbers:\n",
    "    result = sum(itertools.islice(numbers, 1000))\n",
    "    print(f\"Sum: {result}\")\n",
    "        "
   ]
  },
  {
   "cell_type": "code",
   "execution_count": 6,
   "id": "ff167c30-6c48-425a-a140-681a104a24e9",
   "metadata": {},
   "outputs": [],
   "source": [
    "def process_log_file(filename):\n",
    "    \"\"\"Process log file efficiently using itertools\"\"\"\n",
    "    with ope(filename, 'r') as file:\n",
    "        lines = map(str.strip, file)\n",
    "\n",
    "        valid_lines = itertools.filterfalse(\n",
    "            lambda line: not line or line.startswith('#'),\n",
    "            lines\n",
    "        )\n",
    "\n",
    "    error_groups = itertools.groupby(\n",
    "        valid_lines,\n",
    "        key = lambda line: 'ERROR' in line\n",
    "    )\n",
    "\n",
    "    for is_error, group in errors_group:\n",
    "        if is_error:\n",
    "            error_lines = list(group)\n",
    "            print(f\"Found {len(error_lines)} consecutive errors\") \n",
    "        "
   ]
  },
  {
   "cell_type": "code",
   "execution_count": 7,
   "id": "7d2e8da6-c3d5-45b2-a7b7-a974c0976843",
   "metadata": {},
   "outputs": [],
   "source": [
    "def batch_process(iterable, batch_size):\n",
    "    \"\"\"Process items in batches\"\"\"\n",
    "    iterator = iter(iterable)\n",
    "    while True:\n",
    "        batch = list(itertools.islice(iterator, batch_size))\n",
    "        if not batch:\n",
    "            break\n",
    "        yield batch"
   ]
  },
  {
   "cell_type": "code",
   "execution_count": 8,
   "id": "72be4ebc-7bc3-4c6e-94a2-3f7d9052c311",
   "metadata": {},
   "outputs": [
    {
     "name": "stdout",
     "output_type": "stream",
     "text": [
      "Processing batch: [1, 2, 3, 4, 5]\n",
      "Processing batch: [6, 7, 8, 9, 10]\n",
      "Processing batch: [11, 12, 13, 14, 15]\n",
      "Processing batch: [16, 17, 18, 19, 20]\n",
      "Processing batch: [21, 22, 23, 24, 25]\n"
     ]
    }
   ],
   "source": [
    "data = range(1, 26)\n",
    "for batch in batch_process(data, 5):\n",
    "    print(f\"Processing batch: {batch}\")"
   ]
  },
  {
   "cell_type": "code",
   "execution_count": 11,
   "id": "726dc7d2-ce5c-43db-9664-2c68ecdccf47",
   "metadata": {},
   "outputs": [
    {
     "name": "stdout",
     "output_type": "stream",
     "text": [
      "['hello', 'world']\n"
     ]
    }
   ],
   "source": [
    "def validate_data(records):\n",
    "    \"\"\"Multi-stage data validation\"\"\"\n",
    "    # Stage 1: Remove None values\n",
    "    non_null = filter(lambda x: x is not None, records)\n",
    "\n",
    "    # Stage 2: Convert to proper format\n",
    "    formatted = map(lambda x: x.strip().lower() if isinstance(x, str) else x, non_null)\n",
    "\n",
    "    #Stage 3: Take only valid entries\n",
    "    valid = itertools.takewhile(lambda x: len(str(x)) > 0, formatted)\n",
    "\n",
    "    return list(valid)\n",
    "\n",
    "raw_data = [\" Hello \", \"World\", None, \"\", \"Python\", \"  \"]\n",
    "clean_data = validate_data(raw_data)\n",
    "print(clean_data)\n",
    "\n",
    "    "
   ]
  },
  {
   "cell_type": "code",
   "execution_count": null,
   "id": "12f51a31-8cc6-4ad3-af05-a49c51466a91",
   "metadata": {},
   "outputs": [],
   "source": []
  }
 ],
 "metadata": {
  "kernelspec": {
   "display_name": "Python 3 (ipykernel)",
   "language": "python",
   "name": "python3"
  },
  "language_info": {
   "codemirror_mode": {
    "name": "ipython",
    "version": 3
   },
   "file_extension": ".py",
   "mimetype": "text/x-python",
   "name": "python",
   "nbconvert_exporter": "python",
   "pygments_lexer": "ipython3",
   "version": "3.13.6"
  }
 },
 "nbformat": 4,
 "nbformat_minor": 5
}
