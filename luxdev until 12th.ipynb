{
 "cells": [
  {
   "cell_type": "markdown",
   "id": "0537aa3a-196b-490b-a083-9a7258ef4982",
   "metadata": {},
   "source": []
  },
  {
   "cell_type": "code",
   "execution_count": 1,
   "id": "3a201759-83bb-4566-9238-83290b647b0c",
   "metadata": {},
   "outputs": [
    {
     "name": "stdin",
     "output_type": "stream",
     "text": [
      "What is Your Age 3\n"
     ]
    }
   ],
   "source": [
    "his_age = input('What is Your Age')"
   ]
  },
  {
   "cell_type": "code",
   "execution_count": 2,
   "id": "a741ccc3-8924-4a92-8e21-3083261f1468",
   "metadata": {},
   "outputs": [
    {
     "name": "stdout",
     "output_type": "stream",
     "text": [
      "my age is 3\n"
     ]
    }
   ],
   "source": [
    "print(f'my age is {his_age}')"
   ]
  },
  {
   "cell_type": "code",
   "execution_count": 3,
   "id": "4f4a68a7-8ca4-4d68-997d-6b4a3b250388",
   "metadata": {},
   "outputs": [
    {
     "name": "stdin",
     "output_type": "stream",
     "text": [
      "Enter any number 44\n"
     ]
    },
    {
     "name": "stdout",
     "output_type": "stream",
     "text": [
      "the number is even\n"
     ]
    }
   ],
   "source": [
    "rand_no = input('Enter any number')\n",
    "rand_no = int(rand_no)\n",
    "if rand_no % 2 == 0:\n",
    "    print(f'the number is even')\n",
    "else:\n",
    "    print(f'{rand_no} is odd')\n"
   ]
  },
  {
   "cell_type": "code",
   "execution_count": 4,
   "id": "0d289803-f8cd-41ef-81a5-d32284ed36de",
   "metadata": {},
   "outputs": [
    {
     "name": "stdout",
     "output_type": "stream",
     "text": [
      "[3, 6, 9, 12, 15, 18, 21, 24, 27, 30, 33, 36, 39, 42, 45, 48]\n"
     ]
    }
   ],
   "source": [
    "    lisr = [i for i in range(1, 51) if i % 3 == 0]\n",
    "    print (lisr)"
   ]
  },
  {
   "cell_type": "code",
   "execution_count": 5,
   "id": "c0c6edca-4a2c-4a2f-93f0-91ea564cbc3e",
   "metadata": {},
   "outputs": [
    {
     "data": {
      "text/plain": [
       "'hello Cyrus'"
      ]
     },
     "execution_count": 5,
     "metadata": {},
     "output_type": "execute_result"
    }
   ],
   "source": [
    "def name_printer(name):\n",
    "    return f'hello {name}'\n",
    "\n",
    "name_printer('Cyrus')"
   ]
  },
  {
   "cell_type": "code",
   "execution_count": 6,
   "id": "e2bb92d4-f6f4-4a66-995a-f696f54916b7",
   "metadata": {},
   "outputs": [
    {
     "name": "stdout",
     "output_type": "stream",
     "text": [
      "0\n",
      "1\n",
      "2\n",
      "3\n",
      "4\n",
      "5\n"
     ]
    }
   ],
   "source": [
    "count = 0\n",
    "while count < 6:\n",
    "    print(count)\n",
    "    count += 1"
   ]
  },
  {
   "cell_type": "code",
   "execution_count": 7,
   "id": "0b111573-7f23-44cc-a673-8dfe95f9cb1b",
   "metadata": {},
   "outputs": [
    {
     "name": "stdout",
     "output_type": "stream",
     "text": [
      "25\n"
     ]
    }
   ],
   "source": [
    "square = lambda x: x**2\n",
    "print(square(5))"
   ]
  },
  {
   "cell_type": "code",
   "execution_count": 8,
   "id": "22ad30b5-6640-47e6-bab9-38caaf202aaa",
   "metadata": {},
   "outputs": [],
   "source": [
    "import pandas as pd"
   ]
  },
  {
   "cell_type": "code",
   "execution_count": 9,
   "id": "b714ecc8-3f1e-4262-8d2e-47d37c83fc98",
   "metadata": {},
   "outputs": [
    {
     "data": {
      "text/html": [
       "<div>\n",
       "<style scoped>\n",
       "    .dataframe tbody tr th:only-of-type {\n",
       "        vertical-align: middle;\n",
       "    }\n",
       "\n",
       "    .dataframe tbody tr th {\n",
       "        vertical-align: top;\n",
       "    }\n",
       "\n",
       "    .dataframe thead th {\n",
       "        text-align: right;\n",
       "    }\n",
       "</style>\n",
       "<table border=\"1\" class=\"dataframe\">\n",
       "  <thead>\n",
       "    <tr style=\"text-align: right;\">\n",
       "      <th></th>\n",
       "      <th>name</th>\n",
       "      <th>age</th>\n",
       "      <th>fruits</th>\n",
       "    </tr>\n",
       "  </thead>\n",
       "  <tbody>\n",
       "    <tr>\n",
       "      <th>0</th>\n",
       "      <td>Faith</td>\n",
       "      <td>18</td>\n",
       "      <td>popeyes</td>\n",
       "    </tr>\n",
       "    <tr>\n",
       "      <th>1</th>\n",
       "      <td>Gacheri</td>\n",
       "      <td>19</td>\n",
       "      <td>guava</td>\n",
       "    </tr>\n",
       "    <tr>\n",
       "      <th>2</th>\n",
       "      <td>Omar</td>\n",
       "      <td>20</td>\n",
       "      <td>lemons</td>\n",
       "    </tr>\n",
       "  </tbody>\n",
       "</table>\n",
       "</div>"
      ],
      "text/plain": [
       "      name  age   fruits\n",
       "0    Faith   18  popeyes\n",
       "1  Gacheri   19    guava\n",
       "2     Omar   20   lemons"
      ]
     },
     "execution_count": 9,
     "metadata": {},
     "output_type": "execute_result"
    }
   ],
   "source": [
    "data = {\"name\":[\"Faith\", \"Gacheri\", \"Omar\"],\n",
    "       \"age\":[18,19,20],\n",
    "              \"fruits\":[\"popeyes\", \"guava\", \"lemons\"]\n",
    "       }\n",
    "df = pd.DataFrame(data)\n",
    "df.head()"
   ]
  },
  {
   "cell_type": "code",
   "execution_count": 10,
   "id": "b3d8694a-d6ae-482d-ab1e-94a0d5803ffc",
   "metadata": {},
   "outputs": [
    {
     "name": "stdout",
     "output_type": "stream",
     "text": [
      "\"Product\",\"Current price\",\"old price\",\"Discount\",\"Review\",\"Ratingd\"\n",
      "\"115  Piece Set Of Multifunctional Precision Screwdrivers\",\"KSh 950\",\"KSh 1,525\",\"38%\",\"(2)\",\"4.5 out of 5\"\n",
      "\"Metal Decorative Hooks Key Hangers Entryway Wall Hooks Towel Hooks - Home\",\"KSh 527\",\"KSh 999\",\"47%\",\"(14)\",\"4.1 out of 5\"\n",
      "\"Portable Mini Cordless Car Vacuum Cleaner - Blue\",\"KSh 2,199\",\"KSh 2,923\",\"25%\",\"(24)\",\"4.6 out of 5\"\n",
      "\"Weighing Scale Digital Bathroom Body Fat Scale USB-Black\",\"KSh 1,580\",\"KSh 2,499\",\"37%\",\"(7)\",\"4.7 out of 5\"\n",
      "\"Portable Home Small Air Humidifier 3-Speed Fan - Green\",\"KSh 1,740\",\"KSh 2,356\",\"26%\",\"(5)\",\"4.8 out of 5\"\n",
      "\"220V 60W Electric Soldering Iron Kits With Tools, Tips, And Multimeter\",\"KSh 2,999\",\"KSh 3,290\",\"9%\",\"(15)\",\"4 out of 5\"\n",
      "\"137 Pieces Cake Decorating Tool Set Baking Supplies\",\"KSh 2,319\",\"KSh 3,032\",\"24%\",\"(55)\",\"4.6 out of 5\"\n",
      "\"Desk Foldable Fan Adjustable Fan Strong Wind 3 Gear Usb\",\"KSh 988\",\"KSh 1,580\",\"37%\",\"(2)\",\"4 out of 5\"\n",
      "\"LASA FOLDING TABLE SERVING STAND\",\"KSh 1,274\",\"KSh 2,800\",\"55%\",\"(5)\",\"4.8 out of 5\"\n",
      "\"13 In 1 Home Repair Tools Box Kit Set\",\"KSh 1,600\",\"KSh 2,929\",\"45%\",\"(5)\",\"3.8 out of 5\"\n",
      "\"Genebre 115 In 1 Screwdriver Repairing Tool Set For IPhone Cellphone Hand Tool\",\"KSh 799\",\"KSh 999\",\"20%\",\"(12)\",\"4.1 out of 5\"\n",
      "\"100 Pcs Crochet Hook Tool Set Knitting Hook Set With Box\",\"KSh 990\",\"KSh 1,500\",\"34%\",\"(39)\",\"4.7 out of 5\"\n",
      "\"40cm Gold DIY Acrylic Wall Sticker Clock\",\"KSh 552\",\"KSh 1,035\",\"47%\",\"(12)\",\"4.8 out of 5\"\n",
      "\"LASA Digital Thermometer And Hydrometer\",\"KSh 501\",\"KSh 860\",\"42%\",\"(6)\",\"4.5 out of 5\"\n",
      "\"Multifunction Laser Level With Adjustment Tripod\",\"KSh 1,680\",\"KSh 2,499\",\"33%\",\"(9)\",\"4.2 out of 5\"\n",
      "\"Anti-Skid Absorbent Insulation Coaster  For Home Office\",\"KSh 332\",\"KSh 684\",\"51%\",\"(2)\",\"5 out of 5\"\n",
      "\"Peacock  Throw Pillow Cushion Case For Home Car\",\"KSh 195\",\"KSh 360\",\"46%\",\"(2)\",\"5 out of 5\"\n",
      "\"LASA Aluminum Folding Truck Hand Cart - 68kg Max\",\"KSh 2,025\",\"KSh 3,971\",\"49%\",\"(3)\",\"5 out of 5\"\n",
      "\"LED Wall Digital Alarm Clock Study Home 12 / 24H Clock Calendar\",\"KSh 2,999\",\"KSh 3,699\",\"19%\",\"(5)\",\"4.6 out of 5\"\n",
      "\"3D Waterproof EVA Plastic Shower Curtain 1.8*2Mtrs\",\"KSh 998\",\"KSh 1,966\",\"49%\",\"(44)\",\"4.6 out of 5\"\n",
      "\"3PCS Single Head Knitting Crochet Sweater Needle Set\",\"KSh 38\",\"KSh 80\",\"53%\",\"(13)\",\"3.3 out of 5\"\n",
      "\"4pcs Bathroom/Kitchen Towel Rack,Roll Paper Holder,Towel Bars,Hook\",\"KSh 1,860\",\"KSh 3,220\",\"42%\",\"\",\"\"\n",
      "\"LED Romantic Spaceship Starry Sky Projector,Children's Bedroom Night Light-Blue\",\"KSh 880\",\"KSh 1,350\",\"35%\",\"(6)\",\"4 out of 5\"\n",
      "\"Foldable Overbed Table/Desk\",\"KSh 1,650\",\"KSh 2,150\",\"23%\",\"(14)\",\"4.4 out of 5\"\n",
      "\"LASA 3 Tier Bamboo Shoe Bench Storage Shelf\",\"KSh 2,048\",\"KSh 4,500\",\"54%\",\"(7)\",\"4.3 out of 5\"\n",
      "\"Electronic Digital Display Vernier Caliper\",\"KSh 420\",\"KSh 647\",\"35%\",\"(49)\",\"4.6 out of 5\"\n",
      "\"Portable Wardrobe Nonwoven With 3 Hanging Rods And 6 Storage Shelves\",\"KSh 2,880\",\"KSh 3,520\",\"18%\",\"(12)\",\"3.8 out of 5\"\n",
      "\"12 Litre Black Insulated Lunch Box\",\"KSh 1,350\",\"KSh 1,990\",\"32%\",\"(13)\",\"3.8 out of 5\"\n",
      "\"52 Pieces Cake Decorating Tool Set Gift Kit Baking Supplies\",\"KSh 1,758\",\"KSh 2,499\",\"30%\",\"(20)\",\"4.1 out of 5\"\n",
      "\"MultiFunctional Storage Rack Multi-layer Bookshelf\",\"KSh 2,200\",\"KSh 4,080\",\"46%\",\"\",\"\"\n",
      "\"Exfoliate And Exfoliate Face Towel - Black\",\"KSh 185\",\"KSh 382\",\"52%\",\"(9)\",\"4.3 out of 5\"\n",
      "\"12 Litre Insulated Lunch Box Grey\",\"KSh 980\",\"KSh 1,490\",\"34%\",\"(12)\",\"4.7 out of 5\"\n",
      "\"LED Eye Protection  Desk Lamp , Study, Reading, USB Fan - Double Pen Holder\",\"KSh 1,820\",\"KSh 3,490\",\"48%\",\"(9)\",\"4.3 out of 5\"\n",
      "\"53Pcs/Set Yarn Knitting Crochet Hooks With Bag - Fortune Cat\",\"KSh 1,940\",\"KSh 2,650\",\"27%\",\"(20)\",\"4.7 out of 5\"\n",
      "\"53 Pieces/Set Yarn Knitting Crochet Hooks With Bag - Pansies\",\"KSh 1,980\",\"KSh 2,699\",\"27%\",\"(32)\",\"4.5 out of 5\"\n",
      "\"DIY File Folder, Office Drawer File Holder, Pen Holder, Desktop Storage Rack\",\"KSh 1,620\",\"KSh 2,690\",\"40%\",\"(1)\",\"5 out of 5\"\n",
      "\"Classic Black Cat Cotton Hemp Pillow Case For Home Car\",\"KSh 171\",\"KSh 360\",\"53%\",\"(2)\",\"5 out of 5\"\n",
      "\"Punch-free Great Load Bearing Bathroom Storage Rack Wall Shelf-White\",\"KSh 389\",\"KSh 656\",\"41%\",\"(36)\",\"4.3 out of 5\"\n",
      "\"1/2/3 Seater Elastic Sofa Cover,Living Room/Home Decor Chair Cover-Grey\",\"KSh 1,620 - KSh 1,980\",\"KSh 2,200 - KSh 3,200\",\"38%\",\"(2)\",\"4.5 out of 5\"\n",
      "\"LASA Stainless Steel Double Wall Mount Soap Dispenser - 500ml\",\"KSh 2,750\",\"KSh 4,471\",\"38%\",\"\",\"\"\n",
      "\"4M Float Switch Water Level Controller -Water Tank\",\"KSh 475\",\"KSh 931\",\"49%\",\"\",\"\"\n",
      "\"Modern Sofa Throw Pillow Cover-45x45cm-Blue&Red\",\"KSh 238\",\"KSh 476\",\"50%\",\"\",\"\"\n",
      "\"Balloon Insert, Birthday Party Balloon Set, PU Leather\",\"KSh 610\",\"KSh 1,060\",\"42%\",\"\",\"\"\n",
      "\"Balloon Insert, Birthday Party Balloon Set, PU Leather\",\"KSh 610\",\"KSh 1,060\",\"42%\",\"\",\"\"\n",
      "\"Shower Cap Wide Elastic Band Cover Reusable Bashroom Cap\",\"KSh 2,132\",\"KSh 2,169\",\"2%\",\"\",\"\"\n",
      "\"Christmas Elk Fence Yard Lawn Decorations Cute For Holidays\",\"KSh 999\",\"KSh 2,000\",\"50%\",\"\",\"\"\n",
      "\"60W Hot Melt Glue Sprayer - Efficient And Stable Glue Dispensing\",\"KSh 1,190\",\"KSh 1,785\",\"33%\",\"\",\"\"\n",
      "\"Car Phone Charging Stand\",\"KSh 671\",\"KSh 1,316\",\"49%\",\"\",\"\"\n",
      "\"2pcs Solar Street Light Flood Light Outdoor\",\"KSh 1,200\",\"KSh 1,950\",\"38%\",\"\",\"\"\n",
      "\"Creative Owl Shape Keychain Black\",\"KSh 199\",\"KSh 504\",\"61%\",\"\",\"\"\n",
      "\"Brush & Paintbrush Cleaning Tool Pink\",\"KSh 299\",\"KSh 600\",\"50%\",\"\",\"\"\n",
      "\"Pen Grips For Kids Pen Grip Posture Correction Tool For Kids\",\"KSh 1,660\",\"KSh 1,699\",\"2%\",\"\",\"\"\n",
      "\"Pilates Cloth Bag Waterproof Durable High Capacity Purple\",\"KSh 299\",\"KSh 384\",\"22%\",\"\",\"\"\n",
      "\"Multi-purpose Rice Drainage Basket And Fruit And Vegetable Drainage Sieve\",\"KSh 1,459\",\"KSh 1,499\",\"3%\",\"\",\"\"\n",
      "\"Cute Christmas Fence Garden Decorations For Holiday Home\",\"KSh 799\",\"KSh 1,343\",\"41%\",\"\",\"\"\n",
      "\"Simple Metal Dog Art Sculpture Decoration For Home Office\",\"KSh 499\",\"KSh 900\",\"45%\",\"\",\"\"\n",
      "\"Christmas Fence Garden Decorations Outdoor For Holiday Home\",\"KSh 699\",\"KSh 1,343\",\"48%\",\"\",\"\"\n",
      "\"Angle Measuring Tool Full Metal Multi Angle Measuring Tool\",\"KSh 799\",\"KSh 1,567\",\"49%\",\"\",\"\"\n",
      "\"12V 19500rpm Handheld Electric Angle Grinder Tool - UK - Yellow/Black\",\"KSh 2,799\",\"KSh 3,810\",\"27%\",\"\",\"\"\n",
      "\"Simple Metal Dog Art Sculpture Decoration For Home Office\",\"KSh 399\",\"KSh 896\",\"55%\",\"\",\"\"\n",
      "\"5 Pieces/set Of Stainless Steel Induction Cooker Pots\",\"KSh 2,170\",\"KSh 2,500\",\"13%\",\"(6)\",\"2.5 out of 5\"\n",
      "\"Mythco 120COB Solar Wall Ligt With Motion Sensor And Remote Control 3 Modes\",\"KSh 458\",\"KSh 986\",\"54%\",\"(10)\",\"3 out of 5\"\n",
      "\"5-PCS Stainless Steel Cooking Pot Set With Steamed Slices\",\"KSh 2,115\",\"KSh 4,700\",\"55%\",\"(13)\",\"2.1 out of 5\"\n",
      "\"120W Cordless Vacuum Cleaners Handheld Electric Vacuum Cleaner\",\"KSh 445\",\"KSh 873\",\"49%\",\"(69)\",\"2.8 out of 5\"\n",
      "\"Intelligent  LED Body Sensor Wireless Lighting Night Light USB\",\"KSh 325\",\"KSh 680\",\"52%\",\"(15)\",\"2.7 out of 5\"\n",
      "\"VIC Wireless Vacuum Cleaner Dual Use For Home And Car 120W High Power Powerful\",\"KSh 1,220\",\"KSh 1,555\",\"22%\",\"(16)\",\"2.9 out of 5\"\n",
      "\"Artificial Potted Flowers Room Decorative Flowers (2 Pieces)\",\"KSh 990\",\"KSh 1,814\",\"45%\",\"(6)\",\"2.2 out of 5\"\n",
      "\"380ML USB Rechargeable Portable Small Blenders And Juicers\",\"KSh 1,000\",\"KSh 2,000\",\"50%\",\"(7)\",\"2.3 out of 5\"\n",
      "\"32PCS Portable Cordless Drill Set With Cyclic Battery Drive -26 Variable Speed\",\"KSh 3,750\",\"KSh 6,143\",\"39%\",\"(5)\",\"3 out of 5\"\n",
      "\"Agapeon Toothbrush Holder And Toothpaste Dispenser\",\"KSh 382\",\"KSh 700\",\"45%\",\"(17)\",\"2.6 out of 5\"\n",
      "\"Large Lazy Inflatable Sofa Chairs PVC Lounger Seat Bag\",\"KSh 2,300\",\"KSh 3,240\",\"29%\",\"(5)\",\"3 out of 5\"\n",
      "\"Watercolour Gold Foil Textured Print Pillow Cover\",\"KSh 345\",\"KSh 602\",\"43%\",\"(6)\",\"2.3 out of 5\"\n",
      "\"Wrought Iron Bathroom Shelf Wall Mounted Free Punch Toilet Rack\",\"KSh 509\",\"KSh 899\",\"43%\",\"(5)\",\"3 out of 5\"\n",
      "\"7-piece Set Of Storage Bags, Travel Storage Bags, Shoe Bags\",\"KSh 968\",\"KSh 1,814\",\"47%\",\"(6)\",\"2.2 out of 5\"\n",
      "\"Electric LED UV Mosquito Killer Lamp, Outdoor/Indoor Fly Killer Trap Light -USB\",\"KSh 1,570\",\"KSh 2,988\",\"47%\",\"(7)\",\"2.1 out of 5\"\n",
      "\"2PCS/LOT Solar LED Outdoor Intelligent Light Controlled Wall Lamp\",\"KSh 790\",\"KSh 1,485\",\"47%\",\"\",\"\"\n",
      "\"3PCS Rotary Scraper Thermomix For Kitchen\",\"KSh 690\",\"KSh 1,200\",\"43%\",\"\",\"\"\n",
      "\"Cushion Silicone Butt Cushion Summer Ice Cushion Honeycomb Gel Cushion\",\"KSh 1,732\",\"KSh 1,799\",\"4%\",\"\",\"\"\n",
      "\"7PCS Silicone Thumb Knife Finger Protector Vegetable Harvesting Knife\",\"KSh 230\",\"KSh 450\",\"49%\",\"\",\"\"\n",
      "\"Memory Foam Neck Pillow Cover, With Pillow Core - 50*30cm\",\"KSh 1,189\",\"KSh 2,199\",\"46%\",\"(1)\",\"3 out of 5\"\n",
      "\"Bedroom Simple Floor Hanging Clothes Rack Single Pole Hat Rack - White\",\"KSh 979\",\"KSh 1,920\",\"49%\",\"(1)\",\"5 out of 5\"\n",
      "\"5m Waterproof Spherical LED String Lights Outdoor Ball Chain Lights Party Lighting Decoration Adjustable\",\"KSh 1,460\",\"KSh 2,290\",\"36%\",\"\",\"\"\n",
      "\"2 Pairs Cowhide Split Leather Work Gloves.32â„‰ Or Above Welding Gloves\",\"KSh 1,666\",\"KSh 1,699\",\"2%\",\"\",\"\"\n",
      "\"Household Pineapple Peeler Peeler\",\"KSh 330\",\"KSh 647\",\"49%\",\"(1)\",\"4 out of 5\"\n",
      "\"Balloon Insert, Birthday Party Balloon Set, PU Leather\",\"KSh 610\",\"KSh 1,060\",\"42%\",\"\",\"\"\n",
      "\"Creative Owl Shape Keychain Black\",\"KSh 176\",\"KSh 345\",\"49%\",\"\",\"\"\n",
      "\"Office Chair Lumbar Back Support Spine Posture Correction Pillow Car Cushion\",\"KSh 1,466\",\"KSh 1,699\",\"14%\",\"\",\"\"\n",
      "\"Cartoon Car Decoration Cute Individuality For Car Home Desk\",\"KSh 274\",\"KSh 537\",\"49%\",\"\",\"\"\n",
      "\"Outdoor Portable Water Bottle With Medicine Box - 600ML - Black\",\"KSh 799\",\"KSh 900\",\"11%\",\"\",\"\"\n",
      "\"Angle Measuring Tool Full Metal Multi Angle Measuring Tool\",\"KSh 657\",\"KSh 1,288\",\"49%\",\"\",\"\"\n",
      "\"Wall-Mounted Toothbrush Toothpaste Holder With Multiple Slots\",\"KSh 1,468\",\"KSh 1,699\",\"14%\",\"\",\"\"\n",
      "\"Multifunctional Hanging Storage Box Storage Bag (4 Layers)\",\"KSh 630\",\"KSh 1,100\",\"43%\",\"\",\"\"\n",
      "\"Wall Clock With Hidden Safe Box\",\"KSh 850\",\"KSh 1,700\",\"50%\",\"\",\"\"\n",
      "\"Portable Wine Table With Folding Round Table\",\"KSh 1,300\",\"KSh 2,500\",\"48%\",\"\",\"\"\n",
      "\"Sewing Machine Needle Threader Stitch Insertion Tool Automatic Quick Sewing\",\"KSh 105\",\"KSh 200\",\"48%\",\"\",\"\"\n",
      "\"6 Layers Steel Pipe Assembling Dustproof Storage Shoe Cabinet\",\"KSh 899\",\"KSh 1,699\",\"47%\",\"\",\"\"\n",
      "\"6 Layers Steel Pipe Assembling Dustproof Storage Shoe Cabinet\",\"KSh 899\",\"KSh 1,699\",\"47%\",\"\",\"\"\n",
      "\"2PCS Ice Silk Square Cushion Cover Pillowcases - 65x65cm\",\"KSh 1,200\",\"KSh 2,400\",\"50%\",\"\",\"\"\n",
      "\"Wall Mount Automatic Toothpaste Dispenser Toothbrush Holder Toothpaste Squeezer\",\"KSh 1,526\",\"KSh 1,660\",\"8%\",\"\",\"\"\n",
      "\"Portable Soap Dispenser Kitchen Detergent Press Box Kitchen Tools\",\"KSh 1,462\",\"KSh 1,499\",\"2%\",\"\",\"\"\n",
      "\"4 Piece Coloured Stainless Steel Kitchenware Set\",\"KSh 248\",\"KSh 486\",\"49%\",\"\",\"\"\n",
      "\"Metal Wall Clock Silver Dial Crystal Jewelry Round Home Decoration Wall Clock\",\"KSh 3,546\",\"KSh 3,699\",\"4%\",\"\",\"\"\n",
      "\"Baby Early Education Shape And Color Cognitive Training Toys\",\"KSh 525\",\"KSh 1,029\",\"49%\",\"\",\"\"\n",
      "\"8in1 Screwdriver With LED Light\",\"KSh 1,080\",\"KSh 1,874\",\"42%\",\"\",\"\"\n",
      "\"Konka Healty Electric Kettle, 24-hour Heat Preservation,1.5L,800W, White\",\"KSh 3,640\",\"KSh 4,588\",\"21%\",\"(1)\",\"5 out of 5\"\n",
      "\"9pcs Gas Mask, For Painting, Dust, Formaldehyde Grinding, Polishing\",\"KSh 1,420\",\"KSh 2,420\",\"41%\",\"\",\"\"\n",
      "\"24 Grid Wall-mounted Sundries Organiser Fabric Closet Bag Storage Rack\",\"KSh 1,875\",\"KSh 1,899\",\"1%\",\"\",\"\"\n",
      "\"1PC Refrigerator Food Seal Pocket Fridge Bags\",\"KSh 198\",\"KSh 260\",\"24%\",\"\",\"\"\n",
      "\"LED Solar Street Light-fake Camera\",\"KSh 1,150\",\"KSh 1,737\",\"34%\",\"\",\"\"\n",
      "\"Cartoon Embroidered Mini Towel Bear Cotton Wash Cloth Hand 4pcs\",\"KSh 1,190\",\"KSh 1,810\",\"34%\",\"\",\"\"\n",
      "\"Shower Nozzle Cleaning Unclogging Needle Mini Crevice Small Hole Cleaning Brush\",\"KSh 1,658\",\"KSh 1,699\",\"2%\",\"\",\"\"\n",
      "\"Thickening Multipurpose Non Stick Easy To Clean Heat Resistant Spoon Pad\",\"KSh 1,768\",\"KSh 1,799\",\"2%\",\"\",\"\"\n",
      "\"6 In 1 Bottle Can Opener Multifunctional Easy Opener\",\"KSh 199\",\"KSh 553\",\"64%\",\"\",\"\"\n",
      "\"Wall-mounted Sticker Punch-free Plug Fixer\",\"KSh 450\",\"KSh 900\",\"50%\",\"(1)\",\"2 out of 5\"\n",
      "\"Black Simple Water Cup Wine Coaster Anti Slip Absorbent\",\"KSh 169\",\"KSh 320\",\"47%\",\"\",\"\"\n"
     ]
    }
   ],
   "source": [
    "with open(r\"Excel_jumia.csv\") as jumia:\n",
    "    content=jumia.read()\n",
    "    print(content)"
   ]
  },
  {
   "cell_type": "code",
   "execution_count": 11,
   "id": "1205e54a-cdd4-49f1-8cf2-66257def4180",
   "metadata": {},
   "outputs": [
    {
     "data": {
      "text/plain": [
       "<bound method NDFrame.head of                                                Product Current price  \\\n",
       "0    115  Piece Set Of Multifunctional Precision Sc...       KSh 950   \n",
       "1    Metal Decorative Hooks Key Hangers Entryway Wa...       KSh 527   \n",
       "2     Portable Mini Cordless Car Vacuum Cleaner - Blue     KSh 2,199   \n",
       "3    Weighing Scale Digital Bathroom Body Fat Scale...     KSh 1,580   \n",
       "4    Portable Home Small Air Humidifier 3-Speed Fan...     KSh 1,740   \n",
       "..                                                 ...           ...   \n",
       "110  Shower Nozzle Cleaning Unclogging Needle Mini ...     KSh 1,658   \n",
       "111  Thickening Multipurpose Non Stick Easy To Clea...     KSh 1,768   \n",
       "112  6 In 1 Bottle Can Opener Multifunctional Easy ...       KSh 199   \n",
       "113         Wall-mounted Sticker Punch-free Plug Fixer       KSh 450   \n",
       "114  Black Simple Water Cup Wine Coaster Anti Slip ...       KSh 169   \n",
       "\n",
       "     old price Discount Review       Ratingd  \n",
       "0    KSh 1,525      38%    (2)  4.5 out of 5  \n",
       "1      KSh 999      47%   (14)  4.1 out of 5  \n",
       "2    KSh 2,923      25%   (24)  4.6 out of 5  \n",
       "3    KSh 2,499      37%    (7)  4.7 out of 5  \n",
       "4    KSh 2,356      26%    (5)  4.8 out of 5  \n",
       "..         ...      ...    ...           ...  \n",
       "110  KSh 1,699       2%    NaN           NaN  \n",
       "111  KSh 1,799       2%    NaN           NaN  \n",
       "112    KSh 553      64%    NaN           NaN  \n",
       "113    KSh 900      50%    (1)    2 out of 5  \n",
       "114    KSh 320      47%    NaN           NaN  \n",
       "\n",
       "[115 rows x 6 columns]>"
      ]
     },
     "execution_count": 11,
     "metadata": {},
     "output_type": "execute_result"
    }
   ],
   "source": [
    "import pandas as pd\n",
    "excel_jumia = pd.read_csv(r\"Excel_jumia.csv\") # this function reads csv files\n",
    "excel_jumia.head  # head is a method inside a class running first 5 values of a table\n"
   ]
  },
  {
   "cell_type": "code",
   "execution_count": 12,
   "id": "f10f12ec-ae3b-459b-922f-0e32ef98eba6",
   "metadata": {},
   "outputs": [
    {
     "data": {
      "text/html": [
       "<div>\n",
       "<style scoped>\n",
       "    .dataframe tbody tr th:only-of-type {\n",
       "        vertical-align: middle;\n",
       "    }\n",
       "\n",
       "    .dataframe tbody tr th {\n",
       "        vertical-align: top;\n",
       "    }\n",
       "\n",
       "    .dataframe thead th {\n",
       "        text-align: right;\n",
       "    }\n",
       "</style>\n",
       "<table border=\"1\" class=\"dataframe\">\n",
       "  <thead>\n",
       "    <tr style=\"text-align: right;\">\n",
       "      <th></th>\n",
       "      <th>Product</th>\n",
       "      <th>Current price</th>\n",
       "      <th>old price</th>\n",
       "      <th>Discount</th>\n",
       "      <th>Review</th>\n",
       "      <th>Ratingd</th>\n",
       "    </tr>\n",
       "  </thead>\n",
       "  <tbody>\n",
       "    <tr>\n",
       "      <th>110</th>\n",
       "      <td>Shower Nozzle Cleaning Unclogging Needle Mini ...</td>\n",
       "      <td>KSh 1,658</td>\n",
       "      <td>KSh 1,699</td>\n",
       "      <td>2%</td>\n",
       "      <td>NaN</td>\n",
       "      <td>NaN</td>\n",
       "    </tr>\n",
       "    <tr>\n",
       "      <th>111</th>\n",
       "      <td>Thickening Multipurpose Non Stick Easy To Clea...</td>\n",
       "      <td>KSh 1,768</td>\n",
       "      <td>KSh 1,799</td>\n",
       "      <td>2%</td>\n",
       "      <td>NaN</td>\n",
       "      <td>NaN</td>\n",
       "    </tr>\n",
       "    <tr>\n",
       "      <th>112</th>\n",
       "      <td>6 In 1 Bottle Can Opener Multifunctional Easy ...</td>\n",
       "      <td>KSh 199</td>\n",
       "      <td>KSh 553</td>\n",
       "      <td>64%</td>\n",
       "      <td>NaN</td>\n",
       "      <td>NaN</td>\n",
       "    </tr>\n",
       "    <tr>\n",
       "      <th>113</th>\n",
       "      <td>Wall-mounted Sticker Punch-free Plug Fixer</td>\n",
       "      <td>KSh 450</td>\n",
       "      <td>KSh 900</td>\n",
       "      <td>50%</td>\n",
       "      <td>(1)</td>\n",
       "      <td>2 out of 5</td>\n",
       "    </tr>\n",
       "    <tr>\n",
       "      <th>114</th>\n",
       "      <td>Black Simple Water Cup Wine Coaster Anti Slip ...</td>\n",
       "      <td>KSh 169</td>\n",
       "      <td>KSh 320</td>\n",
       "      <td>47%</td>\n",
       "      <td>NaN</td>\n",
       "      <td>NaN</td>\n",
       "    </tr>\n",
       "  </tbody>\n",
       "</table>\n",
       "</div>"
      ],
      "text/plain": [
       "                                               Product Current price  \\\n",
       "110  Shower Nozzle Cleaning Unclogging Needle Mini ...     KSh 1,658   \n",
       "111  Thickening Multipurpose Non Stick Easy To Clea...     KSh 1,768   \n",
       "112  6 In 1 Bottle Can Opener Multifunctional Easy ...       KSh 199   \n",
       "113         Wall-mounted Sticker Punch-free Plug Fixer       KSh 450   \n",
       "114  Black Simple Water Cup Wine Coaster Anti Slip ...       KSh 169   \n",
       "\n",
       "     old price Discount Review     Ratingd  \n",
       "110  KSh 1,699       2%    NaN         NaN  \n",
       "111  KSh 1,799       2%    NaN         NaN  \n",
       "112    KSh 553      64%    NaN         NaN  \n",
       "113    KSh 900      50%    (1)  2 out of 5  \n",
       "114    KSh 320      47%    NaN         NaN  "
      ]
     },
     "execution_count": 12,
     "metadata": {},
     "output_type": "execute_result"
    }
   ],
   "source": [
    "excel_jumia.tail() # gives botttom files"
   ]
  },
  {
   "cell_type": "code",
   "execution_count": 13,
   "id": "f3943106-3d50-4cbf-9cb1-45114562d9f6",
   "metadata": {},
   "outputs": [],
   "source": [
    "class Person:\n",
    "    def __init__(self, name, age): # Constructor method. self reffers to objects being made\n",
    "        self.name = name\n",
    "        self.age = age\n",
    "    def greet(self):\n",
    "        return f\"hi my name is {self.name} and i am {self.age} years old\"\n",
    "        "
   ]
  },
  {
   "cell_type": "code",
   "execution_count": 14,
   "id": "e7d645e2-cd2d-46ee-84e9-9b511c9c7637",
   "metadata": {},
   "outputs": [
    {
     "name": "stdout",
     "output_type": "stream",
     "text": [
      "hi my name is Wyc and i am 28 years old\n"
     ]
    }
   ],
   "source": [
    "person_1 = Person(\"Wyc\", 28)\n",
    "print (person_1.greet())"
   ]
  },
  {
   "cell_type": "code",
   "execution_count": 15,
   "id": "bcf92b41-06a0-4535-8046-7e138db4f369",
   "metadata": {},
   "outputs": [],
   "source": [
    "class Dog:\n",
    "    def __init__(self, name, breed, age):\n",
    "        self.name = name\n",
    "        self.breed = breed\n",
    "        self.age = age\n",
    "\n",
    "    def bark(self):\n",
    "        return f\"Woof! i am {self.name} and i am a {self.breed}\"\n",
    "\n",
    "    "
   ]
  },
  {
   "cell_type": "code",
   "execution_count": 16,
   "id": "fedc86ed-b19c-4729-b658-4b0d7f4c4fbe",
   "metadata": {},
   "outputs": [
    {
     "name": "stdout",
     "output_type": "stream",
     "text": [
      "Woof! i am simba and i am a BullDog\n"
     ]
    }
   ],
   "source": [
    "dog_1 = Dog(\"simba\", \"BullDog\", \"4\")\n",
    "print (dog_1.bark())"
   ]
  },
  {
   "cell_type": "code",
   "execution_count": 17,
   "id": "1b2d8c75-72ff-4ec8-8c64-c831b25a0842",
   "metadata": {},
   "outputs": [
    {
     "name": "stdout",
     "output_type": "stream",
     "text": [
      "Woof! i am skooby and i am a Chihuahua\n"
     ]
    }
   ],
   "source": [
    "dog_2 = Dog(\"skooby\", \"Chihuahua\", \"3\")\n",
    "print (dog_2.bark())"
   ]
  },
  {
   "cell_type": "code",
   "execution_count": 18,
   "id": "2dec4272-2a66-40e5-a6e7-90eea873c1c0",
   "metadata": {},
   "outputs": [],
   "source": [
    "# To construct a rectangle\n",
    "class Rectangle:\n",
    "    def __init__(self, length, width):\n",
    "        self.length = length\n",
    "        self.width = width\n",
    "\n",
    "    def area(self):\n",
    "        area = self.length * self.width\n",
    "        return f\"THe area is {area}\""
   ]
  },
  {
   "cell_type": "code",
   "execution_count": 19,
   "id": "86ffee0d-12f3-4458-b03b-de548cb17e6b",
   "metadata": {},
   "outputs": [
    {
     "name": "stdout",
     "output_type": "stream",
     "text": [
      "THe area is 440\n"
     ]
    }
   ],
   "source": [
    "area_1 = Rectangle(22, 20)\n",
    "print(area_1.area())"
   ]
  },
  {
   "cell_type": "raw",
   "id": "9cbc9737-9524-4a24-b7d8-18aba6640bc1",
   "metadata": {},
   "source": []
  },
  {
   "cell_type": "code",
   "execution_count": 20,
   "id": "a9399cd9-f216-4773-af86-8a58a2b6deb1",
   "metadata": {},
   "outputs": [],
   "source": [
    "class Circle:\n",
    "    def __init__(self, radius):\n",
    "        self.radius = radius\n",
    "\n",
    "    def area(self):\n",
    "        area = 22/7 * (self.radius**2)\n",
    "        return f\"the area is {area}\"\n",
    "        \n",
    "    def perimeter(self):\n",
    "        perimeter = 2 * 22/7 * self.radius\n",
    "        return f\"the perimeter is {perimeter}\""
   ]
  },
  {
   "cell_type": "code",
   "execution_count": 21,
   "id": "987eae8c-47c0-4c6c-a05d-5ec904aff9df",
   "metadata": {},
   "outputs": [
    {
     "name": "stdout",
     "output_type": "stream",
     "text": [
      "the area is 616.0\n"
     ]
    }
   ],
   "source": [
    "circle_1 = Circle(14)\n",
    "print(circle_1.area())"
   ]
  },
  {
   "cell_type": "code",
   "execution_count": 22,
   "id": "1854170f-56aa-4549-a3d8-1ee75e0bda34",
   "metadata": {},
   "outputs": [
    {
     "name": "stdout",
     "output_type": "stream",
     "text": [
      "the perimeter is 88.0\n"
     ]
    }
   ],
   "source": [
    "print(circle_1.perimeter())"
   ]
  },
  {
   "cell_type": "code",
   "execution_count": 23,
   "id": "269226da-4a88-4ac6-9760-24044c3fa27c",
   "metadata": {},
   "outputs": [],
   "source": [
    "# PANDA - a python library for data analysis with 2 data structures\n",
    "# 1. series -  a column\n",
    "# Data frame - a table with rows and columns"
   ]
  },
  {
   "cell_type": "code",
   "execution_count": 24,
   "id": "2885f6fb-62f3-4e65-9d57-a892415015d0",
   "metadata": {},
   "outputs": [
    {
     "data": {
      "text/html": [
       "<div>\n",
       "<style scoped>\n",
       "    .dataframe tbody tr th:only-of-type {\n",
       "        vertical-align: middle;\n",
       "    }\n",
       "\n",
       "    .dataframe tbody tr th {\n",
       "        vertical-align: top;\n",
       "    }\n",
       "\n",
       "    .dataframe thead th {\n",
       "        text-align: right;\n",
       "    }\n",
       "</style>\n",
       "<table border=\"1\" class=\"dataframe\">\n",
       "  <thead>\n",
       "    <tr style=\"text-align: right;\">\n",
       "      <th></th>\n",
       "      <th>Product</th>\n",
       "      <th>Current price</th>\n",
       "      <th>old price</th>\n",
       "      <th>Discount</th>\n",
       "      <th>Review</th>\n",
       "      <th>Ratingd</th>\n",
       "    </tr>\n",
       "  </thead>\n",
       "  <tbody>\n",
       "    <tr>\n",
       "      <th>0</th>\n",
       "      <td>115  Piece Set Of Multifunctional Precision Sc...</td>\n",
       "      <td>KSh 950</td>\n",
       "      <td>KSh 1,525</td>\n",
       "      <td>38%</td>\n",
       "      <td>(2)</td>\n",
       "      <td>4.5 out of 5</td>\n",
       "    </tr>\n",
       "    <tr>\n",
       "      <th>1</th>\n",
       "      <td>Metal Decorative Hooks Key Hangers Entryway Wa...</td>\n",
       "      <td>KSh 527</td>\n",
       "      <td>KSh 999</td>\n",
       "      <td>47%</td>\n",
       "      <td>(14)</td>\n",
       "      <td>4.1 out of 5</td>\n",
       "    </tr>\n",
       "    <tr>\n",
       "      <th>2</th>\n",
       "      <td>Portable Mini Cordless Car Vacuum Cleaner - Blue</td>\n",
       "      <td>KSh 2,199</td>\n",
       "      <td>KSh 2,923</td>\n",
       "      <td>25%</td>\n",
       "      <td>(24)</td>\n",
       "      <td>4.6 out of 5</td>\n",
       "    </tr>\n",
       "    <tr>\n",
       "      <th>3</th>\n",
       "      <td>Weighing Scale Digital Bathroom Body Fat Scale...</td>\n",
       "      <td>KSh 1,580</td>\n",
       "      <td>KSh 2,499</td>\n",
       "      <td>37%</td>\n",
       "      <td>(7)</td>\n",
       "      <td>4.7 out of 5</td>\n",
       "    </tr>\n",
       "    <tr>\n",
       "      <th>4</th>\n",
       "      <td>Portable Home Small Air Humidifier 3-Speed Fan...</td>\n",
       "      <td>KSh 1,740</td>\n",
       "      <td>KSh 2,356</td>\n",
       "      <td>26%</td>\n",
       "      <td>(5)</td>\n",
       "      <td>4.8 out of 5</td>\n",
       "    </tr>\n",
       "  </tbody>\n",
       "</table>\n",
       "</div>"
      ],
      "text/plain": [
       "                                             Product Current price  old price  \\\n",
       "0  115  Piece Set Of Multifunctional Precision Sc...       KSh 950  KSh 1,525   \n",
       "1  Metal Decorative Hooks Key Hangers Entryway Wa...       KSh 527    KSh 999   \n",
       "2   Portable Mini Cordless Car Vacuum Cleaner - Blue     KSh 2,199  KSh 2,923   \n",
       "3  Weighing Scale Digital Bathroom Body Fat Scale...     KSh 1,580  KSh 2,499   \n",
       "4  Portable Home Small Air Humidifier 3-Speed Fan...     KSh 1,740  KSh 2,356   \n",
       "\n",
       "  Discount Review       Ratingd  \n",
       "0      38%    (2)  4.5 out of 5  \n",
       "1      47%   (14)  4.1 out of 5  \n",
       "2      25%   (24)  4.6 out of 5  \n",
       "3      37%    (7)  4.7 out of 5  \n",
       "4      26%    (5)  4.8 out of 5  "
      ]
     },
     "execution_count": 24,
     "metadata": {},
     "output_type": "execute_result"
    }
   ],
   "source": [
    "import pandas as pd\n",
    "df = pd.read_csv(\"Excel_jumia.csv\")\n",
    "df.head()"
   ]
  },
  {
   "cell_type": "code",
   "execution_count": 25,
   "id": "82a4d856-0775-4402-abac-8b0c422fcd1a",
   "metadata": {},
   "outputs": [
    {
     "data": {
      "text/html": [
       "<div>\n",
       "<style scoped>\n",
       "    .dataframe tbody tr th:only-of-type {\n",
       "        vertical-align: middle;\n",
       "    }\n",
       "\n",
       "    .dataframe tbody tr th {\n",
       "        vertical-align: top;\n",
       "    }\n",
       "\n",
       "    .dataframe thead th {\n",
       "        text-align: right;\n",
       "    }\n",
       "</style>\n",
       "<table border=\"1\" class=\"dataframe\">\n",
       "  <thead>\n",
       "    <tr style=\"text-align: right;\">\n",
       "      <th></th>\n",
       "      <th>Product</th>\n",
       "      <th>Current price</th>\n",
       "      <th>old price</th>\n",
       "      <th>Discount</th>\n",
       "      <th>Review</th>\n",
       "      <th>Ratingd</th>\n",
       "    </tr>\n",
       "  </thead>\n",
       "  <tbody>\n",
       "    <tr>\n",
       "      <th>110</th>\n",
       "      <td>Shower Nozzle Cleaning Unclogging Needle Mini ...</td>\n",
       "      <td>KSh 1,658</td>\n",
       "      <td>KSh 1,699</td>\n",
       "      <td>2%</td>\n",
       "      <td>NaN</td>\n",
       "      <td>NaN</td>\n",
       "    </tr>\n",
       "    <tr>\n",
       "      <th>111</th>\n",
       "      <td>Thickening Multipurpose Non Stick Easy To Clea...</td>\n",
       "      <td>KSh 1,768</td>\n",
       "      <td>KSh 1,799</td>\n",
       "      <td>2%</td>\n",
       "      <td>NaN</td>\n",
       "      <td>NaN</td>\n",
       "    </tr>\n",
       "    <tr>\n",
       "      <th>112</th>\n",
       "      <td>6 In 1 Bottle Can Opener Multifunctional Easy ...</td>\n",
       "      <td>KSh 199</td>\n",
       "      <td>KSh 553</td>\n",
       "      <td>64%</td>\n",
       "      <td>NaN</td>\n",
       "      <td>NaN</td>\n",
       "    </tr>\n",
       "    <tr>\n",
       "      <th>113</th>\n",
       "      <td>Wall-mounted Sticker Punch-free Plug Fixer</td>\n",
       "      <td>KSh 450</td>\n",
       "      <td>KSh 900</td>\n",
       "      <td>50%</td>\n",
       "      <td>(1)</td>\n",
       "      <td>2 out of 5</td>\n",
       "    </tr>\n",
       "    <tr>\n",
       "      <th>114</th>\n",
       "      <td>Black Simple Water Cup Wine Coaster Anti Slip ...</td>\n",
       "      <td>KSh 169</td>\n",
       "      <td>KSh 320</td>\n",
       "      <td>47%</td>\n",
       "      <td>NaN</td>\n",
       "      <td>NaN</td>\n",
       "    </tr>\n",
       "  </tbody>\n",
       "</table>\n",
       "</div>"
      ],
      "text/plain": [
       "                                               Product Current price  \\\n",
       "110  Shower Nozzle Cleaning Unclogging Needle Mini ...     KSh 1,658   \n",
       "111  Thickening Multipurpose Non Stick Easy To Clea...     KSh 1,768   \n",
       "112  6 In 1 Bottle Can Opener Multifunctional Easy ...       KSh 199   \n",
       "113         Wall-mounted Sticker Punch-free Plug Fixer       KSh 450   \n",
       "114  Black Simple Water Cup Wine Coaster Anti Slip ...       KSh 169   \n",
       "\n",
       "     old price Discount Review     Ratingd  \n",
       "110  KSh 1,699       2%    NaN         NaN  \n",
       "111  KSh 1,799       2%    NaN         NaN  \n",
       "112    KSh 553      64%    NaN         NaN  \n",
       "113    KSh 900      50%    (1)  2 out of 5  \n",
       "114    KSh 320      47%    NaN         NaN  "
      ]
     },
     "execution_count": 25,
     "metadata": {},
     "output_type": "execute_result"
    }
   ],
   "source": [
    "df.tail()"
   ]
  },
  {
   "cell_type": "code",
   "execution_count": 26,
   "id": "b73aa15e-1116-4630-b264-ad95753dce4f",
   "metadata": {},
   "outputs": [
    {
     "data": {
      "text/plain": [
       "(115, 6)"
      ]
     },
     "execution_count": 26,
     "metadata": {},
     "output_type": "execute_result"
    }
   ],
   "source": [
    "# to see the nmber of rows and columns in my data\n",
    "df.shape"
   ]
  },
  {
   "cell_type": "code",
   "execution_count": 27,
   "id": "643e3b7f-2d25-4e09-8129-ca5ba5f5c5ad",
   "metadata": {},
   "outputs": [
    {
     "name": "stdout",
     "output_type": "stream",
     "text": [
      "<class 'pandas.core.frame.DataFrame'>\n",
      "RangeIndex: 115 entries, 0 to 114\n",
      "Data columns (total 6 columns):\n",
      " #   Column         Non-Null Count  Dtype \n",
      "---  ------         --------------  ----- \n",
      " 0   Product        115 non-null    object\n",
      " 1   Current price  115 non-null    object\n",
      " 2   old price      115 non-null    object\n",
      " 3   Discount       115 non-null    object\n",
      " 4   Review         57 non-null     object\n",
      " 5   Ratingd        57 non-null     object\n",
      "dtypes: object(6)\n",
      "memory usage: 5.5+ KB\n"
     ]
    }
   ],
   "source": [
    "# to get information about the dataset\n",
    "df.info()"
   ]
  },
  {
   "cell_type": "code",
   "execution_count": 28,
   "id": "1c78f81a-5082-4634-af12-592a5d3abe9a",
   "metadata": {},
   "outputs": [
    {
     "data": {
      "text/plain": [
       "Product           0\n",
       "Current price     0\n",
       "old price         0\n",
       "Discount          0\n",
       "Review           58\n",
       "Ratingd          58\n",
       "dtype: int64"
      ]
     },
     "execution_count": 28,
     "metadata": {},
     "output_type": "execute_result"
    }
   ],
   "source": [
    "#checking for null values\n",
    "df.isnull().sum()"
   ]
  },
  {
   "cell_type": "code",
   "execution_count": 29,
   "id": "6ab27106-39f5-4ae7-83b4-58d8c0b73ae2",
   "metadata": {},
   "outputs": [
    {
     "name": "stdout",
     "output_type": "stream",
     "text": [
      "<class 'pandas.core.frame.DataFrame'>\n",
      "RangeIndex: 115 entries, 0 to 114\n",
      "Data columns (total 6 columns):\n",
      " #   Column         Non-Null Count  Dtype \n",
      "---  ------         --------------  ----- \n",
      " 0   Product        115 non-null    object\n",
      " 1   Current price  115 non-null    object\n",
      " 2   old price      115 non-null    object\n",
      " 3   Discount       115 non-null    object\n",
      " 4   Review         115 non-null    object\n",
      " 5   Ratingd        0 non-null      object\n",
      "dtypes: object(6)\n",
      "memory usage: 5.5+ KB\n"
     ]
    },
    {
     "name": "stderr",
     "output_type": "stream",
     "text": [
      "C:\\Users\\user\\AppData\\Local\\Temp\\ipykernel_8384\\1916718021.py:3: FutureWarning: A value is trying to be set on a copy of a DataFrame or Series through chained assignment using an inplace method.\n",
      "The behavior will change in pandas 3.0. This inplace method will never work because the intermediate object on which we are setting values always behaves as a copy.\n",
      "\n",
      "For example, when doing 'df[col].method(value, inplace=True)', try using 'df.method({col: value}, inplace=True)' or df[col] = df[col].method(value) instead, to perform the operation inplace on the original object.\n",
      "\n",
      "\n",
      "  df[\"Ratingd\"] = df[\"Ratingd\"].fillna(\"unknown\", inplace=True)\n"
     ]
    }
   ],
   "source": [
    "# to fill missing values\n",
    "df[\"Review\"] = df[\"Review\"].fillna(\"unknown\")\n",
    "df[\"Ratingd\"] = df[\"Ratingd\"].fillna(\"unknown\")\n",
    "df.info()"
   ]
  },
  {
   "cell_type": "code",
   "execution_count": 30,
   "id": "da3aa924-5bb5-448c-8fc5-19b82080ea5e",
   "metadata": {},
   "outputs": [],
   "source": [
    "# to drop missing values\n",
    "df = df.dropna() # dropna drops all rows with missing values"
   ]
  },
  {
   "cell_type": "code",
   "execution_count": null,
   "id": "cfd32f04-f0bc-4e0b-8a38-15d18037ee9c",
   "metadata": {},
   "outputs": [],
   "source": [
    "# To summarize data(group)\n",
    "# Convert objects to numerical figures\n",
    "# Group products by average current price\n",
    "\n",
    "\n"
   ]
  },
  {
   "cell_type": "code",
   "execution_count": null,
   "id": "1832f478-bd4e-46fa-864f-ce15cfce9bfa",
   "metadata": {},
   "outputs": [],
   "source": [
    "# NUMPY\n",
    "# it performs numerical operations on python\n",
    "# Provides High performance array objects\n",
    "# Arrrays - stores data and stores values\n",
    "# python List - Stores Data, no calculations"
   ]
  },
  {
   "cell_type": "code",
   "execution_count": 31,
   "id": "69de258e-f863-4b8d-b445-a54d668ccc6f",
   "metadata": {},
   "outputs": [
    {
     "name": "stdout",
     "output_type": "stream",
     "text": [
      "[1 2 3 4 5]\n"
     ]
    }
   ],
   "source": [
    "num = [1, 2, 3, 4, 5]\n",
    "import numpy as np\n",
    "\n",
    "arr = np.array(num)\n",
    "print(arr)"
   ]
  },
  {
   "cell_type": "code",
   "execution_count": 32,
   "id": "a7db4e7d-f90a-4300-b69d-716414d22f8f",
   "metadata": {},
   "outputs": [
    {
     "name": "stdout",
     "output_type": "stream",
     "text": [
      "3.0\n"
     ]
    }
   ],
   "source": [
    "# getting the mean\n",
    "print(arr.mean())"
   ]
  },
  {
   "cell_type": "code",
   "execution_count": 33,
   "id": "8bf73432-0c9b-4296-bfe3-78ab2184dec2",
   "metadata": {},
   "outputs": [
    {
     "name": "stdout",
     "output_type": "stream",
     "text": [
      "1.4142135623730951\n"
     ]
    }
   ],
   "source": [
    "# for standard deviation\n",
    "print(arr.std())"
   ]
  },
  {
   "cell_type": "code",
   "execution_count": 34,
   "id": "ad5fcf98-4963-4eba-aee0-98240d8d9e55",
   "metadata": {},
   "outputs": [
    {
     "name": "stdout",
     "output_type": "stream",
     "text": [
      "2.0\n"
     ]
    }
   ],
   "source": [
    "# print Variance:\n",
    "print (arr.var())"
   ]
  },
  {
   "cell_type": "code",
   "execution_count": 1,
   "id": "9642aed6-8b0b-416d-9e6c-a324b132da1b",
   "metadata": {},
   "outputs": [
    {
     "name": "stdout",
     "output_type": "stream",
     "text": [
      "0\n",
      "1\n",
      "2\n",
      "3\n",
      "4\n",
      "5\n",
      "6\n",
      "7\n",
      "8\n",
      "9\n",
      "10\n"
     ]
    }
   ],
   "source": [
    "for i in range(11):\n",
    "    print(i)"
   ]
  },
  {
   "cell_type": "code",
   "execution_count": null,
   "id": "9cd6fb3f-19a6-4b89-aa7c-5b17d8935e64",
   "metadata": {},
   "outputs": [],
   "source": [
    "# append(x): adds an item to the end\n",
    "# extend(iter): extends the list by appending elements from iterable\n",
    "# insert(i, x): inserts an item at position i\n",
    "# remove(x): removes the first occurence of values\n",
    "# pop([i]): remove and return item at position i(default: last)\n",
    "# clear(): removes all items\n",
    "# index(x):  returns index of first occurence\n",
    "# count(x): counts the number of occurences\n",
    "# sort(): sort list in place\n",
    "# reverse(): reverse list in place\n",
    "# copy(): returns a shallow copy\n",
    "\n",
    "\n"
   ]
  },
  {
   "cell_type": "code",
   "execution_count": 3,
   "id": "14ae91e5-65f8-4bba-a6bb-4c4188e27f3a",
   "metadata": {},
   "outputs": [
    {
     "name": "stdout",
     "output_type": "stream",
     "text": [
      "[1, 2, 3, 4, 5, 7]\n"
     ]
    }
   ],
   "source": [
    "num = [1,2,3,4,5]\n",
    "num.append(7)\n",
    "print(num)"
   ]
  },
  {
   "cell_type": "code",
   "execution_count": 7,
   "id": "9478bbf3-b8b9-4fda-be8e-e6a6681348d9",
   "metadata": {},
   "outputs": [],
   "source": [
    "with open(\"new_file.txt\", \"w\") as nf:\n",
    "    nf.write(\"This is the remedial session\")"
   ]
  },
  {
   "cell_type": "code",
   "execution_count": 8,
   "id": "c8353434-e4a5-4502-8a29-45dc2ea798ad",
   "metadata": {},
   "outputs": [
    {
     "name": "stdout",
     "output_type": "stream",
     "text": [
      "This is the remedial session\n"
     ]
    }
   ],
   "source": [
    "with open(r\"new_file.txt\") as nf:\n",
    "    content = nf.read()\n",
    "    print(content)"
   ]
  },
  {
   "cell_type": "code",
   "execution_count": 2,
   "id": "a262cdc9-b265-4d55-8e11-70005d365d2d",
   "metadata": {},
   "outputs": [
    {
     "data": {
      "text/plain": [
       "np.float64(8.0)"
      ]
     },
     "execution_count": 2,
     "metadata": {},
     "output_type": "execute_result"
    }
   ],
   "source": [
    "# Numpy\n",
    "# Numerical python - numerical calculations in python\n",
    "# It provides a high performance array objects to work with them\n",
    "\n",
    "# Create an array\n",
    "import numpy as np\n",
    "odd_numbers = [1, 3, 5, 7, 9, 11, 13, 15]\n",
    "odd_array = np.array(odd_numbers)\n",
    "odd_array.mean()\n"
   ]
  },
  {
   "cell_type": "code",
   "execution_count": 3,
   "id": "8239e9ec-9857-4d18-90be-e8286a3e58bc",
   "metadata": {},
   "outputs": [
    {
     "data": {
      "text/plain": [
       "np.float64(4.58257569495584)"
      ]
     },
     "execution_count": 3,
     "metadata": {},
     "output_type": "execute_result"
    }
   ],
   "source": [
    "odd_array.std()"
   ]
  },
  {
   "cell_type": "code",
   "execution_count": 4,
   "id": "c603ddd2-f4aa-4a9d-914d-72b64c081e60",
   "metadata": {},
   "outputs": [
    {
     "data": {
      "text/plain": [
       "np.float64(21.0)"
      ]
     },
     "execution_count": 4,
     "metadata": {},
     "output_type": "execute_result"
    }
   ],
   "source": [
    "odd_array.var()"
   ]
  },
  {
   "cell_type": "code",
   "execution_count": 5,
   "id": "2ee9b2fc-ac67-4e94-9f05-a3ab8a24560d",
   "metadata": {},
   "outputs": [
    {
     "name": "stdout",
     "output_type": "stream",
     "text": [
      "8.0\n"
     ]
    }
   ],
   "source": [
    "print(np.median(odd_array)) # median is calculated directly since it is not a method inside array. it is a function\n"
   ]
  },
  {
   "cell_type": "code",
   "execution_count": 6,
   "id": "58cb87c9-0511-49e1-a401-2c2db488fc4f",
   "metadata": {},
   "outputs": [
    {
     "name": "stdout",
     "output_type": "stream",
     "text": [
      "ModeResult(mode=np.int64(1), count=np.int64(1))\n"
     ]
    }
   ],
   "source": [
    "# mode numpy has no mode functionality\n",
    "\n",
    "from scipy import stats\n",
    "mode_results=stats.mode(odd_array)\n",
    "print(mode_results)"
   ]
  },
  {
   "cell_type": "code",
   "execution_count": null,
   "id": "70a557ae-4599-4b01-b711-67a18c94b451",
   "metadata": {},
   "outputs": [],
   "source": []
  }
 ],
 "metadata": {
  "kernelspec": {
   "display_name": "Python 3 (ipykernel)",
   "language": "python",
   "name": "python3"
  },
  "language_info": {
   "codemirror_mode": {
    "name": "ipython",
    "version": 3
   },
   "file_extension": ".py",
   "mimetype": "text/x-python",
   "name": "python",
   "nbconvert_exporter": "python",
   "pygments_lexer": "ipython3",
   "version": "3.13.6"
  }
 },
 "nbformat": 4,
 "nbformat_minor": 5
}
