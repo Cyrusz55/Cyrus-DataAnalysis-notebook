{
 "cells": [
  {
   "cell_type": "code",
   "execution_count": 1,
   "id": "d8458c44-e4eb-428b-917e-1d44e968e892",
   "metadata": {},
   "outputs": [
    {
     "name": "stdout",
     "output_type": "stream",
     "text": [
      "2\n",
      "3\n",
      "2\n"
     ]
    }
   ],
   "source": [
    "import sys\n",
    "\n",
    "my_list = [1, 2, 3]\n",
    "print(sys.getrefcount(my_list))\n",
    "\n",
    "another_ref = my_list\n",
    "print(sys.getrefcount(my_list))\n",
    "\n",
    "another_ref = None\n",
    "print(sys.getrefcount(my_list))\n",
    "\n"
   ]
  },
  {
   "cell_type": "code",
   "execution_count": 2,
   "id": "34337122-a889-4e17-a851-1601ca42da26",
   "metadata": {},
   "outputs": [
    {
     "name": "stdout",
     "output_type": "stream",
     "text": [
      "Objects before: 77526\n",
      "Objects collected: 371\n",
      "Object was garbage collected!\n"
     ]
    },
    {
     "data": {
      "text/plain": [
       "4"
      ]
     },
     "execution_count": 2,
     "metadata": {},
     "output_type": "execute_result"
    }
   ],
   "source": [
    "import gc\n",
    "import weakref\n",
    "\n",
    "class Node:\n",
    "    def __init__(self, value):\n",
    "        self.value = value\n",
    "        self.children = []\n",
    "        self.parent = None\n",
    "\n",
    "    def add_child(self, child):\n",
    "        child.parent = self\n",
    "        self.children.append(child)\n",
    "\n",
    "parent = Node(\"parent\")\n",
    "child = Node(\"child\")\n",
    "parent.add_child(child)\n",
    "\n",
    "print(f\"Objects before: {len(gc.get_objects())}\")\n",
    "\n",
    "collected = gc.collect()\n",
    "print(f\"Objects collected: {collected}\")\n",
    "\n",
    "def callback(ref):\n",
    "    print(\"Object was garbage collected!\")\n",
    "\n",
    "\n",
    "weak_ref = weakref.ref(parent, callback)\n",
    "parent = None\n",
    "child = None\n",
    "gc.collect()"
   ]
  },
  {
   "cell_type": "code",
   "execution_count": 3,
   "id": "9a90a371-de39-44bb-abea-db373cbe5f26",
   "metadata": {},
   "outputs": [
    {
     "name": "stdout",
     "output_type": "stream",
     "text": [
      "Memory before: {'dict': 9378, 'IPythonDisplayFormatter': 1, 'list': 5363, 'MimeBundleFormatter': 1, 'PlainTextFormatter': 1, 'HTMLFormatter': 2, 'MarkdownFormatter': 1, 'SVGFormatter': 1, 'PNGFormatter': 1, 'PDFFormatter': 1, 'JPEGFormatter': 1, 'LatexFormatter': 1, 'JSONFormatter': 1, 'JavascriptFormatter': 1, 'cell': 2482, 'tuple': 10865, 'function': 18495, 'HistoryOutput': 3, 'defaultdict': 18, 'coroutine': 14, 'Future': 8, 'builtin_function_or_method': 1418, 'TimerHandle': 1, 'Context': 29, 'FutureIter': 3, 'Frame': 7, 'Handle': 11, 'method': 2401, 'partial': 14, 'Condition': 92, 'RLock': 16, 'deque': 52, 'hamt_bitmap_node': 3, 'hamt': 3, '_GeneratorContextManager': 5, 'generator': 5, 'ExecutionInfo': 2, 'ExecutionResult': 2, 'ReferenceType': 3795, 'Module': 2, 'Import': 2, 'alias': 3, 'ImportFrom': 1, 'FunctionDef': 2, 'arguments': 2, 'Assign': 3, 'Name': 34, 'Call': 17, 'For': 3, 'Attribute': 9, 'AugAssign': 1, 'Subscript': 1, 'Constant': 8, 'Return': 2, 'Expr': 7, 'List': 43, 'BinOp': 1, 'If': 1, 'JoinedStr': 2, 'FormattedValue': 2, 'list_iterator': 2, 'wrapper_descriptor': 1452, 'method_descriptor': 1342, 'classmethod_descriptor': 57, 'getset_descriptor': 2477, 'member_descriptor': 2062, 'staticmethod': 302, 'type': 2597, 'frozenset': 414, 'SimpleNamespace': 19, 'module': 937, 'ModuleSpec': 931, 'FileFinder': 129, 'set': 918, 'classmethod': 387, 'CodecInfo': 8, 'TextIOWrapper': 3, 'IncrementalNewlineDecoder': 1, 'IncrementalEncoder': 2, 'BufferedReader': 1, 'FileIO': 3, 'IncrementalDecoder': 1, 'BufferedWriter': 2, 'ABCMeta': 264, 'SourceFileLoader': 843, 'Codec': 4, '_DeprecateByteStringMeta': 1, 'ALLOW_MISSING': 1, '_abc_data': 287, '_Feature': 10, 'Repr': 1, 'property': 746, '_Finder': 1, 'DistutilsMetaFinder': 1, '_Printer': 3, '_Helper': 1, 'NamespaceLoader': 2, '_NamespacePath': 2, 'EnumType': 88, 'FlagBoundary': 4, '_not_given': 1, '_auto_null': 1, 'EnumCheck': 3, '_lru_cache_wrapper': 59, 'itemgetter': 4, 'slice': 5, 'UnionType': 90, 'GenericAlias': 168, 'JSONEncoder': 1, 'JSONDecoder': 1, 'Signals': 9, 'Handlers': 2, 'Scanner': 1, 'builtin_method': 59, 'Load': 1, 'Store': 1, 'Del': 1, 'And': 1, 'Or': 1, 'Add': 1, 'Sub': 1, 'Mult': 1, 'MatMult': 1, 'Div': 1, 'Mod': 1, 'Pow': 1, 'LShift': 1, 'RShift': 1, 'BitOr': 1, 'BitXor': 1, 'BitAnd': 1, 'FloorDiv': 1, 'Invert': 1, 'Not': 1, 'UAdd': 1, 'USub': 1, 'Eq': 1, 'NotEq': 1, 'Lt': 1, 'LtE': 1, 'Gt': 1, 'GtE': 1, 'Is': 1, 'IsNot': 1, 'In': 1, 'NotIn': 1, 'Match': 5, 'ExtensionFileLoader': 21, '_tuplegetter': 381, 'cached_property': 28, '_Unknown': 1, 'count': 9, '_common_types_metatype': 1, 'cython_function_or_method': 100, '_OptType': 4, 'TypeVar': 67, 'Random': 1, '_Sentinel': 3, '_NamedIntConstant': 76, '_AnyMeta': 1, 'RegexFlag': 17, 'Pattern': 182, '_SpecialGenericAlias': 36, '_SpecialForm': 16, '_GenericAlias': 239, 'ContextOption': 9, 'DeviceType': 3, 'Errno': 25, 'Event': 51, 'Flag': 2, 'MessageOption': 3, 'NormMode': 5, 'PollEvent': 6, 'ReconnectStop': 3, 'RouterNotify': 2, 'SecurityMechanism': 4, 'SocketOption': 114, 'SocketType': 21, '_UnionGenericAlias': 135, 'MessageTracker': 2, '_WeakValueDictionary': 1, '_Environ': 1, '_ZeroSentinel': 1, '_TypedCacheSpecialForm': 2, '_ProtocolMeta': 20, '_CallableType': 1, '_DeprecatedGenericAlias': 1, '_TupleType': 1, 'NamedTupleMeta': 1, '_TypedDictMeta': 6, 'TypeAliasType': 1, 'method-wrapper': 6, 'WeakSet': 8, '_local': 9, '_MainThread': 1, '_ParameterKind': 5, '_ABC': 5, 'Logger': 15, 'Formatter': 3, 'WeakValueDictionary': 8, '_StderrHandler': 1, 'RootLogger': 1, 'ANSIColors': 1, 'PyCapsule': 1, 'AddressFamily': 11, 'SocketKind': 5, 'MsgFlag': 9, 'AddressInfo': 7, 'ParserBase': 1, 'attrgetter': 8, '_ThreadHandle': 6, 'ForwardRef': 85, 'Manager': 1, 'PercentStyle': 3, 'methodcaller': 5, '_CallableGenericAlias': 46, 'lock': 38, 'BufferFlags': 17, '_Precedence': 18, 'PlaceHolder': 5, '_RunningLoop': 1, '_SendfileMode': 3, '_BarrierState': 4, '_State': 8, 'Sentinel': 3, 'MetaHasDescriptors': 1, 'MetaHasTraits': 103, 'mappingproxy': 29, '_HAS_DEFAULT_FACTORY_CLASS': 1, '_MISSING_TYPE': 1, '_KW_ONLY_TYPE': 1, '_FIELD_BASE': 3, 'IPv4Network': 21, 'IPv4Address': 34, 'IPv6Network': 35, 'IPv6Address': 52, 'PyCStructType': 11, 'PyCPointerType': 22, 'PyCArrayType': 6, 'PyCSimpleType': 29, 'PyCFuncPtrType': 10, 'Struct': 22, 'CallableProxyType': 5, 'DictRemover': 5, 'AnsiFore': 1, 'AnsiBack': 1, 'AnsiStyle': 1, 'AnsiCursor': 1, 'LibraryLoader': 5, 'WinTerm': 1, '_FuncPtr': 16, 'PyDLL': 1, 'CFunctionType': 5, '_swapped_struct_meta': 1, '_swapped_union_meta': 1, 'CField': 47, 'WinDLL': 3, '_NoThreads': 1, '_SixMetaPathImporter': 1, '_MovedItems': 1, 'Module_six_moves_urllib_parse': 1, 'Module_six_moves_urllib_error': 1, 'Module_six_moves_urllib_request': 1, 'Module_six_moves_urllib_response': 1, 'Module_six_moves_urllib_robotparser': 1, 'Module_six_moves_urllib': 1, 'Instance': 67, 'ObserveHandler': 58, 'Unicode': 111, 'Bool': 98, 'Enum': 8, 'DefaultHandler': 40, 'Dict': 38, 'Month': 12, 'Day': 7, '_localized_day': 2, '_localized_month': 2, 'TextCalendar': 1, 'V5toV4': 1, 'V4toV5': 1, 'SRE_Template': 2, 'SignalDict': 6, 'isoparser': 1, 'weekday': 7, '_TzSingleton': 1, 'tzutc': 1, '_TzOffsetFactory': 1, '_TzStrFactory': 1, 'GettzFunc': 1, 'TimeRE': 1, 'OrderedDict': 23, 'LocaleTime': 1, 'UUID': 4, 'Type': 31, 'Int': 34, 'CaselessStrEnum': 4, 'SafeUUID': 3, 'abstractproperty': 22, 'MovedModule': 47, 'Any': 45, 'ValidateHandler': 4, 'DummyExecutor': 1, 'parser': 1, '_tzparser': 1, 'parserinfo': 1, 'MovedAttribute': 88, 'DottedObjectName': 12, 'CUnicode': 2, 'CBytes': 3, 'Set': 5, 'SSLProtocolState': 5, 'AppProtocolState': 4, 'WeakKeyDictionary': 10, '_VersionInfo': 1, 'BlankLines': 3, '_C': 1, 'LineGap': 1, '_automodule': 2, 'StyleMeta': 12, 'TextDoc': 1, '_PlainTextDoc': 1, 'HTMLDoc': 1, 'Helper': 1, 'HTMLRepr': 1, 'TextRepr': 1, 'RegexLexerMeta': 10, 'LexerMeta': 3, '_This': 1, '_inherit': 1, 'ProfilingRegexLexerMeta': 1, 'default': 13, 'include': 46, 'combined': 28, 'words': 18, 'PromptStripper': 2, 'MaybeAsyncCommandCompiler': 1, 'MaybeAsyncCompile': 1, '__BuiltinUndefined': 1, '__HideBuiltin': 1, '_DataclassParams': 11, 'Signature': 20, 'Union': 3, 'Field': 47, 'Parameter': 51, '_LiteralGenericAlias': 5, '_TokenType': 112, 'Theme': 7, '_AsyncIORunner': 1, 'Terminal256Formatter': 7, 'Float': 7, 'ForwardDeclaredInstance': 2, 'CRegExp': 2, 'ObjectName': 13, 'ContextVar': 1, 'Always': 2, 'Never': 2, 'AppSession': 1, 'EditingMode': 2, 'PasteMode': 3, 'SelectionType': 3, 'SimpleCache': 4, 'KeyPress': 1, '_CharSizesCache': 1, 'Keys': 151, 'Attrs': 2, 'Priority': 8, '_16ColorCache': 2, 'MouseEventType': 5, 'MouseButton': 5, 'MouseModifier': 3, 'TypeInfo': 10, 'SearchDirection': 2, 'ValidationState': 3, 'EmptyNodeList': 1, 'DOMImplementation': 1, '_TokenCache': 1, 'CPR_Support': 3, 'HTML': 7, 'FormattedText': 7, 'Compat32': 1, 'Charset': 2, '_QByteMap': 1, 'UCD': 1, '_IdentitySubscript': 1, 'EvaluationPolicy': 2, 'SelectivePolicy': 1, 'PythonTokenTypes': 13, 'TokenType': 13, 'uname_result': 1, '_256ColorCache': 1, '_OrList': 2, 'FastDictCache': 1, 'WindowAlign': 3, 'ANSIFormatter': 1, 'Binding': 116, '_IsPrefixOfLongerMatchCache': 1, '_NormalizerMeta': 4, 'WindowsPath': 119, 'CursorShape': 7, 'InputMode': 5, 'HorizontalAlign': 4, 'VerticalAlign': 4, 'TextObjectType': 4, 'FoldedCase': 10, 'PEP8NormalizerConfig': 1, 'ErrorFinderConfig': 1, 'Dimension': 1, 'ValueSet': 1, '_OverwriteMeta': 20, 'Status': 3, '_PluginManager': 1, 'CachedMetaClass': 3, '_AndList': 64, '_Invert': 5, 'HTTPStatus': 62, 'HTTPMethod': 9, 'argument': 85, 'SortKey': 9, '_WrapNumbers': 1, '_NullFuture': 2, 'InfinityType': 1, 'NegativeInfinityType': 1, 'IPKernelApp': 1, 'WindowsSelectorEventLoopPolicy': 1, '_Local': 1, 'StreamHandler': 2, 'Config': 14, 'ProfileDir': 1, 'Session': 1, 'HMAC': 1, 'ParentPollerWindows': 1, 'Socket': 12, 'ControlThread': 1, 'AsyncIOLoop': 2, '_WindowsSelectorEventLoop': 3, 'SelectSelector': 3, '_SelectorMapping': 3, 'socket': 6, 'IOPubThread': 1, 'BackgroundSocket': 1, 'ZMQStream': 5, 'Poller': 5, 'Queue': 9, 'SelectorKey': 8, 'Thread': 1, 'Heartbeat': 1, 'Task': 4, 'OutStream': 2, 'ZMQDisplayHook': 1, 'AsyncIOMainLoop': 1, 'PassThrough': 1, 'NicDuplex': 3, 'BatteryTime': 2, 'LevelFormatter': 1, 'KeyedRef': 1, 'IOPriority': 4, 'CBool': 5, 'scputimes': 5, 'Bytes': 1, 'CheckAttribute': 3, 'MagicArgumentParser': 22, '_ArgumentGroup': 44, '_StoreTrueAction': 30, '_StoreAction': 45, '_StoreFalseAction': 11, 'CommManager': 1, 'c_longlong_Array_2': 1, 'CArgObject': 1, 'IPythonKernel': 1, 'ExtensionManager': 2, 'ForkSafeLock': 15, 'TypeResolveHandler': 1, 'PyDBAdditionalThreadInfo': 2, 'DefaultResolver': 1, 'DictResolver': 1, 'TupleResolver': 1, 'InstanceResolver': 1, 'JyArrayResolver': 1, 'SetResolver': 1, 'MultiValueDictResolver': 1, 'DjangoFormResolver': 1, 'DequeResolver': 1, 'OrderedDictResolver': 1, 'FrameResolver': 1, 'DAPGrouperResolver': 1, 'ForwardInternalResolverToObject': 1, '_NullNetCommand': 1, '_NullExitCommand': 1, 'Change': 3, 'Debugger': 1, 'DebugpyClient': 1, 'DebugpyMessageQueue': 1, 'VariableExplorer': 1, 'SuspendedFramesManager': 1, '_DummyPyDB': 1, 'VariablePresentation': 1, '_FramesTracker': 1, 'ZMQInteractiveShell': 1, 'HistorySavingThread': 1, 'Connection': 2, 'Inspector': 1, 'Parser': 2, 'CommandChainDispatcher': 10, 'EventManager': 1, 'IPCompleter': 1, 'CompletionSplitter': 1, 'StrDispatch': 1, 'SyntaxTB': 1, 'AutoFormattedTB': 1, 'ZMQDisplayPublisher': 1, 'ZMQShellDisplayHook': 1, 'ScriptMagics': 1, 'XCachingCompiler': 1, 'PickleShareDB': 1, 'ZMQExitAutocall': 1, 'UserMagics': 1, 'wait_for_client': 1, 'LogFile': 1, 'DisplayFormatter': 1, 'HistoryManager': 1, 'PrefilterManager': 1, 'BuiltinTrap': 1, 'DisplayTrap': 1, 'JsonEncoder': 1, 'PrefilterHandler': 1, 'MacroHandler': 1, 'MagicHandler': 1, 'AutoHandler': 1, 'EmacsHandler': 1, 'AutocallChecker': 1, 'PythonOpsChecker': 1, 'AutoMagicChecker': 1, 'AssignmentChecker': 1, 'IPyAutocallChecker': 1, 'MacroChecker': 1, 'EmacsChecker': 1, 'Statement': 7, 'KernelProvisionerMeta': 2, 'SeparateUnicode': 3, 'MatplotlibBackendCaselessStrEnum': 2, 'Null': 2, 'MagicsManager': 1, 'AliasManager': 1, 'PayloadManager': 1, 'TransformerManager': 1, 'StoreMagics': 1, 'KernelMagics': 1, 'AsyncMagics': 1, 'PylabMagics': 1, 'PackagingMagics': 1, 'OSMagics': 1, 'NamespaceMagics': 1, 'LoggingMagics': 1, 'HistoryMagics': 1, 'ExtensionMagics': 1, 'ExecutionMagics': 1, 'DisplayMagics': 1, 'ConfigMagics': 1, 'CodeMagics': 1, 'BasicMagics': 1, 'AutoMagics': 1, 'MagicAlias': 6, 'Alias': 8, '_SSLMethod': 6, 'Options': 15, 'AlertDescription': 27, 'SSLErrorNumber': 9, 'VerifyFlags': 7, 'VerifyMode': 3, 'VerifyShadowedImport': 1, '_PyDevCommandProcessor': 1, 'Bunch': 1, 'Quitter': 2, 'ColorDepth': 4, 'CompleteStyle': 3, 'CompilerFlags': 12, 'Compare': 11, 'PyDevdAPI': 1, 'TLSVersion': 7, '_TLSContentType': 6, '_TLSAlertType': 34, '_TLSMessageType': 22, 'Purpose': 2, '_ShutdownStatus': 4, '_DictKeyState': 4, '_ASN1Object': 2, 'FastPath': 9, 'DollarFormatter': 1, '_CompletionContextType': 2, 'Lookup': 9, 'FreezableDefaultDict': 18}\n",
      "Memory after: {'method': 2403, 'partial': 15, 'tuple': 10855, 'TimerHandle': 2, 'Context': 30, 'list': 5363, 'Interactive': 1, 'dict': 9378, 'coroutine': 14, 'function': 18495, 'defaultdict': 18, 'wrapper_descriptor': 1452, 'method_descriptor': 1342, 'classmethod_descriptor': 57, 'getset_descriptor': 2477, 'member_descriptor': 2062, 'ReferenceType': 3795, 'staticmethod': 302, 'type': 2597, 'builtin_function_or_method': 1416, 'frozenset': 415, 'SimpleNamespace': 19, 'module': 937, 'ModuleSpec': 931, 'FileFinder': 129, 'set': 918, 'classmethod': 387, 'cell': 2482, 'CodecInfo': 8, 'TextIOWrapper': 3, 'IncrementalNewlineDecoder': 1, 'IncrementalEncoder': 2, 'BufferedReader': 1, 'FileIO': 3, 'IncrementalDecoder': 1, 'BufferedWriter': 2, 'ABCMeta': 264, 'SourceFileLoader': 843, 'Codec': 4, '_DeprecateByteStringMeta': 1, 'ALLOW_MISSING': 1, '_abc_data': 287, '_Feature': 10, 'Repr': 1, 'property': 746, '_Finder': 1, 'DistutilsMetaFinder': 1, '_Printer': 3, '_Helper': 1, 'NamespaceLoader': 2, '_NamespacePath': 2, 'EnumType': 88, 'FlagBoundary': 4, '_not_given': 1, '_auto_null': 1, 'EnumCheck': 3, '_lru_cache_wrapper': 59, 'itemgetter': 4, 'slice': 5, 'UnionType': 90, 'GenericAlias': 168, 'JSONEncoder': 1, 'JSONDecoder': 1, 'Signals': 9, 'Handlers': 2, 'Scanner': 1, 'builtin_method': 59, 'Load': 1, 'Store': 1, 'Del': 1, 'And': 1, 'Or': 1, 'Add': 1, 'Sub': 1, 'Mult': 1, 'MatMult': 1, 'Div': 1, 'Mod': 1, 'Pow': 1, 'LShift': 1, 'RShift': 1, 'BitOr': 1, 'BitXor': 1, 'BitAnd': 1, 'FloorDiv': 1, 'Invert': 1, 'Not': 1, 'UAdd': 1, 'USub': 1, 'Eq': 1, 'NotEq': 1, 'Lt': 1, 'LtE': 1, 'Gt': 1, 'GtE': 1, 'Is': 1, 'IsNot': 1, 'In': 1, 'NotIn': 1, 'Match': 5, 'ExtensionFileLoader': 21, '_tuplegetter': 381, 'cached_property': 28, '_Unknown': 1, 'count': 9, '_common_types_metatype': 1, 'cython_function_or_method': 100, '_OptType': 4, 'TypeVar': 67, 'Random': 1, '_Sentinel': 3, '_NamedIntConstant': 76, '_AnyMeta': 1, 'RegexFlag': 17, 'Pattern': 182, '_SpecialGenericAlias': 36, '_SpecialForm': 16, '_GenericAlias': 239, 'ContextOption': 9, 'DeviceType': 3, 'Errno': 25, 'Event': 51, 'Flag': 2, 'MessageOption': 3, 'NormMode': 5, 'PollEvent': 6, 'ReconnectStop': 3, 'RouterNotify': 2, 'SecurityMechanism': 4, 'SocketOption': 114, 'SocketType': 21, '_UnionGenericAlias': 135, 'MessageTracker': 2, '_WeakValueDictionary': 1, '_Environ': 1, '_ZeroSentinel': 1, '_TypedCacheSpecialForm': 2, '_ProtocolMeta': 20, '_CallableType': 1, '_DeprecatedGenericAlias': 1, '_TupleType': 1, 'NamedTupleMeta': 1, '_TypedDictMeta': 6, 'TypeAliasType': 1, 'method-wrapper': 6, 'RLock': 16, 'WeakSet': 8, '_local': 9, '_MainThread': 1, '_ParameterKind': 5, '_ABC': 5, 'Logger': 15, 'Formatter': 3, 'WeakValueDictionary': 8, '_StderrHandler': 1, 'RootLogger': 1, 'ANSIColors': 1, 'PyCapsule': 1, 'AddressFamily': 11, 'SocketKind': 5, 'MsgFlag': 9, 'AddressInfo': 7, 'ParserBase': 1, 'attrgetter': 8, '_ThreadHandle': 6, 'ForwardRef': 85, 'Manager': 1, 'PercentStyle': 3, 'methodcaller': 5, '_CallableGenericAlias': 46, 'Condition': 92, 'lock': 39, 'BufferFlags': 17, '_Precedence': 18, 'deque': 52, 'PlaceHolder': 5, '_RunningLoop': 1, '_SendfileMode': 3, '_BarrierState': 4, '_State': 8, 'Sentinel': 3, 'MetaHasDescriptors': 1, 'MetaHasTraits': 103, 'mappingproxy': 29, '_HAS_DEFAULT_FACTORY_CLASS': 1, '_MISSING_TYPE': 1, '_KW_ONLY_TYPE': 1, '_FIELD_BASE': 3, 'IPv4Network': 21, 'IPv4Address': 34, 'IPv6Network': 35, 'IPv6Address': 52, 'PyCStructType': 11, 'PyCPointerType': 22, 'PyCArrayType': 6, 'PyCSimpleType': 29, 'PyCFuncPtrType': 10, 'Struct': 22, 'CallableProxyType': 5, 'DictRemover': 5, 'AnsiFore': 1, 'AnsiBack': 1, 'AnsiStyle': 1, 'AnsiCursor': 1, 'LibraryLoader': 5, 'WinTerm': 1, '_FuncPtr': 16, 'PyDLL': 1, 'CFunctionType': 5, '_swapped_struct_meta': 1, '_swapped_union_meta': 1, 'CField': 47, 'WinDLL': 3, '_NoThreads': 1, '_SixMetaPathImporter': 1, '_MovedItems': 1, 'Module_six_moves_urllib_parse': 1, 'Module_six_moves_urllib_error': 1, 'Module_six_moves_urllib_request': 1, 'Module_six_moves_urllib_response': 1, 'Module_six_moves_urllib_robotparser': 1, 'Module_six_moves_urllib': 1, 'Instance': 67, 'ObserveHandler': 58, 'Unicode': 111, 'List': 43, 'Bool': 98, 'Enum': 8, 'DefaultHandler': 40, 'Dict': 38, 'Month': 12, 'Day': 7, '_localized_day': 2, '_localized_month': 2, 'TextCalendar': 1, 'V5toV4': 1, 'V4toV5': 1, 'SRE_Template': 2, 'SignalDict': 6, 'isoparser': 1, 'weekday': 7, '_TzSingleton': 1, 'tzutc': 1, '_TzOffsetFactory': 1, '_TzStrFactory': 1, 'GettzFunc': 1, 'TimeRE': 1, 'OrderedDict': 23, 'LocaleTime': 1, 'UUID': 4, 'Type': 31, 'Int': 34, 'CaselessStrEnum': 4, 'SafeUUID': 3, 'abstractproperty': 22, 'MovedModule': 47, 'Any': 45, 'ValidateHandler': 4, 'DummyExecutor': 1, 'parser': 1, '_tzparser': 1, 'parserinfo': 1, 'MovedAttribute': 88, 'DottedObjectName': 12, 'CUnicode': 2, 'CBytes': 3, 'Set': 5, 'SSLProtocolState': 5, 'AppProtocolState': 4, 'WeakKeyDictionary': 10, '_VersionInfo': 1, 'BlankLines': 3, '_C': 1, 'LineGap': 1, '_automodule': 2, 'StyleMeta': 12, 'TextDoc': 1, '_PlainTextDoc': 1, 'HTMLDoc': 1, 'Helper': 1, 'HTMLRepr': 1, 'TextRepr': 1, 'RegexLexerMeta': 10, 'LexerMeta': 3, '_This': 1, '_inherit': 1, 'ProfilingRegexLexerMeta': 1, 'default': 13, 'include': 46, 'combined': 28, 'words': 18, 'PromptStripper': 2, 'MaybeAsyncCommandCompiler': 1, 'MaybeAsyncCompile': 1, '__BuiltinUndefined': 1, '__HideBuiltin': 1, '_DataclassParams': 11, 'Signature': 20, 'Union': 3, 'Field': 47, 'Parameter': 51, '_LiteralGenericAlias': 5, '_TokenType': 112, 'Theme': 7, '_AsyncIORunner': 1, 'Terminal256Formatter': 7, 'Float': 7, 'ForwardDeclaredInstance': 2, 'CRegExp': 2, 'ObjectName': 13, 'ContextVar': 1, 'Always': 2, 'Never': 2, 'AppSession': 1, 'EditingMode': 2, 'PasteMode': 3, 'SelectionType': 3, 'SimpleCache': 4, 'KeyPress': 1, '_CharSizesCache': 1, 'Keys': 151, 'Attrs': 2, 'Priority': 8, '_16ColorCache': 2, 'MouseEventType': 5, 'MouseButton': 5, 'MouseModifier': 3, 'TypeInfo': 10, 'SearchDirection': 2, 'ValidationState': 3, 'EmptyNodeList': 1, 'DOMImplementation': 1, '_TokenCache': 1, 'CPR_Support': 3, 'HTML': 7, 'FormattedText': 7, 'Compat32': 1, 'Charset': 2, '_QByteMap': 1, 'UCD': 1, '_IdentitySubscript': 1, 'EvaluationPolicy': 2, 'SelectivePolicy': 1, 'PythonTokenTypes': 13, 'TokenType': 13, 'uname_result': 1, '_256ColorCache': 1, '_OrList': 2, 'FastDictCache': 1, 'WindowAlign': 3, 'ANSIFormatter': 1, 'HTMLFormatter': 2, 'Binding': 116, '_IsPrefixOfLongerMatchCache': 1, '_NormalizerMeta': 4, 'WindowsPath': 119, 'CursorShape': 7, 'InputMode': 5, 'HorizontalAlign': 4, 'VerticalAlign': 4, 'TextObjectType': 4, 'FoldedCase': 10, 'PEP8NormalizerConfig': 1, 'ErrorFinderConfig': 1, 'Dimension': 1, 'ValueSet': 1, '_OverwriteMeta': 20, 'Status': 3, '_PluginManager': 1, 'CachedMetaClass': 3, 'list_iterator': 2, '_AndList': 64, '_Invert': 5, 'HTTPStatus': 62, 'HTTPMethod': 9, 'argument': 85, 'SortKey': 9, '_WrapNumbers': 1, '_NullFuture': 2, 'InfinityType': 1, 'NegativeInfinityType': 1, 'IPKernelApp': 1, 'WindowsSelectorEventLoopPolicy': 1, '_Local': 1, 'StreamHandler': 2, 'Config': 14, 'ProfileDir': 1, 'Session': 1, 'HMAC': 1, 'ParentPollerWindows': 1, 'Socket': 12, 'ControlThread': 1, 'AsyncIOLoop': 2, '_WindowsSelectorEventLoop': 3, 'SelectSelector': 3, '_SelectorMapping': 3, 'socket': 6, 'IOPubThread': 1, 'BackgroundSocket': 1, 'ZMQStream': 5, 'Poller': 5, 'Queue': 9, 'SelectorKey': 8, 'Thread': 1, 'Heartbeat': 1, 'Task': 4, 'OutStream': 2, 'ZMQDisplayHook': 1, 'AsyncIOMainLoop': 1, 'PassThrough': 1, 'NicDuplex': 3, 'BatteryTime': 2, 'LevelFormatter': 1, 'KeyedRef': 1, 'IOPriority': 4, 'CBool': 5, 'Handle': 11, 'scputimes': 5, 'Bytes': 1, 'CheckAttribute': 3, 'MagicArgumentParser': 22, '_ArgumentGroup': 44, '_StoreTrueAction': 30, '_StoreAction': 45, '_StoreFalseAction': 11, 'CommManager': 1, 'c_longlong_Array_2': 1, 'CArgObject': 1, 'IPythonKernel': 1, 'ExtensionManager': 2, 'ForkSafeLock': 15, 'TypeResolveHandler': 1, 'PyDBAdditionalThreadInfo': 2, 'DefaultResolver': 1, 'DictResolver': 1, 'TupleResolver': 1, 'InstanceResolver': 1, 'JyArrayResolver': 1, 'SetResolver': 1, 'MultiValueDictResolver': 1, 'DjangoFormResolver': 1, 'DequeResolver': 1, 'OrderedDictResolver': 1, 'FrameResolver': 1, 'DAPGrouperResolver': 1, 'ForwardInternalResolverToObject': 1, '_NullNetCommand': 1, '_NullExitCommand': 1, 'Change': 3, 'Debugger': 1, 'DebugpyClient': 1, 'DebugpyMessageQueue': 1, 'VariableExplorer': 1, 'SuspendedFramesManager': 1, '_DummyPyDB': 1, 'VariablePresentation': 1, '_FramesTracker': 1, 'ZMQInteractiveShell': 1, 'HistorySavingThread': 1, 'Connection': 2, 'Inspector': 1, 'Parser': 2, 'CommandChainDispatcher': 10, 'EventManager': 1, 'IPCompleter': 1, 'CompletionSplitter': 1, 'StrDispatch': 1, 'SyntaxTB': 1, 'AutoFormattedTB': 1, 'ZMQDisplayPublisher': 1, 'ZMQShellDisplayHook': 1, 'ScriptMagics': 1, 'XCachingCompiler': 1, 'PickleShareDB': 1, 'ZMQExitAutocall': 1, 'UserMagics': 1, 'wait_for_client': 1, 'LogFile': 1, 'DisplayFormatter': 1, 'HistoryManager': 1, 'PrefilterManager': 1, 'BuiltinTrap': 1, 'DisplayTrap': 1, 'JsonEncoder': 1, 'PrefilterHandler': 1, 'MacroHandler': 1, 'MagicHandler': 1, 'AutoHandler': 1, 'EmacsHandler': 1, 'AutocallChecker': 1, 'PythonOpsChecker': 1, 'AutoMagicChecker': 1, 'AssignmentChecker': 1, 'IPyAutocallChecker': 1, 'MacroChecker': 1, 'EmacsChecker': 1, 'Statement': 7, 'KernelProvisionerMeta': 2, 'SeparateUnicode': 3, 'MatplotlibBackendCaselessStrEnum': 2, 'hamt': 3, 'HistoryOutput': 4, 'Null': 2, 'Future': 8, 'MagicsManager': 1, 'AliasManager': 1, 'PayloadManager': 1, 'TransformerManager': 1, 'StoreMagics': 1, 'KernelMagics': 1, 'AsyncMagics': 1, 'PylabMagics': 1, 'PackagingMagics': 1, 'OSMagics': 1, 'NamespaceMagics': 1, 'LoggingMagics': 1, 'HistoryMagics': 1, 'ExtensionMagics': 1, 'ExecutionMagics': 1, 'DisplayMagics': 1, 'ConfigMagics': 1, 'CodeMagics': 1, 'BasicMagics': 1, 'AutoMagics': 1, 'MagicAlias': 6, 'Alias': 8, '_SSLMethod': 6, 'Options': 15, 'AlertDescription': 27, 'SSLErrorNumber': 9, 'VerifyFlags': 7, 'VerifyMode': 3, 'hamt_bitmap_node': 3, 'VerifyShadowedImport': 1, '_PyDevCommandProcessor': 1, 'Bunch': 1, 'Quitter': 2, 'ColorDepth': 4, 'CompleteStyle': 3, 'CompilerFlags': 12, 'Compare': 11, 'PyDevdAPI': 1, 'TLSVersion': 7, '_TLSContentType': 6, '_TLSAlertType': 34, '_TLSMessageType': 22, 'Purpose': 2, '_ShutdownStatus': 4, '_DictKeyState': 4, '_ASN1Object': 2, 'FastPath': 9, 'DollarFormatter': 1, '_CompletionContextType': 2, 'FutureIter': 3, 'Lookup': 9, '_GeneratorContextManager': 4, 'FreezableDefaultDict': 18, 'generator': 4, 'IPythonDisplayFormatter': 1, 'MimeBundleFormatter': 1, 'MarkdownFormatter': 1, 'SVGFormatter': 1, 'PNGFormatter': 1, 'PDFFormatter': 1, 'JPEGFormatter': 1, 'LatexFormatter': 1, 'JSONFormatter': 1, 'JavascriptFormatter': 1, 'ExecutionInfo': 2, 'ExecutionResult': 2, 'Module': 1, 'StringIO': 1, 'PlainTextFormatter': 1, 'Expr': 7, 'FunctionDef': 2, 'ImportFrom': 1, 'Import': 2, 'Frame': 7, 'Call': 17, 'arguments': 2, 'Return': 2, 'If': 1, 'Assign': 3, 'For': 3, 'alias': 3, 'Name': 34, 'Constant': 8, 'Attribute': 9, 'AugAssign': 1, 'Subscript': 1, 'JoinedStr': 2, 'BinOp': 1, 'FormattedValue': 2}\n"
     ]
    }
   ],
   "source": [
    "import gc\n",
    "import sys\n",
    "from collections import defaultdict\n",
    "\n",
    "def memory_usage():\n",
    "    stats = defaultdict(int)\n",
    "    for obj in gc.get_objects():\n",
    "        stats[type(obj).__name__] += 1\n",
    "    return dict(stats)\n",
    "\n",
    "def find_memory_leaks():\n",
    "    gc.set_debug(gc.DEBUG_LEAK)\n",
    "\n",
    "    data = []\n",
    "    for i in range(1000):\n",
    "        data.append([i] * 100)\n",
    "\n",
    "    collected = gc.collect()\n",
    "    if gc.garbage:\n",
    "        print(f\"Memory leaks detected: {len(gc.garbage)} objects\")\n",
    "        for obj in gc.garbage:\n",
    "            print(f\"Leaked object: {type(obj)}\")\n",
    "\n",
    "    return collected\n",
    "\n",
    "print(\"Memory before:\", memory_usage())\n",
    "find_memory_leaks()\n",
    "print(\"Memory after:\", memory_usage())"
   ]
  },
  {
   "cell_type": "code",
   "execution_count": null,
   "id": "6c3f169f-5258-4cbc-ae12-75ad7df03c96",
   "metadata": {},
   "outputs": [],
   "source": [
    "import weakref\n",
    "\n",
    "class ExpensiveResource:\n",
    "    def __init__(self, name):\n",
    "        self.name = name\n",
    "        print(f\"Creating expensive resource: {name}\")\n",
    "\n",
    "    def __del__(self):\n",
    "        print(f\"Destroying resource: {self.name}\")\n",
    "\n",
    "resource = ExpensiveResource(\"database\")\n",
    "regular_ref = resource\n",
    "\n",
    "\n",
    "weak_ref = weakref.ref(resource)\n",
    "\n",
    "print(f\"Weak reference alive: {weak_ref() is not None}\")\n",
    "\n",
    "resource = None\n",
    "regular_ref = None\n",
    "\n",
    "import gc\n",
    "gc.collect()\n",
    "print(f\"Weak reference alive: {weak_ref() is not None}\")"
   ]
  }
 ],
 "metadata": {
  "kernelspec": {
   "display_name": "Python 3 (ipykernel)",
   "language": "python",
   "name": "python3"
  },
  "language_info": {
   "codemirror_mode": {
    "name": "ipython",
    "version": 3
   },
   "file_extension": ".py",
   "mimetype": "text/x-python",
   "name": "python",
   "nbconvert_exporter": "python",
   "pygments_lexer": "ipython3",
   "version": "3.13.6"
  }
 },
 "nbformat": 4,
 "nbformat_minor": 5
}
