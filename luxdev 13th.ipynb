{
 "cells": [
  {
   "cell_type": "code",
   "execution_count": 1,
   "id": "3f2d3d95-819d-492a-9478-705a09421eac",
   "metadata": {},
   "outputs": [],
   "source": [
    "# DATA WRANGLING AND VISUALIZATION\n",
    "# Data wrangling is the process of organising data for modelling\n",
    "# Filtering and sorting Data\n",
    "# Grouping and aggregation\n",
    "# Merging dataframes\n",
    "# Data Visualization using matplotlib and seaborn\n"
   ]
  },
  {
   "cell_type": "code",
   "execution_count": 2,
   "id": "76d79969-2a66-4c7c-bdbf-e4262618ff78",
   "metadata": {},
   "outputs": [],
   "source": [
    "# Filtering and Sorting Data\n",
    "# We filter based on certain conditions\n",
    "# Boolean indexing is used to filter"
   ]
  },
  {
   "cell_type": "code",
   "execution_count": 3,
   "id": "9702c816-95eb-4809-82b0-4345c0947f79",
   "metadata": {},
   "outputs": [],
   "source": [
    "import pandas as pd\n",
    "import numpy as np\n",
    "import matplotlib.pyplot as plt\n",
    "import seaborn as sns"
   ]
  },
  {
   "cell_type": "code",
   "execution_count": 4,
   "id": "d4a64671-af2f-422c-be65-eb5b3080c04f",
   "metadata": {},
   "outputs": [
    {
     "data": {
      "text/html": [
       "<div>\n",
       "<style scoped>\n",
       "    .dataframe tbody tr th:only-of-type {\n",
       "        vertical-align: middle;\n",
       "    }\n",
       "\n",
       "    .dataframe tbody tr th {\n",
       "        vertical-align: top;\n",
       "    }\n",
       "\n",
       "    .dataframe thead th {\n",
       "        text-align: right;\n",
       "    }\n",
       "</style>\n",
       "<table border=\"1\" class=\"dataframe\">\n",
       "  <thead>\n",
       "    <tr style=\"text-align: right;\">\n",
       "      <th></th>\n",
       "      <th>PassengerId</th>\n",
       "      <th>Survived</th>\n",
       "      <th>Pclass</th>\n",
       "      <th>Name</th>\n",
       "      <th>Sex</th>\n",
       "      <th>Age</th>\n",
       "      <th>SibSp</th>\n",
       "      <th>Parch</th>\n",
       "      <th>Ticket</th>\n",
       "      <th>Fare</th>\n",
       "      <th>Cabin</th>\n",
       "      <th>Embarked</th>\n",
       "    </tr>\n",
       "  </thead>\n",
       "  <tbody>\n",
       "    <tr>\n",
       "      <th>0</th>\n",
       "      <td>892</td>\n",
       "      <td>0</td>\n",
       "      <td>3</td>\n",
       "      <td>Kelly, Mr. James</td>\n",
       "      <td>male</td>\n",
       "      <td>34.5</td>\n",
       "      <td>0</td>\n",
       "      <td>0</td>\n",
       "      <td>330911</td>\n",
       "      <td>7.8292</td>\n",
       "      <td>NaN</td>\n",
       "      <td>Q</td>\n",
       "    </tr>\n",
       "    <tr>\n",
       "      <th>1</th>\n",
       "      <td>893</td>\n",
       "      <td>1</td>\n",
       "      <td>3</td>\n",
       "      <td>Wilkes, Mrs. James (Ellen Needs)</td>\n",
       "      <td>female</td>\n",
       "      <td>47.0</td>\n",
       "      <td>1</td>\n",
       "      <td>0</td>\n",
       "      <td>363272</td>\n",
       "      <td>7.0000</td>\n",
       "      <td>NaN</td>\n",
       "      <td>S</td>\n",
       "    </tr>\n",
       "    <tr>\n",
       "      <th>2</th>\n",
       "      <td>894</td>\n",
       "      <td>0</td>\n",
       "      <td>2</td>\n",
       "      <td>Myles, Mr. Thomas Francis</td>\n",
       "      <td>male</td>\n",
       "      <td>62.0</td>\n",
       "      <td>0</td>\n",
       "      <td>0</td>\n",
       "      <td>240276</td>\n",
       "      <td>9.6875</td>\n",
       "      <td>NaN</td>\n",
       "      <td>Q</td>\n",
       "    </tr>\n",
       "    <tr>\n",
       "      <th>3</th>\n",
       "      <td>895</td>\n",
       "      <td>0</td>\n",
       "      <td>3</td>\n",
       "      <td>Wirz, Mr. Albert</td>\n",
       "      <td>male</td>\n",
       "      <td>27.0</td>\n",
       "      <td>0</td>\n",
       "      <td>0</td>\n",
       "      <td>315154</td>\n",
       "      <td>8.6625</td>\n",
       "      <td>NaN</td>\n",
       "      <td>S</td>\n",
       "    </tr>\n",
       "    <tr>\n",
       "      <th>4</th>\n",
       "      <td>896</td>\n",
       "      <td>1</td>\n",
       "      <td>3</td>\n",
       "      <td>Hirvonen, Mrs. Alexander (Helga E Lindqvist)</td>\n",
       "      <td>female</td>\n",
       "      <td>22.0</td>\n",
       "      <td>1</td>\n",
       "      <td>1</td>\n",
       "      <td>3101298</td>\n",
       "      <td>12.2875</td>\n",
       "      <td>NaN</td>\n",
       "      <td>S</td>\n",
       "    </tr>\n",
       "  </tbody>\n",
       "</table>\n",
       "</div>"
      ],
      "text/plain": [
       "   PassengerId  Survived  Pclass  \\\n",
       "0          892         0       3   \n",
       "1          893         1       3   \n",
       "2          894         0       2   \n",
       "3          895         0       3   \n",
       "4          896         1       3   \n",
       "\n",
       "                                           Name     Sex   Age  SibSp  Parch  \\\n",
       "0                              Kelly, Mr. James    male  34.5      0      0   \n",
       "1              Wilkes, Mrs. James (Ellen Needs)  female  47.0      1      0   \n",
       "2                     Myles, Mr. Thomas Francis    male  62.0      0      0   \n",
       "3                              Wirz, Mr. Albert    male  27.0      0      0   \n",
       "4  Hirvonen, Mrs. Alexander (Helga E Lindqvist)  female  22.0      1      1   \n",
       "\n",
       "    Ticket     Fare Cabin Embarked  \n",
       "0   330911   7.8292   NaN        Q  \n",
       "1   363272   7.0000   NaN        S  \n",
       "2   240276   9.6875   NaN        Q  \n",
       "3   315154   8.6625   NaN        S  \n",
       "4  3101298  12.2875   NaN        S  "
      ]
     },
     "execution_count": 4,
     "metadata": {},
     "output_type": "execute_result"
    }
   ],
   "source": [
    "df = pd.read_csv(\"titanic_dataset.csv\")\n",
    "df.head()"
   ]
  },
  {
   "cell_type": "code",
   "execution_count": 5,
   "id": "c730c2c5-f2e9-440f-9087-f8f57bcd1101",
   "metadata": {},
   "outputs": [
    {
     "data": {
      "text/html": [
       "<div>\n",
       "<style scoped>\n",
       "    .dataframe tbody tr th:only-of-type {\n",
       "        vertical-align: middle;\n",
       "    }\n",
       "\n",
       "    .dataframe tbody tr th {\n",
       "        vertical-align: top;\n",
       "    }\n",
       "\n",
       "    .dataframe thead th {\n",
       "        text-align: right;\n",
       "    }\n",
       "</style>\n",
       "<table border=\"1\" class=\"dataframe\">\n",
       "  <thead>\n",
       "    <tr style=\"text-align: right;\">\n",
       "      <th></th>\n",
       "      <th>PassengerId</th>\n",
       "      <th>Survived</th>\n",
       "      <th>Pclass</th>\n",
       "      <th>Name</th>\n",
       "      <th>Sex</th>\n",
       "      <th>Age</th>\n",
       "      <th>SibSp</th>\n",
       "      <th>Parch</th>\n",
       "      <th>Ticket</th>\n",
       "      <th>Fare</th>\n",
       "      <th>Cabin</th>\n",
       "      <th>Embarked</th>\n",
       "    </tr>\n",
       "  </thead>\n",
       "  <tbody>\n",
       "    <tr>\n",
       "      <th>413</th>\n",
       "      <td>1305</td>\n",
       "      <td>0</td>\n",
       "      <td>3</td>\n",
       "      <td>Spector, Mr. Woolf</td>\n",
       "      <td>male</td>\n",
       "      <td>NaN</td>\n",
       "      <td>0</td>\n",
       "      <td>0</td>\n",
       "      <td>A.5. 3236</td>\n",
       "      <td>8.0500</td>\n",
       "      <td>NaN</td>\n",
       "      <td>S</td>\n",
       "    </tr>\n",
       "    <tr>\n",
       "      <th>414</th>\n",
       "      <td>1306</td>\n",
       "      <td>1</td>\n",
       "      <td>1</td>\n",
       "      <td>Oliva y Ocana, Dona. Fermina</td>\n",
       "      <td>female</td>\n",
       "      <td>39.0</td>\n",
       "      <td>0</td>\n",
       "      <td>0</td>\n",
       "      <td>PC 17758</td>\n",
       "      <td>108.9000</td>\n",
       "      <td>C105</td>\n",
       "      <td>C</td>\n",
       "    </tr>\n",
       "    <tr>\n",
       "      <th>415</th>\n",
       "      <td>1307</td>\n",
       "      <td>0</td>\n",
       "      <td>3</td>\n",
       "      <td>Saether, Mr. Simon Sivertsen</td>\n",
       "      <td>male</td>\n",
       "      <td>38.5</td>\n",
       "      <td>0</td>\n",
       "      <td>0</td>\n",
       "      <td>SOTON/O.Q. 3101262</td>\n",
       "      <td>7.2500</td>\n",
       "      <td>NaN</td>\n",
       "      <td>S</td>\n",
       "    </tr>\n",
       "    <tr>\n",
       "      <th>416</th>\n",
       "      <td>1308</td>\n",
       "      <td>0</td>\n",
       "      <td>3</td>\n",
       "      <td>Ware, Mr. Frederick</td>\n",
       "      <td>male</td>\n",
       "      <td>NaN</td>\n",
       "      <td>0</td>\n",
       "      <td>0</td>\n",
       "      <td>359309</td>\n",
       "      <td>8.0500</td>\n",
       "      <td>NaN</td>\n",
       "      <td>S</td>\n",
       "    </tr>\n",
       "    <tr>\n",
       "      <th>417</th>\n",
       "      <td>1309</td>\n",
       "      <td>0</td>\n",
       "      <td>3</td>\n",
       "      <td>Peter, Master. Michael J</td>\n",
       "      <td>male</td>\n",
       "      <td>NaN</td>\n",
       "      <td>1</td>\n",
       "      <td>1</td>\n",
       "      <td>2668</td>\n",
       "      <td>22.3583</td>\n",
       "      <td>NaN</td>\n",
       "      <td>C</td>\n",
       "    </tr>\n",
       "  </tbody>\n",
       "</table>\n",
       "</div>"
      ],
      "text/plain": [
       "     PassengerId  Survived  Pclass                          Name     Sex  \\\n",
       "413         1305         0       3            Spector, Mr. Woolf    male   \n",
       "414         1306         1       1  Oliva y Ocana, Dona. Fermina  female   \n",
       "415         1307         0       3  Saether, Mr. Simon Sivertsen    male   \n",
       "416         1308         0       3           Ware, Mr. Frederick    male   \n",
       "417         1309         0       3      Peter, Master. Michael J    male   \n",
       "\n",
       "      Age  SibSp  Parch              Ticket      Fare Cabin Embarked  \n",
       "413   NaN      0      0           A.5. 3236    8.0500   NaN        S  \n",
       "414  39.0      0      0            PC 17758  108.9000  C105        C  \n",
       "415  38.5      0      0  SOTON/O.Q. 3101262    7.2500   NaN        S  \n",
       "416   NaN      0      0              359309    8.0500   NaN        S  \n",
       "417   NaN      1      1                2668   22.3583   NaN        C  "
      ]
     },
     "execution_count": 5,
     "metadata": {},
     "output_type": "execute_result"
    }
   ],
   "source": [
    "df.tail()"
   ]
  },
  {
   "cell_type": "code",
   "execution_count": 6,
   "id": "03f5c7ce-a843-4d45-8f78-22e425ec8668",
   "metadata": {},
   "outputs": [
    {
     "name": "stdout",
     "output_type": "stream",
     "text": [
      "<class 'pandas.core.frame.DataFrame'>\n",
      "RangeIndex: 418 entries, 0 to 417\n",
      "Data columns (total 12 columns):\n",
      " #   Column       Non-Null Count  Dtype  \n",
      "---  ------       --------------  -----  \n",
      " 0   PassengerId  418 non-null    int64  \n",
      " 1   Survived     418 non-null    int64  \n",
      " 2   Pclass       418 non-null    int64  \n",
      " 3   Name         418 non-null    object \n",
      " 4   Sex          418 non-null    object \n",
      " 5   Age          332 non-null    float64\n",
      " 6   SibSp        418 non-null    int64  \n",
      " 7   Parch        418 non-null    int64  \n",
      " 8   Ticket       418 non-null    object \n",
      " 9   Fare         417 non-null    float64\n",
      " 10  Cabin        91 non-null     object \n",
      " 11  Embarked     418 non-null    object \n",
      "dtypes: float64(2), int64(5), object(5)\n",
      "memory usage: 39.3+ KB\n"
     ]
    }
   ],
   "source": [
    "df.info()"
   ]
  },
  {
   "cell_type": "code",
   "execution_count": 7,
   "id": "049266af-ecda-48d5-85de-619fb54ecbcf",
   "metadata": {},
   "outputs": [
    {
     "data": {
      "text/plain": [
       "PassengerId      0\n",
       "Survived         0\n",
       "Pclass           0\n",
       "Name             0\n",
       "Sex              0\n",
       "Age             86\n",
       "SibSp            0\n",
       "Parch            0\n",
       "Ticket           0\n",
       "Fare             1\n",
       "Cabin          327\n",
       "Embarked         0\n",
       "dtype: int64"
      ]
     },
     "execution_count": 7,
     "metadata": {},
     "output_type": "execute_result"
    }
   ],
   "source": [
    "df.isnull().sum() # checking for missing values"
   ]
  },
  {
   "cell_type": "code",
   "execution_count": 8,
   "id": "8607d5ef-92bd-4b33-81d4-65b052d342cd",
   "metadata": {},
   "outputs": [
    {
     "data": {
      "text/html": [
       "<div>\n",
       "<style scoped>\n",
       "    .dataframe tbody tr th:only-of-type {\n",
       "        vertical-align: middle;\n",
       "    }\n",
       "\n",
       "    .dataframe tbody tr th {\n",
       "        vertical-align: top;\n",
       "    }\n",
       "\n",
       "    .dataframe thead th {\n",
       "        text-align: right;\n",
       "    }\n",
       "</style>\n",
       "<table border=\"1\" class=\"dataframe\">\n",
       "  <thead>\n",
       "    <tr style=\"text-align: right;\">\n",
       "      <th></th>\n",
       "      <th>PassengerId</th>\n",
       "      <th>Survived</th>\n",
       "      <th>Pclass</th>\n",
       "      <th>Age</th>\n",
       "      <th>SibSp</th>\n",
       "      <th>Parch</th>\n",
       "      <th>Fare</th>\n",
       "    </tr>\n",
       "  </thead>\n",
       "  <tbody>\n",
       "    <tr>\n",
       "      <th>count</th>\n",
       "      <td>418.000000</td>\n",
       "      <td>418.000000</td>\n",
       "      <td>418.000000</td>\n",
       "      <td>332.000000</td>\n",
       "      <td>418.000000</td>\n",
       "      <td>418.000000</td>\n",
       "      <td>417.000000</td>\n",
       "    </tr>\n",
       "    <tr>\n",
       "      <th>mean</th>\n",
       "      <td>1100.500000</td>\n",
       "      <td>0.363636</td>\n",
       "      <td>2.265550</td>\n",
       "      <td>30.272590</td>\n",
       "      <td>0.447368</td>\n",
       "      <td>0.392344</td>\n",
       "      <td>35.627188</td>\n",
       "    </tr>\n",
       "    <tr>\n",
       "      <th>std</th>\n",
       "      <td>120.810458</td>\n",
       "      <td>0.481622</td>\n",
       "      <td>0.841838</td>\n",
       "      <td>14.181209</td>\n",
       "      <td>0.896760</td>\n",
       "      <td>0.981429</td>\n",
       "      <td>55.907576</td>\n",
       "    </tr>\n",
       "    <tr>\n",
       "      <th>min</th>\n",
       "      <td>892.000000</td>\n",
       "      <td>0.000000</td>\n",
       "      <td>1.000000</td>\n",
       "      <td>0.170000</td>\n",
       "      <td>0.000000</td>\n",
       "      <td>0.000000</td>\n",
       "      <td>0.000000</td>\n",
       "    </tr>\n",
       "    <tr>\n",
       "      <th>25%</th>\n",
       "      <td>996.250000</td>\n",
       "      <td>0.000000</td>\n",
       "      <td>1.000000</td>\n",
       "      <td>21.000000</td>\n",
       "      <td>0.000000</td>\n",
       "      <td>0.000000</td>\n",
       "      <td>7.895800</td>\n",
       "    </tr>\n",
       "    <tr>\n",
       "      <th>50%</th>\n",
       "      <td>1100.500000</td>\n",
       "      <td>0.000000</td>\n",
       "      <td>3.000000</td>\n",
       "      <td>27.000000</td>\n",
       "      <td>0.000000</td>\n",
       "      <td>0.000000</td>\n",
       "      <td>14.454200</td>\n",
       "    </tr>\n",
       "    <tr>\n",
       "      <th>75%</th>\n",
       "      <td>1204.750000</td>\n",
       "      <td>1.000000</td>\n",
       "      <td>3.000000</td>\n",
       "      <td>39.000000</td>\n",
       "      <td>1.000000</td>\n",
       "      <td>0.000000</td>\n",
       "      <td>31.500000</td>\n",
       "    </tr>\n",
       "    <tr>\n",
       "      <th>max</th>\n",
       "      <td>1309.000000</td>\n",
       "      <td>1.000000</td>\n",
       "      <td>3.000000</td>\n",
       "      <td>76.000000</td>\n",
       "      <td>8.000000</td>\n",
       "      <td>9.000000</td>\n",
       "      <td>512.329200</td>\n",
       "    </tr>\n",
       "  </tbody>\n",
       "</table>\n",
       "</div>"
      ],
      "text/plain": [
       "       PassengerId    Survived      Pclass         Age       SibSp  \\\n",
       "count   418.000000  418.000000  418.000000  332.000000  418.000000   \n",
       "mean   1100.500000    0.363636    2.265550   30.272590    0.447368   \n",
       "std     120.810458    0.481622    0.841838   14.181209    0.896760   \n",
       "min     892.000000    0.000000    1.000000    0.170000    0.000000   \n",
       "25%     996.250000    0.000000    1.000000   21.000000    0.000000   \n",
       "50%    1100.500000    0.000000    3.000000   27.000000    0.000000   \n",
       "75%    1204.750000    1.000000    3.000000   39.000000    1.000000   \n",
       "max    1309.000000    1.000000    3.000000   76.000000    8.000000   \n",
       "\n",
       "            Parch        Fare  \n",
       "count  418.000000  417.000000  \n",
       "mean     0.392344   35.627188  \n",
       "std      0.981429   55.907576  \n",
       "min      0.000000    0.000000  \n",
       "25%      0.000000    7.895800  \n",
       "50%      0.000000   14.454200  \n",
       "75%      0.000000   31.500000  \n",
       "max      9.000000  512.329200  "
      ]
     },
     "execution_count": 8,
     "metadata": {},
     "output_type": "execute_result"
    }
   ],
   "source": [
    "df.describe()"
   ]
  },
  {
   "cell_type": "code",
   "execution_count": 9,
   "id": "138f3645-92d8-481f-9f8d-7a72f82ce8d1",
   "metadata": {},
   "outputs": [
    {
     "name": "stdout",
     "output_type": "stream",
     "text": [
      "<class 'pandas.core.frame.DataFrame'>\n",
      "RangeIndex: 418 entries, 0 to 417\n",
      "Data columns (total 12 columns):\n",
      " #   Column       Non-Null Count  Dtype  \n",
      "---  ------       --------------  -----  \n",
      " 0   PassengerId  418 non-null    int64  \n",
      " 1   Survived     418 non-null    int64  \n",
      " 2   Pclass       418 non-null    int64  \n",
      " 3   Name         418 non-null    object \n",
      " 4   Sex          418 non-null    object \n",
      " 5   Age          418 non-null    float64\n",
      " 6   SibSp        418 non-null    int64  \n",
      " 7   Parch        418 non-null    int64  \n",
      " 8   Ticket       418 non-null    object \n",
      " 9   Fare         417 non-null    float64\n",
      " 10  Cabin        91 non-null     object \n",
      " 11  Embarked     418 non-null    object \n",
      "dtypes: float64(2), int64(5), object(5)\n",
      "memory usage: 39.3+ KB\n"
     ]
    }
   ],
   "source": [
    "# filling in the missing values\n",
    "df[\"Age\"]=df[\"Age\"].fillna(df[\"Age\"].median())\n",
    "df.info()\n"
   ]
  },
  {
   "cell_type": "code",
   "execution_count": 10,
   "id": "3c4606a7-dcae-4a6c-8bcc-498570a505da",
   "metadata": {},
   "outputs": [
    {
     "name": "stdout",
     "output_type": "stream",
     "text": [
      "<class 'pandas.core.frame.DataFrame'>\n",
      "RangeIndex: 418 entries, 0 to 417\n",
      "Data columns (total 12 columns):\n",
      " #   Column       Non-Null Count  Dtype  \n",
      "---  ------       --------------  -----  \n",
      " 0   PassengerId  418 non-null    int64  \n",
      " 1   Survived     418 non-null    int64  \n",
      " 2   Pclass       418 non-null    int64  \n",
      " 3   Name         418 non-null    object \n",
      " 4   Sex          418 non-null    object \n",
      " 5   Age          418 non-null    float64\n",
      " 6   SibSp        418 non-null    int64  \n",
      " 7   Parch        418 non-null    int64  \n",
      " 8   Ticket       418 non-null    object \n",
      " 9   Fare         417 non-null    float64\n",
      " 10  Cabin        91 non-null     object \n",
      " 11  Embarked     418 non-null    object \n",
      "dtypes: float64(2), int64(5), object(5)\n",
      "memory usage: 39.3+ KB\n"
     ]
    }
   ],
   "source": [
    "df[\"Age\"]=pd.to_numeric(df[\"Age\"], errors=\"coerce\")  # converts the age column to numeric\n",
    "df.info()\n",
    "# errors = coerce is used to handle invalid parsing"
   ]
  },
  {
   "cell_type": "raw",
   "id": "b0f8e21c-80e3-48fe-8c24-73f360f4a6ef",
   "metadata": {},
   "source": []
  },
  {
   "cell_type": "code",
   "execution_count": 11,
   "id": "fa62fef6-5d4f-4cfd-a2f1-2fea31ed475b",
   "metadata": {},
   "outputs": [
    {
     "data": {
      "text/html": [
       "<div>\n",
       "<style scoped>\n",
       "    .dataframe tbody tr th:only-of-type {\n",
       "        vertical-align: middle;\n",
       "    }\n",
       "\n",
       "    .dataframe tbody tr th {\n",
       "        vertical-align: top;\n",
       "    }\n",
       "\n",
       "    .dataframe thead th {\n",
       "        text-align: right;\n",
       "    }\n",
       "</style>\n",
       "<table border=\"1\" class=\"dataframe\">\n",
       "  <thead>\n",
       "    <tr style=\"text-align: right;\">\n",
       "      <th></th>\n",
       "      <th>PassengerId</th>\n",
       "      <th>Survived</th>\n",
       "      <th>Pclass</th>\n",
       "      <th>Name</th>\n",
       "      <th>Sex</th>\n",
       "      <th>Age</th>\n",
       "      <th>SibSp</th>\n",
       "      <th>Parch</th>\n",
       "      <th>Ticket</th>\n",
       "      <th>Fare</th>\n",
       "      <th>Cabin</th>\n",
       "      <th>Embarked</th>\n",
       "    </tr>\n",
       "  </thead>\n",
       "  <tbody>\n",
       "    <tr>\n",
       "      <th>0</th>\n",
       "      <td>892</td>\n",
       "      <td>0</td>\n",
       "      <td>3</td>\n",
       "      <td>Kelly, Mr. James</td>\n",
       "      <td>male</td>\n",
       "      <td>34.5</td>\n",
       "      <td>0</td>\n",
       "      <td>0</td>\n",
       "      <td>330911</td>\n",
       "      <td>7.8292</td>\n",
       "      <td>NaN</td>\n",
       "      <td>Q</td>\n",
       "    </tr>\n",
       "    <tr>\n",
       "      <th>1</th>\n",
       "      <td>893</td>\n",
       "      <td>1</td>\n",
       "      <td>3</td>\n",
       "      <td>Wilkes, Mrs. James (Ellen Needs)</td>\n",
       "      <td>female</td>\n",
       "      <td>47.0</td>\n",
       "      <td>1</td>\n",
       "      <td>0</td>\n",
       "      <td>363272</td>\n",
       "      <td>7.0000</td>\n",
       "      <td>NaN</td>\n",
       "      <td>S</td>\n",
       "    </tr>\n",
       "    <tr>\n",
       "      <th>2</th>\n",
       "      <td>894</td>\n",
       "      <td>0</td>\n",
       "      <td>2</td>\n",
       "      <td>Myles, Mr. Thomas Francis</td>\n",
       "      <td>male</td>\n",
       "      <td>62.0</td>\n",
       "      <td>0</td>\n",
       "      <td>0</td>\n",
       "      <td>240276</td>\n",
       "      <td>9.6875</td>\n",
       "      <td>NaN</td>\n",
       "      <td>Q</td>\n",
       "    </tr>\n",
       "    <tr>\n",
       "      <th>3</th>\n",
       "      <td>895</td>\n",
       "      <td>0</td>\n",
       "      <td>3</td>\n",
       "      <td>Wirz, Mr. Albert</td>\n",
       "      <td>male</td>\n",
       "      <td>27.0</td>\n",
       "      <td>0</td>\n",
       "      <td>0</td>\n",
       "      <td>315154</td>\n",
       "      <td>8.6625</td>\n",
       "      <td>NaN</td>\n",
       "      <td>S</td>\n",
       "    </tr>\n",
       "    <tr>\n",
       "      <th>4</th>\n",
       "      <td>896</td>\n",
       "      <td>1</td>\n",
       "      <td>3</td>\n",
       "      <td>Hirvonen, Mrs. Alexander (Helga E Lindqvist)</td>\n",
       "      <td>female</td>\n",
       "      <td>22.0</td>\n",
       "      <td>1</td>\n",
       "      <td>1</td>\n",
       "      <td>3101298</td>\n",
       "      <td>12.2875</td>\n",
       "      <td>NaN</td>\n",
       "      <td>S</td>\n",
       "    </tr>\n",
       "  </tbody>\n",
       "</table>\n",
       "</div>"
      ],
      "text/plain": [
       "   PassengerId  Survived  Pclass  \\\n",
       "0          892         0       3   \n",
       "1          893         1       3   \n",
       "2          894         0       2   \n",
       "3          895         0       3   \n",
       "4          896         1       3   \n",
       "\n",
       "                                           Name     Sex   Age  SibSp  Parch  \\\n",
       "0                              Kelly, Mr. James    male  34.5      0      0   \n",
       "1              Wilkes, Mrs. James (Ellen Needs)  female  47.0      1      0   \n",
       "2                     Myles, Mr. Thomas Francis    male  62.0      0      0   \n",
       "3                              Wirz, Mr. Albert    male  27.0      0      0   \n",
       "4  Hirvonen, Mrs. Alexander (Helga E Lindqvist)  female  22.0      1      1   \n",
       "\n",
       "    Ticket     Fare Cabin Embarked  \n",
       "0   330911   7.8292   NaN        Q  \n",
       "1   363272   7.0000   NaN        S  \n",
       "2   240276   9.6875   NaN        Q  \n",
       "3   315154   8.6625   NaN        S  \n",
       "4  3101298  12.2875   NaN        S  "
      ]
     },
     "execution_count": 11,
     "metadata": {},
     "output_type": "execute_result"
    }
   ],
   "source": [
    "# filtering out adults\n",
    "adults = df[df[\"Age\"]>=18]\n",
    "adults.head()"
   ]
  },
  {
   "cell_type": "code",
   "execution_count": 12,
   "id": "6935ea01-3898-4f9a-b794-ff774cb2aa59",
   "metadata": {},
   "outputs": [
    {
     "name": "stdout",
     "output_type": "stream",
     "text": [
      "<class 'pandas.core.frame.DataFrame'>\n",
      "Index: 377 entries, 0 to 417\n",
      "Data columns (total 12 columns):\n",
      " #   Column       Non-Null Count  Dtype  \n",
      "---  ------       --------------  -----  \n",
      " 0   PassengerId  377 non-null    int64  \n",
      " 1   Survived     377 non-null    int64  \n",
      " 2   Pclass       377 non-null    int64  \n",
      " 3   Name         377 non-null    object \n",
      " 4   Sex          377 non-null    object \n",
      " 5   Age          377 non-null    float64\n",
      " 6   SibSp        377 non-null    int64  \n",
      " 7   Parch        377 non-null    int64  \n",
      " 8   Ticket       377 non-null    object \n",
      " 9   Fare         376 non-null    float64\n",
      " 10  Cabin        87 non-null     object \n",
      " 11  Embarked     377 non-null    object \n",
      "dtypes: float64(2), int64(5), object(5)\n",
      "memory usage: 38.3+ KB\n"
     ]
    }
   ],
   "source": [
    "adults.info()"
   ]
  },
  {
   "cell_type": "code",
   "execution_count": 13,
   "id": "213e0764-4d78-47d9-9f48-7fc67ab91aac",
   "metadata": {},
   "outputs": [
    {
     "data": {
      "text/html": [
       "<div>\n",
       "<style scoped>\n",
       "    .dataframe tbody tr th:only-of-type {\n",
       "        vertical-align: middle;\n",
       "    }\n",
       "\n",
       "    .dataframe tbody tr th {\n",
       "        vertical-align: top;\n",
       "    }\n",
       "\n",
       "    .dataframe thead th {\n",
       "        text-align: right;\n",
       "    }\n",
       "</style>\n",
       "<table border=\"1\" class=\"dataframe\">\n",
       "  <thead>\n",
       "    <tr style=\"text-align: right;\">\n",
       "      <th></th>\n",
       "      <th>PassengerId</th>\n",
       "      <th>Survived</th>\n",
       "      <th>Pclass</th>\n",
       "      <th>Name</th>\n",
       "      <th>Sex</th>\n",
       "      <th>Age</th>\n",
       "      <th>SibSp</th>\n",
       "      <th>Parch</th>\n",
       "      <th>Ticket</th>\n",
       "      <th>Fare</th>\n",
       "      <th>Cabin</th>\n",
       "      <th>Embarked</th>\n",
       "    </tr>\n",
       "  </thead>\n",
       "  <tbody>\n",
       "    <tr>\n",
       "      <th>0</th>\n",
       "      <td>892</td>\n",
       "      <td>0</td>\n",
       "      <td>3</td>\n",
       "      <td>Kelly, Mr. James</td>\n",
       "      <td>male</td>\n",
       "      <td>34.5</td>\n",
       "      <td>0</td>\n",
       "      <td>0</td>\n",
       "      <td>330911</td>\n",
       "      <td>7.8292</td>\n",
       "      <td>NaN</td>\n",
       "      <td>Q</td>\n",
       "    </tr>\n",
       "    <tr>\n",
       "      <th>1</th>\n",
       "      <td>893</td>\n",
       "      <td>1</td>\n",
       "      <td>3</td>\n",
       "      <td>Wilkes, Mrs. James (Ellen Needs)</td>\n",
       "      <td>female</td>\n",
       "      <td>47.0</td>\n",
       "      <td>1</td>\n",
       "      <td>0</td>\n",
       "      <td>363272</td>\n",
       "      <td>7.0000</td>\n",
       "      <td>NaN</td>\n",
       "      <td>S</td>\n",
       "    </tr>\n",
       "    <tr>\n",
       "      <th>3</th>\n",
       "      <td>895</td>\n",
       "      <td>0</td>\n",
       "      <td>3</td>\n",
       "      <td>Wirz, Mr. Albert</td>\n",
       "      <td>male</td>\n",
       "      <td>27.0</td>\n",
       "      <td>0</td>\n",
       "      <td>0</td>\n",
       "      <td>315154</td>\n",
       "      <td>8.6625</td>\n",
       "      <td>NaN</td>\n",
       "      <td>S</td>\n",
       "    </tr>\n",
       "    <tr>\n",
       "      <th>4</th>\n",
       "      <td>896</td>\n",
       "      <td>1</td>\n",
       "      <td>3</td>\n",
       "      <td>Hirvonen, Mrs. Alexander (Helga E Lindqvist)</td>\n",
       "      <td>female</td>\n",
       "      <td>22.0</td>\n",
       "      <td>1</td>\n",
       "      <td>1</td>\n",
       "      <td>3101298</td>\n",
       "      <td>12.2875</td>\n",
       "      <td>NaN</td>\n",
       "      <td>S</td>\n",
       "    </tr>\n",
       "    <tr>\n",
       "      <th>5</th>\n",
       "      <td>897</td>\n",
       "      <td>0</td>\n",
       "      <td>3</td>\n",
       "      <td>Svensson, Mr. Johan Cervin</td>\n",
       "      <td>male</td>\n",
       "      <td>14.0</td>\n",
       "      <td>0</td>\n",
       "      <td>0</td>\n",
       "      <td>7538</td>\n",
       "      <td>9.2250</td>\n",
       "      <td>NaN</td>\n",
       "      <td>S</td>\n",
       "    </tr>\n",
       "  </tbody>\n",
       "</table>\n",
       "</div>"
      ],
      "text/plain": [
       "   PassengerId  Survived  Pclass  \\\n",
       "0          892         0       3   \n",
       "1          893         1       3   \n",
       "3          895         0       3   \n",
       "4          896         1       3   \n",
       "5          897         0       3   \n",
       "\n",
       "                                           Name     Sex   Age  SibSp  Parch  \\\n",
       "0                              Kelly, Mr. James    male  34.5      0      0   \n",
       "1              Wilkes, Mrs. James (Ellen Needs)  female  47.0      1      0   \n",
       "3                              Wirz, Mr. Albert    male  27.0      0      0   \n",
       "4  Hirvonen, Mrs. Alexander (Helga E Lindqvist)  female  22.0      1      1   \n",
       "5                    Svensson, Mr. Johan Cervin    male  14.0      0      0   \n",
       "\n",
       "    Ticket     Fare Cabin Embarked  \n",
       "0   330911   7.8292   NaN        Q  \n",
       "1   363272   7.0000   NaN        S  \n",
       "3   315154   8.6625   NaN        S  \n",
       "4  3101298  12.2875   NaN        S  \n",
       "5     7538   9.2250   NaN        S  "
      ]
     },
     "execution_count": 13,
     "metadata": {},
     "output_type": "execute_result"
    }
   ],
   "source": [
    "# filtering out\n",
    "third_class_passengers=df[df[\"Pclass\"] == 3]\n",
    "third_class_passengers.head()\n"
   ]
  },
  {
   "cell_type": "code",
   "execution_count": 14,
   "id": "d0f03511-f77e-4512-b258-fde4c9ea8a85",
   "metadata": {},
   "outputs": [
    {
     "data": {
      "text/plain": [
       "Pclass\n",
       "3    218\n",
       "1    107\n",
       "2     93\n",
       "Name: count, dtype: int64"
      ]
     },
     "execution_count": 14,
     "metadata": {},
     "output_type": "execute_result"
    }
   ],
   "source": [
    "df[\"Pclass\"].value_counts()"
   ]
  },
  {
   "cell_type": "code",
   "execution_count": 15,
   "id": "605b856f-f6b2-4166-834d-145b7ade1bf2",
   "metadata": {},
   "outputs": [
    {
     "data": {
      "text/plain": [
       "Pclass\n",
       "3    218\n",
       "Name: count, dtype: int64"
      ]
     },
     "execution_count": 15,
     "metadata": {},
     "output_type": "execute_result"
    }
   ],
   "source": [
    "third_class_passengers[\"Pclass\"].value_counts()"
   ]
  },
  {
   "cell_type": "code",
   "execution_count": 16,
   "id": "7bd2262a-aa2a-4a57-9e5c-403edbd9b043",
   "metadata": {},
   "outputs": [
    {
     "data": {
      "text/html": [
       "<div>\n",
       "<style scoped>\n",
       "    .dataframe tbody tr th:only-of-type {\n",
       "        vertical-align: middle;\n",
       "    }\n",
       "\n",
       "    .dataframe tbody tr th {\n",
       "        vertical-align: top;\n",
       "    }\n",
       "\n",
       "    .dataframe thead th {\n",
       "        text-align: right;\n",
       "    }\n",
       "</style>\n",
       "<table border=\"1\" class=\"dataframe\">\n",
       "  <thead>\n",
       "    <tr style=\"text-align: right;\">\n",
       "      <th></th>\n",
       "      <th>PassengerId</th>\n",
       "      <th>Survived</th>\n",
       "      <th>Pclass</th>\n",
       "      <th>Name</th>\n",
       "      <th>Sex</th>\n",
       "      <th>Age</th>\n",
       "      <th>SibSp</th>\n",
       "      <th>Parch</th>\n",
       "      <th>Ticket</th>\n",
       "      <th>Fare</th>\n",
       "      <th>Cabin</th>\n",
       "      <th>Embarked</th>\n",
       "    </tr>\n",
       "  </thead>\n",
       "  <tbody>\n",
       "    <tr>\n",
       "      <th>343</th>\n",
       "      <td>1235</td>\n",
       "      <td>1</td>\n",
       "      <td>1</td>\n",
       "      <td>Cardeza, Mrs. James Warburton Martinez (Charlo...</td>\n",
       "      <td>female</td>\n",
       "      <td>58.0</td>\n",
       "      <td>0</td>\n",
       "      <td>1</td>\n",
       "      <td>PC 17755</td>\n",
       "      <td>512.3292</td>\n",
       "      <td>B51 B53 B55</td>\n",
       "      <td>C</td>\n",
       "    </tr>\n",
       "    <tr>\n",
       "      <th>69</th>\n",
       "      <td>961</td>\n",
       "      <td>1</td>\n",
       "      <td>1</td>\n",
       "      <td>Fortune, Mrs. Mark (Mary McDougald)</td>\n",
       "      <td>female</td>\n",
       "      <td>60.0</td>\n",
       "      <td>1</td>\n",
       "      <td>4</td>\n",
       "      <td>19950</td>\n",
       "      <td>263.0000</td>\n",
       "      <td>C23 C25 C27</td>\n",
       "      <td>S</td>\n",
       "    </tr>\n",
       "    <tr>\n",
       "      <th>53</th>\n",
       "      <td>945</td>\n",
       "      <td>1</td>\n",
       "      <td>1</td>\n",
       "      <td>Fortune, Miss. Ethel Flora</td>\n",
       "      <td>female</td>\n",
       "      <td>28.0</td>\n",
       "      <td>3</td>\n",
       "      <td>2</td>\n",
       "      <td>19950</td>\n",
       "      <td>263.0000</td>\n",
       "      <td>C23 C25 C27</td>\n",
       "      <td>S</td>\n",
       "    </tr>\n",
       "    <tr>\n",
       "      <th>59</th>\n",
       "      <td>951</td>\n",
       "      <td>1</td>\n",
       "      <td>1</td>\n",
       "      <td>Chaudanson, Miss. Victorine</td>\n",
       "      <td>female</td>\n",
       "      <td>36.0</td>\n",
       "      <td>0</td>\n",
       "      <td>0</td>\n",
       "      <td>PC 17608</td>\n",
       "      <td>262.3750</td>\n",
       "      <td>B61</td>\n",
       "      <td>C</td>\n",
       "    </tr>\n",
       "    <tr>\n",
       "      <th>64</th>\n",
       "      <td>956</td>\n",
       "      <td>0</td>\n",
       "      <td>1</td>\n",
       "      <td>Ryerson, Master. John Borie</td>\n",
       "      <td>male</td>\n",
       "      <td>13.0</td>\n",
       "      <td>2</td>\n",
       "      <td>2</td>\n",
       "      <td>PC 17608</td>\n",
       "      <td>262.3750</td>\n",
       "      <td>B57 B59 B63 B66</td>\n",
       "      <td>C</td>\n",
       "    </tr>\n",
       "    <tr>\n",
       "      <th>375</th>\n",
       "      <td>1267</td>\n",
       "      <td>1</td>\n",
       "      <td>1</td>\n",
       "      <td>Bowen, Miss. Grace Scott</td>\n",
       "      <td>female</td>\n",
       "      <td>45.0</td>\n",
       "      <td>0</td>\n",
       "      <td>0</td>\n",
       "      <td>PC 17608</td>\n",
       "      <td>262.3750</td>\n",
       "      <td>NaN</td>\n",
       "      <td>C</td>\n",
       "    </tr>\n",
       "    <tr>\n",
       "      <th>142</th>\n",
       "      <td>1034</td>\n",
       "      <td>0</td>\n",
       "      <td>1</td>\n",
       "      <td>Ryerson, Mr. Arthur Larned</td>\n",
       "      <td>male</td>\n",
       "      <td>61.0</td>\n",
       "      <td>1</td>\n",
       "      <td>3</td>\n",
       "      <td>PC 17608</td>\n",
       "      <td>262.3750</td>\n",
       "      <td>B57 B59 B63 B66</td>\n",
       "      <td>C</td>\n",
       "    </tr>\n",
       "    <tr>\n",
       "      <th>24</th>\n",
       "      <td>916</td>\n",
       "      <td>1</td>\n",
       "      <td>1</td>\n",
       "      <td>Ryerson, Mrs. Arthur Larned (Emily Maria Borie)</td>\n",
       "      <td>female</td>\n",
       "      <td>48.0</td>\n",
       "      <td>1</td>\n",
       "      <td>3</td>\n",
       "      <td>PC 17608</td>\n",
       "      <td>262.3750</td>\n",
       "      <td>B57 B59 B63 B66</td>\n",
       "      <td>C</td>\n",
       "    </tr>\n",
       "    <tr>\n",
       "      <th>184</th>\n",
       "      <td>1076</td>\n",
       "      <td>1</td>\n",
       "      <td>1</td>\n",
       "      <td>Douglas, Mrs. Frederick Charles (Mary Helene B...</td>\n",
       "      <td>female</td>\n",
       "      <td>27.0</td>\n",
       "      <td>1</td>\n",
       "      <td>1</td>\n",
       "      <td>PC 17558</td>\n",
       "      <td>247.5208</td>\n",
       "      <td>B58 B60</td>\n",
       "      <td>C</td>\n",
       "    </tr>\n",
       "    <tr>\n",
       "      <th>202</th>\n",
       "      <td>1094</td>\n",
       "      <td>0</td>\n",
       "      <td>1</td>\n",
       "      <td>Astor, Col. John Jacob</td>\n",
       "      <td>male</td>\n",
       "      <td>47.0</td>\n",
       "      <td>1</td>\n",
       "      <td>0</td>\n",
       "      <td>PC 17757</td>\n",
       "      <td>227.5250</td>\n",
       "      <td>C62 C64</td>\n",
       "      <td>C</td>\n",
       "    </tr>\n",
       "  </tbody>\n",
       "</table>\n",
       "</div>"
      ],
      "text/plain": [
       "     PassengerId  Survived  Pclass  \\\n",
       "343         1235         1       1   \n",
       "69           961         1       1   \n",
       "53           945         1       1   \n",
       "59           951         1       1   \n",
       "64           956         0       1   \n",
       "375         1267         1       1   \n",
       "142         1034         0       1   \n",
       "24           916         1       1   \n",
       "184         1076         1       1   \n",
       "202         1094         0       1   \n",
       "\n",
       "                                                  Name     Sex   Age  SibSp  \\\n",
       "343  Cardeza, Mrs. James Warburton Martinez (Charlo...  female  58.0      0   \n",
       "69                 Fortune, Mrs. Mark (Mary McDougald)  female  60.0      1   \n",
       "53                          Fortune, Miss. Ethel Flora  female  28.0      3   \n",
       "59                         Chaudanson, Miss. Victorine  female  36.0      0   \n",
       "64                         Ryerson, Master. John Borie    male  13.0      2   \n",
       "375                           Bowen, Miss. Grace Scott  female  45.0      0   \n",
       "142                         Ryerson, Mr. Arthur Larned    male  61.0      1   \n",
       "24     Ryerson, Mrs. Arthur Larned (Emily Maria Borie)  female  48.0      1   \n",
       "184  Douglas, Mrs. Frederick Charles (Mary Helene B...  female  27.0      1   \n",
       "202                             Astor, Col. John Jacob    male  47.0      1   \n",
       "\n",
       "     Parch    Ticket      Fare            Cabin Embarked  \n",
       "343      1  PC 17755  512.3292      B51 B53 B55        C  \n",
       "69       4     19950  263.0000      C23 C25 C27        S  \n",
       "53       2     19950  263.0000      C23 C25 C27        S  \n",
       "59       0  PC 17608  262.3750              B61        C  \n",
       "64       2  PC 17608  262.3750  B57 B59 B63 B66        C  \n",
       "375      0  PC 17608  262.3750              NaN        C  \n",
       "142      3  PC 17608  262.3750  B57 B59 B63 B66        C  \n",
       "24       3  PC 17608  262.3750  B57 B59 B63 B66        C  \n",
       "184      1  PC 17558  247.5208          B58 B60        C  \n",
       "202      0  PC 17757  227.5250          C62 C64        C  "
      ]
     },
     "execution_count": 16,
     "metadata": {},
     "output_type": "execute_result"
    }
   ],
   "source": [
    "# Sorting data\n",
    "# Data is sorted in ascending or descending order using sort_values()\n",
    "fare = df.sort_values(by=\"Fare\", ascending=False)\n",
    "fare.head(10)"
   ]
  },
  {
   "cell_type": "code",
   "execution_count": 17,
   "id": "d7ca14f0-a1de-4b49-8402-092dbcebd244",
   "metadata": {},
   "outputs": [],
   "source": [
    "# Group by and Aggregation\n",
    "# groupby () and agg()\n",
    "# Calculate survival rates per passenger class\n",
    "grouped = df.groupby(\"Pclass\")[\"Survived\"].agg([\"count\"])"
   ]
  },
  {
   "cell_type": "code",
   "execution_count": 18,
   "id": "66b8839b-d81b-43d9-af6e-00d52405203c",
   "metadata": {},
   "outputs": [
    {
     "data": {
      "text/html": [
       "<div>\n",
       "<style scoped>\n",
       "    .dataframe tbody tr th:only-of-type {\n",
       "        vertical-align: middle;\n",
       "    }\n",
       "\n",
       "    .dataframe tbody tr th {\n",
       "        vertical-align: top;\n",
       "    }\n",
       "\n",
       "    .dataframe thead th {\n",
       "        text-align: right;\n",
       "    }\n",
       "</style>\n",
       "<table border=\"1\" class=\"dataframe\">\n",
       "  <thead>\n",
       "    <tr style=\"text-align: right;\">\n",
       "      <th></th>\n",
       "      <th>count</th>\n",
       "    </tr>\n",
       "    <tr>\n",
       "      <th>Pclass</th>\n",
       "      <th></th>\n",
       "    </tr>\n",
       "  </thead>\n",
       "  <tbody>\n",
       "    <tr>\n",
       "      <th>1</th>\n",
       "      <td>107</td>\n",
       "    </tr>\n",
       "    <tr>\n",
       "      <th>2</th>\n",
       "      <td>93</td>\n",
       "    </tr>\n",
       "    <tr>\n",
       "      <th>3</th>\n",
       "      <td>218</td>\n",
       "    </tr>\n",
       "  </tbody>\n",
       "</table>\n",
       "</div>"
      ],
      "text/plain": [
       "        count\n",
       "Pclass       \n",
       "1         107\n",
       "2          93\n",
       "3         218"
      ]
     },
     "execution_count": 18,
     "metadata": {},
     "output_type": "execute_result"
    }
   ],
   "source": [
    "grouped.head()"
   ]
  },
  {
   "cell_type": "code",
   "execution_count": 19,
   "id": "b18d43f2-8b7d-4770-a738-923bdc19ee32",
   "metadata": {},
   "outputs": [
    {
     "data": {
      "text/html": [
       "<div>\n",
       "<style scoped>\n",
       "    .dataframe tbody tr th:only-of-type {\n",
       "        vertical-align: middle;\n",
       "    }\n",
       "\n",
       "    .dataframe tbody tr th {\n",
       "        vertical-align: top;\n",
       "    }\n",
       "\n",
       "    .dataframe thead th {\n",
       "        text-align: right;\n",
       "    }\n",
       "</style>\n",
       "<table border=\"1\" class=\"dataframe\">\n",
       "  <thead>\n",
       "    <tr style=\"text-align: right;\">\n",
       "      <th></th>\n",
       "      <th>count</th>\n",
       "    </tr>\n",
       "    <tr>\n",
       "      <th>Pclass</th>\n",
       "      <th></th>\n",
       "    </tr>\n",
       "  </thead>\n",
       "  <tbody>\n",
       "    <tr>\n",
       "      <th>1</th>\n",
       "      <td>50</td>\n",
       "    </tr>\n",
       "    <tr>\n",
       "      <th>2</th>\n",
       "      <td>30</td>\n",
       "    </tr>\n",
       "    <tr>\n",
       "      <th>3</th>\n",
       "      <td>72</td>\n",
       "    </tr>\n",
       "  </tbody>\n",
       "</table>\n",
       "</div>"
      ],
      "text/plain": [
       "        count\n",
       "Pclass       \n",
       "1          50\n",
       "2          30\n",
       "3          72"
      ]
     },
     "execution_count": 19,
     "metadata": {},
     "output_type": "execute_result"
    }
   ],
   "source": [
    "survived_group = df[df[\"Survived\"] == 1]\n",
    "survived_group_data=survived_group.groupby(\"Pclass\")[\"Survived\"].agg([\"count\"])\n",
    "survived_group_data.head()"
   ]
  },
  {
   "cell_type": "code",
   "execution_count": null,
   "id": "fe57a6e2-b765-4658-9e20-65df95bd4266",
   "metadata": {},
   "outputs": [],
   "source": []
  },
  {
   "cell_type": "code",
   "execution_count": null,
   "id": "8bf40cb7-af4a-45fb-9942-112216123795",
   "metadata": {},
   "outputs": [],
   "source": []
  },
  {
   "cell_type": "code",
   "execution_count": 20,
   "id": "fb98e636-d1f2-4ccd-9152-c10824948215",
   "metadata": {},
   "outputs": [
    {
     "data": {
      "text/html": [
       "<div>\n",
       "<style scoped>\n",
       "    .dataframe tbody tr th:only-of-type {\n",
       "        vertical-align: middle;\n",
       "    }\n",
       "\n",
       "    .dataframe tbody tr th {\n",
       "        vertical-align: top;\n",
       "    }\n",
       "\n",
       "    .dataframe thead th {\n",
       "        text-align: right;\n",
       "    }\n",
       "</style>\n",
       "<table border=\"1\" class=\"dataframe\">\n",
       "  <thead>\n",
       "    <tr style=\"text-align: right;\">\n",
       "      <th></th>\n",
       "      <th>PassengerId</th>\n",
       "      <th>Survived</th>\n",
       "      <th>Pclass</th>\n",
       "      <th>Name</th>\n",
       "      <th>Sex</th>\n",
       "      <th>Age</th>\n",
       "      <th>SibSp</th>\n",
       "      <th>Parch</th>\n",
       "      <th>Ticket</th>\n",
       "      <th>Fare</th>\n",
       "      <th>Cabin</th>\n",
       "      <th>Embarked</th>\n",
       "      <th>Age_group</th>\n",
       "    </tr>\n",
       "  </thead>\n",
       "  <tbody>\n",
       "    <tr>\n",
       "      <th>0</th>\n",
       "      <td>892</td>\n",
       "      <td>0</td>\n",
       "      <td>3</td>\n",
       "      <td>Kelly, Mr. James</td>\n",
       "      <td>male</td>\n",
       "      <td>34.5</td>\n",
       "      <td>0</td>\n",
       "      <td>0</td>\n",
       "      <td>330911</td>\n",
       "      <td>7.8292</td>\n",
       "      <td>NaN</td>\n",
       "      <td>Q</td>\n",
       "      <td>Adult</td>\n",
       "    </tr>\n",
       "    <tr>\n",
       "      <th>1</th>\n",
       "      <td>893</td>\n",
       "      <td>1</td>\n",
       "      <td>3</td>\n",
       "      <td>Wilkes, Mrs. James (Ellen Needs)</td>\n",
       "      <td>female</td>\n",
       "      <td>47.0</td>\n",
       "      <td>1</td>\n",
       "      <td>0</td>\n",
       "      <td>363272</td>\n",
       "      <td>7.0000</td>\n",
       "      <td>NaN</td>\n",
       "      <td>S</td>\n",
       "      <td>Adult</td>\n",
       "    </tr>\n",
       "    <tr>\n",
       "      <th>2</th>\n",
       "      <td>894</td>\n",
       "      <td>0</td>\n",
       "      <td>2</td>\n",
       "      <td>Myles, Mr. Thomas Francis</td>\n",
       "      <td>male</td>\n",
       "      <td>62.0</td>\n",
       "      <td>0</td>\n",
       "      <td>0</td>\n",
       "      <td>240276</td>\n",
       "      <td>9.6875</td>\n",
       "      <td>NaN</td>\n",
       "      <td>Q</td>\n",
       "      <td>Senior</td>\n",
       "    </tr>\n",
       "    <tr>\n",
       "      <th>3</th>\n",
       "      <td>895</td>\n",
       "      <td>0</td>\n",
       "      <td>3</td>\n",
       "      <td>Wirz, Mr. Albert</td>\n",
       "      <td>male</td>\n",
       "      <td>27.0</td>\n",
       "      <td>0</td>\n",
       "      <td>0</td>\n",
       "      <td>315154</td>\n",
       "      <td>8.6625</td>\n",
       "      <td>NaN</td>\n",
       "      <td>S</td>\n",
       "      <td>Adult</td>\n",
       "    </tr>\n",
       "    <tr>\n",
       "      <th>4</th>\n",
       "      <td>896</td>\n",
       "      <td>1</td>\n",
       "      <td>3</td>\n",
       "      <td>Hirvonen, Mrs. Alexander (Helga E Lindqvist)</td>\n",
       "      <td>female</td>\n",
       "      <td>22.0</td>\n",
       "      <td>1</td>\n",
       "      <td>1</td>\n",
       "      <td>3101298</td>\n",
       "      <td>12.2875</td>\n",
       "      <td>NaN</td>\n",
       "      <td>S</td>\n",
       "      <td>Adult</td>\n",
       "    </tr>\n",
       "  </tbody>\n",
       "</table>\n",
       "</div>"
      ],
      "text/plain": [
       "   PassengerId  Survived  Pclass  \\\n",
       "0          892         0       3   \n",
       "1          893         1       3   \n",
       "2          894         0       2   \n",
       "3          895         0       3   \n",
       "4          896         1       3   \n",
       "\n",
       "                                           Name     Sex   Age  SibSp  Parch  \\\n",
       "0                              Kelly, Mr. James    male  34.5      0      0   \n",
       "1              Wilkes, Mrs. James (Ellen Needs)  female  47.0      1      0   \n",
       "2                     Myles, Mr. Thomas Francis    male  62.0      0      0   \n",
       "3                              Wirz, Mr. Albert    male  27.0      0      0   \n",
       "4  Hirvonen, Mrs. Alexander (Helga E Lindqvist)  female  22.0      1      1   \n",
       "\n",
       "    Ticket     Fare Cabin Embarked Age_group  \n",
       "0   330911   7.8292   NaN        Q     Adult  \n",
       "1   363272   7.0000   NaN        S     Adult  \n",
       "2   240276   9.6875   NaN        Q    Senior  \n",
       "3   315154   8.6625   NaN        S     Adult  \n",
       "4  3101298  12.2875   NaN        S     Adult  "
      ]
     },
     "execution_count": 20,
     "metadata": {},
     "output_type": "execute_result"
    }
   ],
   "source": [
    "# Feature Engineering\n",
    "# process of creating new columns from existing columns to imprve analysis and models\n",
    "df[\"Age_group\"] = pd.cut(df[\"Age\"], bins=[0, 12, 19, 59, 100], labels=[\"Child\", \"Teen\", \"Adult\", \"Senior\"])\n",
    "df.head()"
   ]
  },
  {
   "cell_type": "code",
   "execution_count": 21,
   "id": "9b873032-1b66-443b-9945-bc1e9074cd26",
   "metadata": {},
   "outputs": [
    {
     "data": {
      "text/html": [
       "<div>\n",
       "<style scoped>\n",
       "    .dataframe tbody tr th:only-of-type {\n",
       "        vertical-align: middle;\n",
       "    }\n",
       "\n",
       "    .dataframe tbody tr th {\n",
       "        vertical-align: top;\n",
       "    }\n",
       "\n",
       "    .dataframe thead th {\n",
       "        text-align: right;\n",
       "    }\n",
       "</style>\n",
       "<table border=\"1\" class=\"dataframe\">\n",
       "  <thead>\n",
       "    <tr style=\"text-align: right;\">\n",
       "      <th></th>\n",
       "      <th>PassengerId</th>\n",
       "      <th>Survived</th>\n",
       "      <th>Pclass</th>\n",
       "      <th>Name</th>\n",
       "      <th>Sex</th>\n",
       "      <th>Age</th>\n",
       "      <th>SibSp</th>\n",
       "      <th>Parch</th>\n",
       "      <th>Ticket</th>\n",
       "      <th>Fare</th>\n",
       "      <th>Cabin</th>\n",
       "      <th>Embarked</th>\n",
       "      <th>Age_group</th>\n",
       "      <th>A_group</th>\n",
       "    </tr>\n",
       "  </thead>\n",
       "  <tbody>\n",
       "    <tr>\n",
       "      <th>0</th>\n",
       "      <td>892</td>\n",
       "      <td>0</td>\n",
       "      <td>3</td>\n",
       "      <td>Kelly, Mr. James</td>\n",
       "      <td>male</td>\n",
       "      <td>34.5</td>\n",
       "      <td>0</td>\n",
       "      <td>0</td>\n",
       "      <td>330911</td>\n",
       "      <td>7.8292</td>\n",
       "      <td>NaN</td>\n",
       "      <td>Q</td>\n",
       "      <td>Adult</td>\n",
       "      <td>Adult</td>\n",
       "    </tr>\n",
       "    <tr>\n",
       "      <th>1</th>\n",
       "      <td>893</td>\n",
       "      <td>1</td>\n",
       "      <td>3</td>\n",
       "      <td>Wilkes, Mrs. James (Ellen Needs)</td>\n",
       "      <td>female</td>\n",
       "      <td>47.0</td>\n",
       "      <td>1</td>\n",
       "      <td>0</td>\n",
       "      <td>363272</td>\n",
       "      <td>7.0000</td>\n",
       "      <td>NaN</td>\n",
       "      <td>S</td>\n",
       "      <td>Adult</td>\n",
       "      <td>Adult</td>\n",
       "    </tr>\n",
       "    <tr>\n",
       "      <th>2</th>\n",
       "      <td>894</td>\n",
       "      <td>0</td>\n",
       "      <td>2</td>\n",
       "      <td>Myles, Mr. Thomas Francis</td>\n",
       "      <td>male</td>\n",
       "      <td>62.0</td>\n",
       "      <td>0</td>\n",
       "      <td>0</td>\n",
       "      <td>240276</td>\n",
       "      <td>9.6875</td>\n",
       "      <td>NaN</td>\n",
       "      <td>Q</td>\n",
       "      <td>Senior</td>\n",
       "      <td>Senior</td>\n",
       "    </tr>\n",
       "    <tr>\n",
       "      <th>3</th>\n",
       "      <td>895</td>\n",
       "      <td>0</td>\n",
       "      <td>3</td>\n",
       "      <td>Wirz, Mr. Albert</td>\n",
       "      <td>male</td>\n",
       "      <td>27.0</td>\n",
       "      <td>0</td>\n",
       "      <td>0</td>\n",
       "      <td>315154</td>\n",
       "      <td>8.6625</td>\n",
       "      <td>NaN</td>\n",
       "      <td>S</td>\n",
       "      <td>Adult</td>\n",
       "      <td>Adult</td>\n",
       "    </tr>\n",
       "    <tr>\n",
       "      <th>4</th>\n",
       "      <td>896</td>\n",
       "      <td>1</td>\n",
       "      <td>3</td>\n",
       "      <td>Hirvonen, Mrs. Alexander (Helga E Lindqvist)</td>\n",
       "      <td>female</td>\n",
       "      <td>22.0</td>\n",
       "      <td>1</td>\n",
       "      <td>1</td>\n",
       "      <td>3101298</td>\n",
       "      <td>12.2875</td>\n",
       "      <td>NaN</td>\n",
       "      <td>S</td>\n",
       "      <td>Adult</td>\n",
       "      <td>Adult</td>\n",
       "    </tr>\n",
       "  </tbody>\n",
       "</table>\n",
       "</div>"
      ],
      "text/plain": [
       "   PassengerId  Survived  Pclass  \\\n",
       "0          892         0       3   \n",
       "1          893         1       3   \n",
       "2          894         0       2   \n",
       "3          895         0       3   \n",
       "4          896         1       3   \n",
       "\n",
       "                                           Name     Sex   Age  SibSp  Parch  \\\n",
       "0                              Kelly, Mr. James    male  34.5      0      0   \n",
       "1              Wilkes, Mrs. James (Ellen Needs)  female  47.0      1      0   \n",
       "2                     Myles, Mr. Thomas Francis    male  62.0      0      0   \n",
       "3                              Wirz, Mr. Albert    male  27.0      0      0   \n",
       "4  Hirvonen, Mrs. Alexander (Helga E Lindqvist)  female  22.0      1      1   \n",
       "\n",
       "    Ticket     Fare Cabin Embarked Age_group A_group  \n",
       "0   330911   7.8292   NaN        Q     Adult   Adult  \n",
       "1   363272   7.0000   NaN        S     Adult   Adult  \n",
       "2   240276   9.6875   NaN        Q    Senior  Senior  \n",
       "3   315154   8.6625   NaN        S     Adult   Adult  \n",
       "4  3101298  12.2875   NaN        S     Adult   Adult  "
      ]
     },
     "execution_count": 21,
     "metadata": {},
     "output_type": "execute_result"
    }
   ],
   "source": [
    "# using if else statement\n",
    "def age_group(age):\n",
    "    if age >= 0 and age < 13:\n",
    "        return \"Child\"\n",
    "    elif age >= 13 and age < 20:\n",
    "        return \"Teen\"\n",
    "    elif age >= 20 and age < 60:\n",
    "        return \"Adult\"\n",
    "    else:\n",
    "        return \"Senior\"\n",
    "\n",
    "df[\"A_group\"] = df[\"Age\"].apply(age_group)\n",
    "df.head()"
   ]
  },
  {
   "cell_type": "code",
   "execution_count": 22,
   "id": "d9f92586-add2-49a0-ace0-76926ec67ad6",
   "metadata": {},
   "outputs": [
    {
     "data": {
      "text/html": [
       "<div>\n",
       "<style scoped>\n",
       "    .dataframe tbody tr th:only-of-type {\n",
       "        vertical-align: middle;\n",
       "    }\n",
       "\n",
       "    .dataframe tbody tr th {\n",
       "        vertical-align: top;\n",
       "    }\n",
       "\n",
       "    .dataframe thead th {\n",
       "        text-align: right;\n",
       "    }\n",
       "</style>\n",
       "<table border=\"1\" class=\"dataframe\">\n",
       "  <thead>\n",
       "    <tr style=\"text-align: right;\">\n",
       "      <th></th>\n",
       "      <th>PassengerId</th>\n",
       "      <th>Survived</th>\n",
       "      <th>Pclass</th>\n",
       "      <th>Name</th>\n",
       "      <th>Sex</th>\n",
       "      <th>Age</th>\n",
       "      <th>SibSp</th>\n",
       "      <th>Parch</th>\n",
       "      <th>Ticket</th>\n",
       "      <th>Fare</th>\n",
       "      <th>Cabin</th>\n",
       "      <th>Embarked</th>\n",
       "      <th>Age_group</th>\n",
       "      <th>A_group</th>\n",
       "      <th>Title</th>\n",
       "    </tr>\n",
       "  </thead>\n",
       "  <tbody>\n",
       "    <tr>\n",
       "      <th>0</th>\n",
       "      <td>892</td>\n",
       "      <td>0</td>\n",
       "      <td>3</td>\n",
       "      <td>Kelly, Mr. James</td>\n",
       "      <td>male</td>\n",
       "      <td>34.5</td>\n",
       "      <td>0</td>\n",
       "      <td>0</td>\n",
       "      <td>330911</td>\n",
       "      <td>7.8292</td>\n",
       "      <td>NaN</td>\n",
       "      <td>Q</td>\n",
       "      <td>Adult</td>\n",
       "      <td>Adult</td>\n",
       "      <td>Mr</td>\n",
       "    </tr>\n",
       "    <tr>\n",
       "      <th>1</th>\n",
       "      <td>893</td>\n",
       "      <td>1</td>\n",
       "      <td>3</td>\n",
       "      <td>Wilkes, Mrs. James (Ellen Needs)</td>\n",
       "      <td>female</td>\n",
       "      <td>47.0</td>\n",
       "      <td>1</td>\n",
       "      <td>0</td>\n",
       "      <td>363272</td>\n",
       "      <td>7.0000</td>\n",
       "      <td>NaN</td>\n",
       "      <td>S</td>\n",
       "      <td>Adult</td>\n",
       "      <td>Adult</td>\n",
       "      <td>Mrs</td>\n",
       "    </tr>\n",
       "    <tr>\n",
       "      <th>2</th>\n",
       "      <td>894</td>\n",
       "      <td>0</td>\n",
       "      <td>2</td>\n",
       "      <td>Myles, Mr. Thomas Francis</td>\n",
       "      <td>male</td>\n",
       "      <td>62.0</td>\n",
       "      <td>0</td>\n",
       "      <td>0</td>\n",
       "      <td>240276</td>\n",
       "      <td>9.6875</td>\n",
       "      <td>NaN</td>\n",
       "      <td>Q</td>\n",
       "      <td>Senior</td>\n",
       "      <td>Senior</td>\n",
       "      <td>Mr</td>\n",
       "    </tr>\n",
       "    <tr>\n",
       "      <th>3</th>\n",
       "      <td>895</td>\n",
       "      <td>0</td>\n",
       "      <td>3</td>\n",
       "      <td>Wirz, Mr. Albert</td>\n",
       "      <td>male</td>\n",
       "      <td>27.0</td>\n",
       "      <td>0</td>\n",
       "      <td>0</td>\n",
       "      <td>315154</td>\n",
       "      <td>8.6625</td>\n",
       "      <td>NaN</td>\n",
       "      <td>S</td>\n",
       "      <td>Adult</td>\n",
       "      <td>Adult</td>\n",
       "      <td>Mr</td>\n",
       "    </tr>\n",
       "    <tr>\n",
       "      <th>4</th>\n",
       "      <td>896</td>\n",
       "      <td>1</td>\n",
       "      <td>3</td>\n",
       "      <td>Hirvonen, Mrs. Alexander (Helga E Lindqvist)</td>\n",
       "      <td>female</td>\n",
       "      <td>22.0</td>\n",
       "      <td>1</td>\n",
       "      <td>1</td>\n",
       "      <td>3101298</td>\n",
       "      <td>12.2875</td>\n",
       "      <td>NaN</td>\n",
       "      <td>S</td>\n",
       "      <td>Adult</td>\n",
       "      <td>Adult</td>\n",
       "      <td>Mrs</td>\n",
       "    </tr>\n",
       "  </tbody>\n",
       "</table>\n",
       "</div>"
      ],
      "text/plain": [
       "   PassengerId  Survived  Pclass  \\\n",
       "0          892         0       3   \n",
       "1          893         1       3   \n",
       "2          894         0       2   \n",
       "3          895         0       3   \n",
       "4          896         1       3   \n",
       "\n",
       "                                           Name     Sex   Age  SibSp  Parch  \\\n",
       "0                              Kelly, Mr. James    male  34.5      0      0   \n",
       "1              Wilkes, Mrs. James (Ellen Needs)  female  47.0      1      0   \n",
       "2                     Myles, Mr. Thomas Francis    male  62.0      0      0   \n",
       "3                              Wirz, Mr. Albert    male  27.0      0      0   \n",
       "4  Hirvonen, Mrs. Alexander (Helga E Lindqvist)  female  22.0      1      1   \n",
       "\n",
       "    Ticket     Fare Cabin Embarked Age_group A_group Title  \n",
       "0   330911   7.8292   NaN        Q     Adult   Adult    Mr  \n",
       "1   363272   7.0000   NaN        S     Adult   Adult   Mrs  \n",
       "2   240276   9.6875   NaN        Q    Senior  Senior    Mr  \n",
       "3   315154   8.6625   NaN        S     Adult   Adult    Mr  \n",
       "4  3101298  12.2875   NaN        S     Adult   Adult   Mrs  "
      ]
     },
     "execution_count": 22,
     "metadata": {},
     "output_type": "execute_result"
    }
   ],
   "source": [
    "df[\"Title\"] = df[\"Name\"].apply(lambda name: name.split(\",\")[1].split(\".\")[0].strip())\n",
    "df.head()"
   ]
  },
  {
   "cell_type": "code",
   "execution_count": 24,
   "id": "a5d66686-3722-46c5-87f3-920739dbc8f7",
   "metadata": {},
   "outputs": [],
   "source": [
    "# merging dataframes\n",
    "# joining two dataframes(tables)\n",
    " \n",
    "# first dataframe df_1  it is a pandas dataframe\n",
    "df_1 = pd.DataFrame({\n",
    "    \"name\": [\"Brian\", \"Purity\", \"Zilipa\", \"lowell\", \"Derrick\"],\n",
    "    \"age\": [21, 30, 35, 22, 40],\n",
    "    \"id\": [1, 2, 3, 4, 5]\n",
    "})\n",
    "df_2 = pd.DataFrame({\n",
    "    \"fruit\": [\"Oranges\", \"Apples\", \"Bananas\", \"Mangoes\", \"Grapes\"],\n",
    "    \"gender\": [\"Male\", \"Female\", \"Female\", \"Female\", \"Male\"],\n",
    "    \"id\": [1, 2, 3, 4, 5]\n",
    "})"
   ]
  },
  {
   "cell_type": "code",
   "execution_count": 25,
   "id": "47bbfc0e-4ed5-4a32-a5c8-6e67424439ac",
   "metadata": {},
   "outputs": [
    {
     "data": {
      "text/html": [
       "<div>\n",
       "<style scoped>\n",
       "    .dataframe tbody tr th:only-of-type {\n",
       "        vertical-align: middle;\n",
       "    }\n",
       "\n",
       "    .dataframe tbody tr th {\n",
       "        vertical-align: top;\n",
       "    }\n",
       "\n",
       "    .dataframe thead th {\n",
       "        text-align: right;\n",
       "    }\n",
       "</style>\n",
       "<table border=\"1\" class=\"dataframe\">\n",
       "  <thead>\n",
       "    <tr style=\"text-align: right;\">\n",
       "      <th></th>\n",
       "      <th>name</th>\n",
       "      <th>age</th>\n",
       "      <th>id</th>\n",
       "    </tr>\n",
       "  </thead>\n",
       "  <tbody>\n",
       "    <tr>\n",
       "      <th>0</th>\n",
       "      <td>Brian</td>\n",
       "      <td>21</td>\n",
       "      <td>1</td>\n",
       "    </tr>\n",
       "    <tr>\n",
       "      <th>1</th>\n",
       "      <td>Purity</td>\n",
       "      <td>30</td>\n",
       "      <td>2</td>\n",
       "    </tr>\n",
       "    <tr>\n",
       "      <th>2</th>\n",
       "      <td>Zilipa</td>\n",
       "      <td>35</td>\n",
       "      <td>3</td>\n",
       "    </tr>\n",
       "    <tr>\n",
       "      <th>3</th>\n",
       "      <td>lowell</td>\n",
       "      <td>22</td>\n",
       "      <td>4</td>\n",
       "    </tr>\n",
       "    <tr>\n",
       "      <th>4</th>\n",
       "      <td>Derrick</td>\n",
       "      <td>40</td>\n",
       "      <td>5</td>\n",
       "    </tr>\n",
       "  </tbody>\n",
       "</table>\n",
       "</div>"
      ],
      "text/plain": [
       "      name  age  id\n",
       "0    Brian   21   1\n",
       "1   Purity   30   2\n",
       "2   Zilipa   35   3\n",
       "3   lowell   22   4\n",
       "4  Derrick   40   5"
      ]
     },
     "execution_count": 25,
     "metadata": {},
     "output_type": "execute_result"
    }
   ],
   "source": [
    "df_1.head()"
   ]
  },
  {
   "cell_type": "code",
   "execution_count": 26,
   "id": "5dd69646-5fd2-4828-b5e8-43c08affebeb",
   "metadata": {},
   "outputs": [
    {
     "data": {
      "text/html": [
       "<div>\n",
       "<style scoped>\n",
       "    .dataframe tbody tr th:only-of-type {\n",
       "        vertical-align: middle;\n",
       "    }\n",
       "\n",
       "    .dataframe tbody tr th {\n",
       "        vertical-align: top;\n",
       "    }\n",
       "\n",
       "    .dataframe thead th {\n",
       "        text-align: right;\n",
       "    }\n",
       "</style>\n",
       "<table border=\"1\" class=\"dataframe\">\n",
       "  <thead>\n",
       "    <tr style=\"text-align: right;\">\n",
       "      <th></th>\n",
       "      <th>fruit</th>\n",
       "      <th>gender</th>\n",
       "      <th>id</th>\n",
       "    </tr>\n",
       "  </thead>\n",
       "  <tbody>\n",
       "    <tr>\n",
       "      <th>0</th>\n",
       "      <td>Oranges</td>\n",
       "      <td>Male</td>\n",
       "      <td>1</td>\n",
       "    </tr>\n",
       "    <tr>\n",
       "      <th>1</th>\n",
       "      <td>Apples</td>\n",
       "      <td>Female</td>\n",
       "      <td>2</td>\n",
       "    </tr>\n",
       "    <tr>\n",
       "      <th>2</th>\n",
       "      <td>Bananas</td>\n",
       "      <td>Female</td>\n",
       "      <td>3</td>\n",
       "    </tr>\n",
       "    <tr>\n",
       "      <th>3</th>\n",
       "      <td>Mangoes</td>\n",
       "      <td>Female</td>\n",
       "      <td>4</td>\n",
       "    </tr>\n",
       "    <tr>\n",
       "      <th>4</th>\n",
       "      <td>Grapes</td>\n",
       "      <td>Male</td>\n",
       "      <td>5</td>\n",
       "    </tr>\n",
       "  </tbody>\n",
       "</table>\n",
       "</div>"
      ],
      "text/plain": [
       "     fruit  gender  id\n",
       "0  Oranges    Male   1\n",
       "1   Apples  Female   2\n",
       "2  Bananas  Female   3\n",
       "3  Mangoes  Female   4\n",
       "4   Grapes    Male   5"
      ]
     },
     "execution_count": 26,
     "metadata": {},
     "output_type": "execute_result"
    }
   ],
   "source": [
    "df_2.head()"
   ]
  },
  {
   "cell_type": "code",
   "execution_count": 27,
   "id": "b68e2aed-ebc7-4f3d-8b15-3388f8b98592",
   "metadata": {},
   "outputs": [
    {
     "data": {
      "text/html": [
       "<div>\n",
       "<style scoped>\n",
       "    .dataframe tbody tr th:only-of-type {\n",
       "        vertical-align: middle;\n",
       "    }\n",
       "\n",
       "    .dataframe tbody tr th {\n",
       "        vertical-align: top;\n",
       "    }\n",
       "\n",
       "    .dataframe thead th {\n",
       "        text-align: right;\n",
       "    }\n",
       "</style>\n",
       "<table border=\"1\" class=\"dataframe\">\n",
       "  <thead>\n",
       "    <tr style=\"text-align: right;\">\n",
       "      <th></th>\n",
       "      <th>name</th>\n",
       "      <th>age</th>\n",
       "      <th>id</th>\n",
       "      <th>fruit</th>\n",
       "      <th>gender</th>\n",
       "    </tr>\n",
       "  </thead>\n",
       "  <tbody>\n",
       "    <tr>\n",
       "      <th>0</th>\n",
       "      <td>Brian</td>\n",
       "      <td>21</td>\n",
       "      <td>1</td>\n",
       "      <td>Oranges</td>\n",
       "      <td>Male</td>\n",
       "    </tr>\n",
       "    <tr>\n",
       "      <th>1</th>\n",
       "      <td>Purity</td>\n",
       "      <td>30</td>\n",
       "      <td>2</td>\n",
       "      <td>Apples</td>\n",
       "      <td>Female</td>\n",
       "    </tr>\n",
       "    <tr>\n",
       "      <th>2</th>\n",
       "      <td>Zilipa</td>\n",
       "      <td>35</td>\n",
       "      <td>3</td>\n",
       "      <td>Bananas</td>\n",
       "      <td>Female</td>\n",
       "    </tr>\n",
       "    <tr>\n",
       "      <th>3</th>\n",
       "      <td>lowell</td>\n",
       "      <td>22</td>\n",
       "      <td>4</td>\n",
       "      <td>Mangoes</td>\n",
       "      <td>Female</td>\n",
       "    </tr>\n",
       "    <tr>\n",
       "      <th>4</th>\n",
       "      <td>Derrick</td>\n",
       "      <td>40</td>\n",
       "      <td>5</td>\n",
       "      <td>Grapes</td>\n",
       "      <td>Male</td>\n",
       "    </tr>\n",
       "  </tbody>\n",
       "</table>\n",
       "</div>"
      ],
      "text/plain": [
       "      name  age  id    fruit  gender\n",
       "0    Brian   21   1  Oranges    Male\n",
       "1   Purity   30   2   Apples  Female\n",
       "2   Zilipa   35   3  Bananas  Female\n",
       "3   lowell   22   4  Mangoes  Female\n",
       "4  Derrick   40   5   Grapes    Male"
      ]
     },
     "execution_count": 27,
     "metadata": {},
     "output_type": "execute_result"
    }
   ],
   "source": [
    "# merging df_1 ad df_2 using merge() function\n",
    "merged_df = pd.merge(df_1, df_2, on=\"id\")\n",
    "merged_df.head()"
   ]
  },
  {
   "cell_type": "code",
   "execution_count": null,
   "id": "856c9c6e-971a-42fd-945d-7ac3aebd0855",
   "metadata": {},
   "outputs": [],
   "source": [
    "## Data visualization\n",
    "# using charts to display the data\n",
    "# Matplotlib and seaborn are used\n",
    "# Matplotlib is used for general visualization bar chart, pie chart, line charts\n",
    "# seaborn is used for statistical visualization e.g histogram, bodeplots, countplots "
   ]
  },
  {
   "cell_type": "markdown",
   "id": "f17c99a2-8cc9-4a71-9cc7-79ea624e5aa1",
   "metadata": {},
   "source": [
    "\n"
   ]
  },
  {
   "cell_type": "code",
   "execution_count": 28,
   "id": "d3227557-9590-4e60-b187-9fda90b1c713",
   "metadata": {},
   "outputs": [
    {
     "data": {
      "image/png": "[encoded data removed]",
      "text/plain": [
       "<Figure size 640x480 with 1 Axes>"
      ]
     },
     "metadata": {},
     "output_type": "display_data"
    }
   ],
   "source": [
    "x = [1, 2, 3, 4, 5]\n",
    "y = [3, 4, 5, 6, 7]\n",
    "## y=x+2 mathematical representation\n",
    "# line chart\n",
    "plt.plot(x, y) \n",
    "plt.title(\"line_chart\")\n",
    "plt.show()"
   ]
  },
  {
   "cell_type": "code",
   "execution_count": 29,
   "id": "4247d830-4fc7-41bd-a52f-4aca96a2dd11",
   "metadata": {},
   "outputs": [
    {
     "data": {
      "image/png": "[encoded data removed]",
      "text/plain": [
       "<Figure size 640x480 with 1 Axes>"
      ]
     },
     "metadata": {},
     "output_type": "display_data"
    }
   ],
   "source": [
    "# plotting a histogram using hist()\n",
    "plt.hist(df[\"Age\"], bins=20)\n",
    "plt.title(\"Age Distribution\")\n",
    "plt.xlabel(\"Age\")\n",
    "plt.ylabel(\"Frequency\")\n",
    "plt.show()"
   ]
  },
  {
   "cell_type": "code",
   "execution_count": 31,
   "id": "614bb045-9c73-4851-b162-d1ad7922d88e",
   "metadata": {},
   "outputs": [
    {
     "data": {
      "image/png": "[encoded data removed]",
      "text/plain": [
       "<Figure size 640x480 with 1 Axes>"
      ]
     },
     "metadata": {},
     "output_type": "display_data"
    }
   ],
   "source": [
    "# plotting using seaborn  histplot()\n",
    "sns.histplot(data = df, x =\"Age\",kde = True, color=\"purple\") # kde shows whether it is a normal distribution or not\n",
    "plt.title(\"Age Distribution\")\n",
    "plt.xlabel(\"Age\")\n",
    "plt.ylabel(\"Frequency\")\n",
    "plt.show()\n"
   ]
  },
  {
   "cell_type": "code",
   "execution_count": 32,
   "id": "bbdc327d-6c30-44c4-8998-188b06d4222a",
   "metadata": {},
   "outputs": [
    {
     "data": {
      "text/plain": [
       "<Axes: xlabel='Sex', ylabel='count'>"
      ]
     },
     "execution_count": 32,
     "metadata": {},
     "output_type": "execute_result"
    },
    {
     "data": {
      "image/png": "[encoded data removed]",
      "text/plain": [
       "<Figure size 640x480 with 1 Axes>"
      ]
     },
     "metadata": {},
     "output_type": "display_data"
    }
   ],
   "source": [
    "# count plot used with categorical data\n",
    "sns.countplot(data=df, x= \"Sex\", color = \"purple\")"
   ]
  },
  {
   "cell_type": "code",
   "execution_count": 33,
   "id": "e8e73b73-e4ca-48ca-8f4c-17208c8fa211",
   "metadata": {},
   "outputs": [
    {
     "data": {
      "text/plain": [
       "<Axes: xlabel='Pclass', ylabel='Fare'>"
      ]
     },
     "execution_count": 33,
     "metadata": {},
     "output_type": "execute_result"
    },
    {
     "data": {
      "image/png": "[encoded data removed]",
      "text/plain": [
       "<Figure size 640x480 with 1 Axes>"
      ]
     },
     "metadata": {},
     "output_type": "display_data"
    }
   ],
   "source": [
    "#boxplot is used for numerical data\n",
    "sns.boxplot(data=df, x = \"Pclass\", y=\"Fare\")"
   ]
  },
  {
   "cell_type": "code",
   "execution_count": 34,
   "id": "abcc8c14-4034-42a7-9556-bb3273cc43e8",
   "metadata": {},
   "outputs": [
    {
     "ename": "ValueError",
     "evalue": "could not convert string to float: 'Kelly, Mr. James'",
     "output_type": "error",
     "traceback": [
      "\u001b[31m---------------------------------------------------------------------------\u001b[39m",
      "\u001b[31mValueError\u001b[39m                                Traceback (most recent call last)",
      "\u001b[36mCell\u001b[39m\u001b[36m \u001b[39m\u001b[32mIn[34]\u001b[39m\u001b[32m, line 2\u001b[39m\n\u001b[32m      1\u001b[39m \u001b[38;5;66;03m## Correlation Matrix\u001b[39;00m\n\u001b[32m----> \u001b[39m\u001b[32m2\u001b[39m sns.heatmap(\u001b[43mdf\u001b[49m\u001b[43m.\u001b[49m\u001b[43mcorr\u001b[49m\u001b[43m(\u001b[49m\u001b[43m)\u001b[49m, annot = \u001b[38;5;28;01mFalse\u001b[39;00m, cmap = \u001b[33m\"\u001b[39m\u001b[33mviridis\u001b[39m\u001b[33m\"\u001b[39m)\n",
      "\u001b[36mFile \u001b[39m\u001b[32m~\\PyCharmMiscProject\\.venv\\Lib\\site-packages\\pandas\\core\\frame.py:11056\u001b[39m, in \u001b[36mDataFrame.corr\u001b[39m\u001b[34m(self, method, min_periods, numeric_only)\u001b[39m\n\u001b[32m  11054\u001b[39m cols = data.columns\n\u001b[32m  11055\u001b[39m idx = cols.copy()\n\u001b[32m> \u001b[39m\u001b[32m11056\u001b[39m mat = \u001b[43mdata\u001b[49m\u001b[43m.\u001b[49m\u001b[43mto_numpy\u001b[49m\u001b[43m(\u001b[49m\u001b[43mdtype\u001b[49m\u001b[43m=\u001b[49m\u001b[38;5;28;43mfloat\u001b[39;49m\u001b[43m,\u001b[49m\u001b[43m \u001b[49m\u001b[43mna_value\u001b[49m\u001b[43m=\u001b[49m\u001b[43mnp\u001b[49m\u001b[43m.\u001b[49m\u001b[43mnan\u001b[49m\u001b[43m,\u001b[49m\u001b[43m \u001b[49m\u001b[43mcopy\u001b[49m\u001b[43m=\u001b[49m\u001b[38;5;28;43;01mFalse\u001b[39;49;00m\u001b[43m)\u001b[49m\n\u001b[32m  11058\u001b[39m \u001b[38;5;28;01mif\u001b[39;00m method == \u001b[33m\"\u001b[39m\u001b[33mpearson\u001b[39m\u001b[33m\"\u001b[39m:\n\u001b[32m  11059\u001b[39m     correl = libalgos.nancorr(mat, minp=min_periods)\n",
      "\u001b[36mFile \u001b[39m\u001b[32m~\\PyCharmMiscProject\\.venv\\Lib\\site-packages\\pandas\\core\\frame.py:1998\u001b[39m, in \u001b[36mDataFrame.to_numpy\u001b[39m\u001b[34m(self, dtype, copy, na_value)\u001b[39m\n\u001b[32m   1996\u001b[39m \u001b[38;5;28;01mif\u001b[39;00m dtype \u001b[38;5;129;01mis\u001b[39;00m \u001b[38;5;129;01mnot\u001b[39;00m \u001b[38;5;28;01mNone\u001b[39;00m:\n\u001b[32m   1997\u001b[39m     dtype = np.dtype(dtype)\n\u001b[32m-> \u001b[39m\u001b[32m1998\u001b[39m result = \u001b[38;5;28;43mself\u001b[39;49m\u001b[43m.\u001b[49m\u001b[43m_mgr\u001b[49m\u001b[43m.\u001b[49m\u001b[43mas_array\u001b[49m\u001b[43m(\u001b[49m\u001b[43mdtype\u001b[49m\u001b[43m=\u001b[49m\u001b[43mdtype\u001b[49m\u001b[43m,\u001b[49m\u001b[43m \u001b[49m\u001b[43mcopy\u001b[49m\u001b[43m=\u001b[49m\u001b[43mcopy\u001b[49m\u001b[43m,\u001b[49m\u001b[43m \u001b[49m\u001b[43mna_value\u001b[49m\u001b[43m=\u001b[49m\u001b[43mna_value\u001b[49m\u001b[43m)\u001b[49m\n\u001b[32m   1999\u001b[39m \u001b[38;5;28;01mif\u001b[39;00m result.dtype \u001b[38;5;129;01mis\u001b[39;00m \u001b[38;5;129;01mnot\u001b[39;00m dtype:\n\u001b[32m   2000\u001b[39m     result = np.asarray(result, dtype=dtype)\n",
      "\u001b[36mFile \u001b[39m\u001b[32m~\\PyCharmMiscProject\\.venv\\Lib\\site-packages\\pandas\\core\\internals\\managers.py:1694\u001b[39m, in \u001b[36mBlockManager.as_array\u001b[39m\u001b[34m(self, dtype, copy, na_value)\u001b[39m\n\u001b[32m   1692\u001b[39m         arr.flags.writeable = \u001b[38;5;28;01mFalse\u001b[39;00m\n\u001b[32m   1693\u001b[39m \u001b[38;5;28;01melse\u001b[39;00m:\n\u001b[32m-> \u001b[39m\u001b[32m1694\u001b[39m     arr = \u001b[38;5;28;43mself\u001b[39;49m\u001b[43m.\u001b[49m\u001b[43m_interleave\u001b[49m\u001b[43m(\u001b[49m\u001b[43mdtype\u001b[49m\u001b[43m=\u001b[49m\u001b[43mdtype\u001b[49m\u001b[43m,\u001b[49m\u001b[43m \u001b[49m\u001b[43mna_value\u001b[49m\u001b[43m=\u001b[49m\u001b[43mna_value\u001b[49m\u001b[43m)\u001b[49m\n\u001b[32m   1695\u001b[39m     \u001b[38;5;66;03m# The underlying data was copied within _interleave, so no need\u001b[39;00m\n\u001b[32m   1696\u001b[39m     \u001b[38;5;66;03m# to further copy if copy=True or setting na_value\u001b[39;00m\n\u001b[32m   1698\u001b[39m \u001b[38;5;28;01mif\u001b[39;00m na_value \u001b[38;5;129;01mis\u001b[39;00m lib.no_default:\n",
      "\u001b[36mFile \u001b[39m\u001b[32m~\\PyCharmMiscProject\\.venv\\Lib\\site-packages\\pandas\\core\\internals\\managers.py:1753\u001b[39m, in \u001b[36mBlockManager._interleave\u001b[39m\u001b[34m(self, dtype, na_value)\u001b[39m\n\u001b[32m   1751\u001b[39m     \u001b[38;5;28;01melse\u001b[39;00m:\n\u001b[32m   1752\u001b[39m         arr = blk.get_values(dtype)\n\u001b[32m-> \u001b[39m\u001b[32m1753\u001b[39m     \u001b[43mresult\u001b[49m\u001b[43m[\u001b[49m\u001b[43mrl\u001b[49m\u001b[43m.\u001b[49m\u001b[43mindexer\u001b[49m\u001b[43m]\u001b[49m = arr\n\u001b[32m   1754\u001b[39m     itemmask[rl.indexer] = \u001b[32m1\u001b[39m\n\u001b[32m   1756\u001b[39m \u001b[38;5;28;01mif\u001b[39;00m \u001b[38;5;129;01mnot\u001b[39;00m itemmask.all():\n",
      "\u001b[31mValueError\u001b[39m: could not convert string to float: 'Kelly, Mr. James'"
     ]
    }
   ],
   "source": [
    "## Correlation Matrix\n",
    "sns.heatmap(df.corr(), annot = False, cmap = \"viridis\")"
   ]
  },
  {
   "cell_type": "code",
   "execution_count": 35,
   "id": "f5cadeb1-05eb-4f39-b124-f93f53f997f9",
   "metadata": {},
   "outputs": [],
   "source": [
    "numerical_column = df[[\"Age\", \"SibSp\", \"Fare\"]]\n"
   ]
  },
  {
   "cell_type": "code",
   "execution_count": 38,
   "id": "c5fbe6e5-0671-4431-b49d-f28df415971b",
   "metadata": {},
   "outputs": [
    {
     "data": {
      "text/plain": [
       "<Axes: >"
      ]
     },
     "execution_count": 38,
     "metadata": {},
     "output_type": "execute_result"
    },
    {
     "data": {
      "image/png": "[encoded data removed]",
      "text/plain": [
       "<Figure size 640x480 with 2 Axes>"
      ]
     },
     "metadata": {},
     "output_type": "display_data"
    }
   ],
   "source": [
    "sns.heatmap(numerical_column.corr(), annot = True, cmap = \"viridis\")\n",
    "# -1 Strong -ve correlation, 0 no correlation, 1 perfect correlation"
   ]
  },
  {
   "cell_type": "code",
   "execution_count": 4,
   "id": "ac28b202-6e34-4219-a7cc-4ec62b4223b5",
   "metadata": {},
   "outputs": [
    {
     "data": {
      "text/plain": [
       "set"
      ]
     },
     "execution_count": 4,
     "metadata": {},
     "output_type": "execute_result"
    }
   ],
   "source": [
    "# Statistics class\n",
    "\"\"\"\n",
    "-A set is a collection of well-defined distinct objects\n",
    "\"\"\"\n",
    "set_1={1, 2, 3, 4, 5}\n",
    "set_2={4, 5, 6, 7, 8}\n",
    "set_3={1, 2, 3, 4, 5}\n",
    "set_4={1, 2, 3}\n",
    "set_5={6, 7, 8}\n",
    "\n",
    "type(set_1)"
   ]
  },
  {
   "cell_type": "code",
   "execution_count": 2,
   "id": "cc490de9-6f7d-4b49-8aa0-a6b3e2046020",
   "metadata": {},
   "outputs": [
    {
     "data": {
      "text/plain": [
       "True"
      ]
     },
     "execution_count": 2,
     "metadata": {},
     "output_type": "execute_result"
    }
   ],
   "source": [
    "# set membership- An element is said to be in a set. operator in is used to check\n",
    "2 in set_1"
   ]
  },
  {
   "cell_type": "code",
   "execution_count": null,
   "id": "33b363a4-dde5-4a20-92bd-cb6a14fbfb2b",
   "metadata": {},
   "outputs": [],
   "source": [
    "# Universal Set\n",
    "# A set is said to be a universal set when it is a collection of all possible outcomes in a certain context\n",
    "# e.g all countries in the word are sets, the universal set is the planet\n",
    "# Denoted by omega\n",
    "# it can have an infinite number of possible outcomes e.g a set of real numbers, natural numbers"
   ]
  },
  {
   "cell_type": "code",
   "execution_count": null,
   "id": "4779e872-6977-444d-b71a-070f660a38c9",
   "metadata": {},
   "outputs": [],
   "source": [
    "##Empty sets\n",
    "# denoted by phi\n",
    "# it has no elements"
   ]
  },
  {
   "cell_type": "code",
   "execution_count": null,
   "id": "f9ed7489-0b35-4901-be83-44c1c2f08053",
   "metadata": {},
   "outputs": [],
   "source": [
    "### Subsets\n",
    "# a set T is said to be a subset of S if every element of t is also in s\n",
    "# Subset is denoted by issubset()"
   ]
  },
  {
   "cell_type": "code",
   "execution_count": 5,
   "id": "8deee6db-455d-437f-beea-86ffb672d0ed",
   "metadata": {},
   "outputs": [
    {
     "data": {
      "text/plain": [
       "True"
      ]
     },
     "execution_count": 5,
     "metadata": {},
     "output_type": "execute_result"
    }
   ],
   "source": [
    "set_3.issubset(set_1)"
   ]
  },
  {
   "cell_type": "code",
   "execution_count": 6,
   "id": "b79e9199-bb86-40f2-88c3-2ee03d4d80de",
   "metadata": {},
   "outputs": [
    {
     "data": {
      "text/plain": [
       "True"
      ]
     },
     "execution_count": 6,
     "metadata": {},
     "output_type": "execute_result"
    }
   ],
   "source": [
    "set_4.issubset(set_1)"
   ]
  },
  {
   "cell_type": "code",
   "execution_count": null,
   "id": "6452b95a-dcb2-4362-8206-7034104e1048",
   "metadata": {},
   "outputs": [],
   "source": [
    "# comparison operators can be used to check if something is a subset or not"
   ]
  },
  {
   "cell_type": "code",
   "execution_count": null,
   "id": "26e240ec-0672-4524-a4f6-3e04bffad1a1",
   "metadata": {},
   "outputs": [],
   "source": [
    "## Proper subsets\n",
    "# a set T is a proper subset of set S if every element of set T is also the same in set S\n",
    "# and the two sets do not contain the same exact elements\n",
    "# '<' represents a proper subset"
   ]
  },
  {
   "cell_type": "code",
   "execution_count": 7,
   "id": "eba767ae-27d5-4bfb-ac08-cff368182d3e",
   "metadata": {},
   "outputs": [
    {
     "data": {
      "text/plain": [
       "True"
      ]
     },
     "execution_count": 7,
     "metadata": {},
     "output_type": "execute_result"
    }
   ],
   "source": [
    "set_5<set_2"
   ]
  },
  {
   "cell_type": "code",
   "execution_count": null,
   "id": "9bd3109b-bc7e-456c-884e-1b494ff8f433",
   "metadata": {},
   "outputs": [],
   "source": [
    "## Super set \n",
    "# It's the inverse of a subset\n",
    "# issuperset() and operator >=\n",
    "\n",
    "# set_1 is a superset for set_3 and set_4\n",
    "# set_1 is a proper superset for set_4"
   ]
  },
  {
   "cell_type": "code",
   "execution_count": 9,
   "id": "25e28a85-74f2-4ca4-ad7c-5d14cbcf0f71",
   "metadata": {},
   "outputs": [
    {
     "data": {
      "text/plain": [
       "True"
      ]
     },
     "execution_count": 9,
     "metadata": {},
     "output_type": "execute_result"
    }
   ],
   "source": [
    "set_1>=set_4"
   ]
  },
  {
   "cell_type": "code",
   "execution_count": null,
   "id": "bd5f6327-bed1-4af1-8e6f-c438fb4cdcc0",
   "metadata": {},
   "outputs": [],
   "source": [
    "## Core set operators\n",
    "# Union : a union of two sets  S and T is a set of either S or T or in Both\n",
    "# | operator or .union is used to get the union of 2 sets\n",
    " \n"
   ]
  },
  {
   "cell_type": "code",
   "execution_count": 10,
   "id": "53e51b06-32d2-4c09-89a0-0db0a14d7d2d",
   "metadata": {},
   "outputs": [
    {
     "data": {
      "text/plain": [
       "{1, 2, 3, 4, 5, 6, 7, 8}"
      ]
     },
     "execution_count": 10,
     "metadata": {},
     "output_type": "execute_result"
    }
   ],
   "source": [
    "set_1 | set_2"
   ]
  },
  {
   "cell_type": "code",
   "execution_count": 11,
   "id": "4e0afe40-3560-4bbb-b792-6c049a2170b4",
   "metadata": {},
   "outputs": [
    {
     "data": {
      "text/plain": [
       "{1, 2, 3, 4, 5, 6, 7, 8}"
      ]
     },
     "execution_count": 11,
     "metadata": {},
     "output_type": "execute_result"
    }
   ],
   "source": [
    "set_1.union(set_2)"
   ]
  },
  {
   "cell_type": "code",
   "execution_count": null,
   "id": "166d2cf5-b66a-4953-aa7b-dc4329e41774",
   "metadata": {},
   "outputs": [],
   "source": [
    "# Intersection of two sets\n",
    "# It is a set that contains the common values of two or more sets"
   ]
  },
  {
   "cell_type": "code",
   "execution_count": 14,
   "id": "ebd8ed55-351e-4205-92f1-5dc75aeb70fb",
   "metadata": {},
   "outputs": [
    {
     "data": {
      "text/plain": [
       "{4, 5}"
      ]
     },
     "execution_count": 14,
     "metadata": {},
     "output_type": "execute_result"
    }
   ],
   "source": [
    "set_1.intersection(set_2)"
   ]
  },
  {
   "cell_type": "code",
   "execution_count": 15,
   "id": "ef965cec-bb18-494b-828e-9e6bdc180bdb",
   "metadata": {},
   "outputs": [
    {
     "data": {
      "text/plain": [
       "{4, 5}"
      ]
     },
     "execution_count": 15,
     "metadata": {},
     "output_type": "execute_result"
    }
   ],
   "source": [
    "set_1 & set_2"
   ]
  },
  {
   "cell_type": "code",
   "execution_count": null,
   "id": "e7da779b-dc8b-4870-a542-4a1e52e48656",
   "metadata": {},
   "outputs": [],
   "source": [
    "# Read on complements"
   ]
  },
  {
   "cell_type": "code",
   "execution_count": null,
   "id": "5d1ecc39-3ce1-4cf0-8e81-d635d624616f",
   "metadata": {},
   "outputs": [],
   "source": [
    "### Inclusion-Exclusion Principle\n",
    "# it is the cardinality of set s added to the cardinality of set T\n",
    "# Cardinality  is the number of elements in the set\n",
    "# S union T is basically S + T(intersection of S and T)\n",
    "# to avoid double counting we use the inclusion-exclusion principle\n"
   ]
  },
  {
   "cell_type": "code",
   "execution_count": null,
   "id": "c7664cca-c7d1-4138-9a9e-ee8687ee6294",
   "metadata": {},
   "outputs": [],
   "source": [
    "# Probability Theory\n",
    "# Probability is the likelihood of an event to occur\n",
    "# \n"
   ]
  },
  {
   "cell_type": "code",
   "execution_count": 2,
   "id": "6bf6b1e3-70fe-415c-b179-66ddc241dc03",
   "metadata": {},
   "outputs": [
    {
     "name": "stdout",
     "output_type": "stream",
     "text": [
      "62.45\n"
     ]
    }
   ],
   "source": [
    "## Calculating the confidence Interval\n",
    "import numpy as np\n",
    "sample_chol_levels = [66.0, 36.0, 73.0, 48.0, 81.0, 69.0, 75.0, 81.0, 73.0,\n",
    "                     69.0, 101.0, 70.0, 50.0, 42.0, 36.0, 71.0, 65.0, 43.0, 76.0, 24.0]\n",
    "\n",
    "x_bar=np.mean(sample_chol_levels)\n",
    "print(x_bar)\n"
   ]
  },
  {
   "cell_type": "code",
   "execution_count": 3,
   "id": "c38b9f2e-acd9-4a99-bde4-90bbeb841eac",
   "metadata": {},
   "outputs": [
    {
     "name": "stdout",
     "output_type": "stream",
     "text": [
      "19.209304214912432\n"
     ]
    }
   ],
   "source": [
    "# Calculating sample Std dev\n",
    "s = np.std(sample_chol_levels, ddof=1)\n",
    "print(s)"
   ]
  },
  {
   "cell_type": "code",
   "execution_count": 4,
   "id": "ccc6098c-171e-44db-b7dd-f18b1029a90f",
   "metadata": {},
   "outputs": [
    {
     "name": "stdout",
     "output_type": "stream",
     "text": [
      "4.295331002501743\n"
     ]
    }
   ],
   "source": [
    "#Calculating the std error\n",
    "std_error = s/np.sqrt(len(sample_chol_levels))\n",
    "print(std_error)"
   ]
  },
  {
   "cell_type": "code",
   "execution_count": 5,
   "id": "ef41959e-4724-4211-92f3-9966aef2d818",
   "metadata": {},
   "outputs": [
    {
     "data": {
      "text/plain": [
       "(np.float64(53.4597688901183), np.float64(71.44023110988171))"
      ]
     },
     "execution_count": 5,
     "metadata": {},
     "output_type": "execute_result"
    }
   ],
   "source": [
    "from scipy import stats\n",
    "stats.t.interval(\n",
    "    confidence=0.95,\n",
    "    df=len(sample_chol_levels) -1,\n",
    "    loc=x_bar,\n",
    "    scale=std_error\n",
    ")"
   ]
  },
  {
   "cell_type": "code",
   "execution_count": 6,
   "id": "7a9dcd12-b650-40ba-a0e1-30be316f450b",
   "metadata": {},
   "outputs": [
    {
     "data": {
      "text/plain": [
       "(np.float64(55.02280222722927), np.float64(69.87719777277073))"
      ]
     },
     "execution_count": 6,
     "metadata": {},
     "output_type": "execute_result"
    }
   ],
   "source": [
    "# 90% Confidence level\n",
    "stats.t.interval(\n",
    "    confidence=0.9,\n",
    "    df=len(sample_chol_levels) -1,\n",
    "    loc=x_bar,\n",
    "    scale=std_error\n",
    ")"
   ]
  },
  {
   "cell_type": "code",
   "execution_count": 7,
   "id": "08239fd6-34ec-495b-8897-1a2e54d7e0f2",
   "metadata": {},
   "outputs": [
    {
     "name": "stdout",
     "output_type": "stream",
     "text": [
      "53.91288707066547\n"
     ]
    }
   ],
   "source": [
    "# Generate random data that is normally distributed\n",
    "# mean 54, std error 17, n=1000\n",
    "spl_cholesterol_level = np.random.normal(loc=54, scale=17, size = 1000)\n",
    "x_bar_1 = np.mean(spl_cholesterol_level)\n",
    "print(x_bar_1)"
   ]
  },
  {
   "cell_type": "code",
   "execution_count": 8,
   "id": "5027a93f-6328-4b95-8226-56b83b284a14",
   "metadata": {},
   "outputs": [
    {
     "name": "stdout",
     "output_type": "stream",
     "text": [
      "17.389901758883394\n"
     ]
    }
   ],
   "source": [
    "s_dev = np.std(spl_cholesterol_level, ddof=1)\n",
    "print(s_dev)\n"
   ]
  },
  {
   "cell_type": "code",
   "execution_count": 11,
   "id": "4c0175af-b98e-44e5-86a4-ff00788c083d",
   "metadata": {},
   "outputs": [
    {
     "name": "stdout",
     "output_type": "stream",
     "text": [
      "0.5499169784463976\n"
     ]
    }
   ],
   "source": [
    "# std error\n",
    "s_error=s_dev/np.sqrt(len(spl_cholesterol_level))\n",
    "print(s_error)"
   ]
  },
  {
   "cell_type": "code",
   "execution_count": 13,
   "id": "4a8690f7-aa99-4936-9e8d-4c4dbeb7e12d",
   "metadata": {},
   "outputs": [
    {
     "data": {
      "text/plain": [
       "(np.float64(52.83376218367887), np.float64(54.99201195765207))"
      ]
     },
     "execution_count": 13,
     "metadata": {},
     "output_type": "execute_result"
    }
   ],
   "source": [
    "# 95% confidence level\n",
    "stats.t.interval(\n",
    "    confidence=0.95,\n",
    "    df=len(spl_cholesterol_level) -1,\n",
    "    loc = x_bar_1,\n",
    "    scale=s_error\n",
    ")\n",
    "# out of 100 samples, 95 of them have true population parameter, i.e the mean"
   ]
  },
  {
   "cell_type": "code",
   "execution_count": 14,
   "id": "b8caa903-c67d-46ee-b456-8935836f7eb1",
   "metadata": {},
   "outputs": [],
   "source": [
    "## Statistical significance\n",
    "sample = np.array([15.46097664, 15.5930238, 19.55426936, 16.54231132, 18.40712884,\n",
    "                  13.33092129, 13.79141786, 12.44315636, 15.70385525, 12.48722755,\n",
    "                  15.02334988, 14.55826229, 16.64212199, 16.50657618, 13.44759329])"
   ]
  },
  {
   "cell_type": "code",
   "execution_count": 15,
   "id": "a7b7cfb8-669f-46e8-b293-83d5558a8165",
   "metadata": {},
   "outputs": [
    {
     "name": "stdout",
     "output_type": "stream",
     "text": [
      "15.299479459999997\n"
     ]
    }
   ],
   "source": [
    "point_1=sample.mean()\n",
    "print(point_1)"
   ]
  },
  {
   "cell_type": "code",
   "execution_count": 18,
   "id": "5627a9f0-0de6-4442-8328-dfc26b070da6",
   "metadata": {},
   "outputs": [
    {
     "data": {
      "text/plain": [
       "(np.float64(8.965893316363942), np.float64(21.63306560911879))"
      ]
     },
     "execution_count": 18,
     "metadata": {},
     "output_type": "execute_result"
    }
   ],
   "source": [
    "#confidence Level 99.999999\n",
    "stats.t.interval(\n",
    "    confidence=0.99999999,\n",
    "    df=len(sample) - 1,\n",
    "    loc=point_1,\n",
    "    scale=stats.sem(sample)\n",
    ")"
   ]
  },
  {
   "cell_type": "code",
   "execution_count": 19,
   "id": "784b635d-5111-47b2-9c66-2e8ed38b425d",
   "metadata": {},
   "outputs": [
    {
     "data": {
      "text/plain": [
       "(np.float64(13.102736511828336), np.float64(17.49622240817169))"
      ]
     },
     "execution_count": 19,
     "metadata": {},
     "output_type": "execute_result"
    }
   ],
   "source": [
    "stats.t.interval(\n",
    "    confidence=0.999,\n",
    "    df=len(sample) -1,\n",
    "    loc=point_1,\n",
    "    scale=stats.sem(sample)\n",
    ")\n",
    "#out of 100 samples 99.9 samples contain the true mean"
   ]
  },
  {
   "cell_type": "code",
   "execution_count": 6,
   "id": "58cc9fe0-a133-4654-9bf3-5e29dd9748f9",
   "metadata": {},
   "outputs": [],
   "source": [
    "#Z-core and P-value\n",
    "\n",
    "from scipy import stats"
   ]
  },
  {
   "cell_type": "code",
   "execution_count": 4,
   "id": "39e69df0-afbb-451a-9936-6b16c8c2d615",
   "metadata": {},
   "outputs": [
    {
     "name": "stdout",
     "output_type": "stream",
     "text": [
      "0.9331927987311419\n"
     ]
    }
   ],
   "source": [
    "# Calculating probability up to 1.5\n",
    "print(stats.norm.cdf(1.5))"
   ]
  },
  {
   "cell_type": "raw",
   "id": "fee70427-5620-4538-ae80-3fbf1e0ff9fc",
   "metadata": {},
   "source": []
  },
  {
   "cell_type": "code",
   "execution_count": 8,
   "id": "7523ce23-3165-4417-abec-2ae50f286e87",
   "metadata": {},
   "outputs": [
    {
     "name": "stdout",
     "output_type": "stream",
     "text": [
      "0.06680720126885809\n"
     ]
    }
   ],
   "source": [
    "# Probabilities greater than z core of >= 1.5\n",
    "# this is the P value\n",
    "print(1-stats.norm.cdf(1.5))"
   ]
  },
  {
   "cell_type": "code",
   "execution_count": 4,
   "id": "ded1de34-ee8a-4051-82c6-ed51db200010",
   "metadata": {},
   "outputs": [
    {
     "name": "stdout",
     "output_type": "stream",
     "text": [
      "1.1858541225631423\n"
     ]
    }
   ],
   "source": [
    "# One sample Z test\n",
    "import numpy as np\n",
    "iq = 103\n",
    "mu = 100\n",
    "sigma = 16\n",
    "n = 40\n",
    "z = (iq - mu)/(sigma /np.sqrt(40))\n",
    "print(z)"
   ]
  },
  {
   "cell_type": "code",
   "execution_count": 7,
   "id": "8d6a9024-54a2-450a-8e6c-6bf2313f2f5d",
   "metadata": {},
   "outputs": [
    {
     "data": {
      "image/png": "[encoded data removed]",
      "text/plain": [
       "<Figure size 640x480 with 1 Axes>"
      ]
     },
     "metadata": {},
     "output_type": "display_data"
    }
   ],
   "source": [
    "import numpy as np\n",
    "import matplotlib.pyplot as plt\n",
    "%matplotlib inline\n",
    "\n",
    "plt.style.use('seaborn-v0_8-whitegrid')\n",
    "plt.fill_between(x=np.arange(-4, 1.19, 0.01),\n",
    "                y1 = stats.norm.pdf(np.arange(-4, 1.19, 0.01)),\n",
    "                facecolor='red',\n",
    "                alpha=0.35,\n",
    "                label='Area below z-statistic'\n",
    "                )\n",
    "plt.fill_between(x=np.arange(1.19, 4, 0.01),\n",
    "                y1= stats.norm.pdf(np.arange(1.19, 4, 0.01)),\n",
    "                alpha=0.35,\n",
    "                label= 'Area above z-statistic')\n",
    "plt.legend()\n",
    "plt.title('z-statistic = 1.19')\n",
    "plt.show()"
   ]
  },
  {
   "cell_type": "code",
   "execution_count": 7,
   "id": "5257454a-66e8-48de-beda-7dbbf45fa27d",
   "metadata": {},
   "outputs": [
    {
     "data": {
      "text/plain": [
       "np.float64(0.8821600432854813)"
      ]
     },
     "execution_count": 7,
     "metadata": {},
     "output_type": "execute_result"
    }
   ],
   "source": [
    "stats.norm.cdf(z)"
   ]
  },
  {
   "cell_type": "code",
   "execution_count": 8,
   "id": "62072467-0370-4c79-8956-31bec31187e2",
   "metadata": {},
   "outputs": [
    {
     "name": "stdout",
     "output_type": "stream",
     "text": [
      "0.11783995671451875\n"
     ]
    }
   ],
   "source": [
    "pvalue = 1 - stats.norm.cdf(z)\n",
    "print(pvalue)"
   ]
  },
  {
   "cell_type": "code",
   "execution_count": 9,
   "id": "19539722-0312-4352-8d54-63cb56ac4120",
   "metadata": {},
   "outputs": [
    {
     "name": "stdout",
     "output_type": "stream",
     "text": [
      "3.0\n"
     ]
    }
   ],
   "source": [
    "x_bar = 75\n",
    "n2 = 36\n",
    "sd = 30\n",
    "mu2 = 60\n",
    "\n",
    "z_stat = (x_bar - mu2)/(sd/np.sqrt(n2))\n",
    "print(z_stat)"
   ]
  },
  {
   "cell_type": "code",
   "execution_count": 11,
   "id": "e2974d83-b182-4508-ab64-b8d74e0a522a",
   "metadata": {},
   "outputs": [
    {
     "name": "stdout",
     "output_type": "stream",
     "text": [
      "0.0013498980316301035\n"
     ]
    }
   ],
   "source": [
    "# p value\n",
    "p_value = 1 - stats.norm.cdf(z_stat)\n",
    "print(p_value)"
   ]
  },
  {
   "cell_type": "code",
   "execution_count": 9,
   "id": "9a7057af-1e7f-4f47-9b3b-bb0eba02fa08",
   "metadata": {},
   "outputs": [
    {
     "name": "stdout",
     "output_type": "stream",
     "text": [
      "1.8\n"
     ]
    }
   ],
   "source": [
    "sample = np.array([434, 694, 457, 534, 720, 400, 484, 478, 610, 641, 425, 636, 454, 514, 563, 370, 499, 640, 501, 625, 612, 471, 598, 509, 531])\n",
    "x_bar = sample.mean()\n",
    "n_3 = 25\n",
    "sd = 100\n",
    "mu_2 = 500\n",
    "z_stat = (x_bar - mu_2)/(sd/np.sqrt(n_3))\n",
    "print(z_stat)"
   ]
  },
  {
   "cell_type": "code",
   "execution_count": 10,
   "id": "1a3b72f3-3f32-4eec-a459-b86df5a41b3f",
   "metadata": {},
   "outputs": [
    {
     "name": "stdout",
     "output_type": "stream",
     "text": [
      "0.03593031911292577\n"
     ]
    }
   ],
   "source": [
    "p_value = 1 - stats.norm.cdf(z_stat)\n",
    "print(p_value)"
   ]
  },
  {
   "cell_type": "code",
   "execution_count": 1,
   "id": "97fb9e03-294a-49b0-852d-affb56b6ef64",
   "metadata": {},
   "outputs": [
    {
     "name": "stdout",
     "output_type": "stream",
     "text": [
      "109.5456\n"
     ]
    }
   ],
   "source": [
    "nu = 100\n",
    "sample = [122.09, 100.64, 125.77, 120.32, 118.25,\n",
    "         96.47, 111.4, 80.66, 110.77, 111.14,\n",
    "         102.9, 114.54, 88.09, 98.59, 87.07,\n",
    "         110.43, 101.9, 123.89, 97.03, 116.23,\n",
    "         108.3, 112.82, 119.57, 131.38, 128.39]\n",
    "sample_mean = sum(sample)/len(sample)\n",
    "print(sample_mean)"
   ]
  },
  {
   "cell_type": "code",
   "execution_count": 15,
   "id": "43bc002f-3ebc-4359-9fb4-045d15e851e4",
   "metadata": {},
   "outputs": [
    {
     "data": {
      "text/plain": [
       "np.float64(93.60332971285442)"
      ]
     },
     "execution_count": 15,
     "metadata": {},
     "output_type": "execute_result"
    }
   ],
   "source": [
    "nu = 100\n",
    "# Calculate standard deviation\n",
    "sample_mean = 109.5456\n",
    "sigma = np.std(sample, ddof=1)\n",
    "sigma"
   ]
  },
  {
   "cell_type": "code",
   "execution_count": 12,
   "id": "7749d5b1-41bd-4c6f-a3a6-55903656436b",
   "metadata": {},
   "outputs": [
    {
     "data": {
      "text/plain": [
       "24"
      ]
     },
     "execution_count": 12,
     "metadata": {},
     "output_type": "execute_result"
    }
   ],
   "source": [
    "n = 25\n",
    "\n",
    "# degrees of freedom\n",
    "df = n - 1\n",
    "df"
   ]
  },
  {
   "cell_type": "code",
   "execution_count": 16,
   "id": "19a0e374-3638-42d7-aa77-ff1b7cc81978",
   "metadata": {},
   "outputs": [
    {
     "data": {
      "text/plain": [
       "np.float64(0.5098963909341095)"
      ]
     },
     "execution_count": 16,
     "metadata": {},
     "output_type": "execute_result"
    }
   ],
   "source": [
    "# to calculate t statistic:\n",
    "t = (sample_mean - nu)/(sigma/np.sqrt(n))\n",
    "t"
   ]
  },
  {
   "cell_type": "code",
   "execution_count": 17,
   "id": "daae6edb-ea87-4cfa-8e6b-25449eb6044a",
   "metadata": {},
   "outputs": [
    {
     "data": {
      "text/plain": [
       "np.float64(1.7108820799094275)"
      ]
     },
     "execution_count": 17,
     "metadata": {},
     "output_type": "execute_result"
    }
   ],
   "source": [
    "# to get t critical value\n",
    "t_critical = stats.t.ppf(1-0.05, df=df)\n",
    "t_critical"
   ]
  },
  {
   "cell_type": "code",
   "execution_count": 54,
   "id": "8e333960-5c03-4676-994c-9fceaa07c539",
   "metadata": {},
   "outputs": [
    {
     "data": {
      "text/plain": [
       "TtestResult(statistic=np.float64(23.28976978369845), pvalue=np.float64(5.506936399841026e-18), df=np.int64(24))"
      ]
     },
     "execution_count": 54,
     "metadata": {},
     "output_type": "execute_result"
    }
   ],
   "source": [
    "# To calculate using ttest 1 samp:\n",
    "from scipy import stats\n",
    "import io\n",
    "import sys\n",
    "t_results = stats.ttest_1samp(a=sample, popmean=nu)\n",
    "t_results"
   ]
  },
  {
   "cell_type": "code",
   "execution_count": null,
   "id": "f0a797dd-83d9-4301-a433-aee6364662ca",
   "metadata": {},
   "outputs": [],
   "source": [
    "##Exercise\n",
    "#Create a function in python one-sample_ttest(sample, popmean, alpha) that will take in sample data(an array\n",
    "# of observations), the population mean and the alpha value to calculate and print out the t-statistic,\n",
    "#critical t - value, and p-value for the sample and identify if the results are significant or not. The \n",
    "#function should also create a visualisation using seaborn of the distribution to check for normality"
   ]
  },
  {
   "cell_type": "code",
   "execution_count": 58,
   "id": "68171917-1faf-4875-8301-36786b5ee56e",
   "metadata": {},
   "outputs": [],
   "source": [
    "def one_sample_ttest(sample, popmean, alpha):\n",
    "    buffer = io.StringIO() # buffer is used to capture print inside function to display them\n",
    "    sys.stdout = buffer\n",
    "    samplemean = np.mean(sample) # Calculate mean of sample\n",
    "    samplesd = np.std(sample, ddof=1) # calculate the standard deviation of sample\n",
    "    tstats = (samplemean - popmean)/ (samplesd/np.sqrt(len(sample))) # calculate tvalue\n",
    "    t_critical = stats.t.ppf(1-alpha, df=(len(sample)-1)) # gives tcritical\n",
    "    results = stats.ttest_1samp(a=sample, popmean=popmean) # to find pvalue\n",
    "    pvalue = results.pvalue # gives actual pvalue\n",
    "    print(f\"sample mean:{samplemean}\")\n",
    "    print(f\"standard deviation:{samplesd}\")\n",
    "    print(f\"t statistics: {tstats}\")\n",
    "    print(f\"t critical: {t_critical}\")\n",
    "    print(f\"p value: {pvalue}\")\n",
    "    if pvalue < alpha:\n",
    "        print(\"reject null hypothesis, conclude difference is statistically significant\")\n",
    "    else:\n",
    "        print(\"fail to reject null hypothesis, conclude the difference is not statistically significant\")\n",
    "    sys.stdout = sys.__stdout__ # resets the stdout to return the results\n",
    "    output = buffer.getvalue()\n",
    "    buffer.close()\n",
    "    return tstats, t_critical, pvalue, output"
   ]
  },
  {
   "cell_type": "code",
   "execution_count": 59,
   "id": "042e26dd-854a-439f-b60c-23f6debaaabc",
   "metadata": {},
   "outputs": [],
   "source": [
    "sample_data = [12, 11, 14, 10, 13, 15, 12, 14, 13, 11]\n",
    "popmean = 12\n",
    "alpha = 0.05"
   ]
  },
  {
   "cell_type": "code",
   "execution_count": 60,
   "id": "827abb7f-1386-4e0c-bf6d-5eb0f828bafc",
   "metadata": {},
   "outputs": [
    {
     "data": {
      "text/plain": [
       "(np.float64(1.0),\n",
       " np.float64(1.8331129326536333),\n",
       " np.float64(0.34343639613791355),\n",
       " 'sample mean:12.5\\nstandard deviation:1.5811388300841898\\nt statistics: 1.0\\nt critical: 1.8331129326536333\\np value: 0.34343639613791355\\nfail to reject null hypothesis, conclude the difference is not statistically significant\\n')"
      ]
     },
     "execution_count": 60,
     "metadata": {},
     "output_type": "execute_result"
    }
   ],
   "source": [
    "one_sample_ttest(sample_data, popmean, alpha)"
   ]
  },
  {
   "cell_type": "code",
   "execution_count": 3,
   "id": "7260aeae-0a54-45ed-bd87-1706c4e49889",
   "metadata": {},
   "outputs": [
    {
     "name": "stdout",
     "output_type": "stream",
     "text": [
      "100\n",
      "109.5456\n"
     ]
    }
   ],
   "source": [
    "# import the packages\n",
    "import numpy as np\n",
    "from scipy import stats\n",
    "import math\n",
    "\n",
    "training_sample =np.array([122.09, 100.64, 125.77, 120.32, 118.25,  96.47, 111.4 , 80.66,\n",
    "       110.77, 111.14, 102.9 , 114.54,  88.09,  98.59,  87.07, 110.43,\n",
    "       101.9 , 123.89,  97.03, 116.23, 108.3 , 112.82, 119.57, 131.38,\n",
    "       128.39])\n",
    "\n",
    "population_mean = 100\n",
    "sample_mean = np.mean(training_sample)\n",
    "print(population_mean)\n",
    "print(sample_mean)\n"
   ]
  },
  {
   "cell_type": "code",
   "execution_count": 4,
   "id": "104f7948-df33-402d-bee0-b97717df46f3",
   "metadata": {},
   "outputs": [
    {
     "name": "stdout",
     "output_type": "stream",
     "text": [
      "13.338774643871902\n"
     ]
    }
   ],
   "source": [
    "sample_std = np.std(training_sample, ddof = 1)\n",
    "print(sample_std)"
   ]
  },
  {
   "cell_type": "code",
   "execution_count": 5,
   "id": "7fa8d01a-1f72-49d7-92c8-877f22058671",
   "metadata": {},
   "outputs": [
    {
     "name": "stdout",
     "output_type": "stream",
     "text": [
      "25\n"
     ]
    }
   ],
   "source": [
    "n =len(training_sample)\n",
    "print(n)"
   ]
  },
  {
   "cell_type": "code",
   "execution_count": 6,
   "id": "e3e0a672-acbe-4df4-ac08-38640f84bf37",
   "metadata": {},
   "outputs": [
    {
     "name": "stdout",
     "output_type": "stream",
     "text": [
      "24\n"
     ]
    }
   ],
   "source": [
    "df = n-1\n",
    "print(df)"
   ]
  },
  {
   "cell_type": "code",
   "execution_count": 11,
   "id": "83ca3e52-1050-48a5-902d-643af713d2f6",
   "metadata": {},
   "outputs": [
    {
     "name": "stdout",
     "output_type": "stream",
     "text": [
      "3.578139767278185\n"
     ]
    }
   ],
   "source": [
    "t_calculated = (sample_mean - population_mean)/ (sample_std/np.sqrt(n))\n",
    "print(t_calculated)"
   ]
  },
  {
   "cell_type": "code",
   "execution_count": 8,
   "id": "1ca6ee7b-2b85-46b4-9806-c5ef103b1e7f",
   "metadata": {},
   "outputs": [
    {
     "name": "stdout",
     "output_type": "stream",
     "text": [
      "1.7108820799094275\n"
     ]
    }
   ],
   "source": [
    "# getting the T critical value.\n",
    "t_critical = stats.t.ppf(1-0.05, df=df)\n",
    "print(t_critical)"
   ]
  },
  {
   "cell_type": "code",
   "execution_count": null,
   "id": "77e9dc33-2441-4799-a5e6-4f97e0032d5e",
   "metadata": {},
   "outputs": [],
   "source": [
    "# Based on current evidence(t_calculated is greater than critical), we reject the null hypothesis and conclude that the training did work\n"
   ]
  },
  {
   "cell_type": "code",
   "execution_count": 12,
   "id": "d530fe4e-2d24-4f40-8c22-3082acc61f45",
   "metadata": {},
   "outputs": [
    {
     "name": "stdout",
     "output_type": "stream",
     "text": [
      "0.0007589472707557043\n"
     ]
    }
   ],
   "source": [
    "## survival function\n",
    "# Survival function can give us the p-value\n",
    "p_value2 = stats.t.sf(t_calculated,df=df)\n",
    "print(p_value2)"
   ]
  },
  {
   "cell_type": "code",
   "execution_count": null,
   "id": "69d4580b-01e1-493c-abf5-67b20da20667",
   "metadata": {},
   "outputs": [],
   "source": [
    "# based on theevidence(p_value < alpha) we reject the null hypothesis and conclude that the training worked.\n",
    "# if p-value > alpha: fail to reject the null hypothesis otherwise, reject"
   ]
  },
  {
   "cell_type": "code",
   "execution_count": 17,
   "id": "3cfbf2fd-16c8-4a61-bc75-08d21dd12afb",
   "metadata": {},
   "outputs": [],
   "source": [
    "# Question on one sample T test\n",
    "def one_sample_t_test(sample_data, pop_mean, alpha):\n",
    "    pop_mean = pop_mean\n",
    "    s_mean = np.mean(sample_data)\n",
    "    s_std = np.std(sample_data, ddof=1)\n",
    "    n_data = len(sample_data)\n",
    "    dof = n_data-1\n",
    "    t_calc = (s_mean - pop_mean)/(s_std/np.sqrt(n_data))\n",
    "    t_crit = stats.t.ppf(1- alpha, df=dof)\n",
    "    p_val = stats.t.sf(t_calc, df=dof)\n",
    "    return t_calc, t_crit, p_val\n",
    "\n"
   ]
  },
  {
   "cell_type": "code",
   "execution_count": 20,
   "id": "4b7e5706-9025-431f-9ba7-7241e4b851a7",
   "metadata": {},
   "outputs": [],
   "source": [
    "data = [84.0, 92.4, 74.3, 79.4, 86.7, 75.3, 80.9, 86.1, 81.0, 85.1,\n",
    "       78.7, 73.5, 86.9, 87.4, 82.7, 81.9, 69.9, 77.2, 79.3, 83.3]\n",
    "population_mean2 = 65\n",
    "alpha_1 = 0.05"
   ]
  },
  {
   "cell_type": "code",
   "execution_count": 21,
   "id": "072b0014-f8ef-4904-ac27-f1ca96862b18",
   "metadata": {},
   "outputs": [
    {
     "name": "stdout",
     "output_type": "stream",
     "text": [
      "(np.float64(13.202088288314906), np.float64(1.729132811521367), np.float64(2.5416808033411344e-11))\n"
     ]
    }
   ],
   "source": [
    "test1 = one_sample_t_test(data, population_mean2, alpha_1)\n",
    "print(test1)"
   ]
  },
  {
   "cell_type": "code",
   "execution_count": null,
   "id": "ee961aa1-705a-4dee-b74b-1ca05ef79364",
   "metadata": {},
   "outputs": [],
   "source": [
    "# based on the evidence(p_value < alpha) we reject the null hypothesis and conclude that thetraining worked"
   ]
  },
  {
   "cell_type": "code",
   "execution_count": 22,
   "id": "167e5d2c-5655-43bf-93dd-53db11332939",
   "metadata": {},
   "outputs": [],
   "source": [
    "control = np.array([166, 165, 120, 94, 104, 166, 98, 85, 97, 87, 114, 100, 152,\n",
    "                   87, 152, 102, 82, 80, 84, 109, 98, 154, 135, 164, 137, 128,\n",
    "                   122, 146, 86, 146, 85, 101, 100, 105, 163, 136, 142, 144, 140,\n",
    "                   128, 126, 119, 121, 126, 169, 87, 97, 167, 89, 155])\n",
    "experimental = np.array([83, 100, 123, 75, 130, 77, 78, 87, 116, 116, 141, 93, 107,\n",
    "                        101, 142, 152, 130, 123, 122, 154, 119, 149, 106, 107, 108, 151,\n",
    "                        97, 95, 104, 141, 80, 110, 136, 134, 142, 135, 111, 83, 86, \n",
    "                        116, 86, 117, 87, 143, 104, 107, 86, 88, 124, 76])"
   ]
  },
  {
   "cell_type": "code",
   "execution_count": 23,
   "id": "f03a05d9-7314-4007-908b-16ad38fd6ffb",
   "metadata": {},
   "outputs": [
    {
     "name": "stdout",
     "output_type": "stream",
     "text": [
      "121.2\n",
      "111.56\n"
     ]
    }
   ],
   "source": [
    "mean_control = np.mean(control)\n",
    "mean_experimental = np.mean(experimental)\n",
    "print(mean_control)\n",
    "print(mean_experimental)"
   ]
  },
  {
   "cell_type": "code",
   "execution_count": 24,
   "id": "c80ae863-489a-46f8-966f-a194ee114a75",
   "metadata": {},
   "outputs": [
    {
     "name": "stdout",
     "output_type": "stream",
     "text": [
      "795.92\n",
      "530.7664\n"
     ]
    }
   ],
   "source": [
    "variance_control = control.var()\n",
    "variance_experimental = experimental.var()\n",
    "print(variance_control)\n",
    "print(variance_experimental)"
   ]
  },
  {
   "cell_type": "code",
   "execution_count": 28,
   "id": "8887c5bd-0b7f-4a18-84ba-29144f7ec9b5",
   "metadata": {},
   "outputs": [
    {
     "name": "stdout",
     "output_type": "stream",
     "text": [
      "49\n",
      "49\n"
     ]
    }
   ],
   "source": [
    "df_control = len(control) - 1\n",
    "df_experimental = len(experimental) -1\n",
    "\n",
    "len_control = len(control)\n",
    "len_experimental = len(experimental)\n",
    "\n",
    "print(df_control)\n",
    "print(df_experimental)"
   ]
  },
  {
   "cell_type": "code",
   "execution_count": 27,
   "id": "3ccea335-b668-4e0d-99e0-6679659fa18a",
   "metadata": {},
   "outputs": [
    {
     "name": "stdout",
     "output_type": "stream",
     "text": [
      "663.3431999999999\n"
     ]
    }
   ],
   "source": [
    "pooled_variance = ((df_control*variance_control) + (df_experimental*variance_experimental)) / (df_control+df_experimental)\n",
    "\n",
    "print(pooled_variance)\n"
   ]
  },
  {
   "cell_type": "code",
   "execution_count": 32,
   "id": "03b57116-f93d-41b4-9bb6-923a93ca20f9",
   "metadata": {},
   "outputs": [
    {
     "name": "stdout",
     "output_type": "stream",
     "text": [
      "1.871448573829892\n"
     ]
    }
   ],
   "source": [
    "t_stat = (mean_control - mean_experimental)/np.sqrt(pooled_variance*((1/len_control)+(1/len_experimental)))\n",
    "\n",
    "print(t_stat)"
   ]
  },
  {
   "cell_type": "code",
   "execution_count": 33,
   "id": "09a8235c-7186-4e47-a3eb-74f27d0977da",
   "metadata": {},
   "outputs": [
    {
     "name": "stdout",
     "output_type": "stream",
     "text": [
      "0.06725918703358169\n"
     ]
    }
   ],
   "source": [
    "pooled_p_value = 2*(1-stats.t.cdf(t_stat, df=df_control))\n",
    "print(pooled_p_value)"
   ]
  },
  {
   "cell_type": "code",
   "execution_count": null,
   "id": "f690db44-2b59-45f0-8132-cb664d6d0482",
   "metadata": {},
   "outputs": [],
   "source": [
    "stats.t"
   ]
  },
  {
   "cell_type": "code",
   "execution_count": 1,
   "id": "9aadb4d7-c2ad-4774-b875-e192dd6f40ba",
   "metadata": {},
   "outputs": [
    {
     "name": "stdout",
     "output_type": "stream",
     "text": [
      "0.007999999999999995\n"
     ]
    }
   ],
   "source": [
    "# Binomial Distribution\n",
    "# probability they'll not score once\n",
    "p = 0.8\n",
    "n = 3\n",
    "k = 0\n",
    "import numpy as np\n",
    "import math\n",
    "\n",
    "# Calculating the probability they'll not score\n",
    "zero_score = math.comb(n, k)*(p**k)*((1-p)**(n-k))\n",
    "print(zero_score)\n"
   ]
  },
  {
   "cell_type": "code",
   "execution_count": 3,
   "id": "f0f1b44c-4bf1-4b74-a249-9b852369b9e8",
   "metadata": {},
   "outputs": [
    {
     "name": "stdout",
     "output_type": "stream",
     "text": [
      "0.01919999999999999\n"
     ]
    }
   ],
   "source": [
    "# Probability of scoring exatly once\n",
    "k_1 = 1\n",
    "one_score=math.comb(n, k_1)*(p**k_1)*((1-p)**(n-k))\n",
    "print(one_score)"
   ]
  },
  {
   "cell_type": "code",
   "execution_count": 8,
   "id": "6dfc58ff-6ac0-4c92-b6a2-ab6cfb332529",
   "metadata": {},
   "outputs": [],
   "source": [
    "#write a python programme of a binomial distribution where the known probability = 0.6, total number of experiments = 5\n",
    "def binom_prob(p, n, k:int):\n",
    "    binom=math.comb(n, k)*(p**k)*((1-p)**(n-k))\n",
    "    return binom"
   ]
  },
  {
   "cell_type": "code",
   "execution_count": 9,
   "id": "5b8a72d0-59c8-43f7-baab-4d02289315f5",
   "metadata": {},
   "outputs": [
    {
     "name": "stdout",
     "output_type": "stream",
     "text": [
      "0.07680000000000001\n"
     ]
    }
   ],
   "source": [
    "# probability success =1\n",
    "one_success=binom_prob(0.6, 5, 1)\n",
    "print(one_success)\n"
   ]
  },
  {
   "cell_type": "code",
   "execution_count": 10,
   "id": "303a8b71-9e75-492a-a96d-b937bc195da2",
   "metadata": {},
   "outputs": [
    {
     "name": "stdout",
     "output_type": "stream",
     "text": [
      "0.23040000000000002\n"
     ]
    }
   ],
   "source": [
    "# probability success = 2\n",
    "two_success=binom_prob(0.6, 5, 2)\n",
    "print(two_success)"
   ]
  },
  {
   "cell_type": "code",
   "execution_count": 11,
   "id": "eb400cf9-0001-4803-bf54-7d5f2c8b679e",
   "metadata": {},
   "outputs": [
    {
     "name": "stdout",
     "output_type": "stream",
     "text": [
      "0.8660254037844382\n"
     ]
    }
   ],
   "source": [
    "# Hypothesis testing\n",
    "population_mean=10\n",
    "sample_mean=10.6\n",
    "std_dev=1.2\n",
    "alpha=0.05\n",
    "# alternate hypothesis there's a significant difference between the two means and average sugar content is higher than claimed\n",
    "# null hypothesis- There's no significant difference between the mean and the sugar content is not higher as claimed\n",
    "\n",
    "z = (sample_mean-population_mean)/(std_dev/np.sqrt(n))\n",
    "print(z)"
   ]
  },
  {
   "cell_type": "code",
   "execution_count": 13,
   "id": "a3bce6c6-dbbf-4592-b5bb-1c8a5020618d",
   "metadata": {},
   "outputs": [
    {
     "name": "stdout",
     "output_type": "stream",
     "text": [
      "0.19323811538561642\n"
     ]
    }
   ],
   "source": [
    "# Calculating the P value\n",
    "from scipy import stats\n",
    "p_value=1 - (stats.norm.cdf(z))\n",
    "print(p_value)\n",
    "# based on the current evidence and testing, we can conclude that there's no significant difference between the two mean and the sugar content is not higher as claimed"
   ]
  },
  {
   "cell_type": "code",
   "execution_count": 5,
   "id": "bc8c34b4-939b-477b-9066-58f0c68d13f2",
   "metadata": {},
   "outputs": [],
   "source": [
    "# Type 1 and type 2 error\n",
    "# flipping coin 20 times, 75% chance of head and 25% chance of tail\n",
    "import numpy as np\n",
    "from scipy import stats\n",
    "import math\n"
   ]
  },
  {
   "cell_type": "code",
   "execution_count": 2,
   "id": "19fa771d-ecb3-418b-af19-d76424b1a030",
   "metadata": {},
   "outputs": [
    {
     "name": "stdout",
     "output_type": "stream",
     "text": [
      "15.0\n"
     ]
    }
   ],
   "source": [
    "#How many timesshould we flip a 75% heads coin to determine if it is false\n",
    "# Null hypothesis - THe coin is fare\n",
    "# alternate hypothesis- the coin is not fare\n",
    "\n",
    "# calculating the mean\n",
    "sample_n=20\n",
    "observed_p =0.75\n",
    "binomial_mean = sample_n * observed_p\n",
    "print(binomial_mean)\n"
   ]
  },
  {
   "cell_type": "code",
   "execution_count": 3,
   "id": "f206cf48-51b3-419e-9f34-6bee9cc30036",
   "metadata": {},
   "outputs": [
    {
     "name": "stdout",
     "output_type": "stream",
     "text": [
      "10.0\n"
     ]
    }
   ],
   "source": [
    "# calculating the standard deviation (use t-test when std dev is not given)\n",
    "p_mean=sample_n * 0.5\n",
    "print(p_mean) # theoretical mean"
   ]
  },
  {
   "cell_type": "code",
   "execution_count": 10,
   "id": "008a1784-2be9-4e36-a6a0-3887dffa507f",
   "metadata": {},
   "outputs": [
    {
     "name": "stdout",
     "output_type": "stream",
     "text": [
      "2.23606797749979\n"
     ]
    }
   ],
   "source": [
    "# population standard deviation\n",
    "p_std = np.sqrt(abs(sample_n * 0.5 *(1 - 0.5)))\n",
    "print(p_std)"
   ]
  },
  {
   "cell_type": "code",
   "execution_count": 11,
   "id": "085e409c-625e-466b-b33a-1d6822fc7a49",
   "metadata": {},
   "outputs": [
    {
     "name": "stdout",
     "output_type": "stream",
     "text": [
      "10.0\n"
     ]
    }
   ],
   "source": [
    "# z_statistic\n",
    "zed= (binomial_mean-p_mean)/(p_std/(np.sqrt(sample_n)))\n",
    "print(zed)"
   ]
  },
  {
   "cell_type": "code",
   "execution_count": 12,
   "id": "9076f576-b90e-46ad-af96-2ac42112c11a",
   "metadata": {},
   "outputs": [
    {
     "name": "stdout",
     "output_type": "stream",
     "text": [
      "0.0126736593387341\n"
     ]
    }
   ],
   "source": [
    "# calculating the p value\n",
    "p_coin =1 - stats.norm.cdf(z)\n",
    "print(p_coin)"
   ]
  },
  {
   "cell_type": "code",
   "execution_count": 14,
   "id": "c978e73a-36f4-4873-bad4-6e0953c11853",
   "metadata": {},
   "outputs": [
    {
     "name": "stdout",
     "output_type": "stream",
     "text": [
      "0.012673659338734126\n"
     ]
    }
   ],
   "source": [
    "p_coin_val=stats.norm.sf(abs(z))\n",
    "print(p_coin_val)\n",
    "# based on the current evidence on testing we reject the null hypothesis and conclude that the\n",
    "# coin is not fair"
   ]
  },
  {
   "cell_type": "code",
   "execution_count": 4,
   "id": "c98f5dbd-a94c-4267-a651-041916c606e3",
   "metadata": {},
   "outputs": [],
   "source": [
    "#EFFECT SIZE\n",
    "from __future__ import print_function, division\n",
    "import numpy as np\n",
    "\n",
    "# Import SciPy stats matplotlib for calculating and visualizing effect size\n",
    "from scipy import stats\n",
    "import matplotlib.pyplot as plt\n",
    "\n",
    "%matplotlib inline\n",
    "\n",
    "# seed the random number generator so you get the same results\n",
    "np.random.seed(10)"
   ]
  },
  {
   "cell_type": "code",
   "execution_count": 16,
   "id": "77866792-0ce9-4692-9e7c-1573d3bb7c8a",
   "metadata": {},
   "outputs": [],
   "source": [
    "# mean height and sd for males\n",
    "male_mean = 178\n",
    "male_sd = 7.7\n",
    "\n",
    "# Generate a normal distribution for male height\n",
    "male_height = stats.norm(male_mean, male_sd)"
   ]
  },
  {
   "cell_type": "code",
   "execution_count": 17,
   "id": "7b3cdce7-0d2f-41f3-9b99-03ecb9c42b9b",
   "metadata": {},
   "outputs": [],
   "source": [
    "# mean height and sd for females\n",
    "female_mean = 163\n",
    "female_sd = 7.3\n",
    "\n",
    "#Generate a normal distribution for female height\n",
    "female_height = stats.norm(female_mean, female_sd)"
   ]
  },
  {
   "cell_type": "code",
   "execution_count": 19,
   "id": "e1242b77-8993-45b3-874d-937fb2fccd27",
   "metadata": {},
   "outputs": [],
   "source": [
    "def evaluate_PDF(rv, x=4):\n",
    "    \"\"\"input: a random variable object, standard deviation\n",
    "    output: x and y values for the normal distribution\n",
    "    \"\"\"\n",
    "    # identify the mean and standard deviation of the random variable\n",
    "    mean = rv.mean()\n",
    "    std = rv.std()\n",
    "\n",
    "    # use numpy to calculate evenly spaced numbers over the specified interval (4 sd) and generate 10\n",
    "    xs = np.linspace(mean - x * std, mean + x*std, 100)\n",
    "\n",
    "    # calculate the peak of normal distribution i.e probability density\n",
    "    ys = rv.pdf(xs)\n",
    "\n",
    "    return xs, ys #Return calculated values"
   ]
  },
  {
   "cell_type": "code",
   "execution_count": 23,
   "id": "f35cc7c5-430e-40dd-83bf-d5724f4943f0",
   "metadata": {},
   "outputs": [
    {
     "data": {
      "text/plain": [
       "Text(0.5, 0, 'height (cm)')"
      ]
     },
     "execution_count": 23,
     "metadata": {},
     "output_type": "execute_result"
    },
    {
     "data": {
      "image/png": "[encoded data removed]",
      "text/plain": [
       "<Figure size 640x480 with 1 Axes>"
      ]
     },
     "metadata": {},
     "output_type": "display_data"
    }
   ],
   "source": [
    "# Male Height\n",
    "xs, ys = evaluate_PDF(male_height)\n",
    "plt.plot(xs, ys, label='male', linewidth=4, color='#beaed4')\n",
    "\n",
    "# Female height\n",
    "xs, ys = evaluate_PDF(female_height)\n",
    "plt.plot(xs, ys, label='female', linewidth=4, color='#fdc086')\n",
    "\n",
    "plt.xlabel('height (cm)')"
   ]
  },
  {
   "cell_type": "code",
   "execution_count": 24,
   "id": "d0f29c9a-7272-46a4-9016-d0589e8f430d",
   "metadata": {},
   "outputs": [],
   "source": [
    "male_sample = male_height.rvs(1000)\n"
   ]
  },
  {
   "cell_type": "code",
   "execution_count": 25,
   "id": "6d2d8471-2760-41d6-a266-fa30c7545aff",
   "metadata": {},
   "outputs": [
    {
     "data": {
      "text/plain": [
       "(np.float64(177.88791390576085), np.float64(7.222274730410271))"
      ]
     },
     "execution_count": 25,
     "metadata": {},
     "output_type": "execute_result"
    }
   ],
   "source": [
    "mean1, std1 = male_sample.mean(), male_sample.std()\n",
    "\n",
    "mean1, std1"
   ]
  },
  {
   "cell_type": "code",
   "execution_count": 26,
   "id": "c99f0a59-914b-43a3-8f0f-c8348be5acd4",
   "metadata": {},
   "outputs": [
    {
     "data": {
      "text/plain": [
       "(np.float64(162.91903182040372), np.float64(7.261850929417819))"
      ]
     },
     "execution_count": 26,
     "metadata": {},
     "output_type": "execute_result"
    }
   ],
   "source": [
    "female_sample = female_height.rvs(1000)\n",
    "mean2, std2 = female_sample.mean(), female_sample.std()\n",
    "mean2, std2"
   ]
  },
  {
   "cell_type": "code",
   "execution_count": 27,
   "id": "25d973a7-2cf4-45b9-873f-e38917c7437a",
   "metadata": {},
   "outputs": [
    {
     "name": "stdout",
     "output_type": "stream",
     "text": [
      "14.968882085357137\n"
     ]
    }
   ],
   "source": [
    "# calulating the difference between means\n",
    "difference_btwn_means = mean1 - mean2\n",
    "print(difference_btwn_means)"
   ]
  },
  {
   "cell_type": "code",
   "execution_count": 28,
   "id": "dde27157-6f5e-4a98-9571-aafa2cbe048c",
   "metadata": {},
   "outputs": [
    {
     "name": "stdout",
     "output_type": "stream",
     "text": [
      "0.08414783082614122\n"
     ]
    }
   ],
   "source": [
    "# relative difference in reference to the male\n",
    "r_diff_male = difference_btwn_means/mean1\n",
    "print(r_diff_male)"
   ]
  },
  {
   "cell_type": "code",
   "execution_count": 29,
   "id": "cfc1a092-68b7-44b9-90c6-b9a9970f7426",
   "metadata": {},
   "outputs": [
    {
     "name": "stdout",
     "output_type": "stream",
     "text": [
      "0.09187927228697451\n"
     ]
    }
   ],
   "source": [
    "r_diff_female = difference_btwn_means/mean2\n",
    "print(r_diff_female)"
   ]
  },
  {
   "cell_type": "code",
   "execution_count": 30,
   "id": "aea2a37d-588b-4006-b8a0-048b3610806d",
   "metadata": {},
   "outputs": [
    {
     "name": "stdout",
     "output_type": "stream",
     "text": [
      "170.4034728630823\n"
     ]
    }
   ],
   "source": [
    "# simple threshold\n",
    "midpoint = (mean1+ mean2)/2\n",
    "print(midpoint)"
   ]
  },
  {
   "cell_type": "code",
   "execution_count": 31,
   "id": "d6a78617-0ea3-4447-82a5-bc6c5852e59c",
   "metadata": {},
   "outputs": [
    {
     "name": "stdout",
     "output_type": "stream",
     "text": [
      "170.42392323303363\n"
     ]
    }
   ],
   "source": [
    "#overlap_threshold\n",
    "overlap_thresh=((mean1*std2) + (mean2*std1))/(std1+std2)\n",
    "print(overlap_thresh)"
   ]
  },
  {
   "cell_type": "code",
   "execution_count": 33,
   "id": "8b5acfba-5631-4dbb-859c-531dec3a8e68",
   "metadata": {},
   "outputs": [
    {
     "name": "stdout",
     "output_type": "stream",
     "text": [
      "154\n"
     ]
    }
   ],
   "source": [
    "# male below threshold\n",
    "m_below_thresh = sum(male_sample<overlap_thresh)\n",
    "print(m_below_thresh)"
   ]
  },
  {
   "cell_type": "code",
   "execution_count": 34,
   "id": "7ddbadcb-cc24-478f-99c4-47a2bae375dd",
   "metadata": {},
   "outputs": [
    {
     "name": "stdout",
     "output_type": "stream",
     "text": [
      "152\n"
     ]
    }
   ],
   "source": [
    "# females above threshold\n",
    "f_above_thresh = sum(female_sample> overlap_thresh)\n",
    "print(f_above_thresh)"
   ]
  },
  {
   "cell_type": "code",
   "execution_count": 36,
   "id": "3a2821a1-24ff-4e66-a593-e67e67ffebc0",
   "metadata": {},
   "outputs": [
    {
     "data": {
      "text/plain": [
       "np.float64(0.306)"
      ]
     },
     "execution_count": 36,
     "metadata": {},
     "output_type": "execute_result"
    }
   ],
   "source": [
    "# calculating the overlap(area_under_the_curve)\n",
    "# calculating the overlap\n",
    "overlap = m_below_thresh / len(male_sample) + f_above_thresh / len(female_sample)\n",
    "overlap"
   ]
  },
  {
   "cell_type": "code",
   "execution_count": 38,
   "id": "bd2259c3-0c27-419c-a987-ff093c274eda",
   "metadata": {},
   "outputs": [],
   "source": [
    "def Cohen_d(group1, group2):\n",
    "    # Compute Cohen's d.\n",
    "\n",
    "    #group1: Series or numpy array\n",
    "    #group2: Series or numpy array\n",
    "    \n",
    "    # return a floating point number\n",
    "\n",
    "    diff = group1.mean() - group2.mean()\n",
    "\n",
    "    n1, n2 = len(group1), len(group2)\n",
    "    var1 = group1.var()\n",
    "    var2 = group2.var()\n",
    "\n",
    "    # Calculate the pooled threshold as shown earlier\n",
    "    pooled_var = (n1 * var1 + n2 * var2) / (n1 + n2)\n",
    "\n",
    "    # Calculate Cohen's d statistic\n",
    "    d = diff / np.sqrt(pooled_var)\n",
    "\n",
    "    return d"
   ]
  },
  {
   "cell_type": "code",
   "execution_count": 39,
   "id": "fba28082-e8c8-4491-b71f-eb16be92ea18",
   "metadata": {},
   "outputs": [
    {
     "data": {
      "text/plain": [
       "np.float64(2.0669285200851877)"
      ]
     },
     "execution_count": 39,
     "metadata": {},
     "output_type": "execute_result"
    }
   ],
   "source": [
    "# calculating cohen's d for the male sample and female sample\n",
    "\n",
    "Cohen_d(male_sample, female_sample)\n",
    "# 0.2-0.49 small difference, 0.5-0.79 medium difference, > 0.8 big difference"
   ]
  },
  {
   "cell_type": "code",
   "execution_count": 44,
   "id": "390caa21-a66b-41d9-bf35-14c4d4a1d67a",
   "metadata": {},
   "outputs": [],
   "source": [
    "def plot_pdfs(cohen_d = 2):\n",
    "    \"\"\"Plot PDFs for distributions that differ by some number of of stds.\n",
    "    cohen_d: number of standard deviations between the means\n",
    "    \"\"\"\n",
    "    group1 = stats.norm(0, 1)\n",
    "    group2 = stats.norm(cohen_d, 1)\n",
    "    xs, ys = evaluate_PDF(group1)\n",
    "    plt.fill_between(xs, ys, label='Group1', color='#ff2289', alpha=0.7)\n",
    "\n",
    "    xs, ys = evaluate_PDF(group2)\n",
    "    plt.fill_between(xs, ys, label='Group2', color='#376cb0', alpha=0.7)\n",
    "    plt.show()\n",
    "    "
   ]
  },
  {
   "cell_type": "code",
   "execution_count": 48,
   "id": "0c1950cb-6251-4f9b-816b-3bb7e897502d",
   "metadata": {},
   "outputs": [
    {
     "data": {
      "image/png": "[encoded data removed]",
      "text/plain": [
       "<Figure size 640x480 with 1 Axes>"
      ]
     },
     "metadata": {},
     "output_type": "display_data"
    }
   ],
   "source": [
    "plot_pdfs(0.5)"
   ]
  },
  {
   "cell_type": "code",
   "execution_count": 8,
   "id": "d7ffe09c-b789-418e-838a-8355e597ea4a",
   "metadata": {},
   "outputs": [
    {
     "name": "stdout",
     "output_type": "stream",
     "text": [
      "Hypothetical effect size for p(heads)=.55 vs p(heads)=.5\n"
     ]
    },
    {
     "data": {
      "text/html": [
       "<div>\n",
       "<style scoped>\n",
       "    .dataframe tbody tr th:only-of-type {\n",
       "        vertical-align: middle;\n",
       "    }\n",
       "\n",
       "    .dataframe tbody tr th {\n",
       "        vertical-align: top;\n",
       "    }\n",
       "\n",
       "    .dataframe thead th {\n",
       "        text-align: right;\n",
       "    }\n",
       "</style>\n",
       "<table border=\"1\" class=\"dataframe\">\n",
       "  <thead>\n",
       "    <tr style=\"text-align: right;\">\n",
       "      <th></th>\n",
       "      <th>Effect_size</th>\n",
       "      <th>STD</th>\n",
       "      <th>Num_observations</th>\n",
       "    </tr>\n",
       "  </thead>\n",
       "  <tbody>\n",
       "    <tr>\n",
       "      <th>0</th>\n",
       "      <td>0.316228</td>\n",
       "      <td>1.581139</td>\n",
       "      <td>10</td>\n",
       "    </tr>\n",
       "    <tr>\n",
       "      <th>1</th>\n",
       "      <td>0.447214</td>\n",
       "      <td>2.236068</td>\n",
       "      <td>20</td>\n",
       "    </tr>\n",
       "    <tr>\n",
       "      <th>2</th>\n",
       "      <td>0.707107</td>\n",
       "      <td>3.535534</td>\n",
       "      <td>50</td>\n",
       "    </tr>\n",
       "    <tr>\n",
       "      <th>3</th>\n",
       "      <td>2.236068</td>\n",
       "      <td>11.180340</td>\n",
       "      <td>500</td>\n",
       "    </tr>\n",
       "  </tbody>\n",
       "</table>\n",
       "</div>"
      ],
      "text/plain": [
       "   Effect_size        STD  Num_observations\n",
       "0     0.316228   1.581139                10\n",
       "1     0.447214   2.236068                20\n",
       "2     0.707107   3.535534                50\n",
       "3     2.236068  11.180340               500"
      ]
     },
     "execution_count": 8,
     "metadata": {},
     "output_type": "execute_result"
    }
   ],
   "source": [
    "import pandas as pd\n",
    "# null hypothesis = 0.5\n",
    "# alternate hypothesis = 0.55\n",
    "alpha_1=0.05 #significalnce level\n",
    "m1 = 0.55 # observed sample\n",
    "m2 = 0.5 # theoretical value\n",
    "rows = []\n",
    "for n in [10, 20, 50, 500]:\n",
    "    standard_deviation= np.sqrt(n*m2*(1-m2)) # binomial distribution\n",
    "    d = (m1*n - m2*n)/standard_deviation # cohen's d\n",
    "    rows.append({'Effect_size': d, 'STD': standard_deviation, 'Num_observations': n})\n",
    "print('Hypothetical effect size for p(heads)=.55 vs p(heads)=.5')\n",
    "pd.DataFrame(rows)\n",
    "    \n",
    "    \n"
   ]
  },
  {
   "cell_type": "code",
   "execution_count": 13,
   "id": "92abe62d-8be1-4492-942d-b7a462b0dfaa",
   "metadata": {},
   "outputs": [
    {
     "name": "stdout",
     "output_type": "stream",
     "text": [
      "hypothetical effect sizes for various alternative hypotheses\n"
     ]
    },
    {
     "data": {
      "text/html": [
       "<div>\n",
       "<style scoped>\n",
       "    .dataframe tbody tr th:only-of-type {\n",
       "        vertical-align: middle;\n",
       "    }\n",
       "\n",
       "    .dataframe tbody tr th {\n",
       "        vertical-align: top;\n",
       "    }\n",
       "\n",
       "    .dataframe thead th {\n",
       "        text-align: right;\n",
       "    }\n",
       "</style>\n",
       "<table border=\"1\" class=\"dataframe\">\n",
       "  <thead>\n",
       "    <tr style=\"text-align: right;\">\n",
       "      <th></th>\n",
       "      <th>0.51</th>\n",
       "      <th>0.55</th>\n",
       "      <th>0.60</th>\n",
       "      <th>0.65</th>\n",
       "      <th>0.70</th>\n",
       "      <th>0.75</th>\n",
       "      <th>0.80</th>\n",
       "      <th>0.85</th>\n",
       "      <th>0.90</th>\n",
       "    </tr>\n",
       "  </thead>\n",
       "  <tbody>\n",
       "    <tr>\n",
       "      <th>10</th>\n",
       "      <td>0.063246</td>\n",
       "      <td>0.316228</td>\n",
       "      <td>0.632456</td>\n",
       "      <td>0.948683</td>\n",
       "      <td>1.264911</td>\n",
       "      <td>1.581139</td>\n",
       "      <td>1.897367</td>\n",
       "      <td>2.213594</td>\n",
       "      <td>2.529822</td>\n",
       "    </tr>\n",
       "    <tr>\n",
       "      <th>20</th>\n",
       "      <td>0.089443</td>\n",
       "      <td>0.447214</td>\n",
       "      <td>0.894427</td>\n",
       "      <td>1.341641</td>\n",
       "      <td>1.788854</td>\n",
       "      <td>2.236068</td>\n",
       "      <td>2.683282</td>\n",
       "      <td>3.130495</td>\n",
       "      <td>3.577709</td>\n",
       "    </tr>\n",
       "    <tr>\n",
       "      <th>50</th>\n",
       "      <td>0.141421</td>\n",
       "      <td>0.707107</td>\n",
       "      <td>1.414214</td>\n",
       "      <td>2.121320</td>\n",
       "      <td>2.828427</td>\n",
       "      <td>3.535534</td>\n",
       "      <td>4.242641</td>\n",
       "      <td>4.949747</td>\n",
       "      <td>5.656854</td>\n",
       "    </tr>\n",
       "    <tr>\n",
       "      <th>500</th>\n",
       "      <td>0.447214</td>\n",
       "      <td>2.236068</td>\n",
       "      <td>4.472136</td>\n",
       "      <td>6.708204</td>\n",
       "      <td>8.944272</td>\n",
       "      <td>11.180340</td>\n",
       "      <td>13.416408</td>\n",
       "      <td>15.652476</td>\n",
       "      <td>17.888544</td>\n",
       "    </tr>\n",
       "  </tbody>\n",
       "</table>\n",
       "</div>"
      ],
      "text/plain": [
       "         0.51      0.55      0.60      0.65      0.70       0.75       0.80  \\\n",
       "10   0.063246  0.316228  0.632456  0.948683  1.264911   1.581139   1.897367   \n",
       "20   0.089443  0.447214  0.894427  1.341641  1.788854   2.236068   2.683282   \n",
       "50   0.141421  0.707107  1.414214  2.121320  2.828427   3.535534   4.242641   \n",
       "500  0.447214  2.236068  4.472136  6.708204  8.944272  11.180340  13.416408   \n",
       "\n",
       "          0.85       0.90  \n",
       "10    2.213594   2.529822  \n",
       "20    3.130495   3.577709  \n",
       "50    4.949747   5.656854  \n",
       "500  15.652476  17.888544  "
      ]
     },
     "execution_count": 13,
     "metadata": {},
     "output_type": "execute_result"
    }
   ],
   "source": [
    "m2 = .5 # null hypothesis\n",
    "rows = {}\n",
    "for n in  [10, 20, 50, 500]:\n",
    "    temp_dict = {}\n",
    "    for m1 in [.51, .55, .6, .65, .7, .75, .8, .85, .9]: # p hats\n",
    "        p = m2\n",
    "        std = np.sqrt(n*p*(1-p))\n",
    "        d = (m1*n-m2*n)/std\n",
    "        temp_dict[m1] = d\n",
    "    rows[n] = temp_dict\n",
    "print('hypothetical effect sizes for various alternative hypotheses')\n",
    "df = pd.DataFrame.from_dict(rows, orient='index')\n",
    "# df.index = [10, 20 50, 500]\n",
    "#df.index.name = 'Sample_size'\n",
    "# df.columns.name = 'Alternative Hypothesis'\n",
    "df"
   ]
  },
  {
   "cell_type": "code",
   "execution_count": 21,
   "id": "ad34e73b-d840-46ed-affa-1b24bd0067ed",
   "metadata": {},
   "outputs": [],
   "source": [
    "from statsmodels.stats.power import TTestIndPower # used to calculate statistical power\n",
    "import matplotlib.pyplot as plt\n",
    "import seaborn as sns\n",
    "sns.set_style(\"darkgrid\")"
   ]
  },
  {
   "cell_type": "code",
   "execution_count": 25,
   "id": "a3768876-450b-4a59-a9aa-3135ada755ca",
   "metadata": {},
   "outputs": [],
   "source": [
    "#calculating the statistical \n",
    "power_analysis=TTestIndPower()"
   ]
  },
  {
   "cell_type": "code",
   "execution_count": 27,
   "id": "1f80310e-7080-4f1d-a614-cd9329b029e7",
   "metadata": {},
   "outputs": [
    {
     "data": {
      "image/png": "[encoded data removed]",
      "text/plain": [
       "<Figure size 640x480 with 1 Axes>"
      ]
     },
     "execution_count": 27,
     "metadata": {},
     "output_type": "execute_result"
    },
    {
     "data": {
      "image/png": "[encoded data removed]",
      "text/plain": [
       "<Figure size 640x480 with 1 Axes>"
      ]
     },
     "metadata": {},
     "output_type": "display_data"
    }
   ],
   "source": [
    "power_analysis.plot_power(dep_var=\"nobs\",\n",
    "                            nobs=np.array(range(5, 1500)),\n",
    "                            effect_size=np.array([0.05, 0.1, 0.2, 0.3, 0.4, 0.5]),\n",
    "                            alpha = 0.05)"
   ]
  },
  {
   "cell_type": "code",
   "execution_count": 28,
   "id": "df9f5c75-e5bf-47a5-93f8-8f0e2477adc0",
   "metadata": {},
   "outputs": [
    {
     "data": {
      "text/plain": [
       "85.03128411544918"
      ]
     },
     "execution_count": 28,
     "metadata": {},
     "output_type": "execute_result"
    }
   ],
   "source": [
    "power_analysis.solve_power(alpha=0.05, power=0.9, effect_size=0.5) # calculating the sample size"
   ]
  },
  {
   "cell_type": "code",
   "execution_count": 29,
   "id": "bae51e2f-a17f-4a4b-9b0f-e35cb4a83757",
   "metadata": {},
   "outputs": [
    {
     "data": {
      "text/plain": [
       "0.025635364242939215"
      ]
     },
     "execution_count": 29,
     "metadata": {},
     "output_type": "execute_result"
    }
   ],
   "source": [
    "power_analysis.solve_power(effect_size=0.5, nobs1 = 100, power=0.9)\n"
   ]
  },
  {
   "cell_type": "code",
   "execution_count": 12,
   "id": "a405d975-80d3-4fde-be97-d0a2053f16db",
   "metadata": {},
   "outputs": [],
   "source": [
    "# the Kolmogorov-Smirnov Test\n",
    "# ANOVA\n",
    "\n",
    "import pandas as pd\n",
    "import numpy as np\n",
    "import matplotlib.pyplot as plt\n",
    "import statsmodels.api as sn\n",
    "from statsmodels.formula.api import ols"
   ]
  },
  {
   "cell_type": "code",
   "execution_count": 6,
   "id": "e8d3df08-ce2b-4103-a0f3-1aa860def429",
   "metadata": {},
   "outputs": [
    {
     "data": {
      "text/html": [
       "<div>\n",
       "<style scoped>\n",
       "    .dataframe tbody tr th:only-of-type {\n",
       "        vertical-align: middle;\n",
       "    }\n",
       "\n",
       "    .dataframe tbody tr th {\n",
       "        vertical-align: top;\n",
       "    }\n",
       "\n",
       "    .dataframe thead th {\n",
       "        text-align: right;\n",
       "    }\n",
       "</style>\n",
       "<table border=\"1\" class=\"dataframe\">\n",
       "  <thead>\n",
       "    <tr style=\"text-align: right;\">\n",
       "      <th></th>\n",
       "      <th>S</th>\n",
       "      <th>X</th>\n",
       "      <th>E</th>\n",
       "      <th>M</th>\n",
       "    </tr>\n",
       "  </thead>\n",
       "  <tbody>\n",
       "    <tr>\n",
       "      <th>0</th>\n",
       "      <td>13876</td>\n",
       "      <td>1</td>\n",
       "      <td>1</td>\n",
       "      <td>1</td>\n",
       "    </tr>\n",
       "    <tr>\n",
       "      <th>1</th>\n",
       "      <td>11608</td>\n",
       "      <td>1</td>\n",
       "      <td>3</td>\n",
       "      <td>0</td>\n",
       "    </tr>\n",
       "    <tr>\n",
       "      <th>2</th>\n",
       "      <td>18701</td>\n",
       "      <td>1</td>\n",
       "      <td>3</td>\n",
       "      <td>1</td>\n",
       "    </tr>\n",
       "    <tr>\n",
       "      <th>3</th>\n",
       "      <td>11283</td>\n",
       "      <td>1</td>\n",
       "      <td>2</td>\n",
       "      <td>0</td>\n",
       "    </tr>\n",
       "    <tr>\n",
       "      <th>4</th>\n",
       "      <td>11767</td>\n",
       "      <td>1</td>\n",
       "      <td>3</td>\n",
       "      <td>0</td>\n",
       "    </tr>\n",
       "  </tbody>\n",
       "</table>\n",
       "</div>"
      ],
      "text/plain": [
       "       S  X  E  M\n",
       "0  13876  1  1  1\n",
       "1  11608  1  3  0\n",
       "2  18701  1  3  1\n",
       "3  11283  1  2  0\n",
       "4  11767  1  3  0"
      ]
     },
     "execution_count": 6,
     "metadata": {},
     "output_type": "execute_result"
    }
   ],
   "source": [
    "anova_dat=pd.read_csv(r\"IT_salaries.csv\")\n",
    "anova_dat.head()"
   ]
  },
  {
   "cell_type": "code",
   "execution_count": 9,
   "id": "fa36d82a-5428-4246-8161-8aea6d320f18",
   "metadata": {},
   "outputs": [
    {
     "name": "stdout",
     "output_type": "stream",
     "text": [
      "                sum_sq    df           F        PR(>F)\n",
      "C(E)      9.152624e+07   2.0   43.351589  7.672450e-11\n",
      "C(M)      5.075724e+08   1.0  480.825394  2.901444e-24\n",
      "X         3.380979e+08   1.0  320.281524  5.546313e-21\n",
      "Residual  4.328072e+07  41.0         NaN           NaN\n"
     ]
    }
   ],
   "source": [
    "formula = 'S ~ C(E) + C(M) + X' #S (Salary)-dependent variable. E, M, X are indipendent variables(Factors affecting amount of salary)\n",
    "lm = ols(formula, anova_dat).fit() # linear model e.g y =mx + c\n",
    "table = sn.stats.anova_lm(lm, typ=2)# anova is also the f statistic\n",
    "print(table)"
   ]
  },
  {
   "cell_type": "code",
   "execution_count": 10,
   "id": "2a08890c-3ddb-4a51-8150-7d0190685812",
   "metadata": {},
   "outputs": [
    {
     "data": {
      "text/html": [
       "<div>\n",
       "<style scoped>\n",
       "    .dataframe tbody tr th:only-of-type {\n",
       "        vertical-align: middle;\n",
       "    }\n",
       "\n",
       "    .dataframe tbody tr th {\n",
       "        vertical-align: top;\n",
       "    }\n",
       "\n",
       "    .dataframe thead th {\n",
       "        text-align: right;\n",
       "    }\n",
       "</style>\n",
       "<table border=\"1\" class=\"dataframe\">\n",
       "  <thead>\n",
       "    <tr style=\"text-align: right;\">\n",
       "      <th></th>\n",
       "      <th>Super Bowl</th>\n",
       "      <th>Coin Toss Outcome</th>\n",
       "      <th>Coin Toss Winner</th>\n",
       "      <th>Game Winner</th>\n",
       "    </tr>\n",
       "  </thead>\n",
       "  <tbody>\n",
       "    <tr>\n",
       "      <th>0</th>\n",
       "      <td>1</td>\n",
       "      <td>Heads</td>\n",
       "      <td>Home Team</td>\n",
       "      <td>Home Team</td>\n",
       "    </tr>\n",
       "    <tr>\n",
       "      <th>1</th>\n",
       "      <td>2</td>\n",
       "      <td>Tails</td>\n",
       "      <td>Home Team</td>\n",
       "      <td>Away Team</td>\n",
       "    </tr>\n",
       "    <tr>\n",
       "      <th>2</th>\n",
       "      <td>3</td>\n",
       "      <td>Heads</td>\n",
       "      <td>Home Team</td>\n",
       "      <td>Home Team</td>\n",
       "    </tr>\n",
       "    <tr>\n",
       "      <th>3</th>\n",
       "      <td>4</td>\n",
       "      <td>Tails</td>\n",
       "      <td>Away Team</td>\n",
       "      <td>Home Team</td>\n",
       "    </tr>\n",
       "    <tr>\n",
       "      <th>4</th>\n",
       "      <td>5</td>\n",
       "      <td>Tails</td>\n",
       "      <td>Home Team</td>\n",
       "      <td>Away Team</td>\n",
       "    </tr>\n",
       "  </tbody>\n",
       "</table>\n",
       "</div>"
      ],
      "text/plain": [
       "   Super Bowl Coin Toss Outcome Coin Toss Winner Game Winner\n",
       "0           1             Heads        Home Team   Home Team\n",
       "1           2             Tails        Home Team   Away Team\n",
       "2           3             Heads        Home Team   Home Team\n",
       "3           4             Tails        Away Team   Home Team\n",
       "4           5             Tails        Home Team   Away Team"
      ]
     },
     "execution_count": 10,
     "metadata": {},
     "output_type": "execute_result"
    }
   ],
   "source": [
    "#  null hypothesis- The factors (E, M, x) do not influence the salary and are not statistically different from each other\n",
    "# Alternate hypothesis- The factors(E, M, X) influence the salary and are statistically different from each other\n",
    "\n",
    "superbowl = pd.read_csv(r\"superbowl.csv\")\n",
    "superbowl.head()\n"
   ]
  },
  {
   "cell_type": "code",
   "execution_count": 13,
   "id": "211ade67-8fa6-4e7f-a864-2ebfaa69a0ea",
   "metadata": {},
   "outputs": [
    {
     "data": {
      "text/plain": [
       "Coin Toss Outcome\n",
       "Heads    26\n",
       "Tails    29\n",
       "Name: count, dtype: int64"
      ]
     },
     "execution_count": 13,
     "metadata": {},
     "output_type": "execute_result"
    }
   ],
   "source": [
    "# alternative hypothesis-It is not a fair coin\n",
    "# Null hypothesis is it a fair coin\n",
    "coin_toss_counts = superbowl[\"Coin Toss Outcome\"].value_counts().sort_index()\n",
    "coin_toss_counts"
   ]
  },
  {
   "cell_type": "code",
   "execution_count": 15,
   "id": "3992a6b8-0e67-4466-b710-0566d1ca2d80",
   "metadata": {},
   "outputs": [
    {
     "data": {
      "text/plain": [
       "Text(0.5, 0.98, 'Super Bowl Coin Tosses')"
      ]
     },
     "execution_count": 15,
     "metadata": {},
     "output_type": "execute_result"
    },
    {
     "data": {
      "image/png": "[encoded data removed]",
      "text/plain": [
       "<Figure size 640x480 with 1 Axes>"
      ]
     },
     "metadata": {},
     "output_type": "display_data"
    }
   ],
   "source": [
    "fig, ax = plt.subplots()\n",
    "\n",
    "# Extract observed counts\n",
    "fair_coin_observed = coin_toss_counts.values\n",
    "# Heads and Tails each expected half the time\n",
    "fair_coin_expected = [sum(coin_toss_counts)/2, sum(coin_toss_counts)/2]\n",
    "\n",
    "# Placeholder data for display purposes; this values can be ignored\n",
    "x = np.array([0, 5])\n",
    "offset = 1\n",
    "bar_width = 2\n",
    "\n",
    "#Plot bars\n",
    "ax.bar(x-offset, fair_coin_observed, bar_width, label=\"Observed\")\n",
    "ax.bar(x+offset, fair_coin_expected, bar_width, label=\"Expected\")\n",
    "\n",
    "# Customize appearance\n",
    "ax.set_xticks(x)\n",
    "ax.set_xticklabels([\"Heads\", \"Tails\"])\n",
    "ax.set_ylabel(\"Count\")\n",
    "ax.legend(loc=\"right\")\n",
    "fig.suptitle(\"Super Bowl Coin Tosses\")"
   ]
  },
  {
   "cell_type": "code",
   "execution_count": 16,
   "id": "2b164fc0-c747-4767-9f28-6f29c44ef5b0",
   "metadata": {},
   "outputs": [],
   "source": [
    "from scipy import stats"
   ]
  },
  {
   "cell_type": "code",
   "execution_count": 18,
   "id": "57bf87be-3f46-4439-848d-a4d159de0a61",
   "metadata": {},
   "outputs": [
    {
     "data": {
      "text/plain": [
       "Power_divergenceResult(statistic=np.float64(0.16363636363636364), pvalue=np.float64(0.6858304344516056))"
      ]
     },
     "execution_count": 18,
     "metadata": {},
     "output_type": "execute_result"
    }
   ],
   "source": [
    "fair_coin_result = stats.chisquare(fair_coin_observed, fair_coin_expected)\n",
    "fair_coin_result\n",
    "# based on the current evience and testing, we fail to reject the null hypothesis"
   ]
  },
  {
   "cell_type": "code",
   "execution_count": null,
   "id": "bae69e73-2c71-4ebc-a158-b00cf20e8b5e",
   "metadata": {},
   "outputs": [],
   "source": [
    " "
   ]
  }
 ],
 "metadata": {
  "kernelspec": {
   "display_name": "Python 3 (ipykernel)",
   "language": "python",
   "name": "python3"
  },
  "language_info": {
   "codemirror_mode": {
    "name": "ipython",
    "version": 3
   },
   "file_extension": ".py",
   "mimetype": "text/x-python",
   "name": "python",
   "nbconvert_exporter": "python",
   "pygments_lexer": "ipython3",
   "version": "3.13.7"
  }
 },
 "nbformat": 4,
 "nbformat_minor": 5
}
