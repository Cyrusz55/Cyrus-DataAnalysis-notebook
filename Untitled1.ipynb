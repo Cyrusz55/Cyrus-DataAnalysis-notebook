{
 "cells": [
  {
   "cell_type": "code",
   "execution_count": 1,
   "id": "3e3fff04-f3b1-46a4-913a-e85d138fd703",
   "metadata": {},
   "outputs": [],
   "source": [
    "import numpy as np"
   ]
  },
  {
   "cell_type": "code",
   "execution_count": 3,
   "id": "f9a1befe-99b3-422c-b7e7-5f9c019f687a",
   "metadata": {},
   "outputs": [],
   "source": [
    "from collections import Counter"
   ]
  },
  {
   "cell_type": "code",
   "execution_count": 4,
   "id": "b956f761-1d88-4a56-b92e-09e2e59cab7c",
   "metadata": {},
   "outputs": [],
   "source": [
    "import matplotlib.pyplot as plt\n",
    "import itertools"
   ]
  },
  {
   "cell_type": "code",
   "execution_count": 6,
   "id": "e88797ff-181f-4a8e-b92b-8aaf9e4fda5f",
   "metadata": {},
   "outputs": [
    {
     "name": "stdout",
     "output_type": "stream",
     "text": [
      "{'A': 19, 'B': 14, 'C': 15, 'D': 9, 'E': 10, 'F': 17}\n"
     ]
    }
   ],
   "source": [
    "# Create two lists with pumpkin names and weights\n",
    "pumpkin = (\"A\", \"B\", \"C\", \"D\", \"E\", \"F\")\n",
    "weights = (19, 14, 15, 9, 10, 17)\n",
    "# Combine both lists to create a dictionary\n",
    "pumpkin_dict = {\"A\":19, \"B\": 14, \"C\": 15, \"D\": 9, \"E\":10, \"F\":17}\n",
    "\n",
    "print(pumpkin_dict)"
   ]
  },
  {
   "cell_type": "code",
   "execution_count": 8,
   "id": "da2eafaf-a749-45e9-be41-97a665f04b68",
   "metadata": {},
   "outputs": [
    {
     "ename": "NameError",
     "evalue": "name 'avg' is not defined",
     "output_type": "error",
     "traceback": [
      "\u001b[31m---------------------------------------------------------------------------\u001b[39m",
      "\u001b[31mNameError\u001b[39m                                 Traceback (most recent call last)",
      "\u001b[36mCell\u001b[39m\u001b[36m \u001b[39m\u001b[32mIn[8]\u001b[39m\u001b[32m, line 5\u001b[39m\n\u001b[32m      2\u001b[39m     d = avg(x)\n\u001b[32m      3\u001b[39m     \u001b[38;5;28;01mreturn\u001b[39;00m (d)\n\u001b[32m----> \u001b[39m\u001b[32m5\u001b[39m mu = \u001b[43mcalculate_mu\u001b[49m\u001b[43m(\u001b[49m\u001b[43mpumpkin_dict\u001b[49m\u001b[43m)\u001b[49m\n",
      "\u001b[36mCell\u001b[39m\u001b[36m \u001b[39m\u001b[32mIn[8]\u001b[39m\u001b[32m, line 2\u001b[39m, in \u001b[36mcalculate_mu\u001b[39m\u001b[34m(x)\u001b[39m\n\u001b[32m      1\u001b[39m \u001b[38;5;28;01mdef\u001b[39;00m\u001b[38;5;250m \u001b[39m\u001b[34mcalculate_mu\u001b[39m(x):\n\u001b[32m----> \u001b[39m\u001b[32m2\u001b[39m     d = \u001b[43mavg\u001b[49m(x)\n\u001b[32m      3\u001b[39m     \u001b[38;5;28;01mreturn\u001b[39;00m (d)\n",
      "\u001b[31mNameError\u001b[39m: name 'avg' is not defined"
     ]
    }
   ],
   "source": [
    "def calculate_mu(x):\n",
    "    d = avg(x)\n",
    "    return (d)\n",
    "\n",
    "mu = calculate_mu(pumpkin_dict)"
   ]
  }
 ],
 "metadata": {
  "kernelspec": {
   "display_name": "Python 3 (ipykernel)",
   "language": "python",
   "name": "python3"
  },
  "language_info": {
   "codemirror_mode": {
    "name": "ipython",
    "version": 3
   },
   "file_extension": ".py",
   "mimetype": "text/x-python",
   "name": "python",
   "nbconvert_exporter": "python",
   "pygments_lexer": "ipython3",
   "version": "3.13.7"
  }
 },
 "nbformat": 4,
 "nbformat_minor": 5
}
