{
 "cells": [
  {
   "cell_type": "code",
   "execution_count": 1,
   "id": "26ae0e79-ff5a-4de3-a4cc-9bedd8c36a7c",
   "metadata": {},
   "outputs": [
    {
     "name": "stdout",
     "output_type": "stream",
     "text": [
      "(1, 2, 3, 4, 5)\n"
     ]
    }
   ],
   "source": [
    "goodies = (1, 2, 3, 4, 5)\n",
    "print(goodies)"
   ]
  },
  {
   "cell_type": "code",
   "execution_count": 10,
   "id": "7ad5c8e7-d3b7-47e2-a71c-a926db78a77f",
   "metadata": {},
   "outputs": [
    {
     "name": "stdout",
     "output_type": "stream",
     "text": [
      "1\n"
     ]
    }
   ],
   "source": [
    "import random\n",
    "inte = random.choice(goodies)\n",
    "print(inte)"
   ]
  },
  {
   "cell_type": "code",
   "execution_count": 12,
   "id": "b70f19af-0327-47d7-b2e6-91f087d1c956",
   "metadata": {},
   "outputs": [
    {
     "data": {
      "text/plain": [
       "int"
      ]
     },
     "execution_count": 12,
     "metadata": {},
     "output_type": "execute_result"
    }
   ],
   "source": [
    "type(4)"
   ]
  }
 ],
 "metadata": {
  "kernelspec": {
   "display_name": "Python 3 (ipykernel)",
   "language": "python",
   "name": "python3"
  },
  "language_info": {
   "codemirror_mode": {
    "name": "ipython",
    "version": 3
   },
   "file_extension": ".py",
   "mimetype": "text/x-python",
   "name": "python",
   "nbconvert_exporter": "python",
   "pygments_lexer": "ipython3",
   "version": "3.13.5"
  }
 },
 "nbformat": 4,
 "nbformat_minor": 5
}
