{
 "cells": [
  {
   "cell_type": "code",
   "execution_count": 1,
   "id": "71543e69-5aed-431d-8c90-56546ca6e512",
   "metadata": {},
   "outputs": [
    {
     "name": "stdout",
     "output_type": "stream",
     "text": [
      "[1, 2, 3, 4, 5, 6]\n"
     ]
    }
   ],
   "source": [
    "numbers = [1, 2, 3, 4, 5]\n",
    "mixed = [1, \"hello\", 3.14, True]\n",
    "empty = []\n",
    "numbers.append(6)\n",
    "print(numbers)\n"
   ]
  },
  {
   "cell_type": "code",
   "execution_count": 2,
   "id": "b6ef317c-f481-4451-8b7a-c740d89e357b",
   "metadata": {},
   "outputs": [
    {
     "name": "stdout",
     "output_type": "stream",
     "text": [
      "[0, 1, 2, 3, 4, 5, 6]\n"
     ]
    }
   ],
   "source": [
    "numbers.insert(0, 0)\n",
    "print(numbers)"
   ]
  },
  {
   "cell_type": "code",
   "execution_count": 3,
   "id": "f2266409-6de8-47f7-bc8a-e9ab003a918d",
   "metadata": {},
   "outputs": [
    {
     "name": "stdout",
     "output_type": "stream",
     "text": [
      "[0, 1, 2, 4, 5, 6]\n"
     ]
    }
   ],
   "source": [
    "numbers.remove(3)\n",
    "print(numbers)"
   ]
  },
  {
   "cell_type": "code",
   "execution_count": 5,
   "id": "a052339f-f55e-452b-bff4-4d56c87ab367",
   "metadata": {},
   "outputs": [
    {
     "name": "stdout",
     "output_type": "stream",
     "text": [
      "[0, 1, 2, 4, 5, 6, 3]\n"
     ]
    }
   ],
   "source": [
    "numbers.append(3)\n",
    "print(numbers)"
   ]
  },
  {
   "cell_type": "code",
   "execution_count": 6,
   "id": "e433112e-e542-44ea-a116-758a261d70ce",
   "metadata": {},
   "outputs": [],
   "source": [
    "popped = numbers.pop()"
   ]
  },
  {
   "cell_type": "code",
   "execution_count": 7,
   "id": "1358a12b-b1d0-4dc1-a9a6-a21480a9dd42",
   "metadata": {},
   "outputs": [
    {
     "name": "stdout",
     "output_type": "stream",
     "text": [
      "3\n"
     ]
    }
   ],
   "source": [
    "print(popped)"
   ]
  },
  {
   "cell_type": "markdown",
   "id": "faa17c47-8960-4ae8-9dff-dce9090b0fc4",
   "metadata": {},
   "source": [
    "numbers[0] =10"
   ]
  },
  {
   "cell_type": "raw",
   "id": "d0856fdf-65cf-4b9f-b8bd-a0ab6628869e",
   "metadata": {},
   "source": [
    "print(numbers)"
   ]
  },
  {
   "cell_type": "code",
   "execution_count": 8,
   "id": "a1035498-501a-431d-913a-c02f0a8c5cdd",
   "metadata": {},
   "outputs": [
    {
     "name": "stdout",
     "output_type": "stream",
     "text": [
      "[0, 1, 2, 4, 5, 6]\n"
     ]
    }
   ],
   "source": [
    "print(numbers)"
   ]
  },
  {
   "cell_type": "code",
   "execution_count": 9,
   "id": "499ce293-7c73-4c59-b433-7ceee261daf0",
   "metadata": {},
   "outputs": [
    {
     "name": "stdout",
     "output_type": "stream",
     "text": [
      "[10, 1, 2, 4, 5, 6]\n"
     ]
    }
   ],
   "source": [
    "numbers[0] = 10\n",
    "print(numbers)"
   ]
  },
  {
   "cell_type": "code",
   "execution_count": 11,
   "id": "3a657b17-8ffa-4594-9a05-39aabddd7a6f",
   "metadata": {},
   "outputs": [
    {
     "name": "stdout",
     "output_type": "stream",
     "text": [
      "[0, 1, 4, 9, 16]\n"
     ]
    }
   ],
   "source": [
    "numbers[0] = 0\n",
    "squares = [x**2 for x in range(5)]\n",
    "print(squares)"
   ]
  },
  {
   "cell_type": "code",
   "execution_count": 12,
   "id": "0a5837df-3e3a-4789-8294-cabfbe6138c1",
   "metadata": {},
   "outputs": [],
   "source": [
    "coordinates = (10, 20)\n",
    "colors = (\"red\", \"green\", \"blue\")\n",
    "single_item = (42,)"
   ]
  },
  {
   "cell_type": "code",
   "execution_count": 13,
   "id": "814f2bbb-5854-4cc3-b172-50916ab3e2cf",
   "metadata": {},
   "outputs": [
    {
     "name": "stdout",
     "output_type": "stream",
     "text": [
      "(42,)\n"
     ]
    }
   ],
   "source": [
    "print(single_item)"
   ]
  },
  {
   "cell_type": "code",
   "execution_count": 15,
   "id": "0df5e273-de56-43dd-bd3f-8d15534f2aa9",
   "metadata": {},
   "outputs": [],
   "source": [
    "x, y = coordinates"
   ]
  },
  {
   "cell_type": "code",
   "execution_count": 16,
   "id": "9a424e14-45d3-4b4a-abd7-684242b39cf0",
   "metadata": {},
   "outputs": [
    {
     "name": "stdout",
     "output_type": "stream",
     "text": [
      "10\n",
      "20\n"
     ]
    }
   ],
   "source": [
    "print(x)\n",
    "print(y)\n"
   ]
  },
  {
   "cell_type": "raw",
   "id": "279b30ee-7100-445c-ac7f-01c2177bfbab",
   "metadata": {},
   "source": []
  },
  {
   "cell_type": "code",
   "execution_count": 17,
   "id": "0dc166aa-4941-4d6e-b1d2-bdfea8e7fc84",
   "metadata": {},
   "outputs": [
    {
     "name": "stdout",
     "output_type": "stream",
     "text": [
      "red\n"
     ]
    }
   ],
   "source": [
    "first_color = colors[0]\n",
    "print(first_color)"
   ]
  },
  {
   "cell_type": "code",
   "execution_count": 18,
   "id": "c414e085-e7ca-4b1d-847b-1a5b28684c89",
   "metadata": {},
   "outputs": [
    {
     "name": "stdout",
     "output_type": "stream",
     "text": [
      "10 20\n"
     ]
    }
   ],
   "source": [
    "from collections import namedtuple\n",
    "Point = namedtuple('Point', ['x', 'y'])\n",
    "p = Point(10, 20)\n",
    "print(p.x, p.y)"
   ]
  },
  {
   "cell_type": "code",
   "execution_count": 20,
   "id": "ac0f3e20-178d-4ac5-a5f5-23d8237dc1c3",
   "metadata": {},
   "outputs": [
    {
     "name": "stdout",
     "output_type": "stream",
     "text": [
      "Alice\n"
     ]
    }
   ],
   "source": [
    "student = {\"name\": \"Alice\", \"age\": 20, \"grade\":\"A\"}\n",
    "empty_dict = {}\n",
    "\n",
    "print(student[\"name\"])\n",
    "student[\"age\"] = 21\n",
    "student[\"email\"] = \"alice@example.com\""
   ]
  },
  {
   "cell_type": "code",
   "execution_count": 21,
   "id": "b30e6e63-f057-455c-8f76-58f2fae4ee81",
   "metadata": {},
   "outputs": [
    {
     "name": "stdout",
     "output_type": "stream",
     "text": [
      "{'name': 'Alice', 'age': 21, 'grade': 'A', 'email': 'alice@example.com'}\n"
     ]
    }
   ],
   "source": [
    "print(student)"
   ]
  },
  {
   "cell_type": "code",
   "execution_count": 22,
   "id": "02a26d27-8923-4cd5-ad95-edf6c1ae676c",
   "metadata": {},
   "outputs": [],
   "source": [
    "age = student.get(\"age\", 0)"
   ]
  },
  {
   "cell_type": "code",
   "execution_count": 23,
   "id": "dccfc262-7a0e-4661-9ac4-bef29190e5a0",
   "metadata": {},
   "outputs": [
    {
     "name": "stdout",
     "output_type": "stream",
     "text": [
      "21\n"
     ]
    }
   ],
   "source": [
    "print(age)"
   ]
  },
  {
   "cell_type": "code",
   "execution_count": 24,
   "id": "59b6d84e-3490-45eb-b1a9-6d2ae7ae1595",
   "metadata": {},
   "outputs": [],
   "source": [
    "keys = student.keys()\n",
    "values = student.values()"
   ]
  },
  {
   "cell_type": "code",
   "execution_count": 25,
   "id": "f458b5d7-9f38-4d59-9571-e97949be9c5a",
   "metadata": {},
   "outputs": [
    {
     "name": "stdout",
     "output_type": "stream",
     "text": [
      "dict_keys(['name', 'age', 'grade', 'email'])\n",
      "dict_values(['Alice', 21, 'A', 'alice@example.com'])\n",
      "dict_items([('name', 'Alice'), ('age', 21), ('grade', 'A'), ('email', 'alice@example.com')])\n"
     ]
    }
   ],
   "source": [
    "items = student.items()\n",
    "print(keys)\n",
    "print(values)\n",
    "print(items)"
   ]
  },
  {
   "cell_type": "code",
   "execution_count": 27,
   "id": "bd40819d-e0d4-484a-bd9e-01e631383c13",
   "metadata": {},
   "outputs": [
    {
     "name": "stdout",
     "output_type": "stream",
     "text": [
      "{0: 0, 1: 1, 2: 4, 3: 9, 4: 16}\n"
     ]
    }
   ],
   "source": [
    "squares = {x: x**2 for x in range(5)}\n",
    "print(squares)"
   ]
  },
  {
   "cell_type": "code",
   "execution_count": 29,
   "id": "38e0a76a-1ce3-45ad-8af2-6e515b593b09",
   "metadata": {},
   "outputs": [
    {
     "name": "stdout",
     "output_type": "stream",
     "text": [
      "-2507720311882154321\n",
      "42\n"
     ]
    }
   ],
   "source": [
    "print(hash(\"hello\"))\n",
    "print(hash(42))"
   ]
  },
  {
   "cell_type": "raw",
   "id": "c69014e4-4361-4570-9efe-c658d0ee1884",
   "metadata": {},
   "source": []
  },
  {
   "cell_type": "markdown",
   "id": "93e5a8c3-0e3a-4360-ac70-7b737531f9f9",
   "metadata": {},
   "source": []
  },
  {
   "cell_type": "code",
   "execution_count": 30,
   "id": "16d743f4-6eb1-4a62-8277-1410111d1fd9",
   "metadata": {},
   "outputs": [
    {
     "ename": "KeyError",
     "evalue": "'missing'",
     "output_type": "error",
     "traceback": [
      "\u001b[31m---------------------------------------------------------------------------\u001b[39m",
      "\u001b[31mKeyError\u001b[39m                                  Traceback (most recent call last)",
      "\u001b[36mCell\u001b[39m\u001b[36m \u001b[39m\u001b[32mIn[30]\u001b[39m\u001b[32m, line 4\u001b[39m\n\u001b[32m      1\u001b[39m \u001b[38;5;28;01mfrom\u001b[39;00m\u001b[38;5;250m \u001b[39m\u001b[34;01mcollections\u001b[39;00m\u001b[38;5;250m \u001b[39m\u001b[38;5;28;01mimport\u001b[39;00m defaultdict\n\u001b[32m      3\u001b[39m regular_dict = {}\n\u001b[32m----> \u001b[39m\u001b[32m4\u001b[39m \u001b[38;5;28mprint\u001b[39m(\u001b[43mregular_dict\u001b[49m\u001b[43m[\u001b[49m\u001b[33;43m\"\u001b[39;49m\u001b[33;43mmissing\u001b[39;49m\u001b[33;43m\"\u001b[39;49m\u001b[43m]\u001b[49m)\n",
      "\u001b[31mKeyError\u001b[39m: 'missing'"
     ]
    }
   ],
   "source": [
    "from collections import defaultdict\n",
    "\n",
    "regular_dict = {}\n",
    "print(regular_dict[\"missing\"])\n"
   ]
  },
  {
   "cell_type": "code",
   "execution_count": 31,
   "id": "74a49478-5e20-47d1-8f0a-3c4ee98ff59b",
   "metadata": {},
   "outputs": [],
   "source": [
    "dd = defaultdict(int)\n",
    "dd[\"count\"] += 1"
   ]
  },
  {
   "cell_type": "code",
   "execution_count": 32,
   "id": "c1a42ebe-2c7a-45e6-9816-5f495ee757fd",
   "metadata": {},
   "outputs": [
    {
     "name": "stdout",
     "output_type": "stream",
     "text": [
      "{'hello': 2, 'world': 1}\n"
     ]
    }
   ],
   "source": [
    "word_count = defaultdict(int)\n",
    "text = \"hello world hello\"\n",
    "for word in text.split():\n",
    "    word_count[word] += 1\n",
    "print(dict(word_count))"
   ]
  },
  {
   "cell_type": "code",
   "execution_count": 34,
   "id": "bcadbf7a-502f-4587-aae4-f04197d07701",
   "metadata": {},
   "outputs": [
    {
     "name": "stdout",
     "output_type": "stream",
     "text": [
      "{'Alice': ['Math', 'English'], 'Bob': ['Science']}\n"
     ]
    }
   ],
   "source": [
    "from collections import defaultdict\n",
    "groups = defaultdict(list)\n",
    "students = [(\"Alice\", \"Math\"), (\"Bob\", \"Science\"), (\"Alice\", \"English\")]\n",
    "for name, subject in students:\n",
    "    groups[name].append(subject)\n",
    "print(dict(groups))"
   ]
  },
  {
   "cell_type": "code",
   "execution_count": 35,
   "id": "9f52446a-d776-486a-9296-c80740a9647f",
   "metadata": {},
   "outputs": [
    {
     "name": "stdout",
     "output_type": "stream",
     "text": [
      "Counter({'l': 3, 'o': 2, 'h': 1, 'e': 1, ' ': 1, 'w': 1, 'r': 1, 'd': 1})\n"
     ]
    }
   ],
   "source": [
    "from collections import Counter\n",
    "\n",
    "text = \"hello world\"\n",
    "letter_count = Counter(text)\n",
    "print(letter_count)"
   ]
  },
  {
   "cell_type": "raw",
   "id": "149c74b8-022c-4fcf-8837-19c1e500d916",
   "metadata": {},
   "source": []
  },
  {
   "cell_type": "code",
   "execution_count": 36,
   "id": "b42a2899-7637-4867-8a26-8a30aa6ea325",
   "metadata": {},
   "outputs": [
    {
     "name": "stdout",
     "output_type": "stream",
     "text": [
      "Counter({'apple': 3, 'banana': 2, 'cherry': 1})\n"
     ]
    }
   ],
   "source": [
    "fruits = [\"apple\", \"banana\", \"apple\", \"cherry\", \"banana\", \"apple\"]\n",
    "fruit_count = Counter(fruits)\n",
    "print(fruit_count)"
   ]
  },
  {
   "cell_type": "code",
   "execution_count": 37,
   "id": "232f7d5d-2446-4864-bdf3-9c42ca665c7b",
   "metadata": {},
   "outputs": [
    {
     "name": "stdout",
     "output_type": "stream",
     "text": [
      "[('apple', 3), ('banana', 2)]\n",
      "6\n"
     ]
    }
   ],
   "source": [
    "print(fruit_count.most_common(2))\n",
    "print(fruit_count.total())"
   ]
  },
  {
   "cell_type": "code",
   "execution_count": 38,
   "id": "983d5728-2d40-4803-9c2f-8b3a2e7a42ae",
   "metadata": {},
   "outputs": [
    {
     "name": "stdout",
     "output_type": "stream",
     "text": [
      "Counter({'l': 3, 'o': 2, 'h': 1, 'e': 1, 'w': 1, 'r': 1, 'd': 1})\n",
      "Counter({'h': 1, 'e': 1, 'l': 1})\n"
     ]
    }
   ],
   "source": [
    "counter1 = Counter(\"hello\")\n",
    "counter2 = Counter(\"world\")\n",
    "print(counter1 + counter2)\n",
    "print(counter1 - counter2)"
   ]
  },
  {
   "cell_type": "code",
   "execution_count": 40,
   "id": "797f2078-405a-4cdb-ad6e-6635c7c68d18",
   "metadata": {},
   "outputs": [],
   "source": [
    "numbers = {1, 2, 3, 4, 5}\n",
    "letters = set(\"hello\")\n",
    "empty_set = set()"
   ]
  },
  {
   "cell_type": "code",
   "execution_count": 41,
   "id": "36cb8993-fa26-4fdc-b5b0-06f3cd252f33",
   "metadata": {},
   "outputs": [
    {
     "name": "stdout",
     "output_type": "stream",
     "text": [
      "{'h', 'o', 'l', 'e'}\n"
     ]
    }
   ],
   "source": [
    "print(letters)"
   ]
  },
  {
   "cell_type": "markdown",
   "id": "7a2e2cc3-113f-498c-aa11-ce6f502cc14b",
   "metadata": {},
   "source": []
  },
  {
   "cell_type": "raw",
   "id": "99e4418a-4975-4396-a911-43da0e8210b6",
   "metadata": {},
   "source": []
  },
  {
   "cell_type": "code",
   "execution_count": 42,
   "id": "3b022d6f-6c01-4c0c-a50b-504b01a5fe7e",
   "metadata": {},
   "outputs": [
    {
     "name": "stdout",
     "output_type": "stream",
     "text": [
      "{1, 2, 3, 4, 5, 6}\n"
     ]
    }
   ],
   "source": [
    "numbers.add(6)\n",
    "print(numbers)"
   ]
  },
  {
   "cell_type": "code",
   "execution_count": 44,
   "id": "5631c8f9-12b1-43fe-b7d8-84f89280335b",
   "metadata": {},
   "outputs": [
    {
     "ename": "KeyError",
     "evalue": "1",
     "output_type": "error",
     "traceback": [
      "\u001b[31m---------------------------------------------------------------------------\u001b[39m",
      "\u001b[31mKeyError\u001b[39m                                  Traceback (most recent call last)",
      "\u001b[36mCell\u001b[39m\u001b[36m \u001b[39m\u001b[32mIn[44]\u001b[39m\u001b[32m, line 1\u001b[39m\n\u001b[32m----> \u001b[39m\u001b[32m1\u001b[39m \u001b[43mnumbers\u001b[49m\u001b[43m.\u001b[49m\u001b[43mremove\u001b[49m\u001b[43m(\u001b[49m\u001b[32;43m1\u001b[39;49m\u001b[43m)\u001b[49m\n",
      "\u001b[31mKeyError\u001b[39m: 1"
     ]
    }
   ],
   "source": [
    "numbers.remove(1)\n"
   ]
  },
  {
   "cell_type": "markdown",
   "id": "bfec6c77-9a23-4e4c-b59c-fb4abba11c2e",
   "metadata": {},
   "source": []
  },
  {
   "cell_type": "raw",
   "id": "7e8d081d-9bc4-4ae6-9297-bde5927365cc",
   "metadata": {},
   "source": []
  },
  {
   "cell_type": "code",
   "execution_count": 45,
   "id": "e76bb158-a648-4af7-a5f7-d48f64cc6531",
   "metadata": {},
   "outputs": [],
   "source": [
    "numbers.add(1)"
   ]
  },
  {
   "cell_type": "code",
   "execution_count": 46,
   "id": "3b5f067f-bd00-4a54-8c2d-2f831287874f",
   "metadata": {},
   "outputs": [],
   "source": [
    "numbers.discard(10)"
   ]
  },
  {
   "cell_type": "code",
   "execution_count": 49,
   "id": "7e590368-8d72-4108-8e92-09b12c6fead9",
   "metadata": {},
   "outputs": [],
   "source": [
    "set1 = {1, 2, 3, 4}\n",
    "set2 = {3, 4, 5, 6}\n",
    "\n",
    "union = set1 | set2\n",
    "intersection = set1 & set2\n",
    "difference = set1 - set2\n",
    "symmetric_diff = set1 ^ set2 "
   ]
  },
  {
   "cell_type": "code",
   "execution_count": 51,
   "id": "a3049fa9-d297-4a29-b2d6-0d69c3081d7a",
   "metadata": {},
   "outputs": [
    {
     "name": "stdout",
     "output_type": "stream",
     "text": [
      "{1, 2, 3, 4, 5, 6}\n",
      "{3, 4}\n",
      "{1, 2}\n",
      "{1, 2, 5, 6}\n"
     ]
    }
   ],
   "source": [
    "print(union)\n",
    "print(intersection)\n",
    "print(difference)\n",
    "print(symmetric_diff)"
   ]
  },
  {
   "cell_type": "raw",
   "id": "d5f09348-f8a8-4ae8-bbf6-e2b419727dab",
   "metadata": {},
   "source": []
  },
  {
   "cell_type": "code",
   "execution_count": 52,
   "id": "ed5bb4b3-68a1-47b8-816d-2ddb79d30186",
   "metadata": {},
   "outputs": [
    {
     "name": "stdout",
     "output_type": "stream",
     "text": [
      "True\n"
     ]
    }
   ],
   "source": [
    "print(3 in set1)"
   ]
  },
  {
   "cell_type": "raw",
   "id": "b03bd7ab-261d-49cb-8ab1-94caa8453381",
   "metadata": {},
   "source": []
  },
  {
   "cell_type": "raw",
   "id": "41bfa019-7b26-4948-b623-24ae930101b1",
   "metadata": {},
   "source": []
  },
  {
   "cell_type": "code",
   "execution_count": 53,
   "id": "169f77e2-9002-4fb5-8bcf-75edb7f3b890",
   "metadata": {},
   "outputs": [
    {
     "name": "stdout",
     "output_type": "stream",
     "text": [
      "{frozenset({1, 2, 3}): 'cached_value'}\n"
     ]
    }
   ],
   "source": [
    "frozen_numbers = frozenset([1,2,3,4,5])\n",
    "frozen_letters = frozenset(\"hello\")\n",
    "\n",
    "cache = {}\n",
    "key = frozenset([1,2,3])\n",
    "cache[key] = \"cached_value\"\n",
    "print(cache)"
   ]
  },
  {
   "cell_type": "code",
   "execution_count": 54,
   "id": "3c3ed3bb-35c6-47da-a7e5-cbcd1b902b38",
   "metadata": {},
   "outputs": [
    {
     "name": "stdout",
     "output_type": "stream",
     "text": [
      "{frozenset({3, 4}), frozenset({1, 2})}\n"
     ]
    }
   ],
   "source": [
    "set_of_sets = {frozenset([1, 2]), frozenset([3, 4])}\n",
    "print(set_of_sets)"
   ]
  },
  {
   "cell_type": "code",
   "execution_count": 1,
   "id": "caf53e1f-a86a-493c-8d7c-1a24306306a4",
   "metadata": {},
   "outputs": [
    {
     "name": "stdout",
     "output_type": "stream",
     "text": [
      "0\n"
     ]
    }
   ],
   "source": [
    "import array\n",
    "\n",
    "numbers = array.array('i', [1,2,3,4,5])\n",
    "floats = array.array('f',[1.1, 2.2, 3.3,])\n",
    "\n",
    "numbers.append(6)\n",
    "numbers.insert(0, 0)\n",
    "print(numbers[0])"
   ]
  },
  {
   "cell_type": "code",
   "execution_count": 2,
   "id": "f55c9eb6-b9fd-4006-a812-34b8d4715bca",
   "metadata": {},
   "outputs": [],
   "source": [
    "data = b\"hello\"\n",
    "data2 = bytes([72, 101, 108, 111])\n",
    "data3 = \"hello\".encode('utf-8')"
   ]
  },
  {
   "cell_type": "code",
   "execution_count": 3,
   "id": "c1e24d6f-0766-45ac-ae82-d3a96a4886cc",
   "metadata": {},
   "outputs": [
    {
     "name": "stdout",
     "output_type": "stream",
     "text": [
      "5\n"
     ]
    }
   ],
   "source": [
    "print(len(data))"
   ]
  },
  {
   "cell_type": "raw",
   "id": "cc2086ee-34d2-456b-9d40-b04203147b9e",
   "metadata": {},
   "source": []
  },
  {
   "cell_type": "code",
   "execution_count": 4,
   "id": "8a119bca-cab2-4701-a601-68f6254d1182",
   "metadata": {},
   "outputs": [
    {
     "name": "stdout",
     "output_type": "stream",
     "text": [
      "104\n"
     ]
    }
   ],
   "source": [
    "print(data[0])"
   ]
  },
  {
   "cell_type": "code",
   "execution_count": 5,
   "id": "dc2cf424-a89b-4c45-b343-51369a583c27",
   "metadata": {},
   "outputs": [
    {
     "name": "stdout",
     "output_type": "stream",
     "text": [
      "hello\n"
     ]
    }
   ],
   "source": [
    "print(data.decode())"
   ]
  },
  {
   "cell_type": "code",
   "execution_count": 6,
   "id": "9184f5cc-4809-4eb6-9f2a-5cb048afc7d3",
   "metadata": {},
   "outputs": [],
   "source": [
    "data = bytearray(b\"hello\")\n",
    "data2 = bytearray([72, 101, 108, 108, 111])\n"
   ]
  },
  {
   "cell_type": "code",
   "execution_count": 8,
   "id": "a16a7ea1-c8b1-4986-aff7-854961ca1dd6",
   "metadata": {},
   "outputs": [
    {
     "name": "stdout",
     "output_type": "stream",
     "text": [
      "Aello\n"
     ]
    }
   ],
   "source": [
    "data[0] = 65\n",
    "print(data.decode())"
   ]
  },
  {
   "cell_type": "code",
   "execution_count": 9,
   "id": "0a8c7e39-7770-4b41-af60-88e537cce2ba",
   "metadata": {},
   "outputs": [
    {
     "name": "stdout",
     "output_type": "stream",
     "text": [
      "Aello!\n"
     ]
    }
   ],
   "source": [
    "data.append(33)\n",
    "print(data.decode())"
   ]
  },
  {
   "cell_type": "code",
   "execution_count": 15,
   "id": "66470c35-6425-4fa3-a5d8-54e34f516c5b",
   "metadata": {},
   "outputs": [],
   "source": [
    "class Node:\n",
    "    def __init__(self, data):\n",
    "        self.data=data\n",
    "        self.next = None\n",
    "\n",
    "class LinkedList:\n",
    "    def __init__(self):\n",
    "        self.head = None\n",
    "\n",
    "    def append(self, data):\n",
    "        new_node = Node(data)\n",
    "        if not self.head:\n",
    "            self.head = new_node\n",
    "            return\n",
    "        current = self.head\n",
    "        while current.next:\n",
    "            current = current.next\n",
    "        current.next = new_node\n",
    "\n",
    "    def display(self):\n",
    "        elements = []\n",
    "        current = self.head\n",
    "        while current:\n",
    "            elements.append(current.data)\n",
    "            current = current.next\n",
    "        return elements"
   ]
  },
  {
   "cell_type": "code",
   "execution_count": 16,
   "id": "d556ef5c-24ee-4123-a837-0d2de1048556",
   "metadata": {},
   "outputs": [
    {
     "name": "stdout",
     "output_type": "stream",
     "text": [
      "[1, 2, 3]\n"
     ]
    }
   ],
   "source": [
    "l1 = LinkedList()\n",
    "l1.append(1)\n",
    "l1.append(2)\n",
    "l1.append(3)\n",
    "print(l1.display())"
   ]
  },
  {
   "cell_type": "code",
   "execution_count": 17,
   "id": "1b34300a-f7a2-47e0-9dbe-5590a8c17c12",
   "metadata": {},
   "outputs": [
    {
     "name": "stdout",
     "output_type": "stream",
     "text": [
      "deque([0, 1, 2, 3, 4])\n"
     ]
    }
   ],
   "source": [
    "from collections import deque\n",
    "dq = deque([1,2,3])\n",
    "\n",
    "dq.append(4)\n",
    "dq.appendleft(0)\n",
    "print(dq)"
   ]
  },
  {
   "cell_type": "code",
   "execution_count": 18,
   "id": "cc96e07e-985b-4e60-8d3b-c09f11089262",
   "metadata": {},
   "outputs": [
    {
     "name": "stdout",
     "output_type": "stream",
     "text": [
      "deque([1, 2, 3])\n"
     ]
    }
   ],
   "source": [
    "right = dq.pop()\n",
    "left = dq.popleft()\n",
    "print(dq)"
   ]
  },
  {
   "cell_type": "code",
   "execution_count": 19,
   "id": "a5bb672c-cc02-482c-bcec-fbc44ee46107",
   "metadata": {},
   "outputs": [
    {
     "name": "stdout",
     "output_type": "stream",
     "text": [
      "deque([3, 1, 2])\n"
     ]
    }
   ],
   "source": [
    "dq.rotate(1)\n",
    "print(dq)"
   ]
  },
  {
   "cell_type": "raw",
   "id": "87b28522-7709-44f1-ba6b-f5192fa6da9c",
   "metadata": {},
   "source": []
  },
  {
   "cell_type": "code",
   "execution_count": 20,
   "id": "235c0e4e-3775-4fb1-8b9b-2b66587da43f",
   "metadata": {},
   "outputs": [
    {
     "name": "stdout",
     "output_type": "stream",
     "text": [
      "1\n",
      "2\n"
     ]
    }
   ],
   "source": [
    "from queue import Queue\n",
    "import queue\n",
    "\n",
    "q = Queue()\n",
    "q.put(1)\n",
    "q.put(2)\n",
    "q.put(3)\n",
    "\n",
    "print(q.get())\n",
    "print(q.get())"
   ]
  },
  {
   "cell_type": "code",
   "execution_count": 21,
   "id": "8d0ddb01-be06-4269-9091-61e04a6b617a",
   "metadata": {},
   "outputs": [
    {
     "name": "stdout",
     "output_type": "stream",
     "text": [
      "(1, 'first')\n"
     ]
    }
   ],
   "source": [
    "pq = queue.PriorityQueue()\n",
    "pq.put((2, \"second\"))\n",
    "pq.put((1, \"first\"))\n",
    "pq.put((3, \"third\"))\n",
    "\n",
    "print(pq.get()) "
   ]
  },
  {
   "cell_type": "code",
   "execution_count": 22,
   "id": "0724bfd2-064a-43ab-a32f-12c04ef2a50a",
   "metadata": {},
   "outputs": [
    {
     "name": "stdout",
     "output_type": "stream",
     "text": [
      "2\n"
     ]
    }
   ],
   "source": [
    "stack = queue.LifoQueue()\n",
    "stack.put(1)\n",
    "stack.put(2)\n",
    "print(stack.get())"
   ]
  },
  {
   "cell_type": "code",
   "execution_count": 2,
   "id": "e5ed11e9-20dc-4b3b-a559-d41614e0f509",
   "metadata": {},
   "outputs": [],
   "source": [
    "class TreeNode:\n",
    "    def __init__(self, data):\n",
    "        self.data = data\n",
    "        self.children = []\n",
    "\n",
    "    def add_child(self, child):\n",
    "        self.children.append(child)\n",
    "\n",
    "    def display(self, level=0):\n",
    "        print(\" \" * level + str(self.data))\n",
    "        for child in self.children:\n",
    "            child.display(level + 1)"
   ]
  },
  {
   "cell_type": "code",
   "execution_count": 3,
   "id": "3e83cd69-e037-427b-8295-14680f014fa4",
   "metadata": {},
   "outputs": [],
   "source": [
    "root = TreeNode(\"Root\")\n",
    "child1 = TreeNode(\"Child 1\")\n",
    "child2 = TreeNode(\"Child 2\")\n",
    "grandchild = TreeNode(\"Grandchild\")"
   ]
  },
  {
   "cell_type": "code",
   "execution_count": 4,
   "id": "1899563a-c955-42b2-94fb-635798af8a0d",
   "metadata": {},
   "outputs": [],
   "source": [
    "root.add_child(child1)\n",
    "root.add_child(child2)\n",
    "child1.add_child(grandchild)"
   ]
  },
  {
   "cell_type": "code",
   "execution_count": 5,
   "id": "619afcc0-6307-4d7f-8606-0cc272c74917",
   "metadata": {},
   "outputs": [
    {
     "name": "stdout",
     "output_type": "stream",
     "text": [
      "Root\n",
      " Child 1\n",
      "  Grandchild\n",
      " Child 2\n"
     ]
    }
   ],
   "source": [
    "root.display()"
   ]
  },
  {
   "cell_type": "code",
   "execution_count": 7,
   "id": "dc4f8fd3-6d50-4fc0-9e5a-e8bd3d028306",
   "metadata": {},
   "outputs": [
    {
     "name": "stdout",
     "output_type": "stream",
     "text": [
      "[1, 3, 5, 4, 8, 7]\n"
     ]
    }
   ],
   "source": [
    "import heapq\n",
    "numbers = [4, 1, 7, 3, 8, 5]\n",
    "heapq.heapify(numbers)\n",
    "print(numbers)"
   ]
  },
  {
   "cell_type": "code",
   "execution_count": 9,
   "id": "33e4fcf1-6305-4054-9882-5154393f0012",
   "metadata": {},
   "outputs": [
    {
     "name": "stdout",
     "output_type": "stream",
     "text": [
      "1\n"
     ]
    }
   ],
   "source": [
    "heapq.heappush(numbers, 2)\n",
    "smallest = heapq.heappop(numbers)\n",
    "print(smallest)"
   ]
  },
  {
   "cell_type": "code",
   "execution_count": 11,
   "id": "af509e56-a1af-4bd8-91a7-043fa317da8f",
   "metadata": {},
   "outputs": [
    {
     "name": "stdout",
     "output_type": "stream",
     "text": [
      "[1, 3, 4]\n",
      "[8, 7, 5]\n"
     ]
    }
   ],
   "source": [
    "k_smallest = heapq.nsmallest(3, [4, 1, 7, 3, 8, 5])\n",
    "k_largest = heapq.nlargest(3, [4, 1, 7, 3, 8, 5])\n",
    "print(k_smallest)\n",
    "print(k_largest)"
   ]
  },
  {
   "cell_type": "code",
   "execution_count": 12,
   "id": "0bd4485e-4aa7-46e4-9258-5b3d854542a0",
   "metadata": {},
   "outputs": [
    {
     "name": "stdout",
     "output_type": "stream",
     "text": [
      "[1, 3, 4, 5, 7, 9]\n"
     ]
    }
   ],
   "source": [
    "import bisect\n",
    "\n",
    "sorted_list = [1, 3, 5, 7, 9]\n",
    "bisect.insort(sorted_list, 4)\n",
    "print(sorted_list)"
   ]
  },
  {
   "cell_type": "code",
   "execution_count": 13,
   "id": "21a43c9d-5d91-49b0-a11b-9f397131a9b0",
   "metadata": {},
   "outputs": [
    {
     "name": "stdout",
     "output_type": "stream",
     "text": [
      "4\n"
     ]
    }
   ],
   "source": [
    "pos = bisect.bisect_left(sorted_list, 6)\n",
    "print(pos)"
   ]
  },
  {
   "cell_type": "code",
   "execution_count": 14,
   "id": "a90f87f5-575f-4467-a4e5-04447f3a9256",
   "metadata": {},
   "outputs": [
    {
     "name": "stdout",
     "output_type": "stream",
     "text": [
      "True\n",
      "False\n",
      "True\n"
     ]
    }
   ],
   "source": [
    "class TrieNode:\n",
    "    def __init__(self):\n",
    "        self.children= {}\n",
    "        self.is_end_word = False\n",
    "\n",
    "class Trie:\n",
    "    def __init__(self):\n",
    "        self.root = TrieNode()\n",
    "\n",
    "    def insert(self, word):\n",
    "        node = self.root\n",
    "        for char in word:\n",
    "            if char not in node.children:\n",
    "                node.children[char] = TrieNode()\n",
    "\n",
    "            node = node.children[char]\n",
    "        node.is_end_word = True\n",
    "\n",
    "    def search(self, word):\n",
    "        node = self.root\n",
    "        for char in word:\n",
    "            if char not in node.children:\n",
    "                return False\n",
    "            node  = node.children[char]\n",
    "        return node.is_end_word\n",
    "\n",
    "    def search(self, word):\n",
    "        node = self.root\n",
    "        for char in word:\n",
    "            if char not in node.children:\n",
    "                return False\n",
    "            node = node.children[char]\n",
    "        return node.is_end_word\n",
    "\n",
    "    def starts_with(self, prefix):\n",
    "        node = self.root\n",
    "        for char in prefix:\n",
    "            if char not in node.children:\n",
    "                return False\n",
    "            node = node.children[char]\n",
    "        return True\n",
    "\n",
    "trie = Trie()\n",
    "trie.insert(\"hello\")\n",
    "trie.insert(\"help\")\n",
    "trie.insert(\"word\")\n",
    "\n",
    "print(trie.search(\"hello\"))\n",
    "print(trie.search(\"hel\"))\n",
    "print(trie.starts_with(\"hel\"))"
   ]
  },
  {
   "cell_type": "code",
   "execution_count": 16,
   "id": "2220aa7a-2fe3-416a-9442-74267736a35a",
   "metadata": {},
   "outputs": [
    {
     "name": "stdout",
     "output_type": "stream",
     "text": [
      "Color.RED\n",
      "RED\n",
      "1\n"
     ]
    }
   ],
   "source": [
    "from enum import Enum, IntEnum, auto\n",
    "\n",
    "class Color(Enum):\n",
    "    RED = 1\n",
    "    GREEN = 2\n",
    "    BLUE = 3\n",
    "\n",
    "print(Color.RED)\n",
    "print(Color.RED.name)\n",
    "print(Color.RED.value)\n",
    "\n",
    "class Status(Enum):\n",
    "    PENDING = auto()\n",
    "    APPROVED = auto()\n",
    "    REJECT = auto()\n",
    "\n",
    "class Planet(Enum):\n",
    "    MERCURY = \"mercury\"\n",
    "    VENUS = \"venus\"\n",
    "    EARTH = \"earth\"\n",
    "\n",
    "def process_request(status):\n",
    "    if status == Status.PENDING:\n",
    "        return \"Processing...\"\n",
    "    elif status == Status.APPROVED:\n",
    "        return \"Request approved\"\n",
    "    elif status == Status.REJECTED:\n",
    "        return \"Request rejected\"\n",
    "    "
   ]
  },
  {
   "cell_type": "code",
   "execution_count": 17,
   "id": "eb705a20-8d0a-4274-a2d9-9d3c65237d8f",
   "metadata": {},
   "outputs": [
    {
     "name": "stdout",
     "output_type": "stream",
     "text": [
      "[0, 1, 2, 3, 4]\n"
     ]
    }
   ],
   "source": [
    "r1 = range(5)\n",
    "r2 = range(1, 6)\n",
    "r3 = range(0, 10, 2)\n",
    "\n",
    "print(list(r1))"
   ]
  },
  {
   "cell_type": "code",
   "execution_count": 18,
   "id": "7b91f110-6fbd-4785-bd62-937c737a8bd6",
   "metadata": {},
   "outputs": [
    {
     "name": "stdout",
     "output_type": "stream",
     "text": [
      "5\n",
      "4\n",
      "3\n",
      "2\n",
      "1\n"
     ]
    }
   ],
   "source": [
    "for i in range(5, 0, -1):\n",
    "    print(i)"
   ]
  },
  {
   "cell_type": "code",
   "execution_count": 19,
   "id": "0242bd79-e1f5-4b7e-88eb-4113b933fc32",
   "metadata": {},
   "outputs": [
    {
     "name": "stdout",
     "output_type": "stream",
     "text": [
      "True\n"
     ]
    }
   ],
   "source": [
    "print(3 in range(10))"
   ]
  },
  {
   "cell_type": "raw",
   "id": "1faf6911-0151-41de-af6c-6513aec79a82",
   "metadata": {},
   "source": []
  },
  {
   "cell_type": "code",
   "execution_count": 20,
   "id": "97670079-8581-4bf0-b5ea-881b3c4e6525",
   "metadata": {},
   "outputs": [
    {
     "name": "stdout",
     "output_type": "stream",
     "text": [
      "5\n"
     ]
    }
   ],
   "source": [
    "print(len(range(5)))"
   ]
  },
  {
   "cell_type": "code",
   "execution_count": 21,
   "id": "9e0fd621-53b2-4039-b8e9-714587a9c026",
   "metadata": {},
   "outputs": [
    {
     "name": "stdout",
     "output_type": "stream",
     "text": [
      "2\n"
     ]
    }
   ],
   "source": [
    "print(range(5)[2])"
   ]
  },
  {
   "cell_type": "markdown",
   "id": "220399d9-946c-44a9-98a4-5d4f0d0bfe0a",
   "metadata": {},
   "source": []
  },
  {
   "cell_type": "markdown",
   "id": "a84668e0-557b-4326-abca-6b98e2f5d0ba",
   "metadata": {},
   "source": []
  },
  {
   "cell_type": "code",
   "execution_count": 22,
   "id": "ea84b013-ac31-4824-ad2c-23eff29ecc87",
   "metadata": {},
   "outputs": [
    {
     "name": "stdout",
     "output_type": "stream",
     "text": [
      "Person(name='Alice', age=25, email='unknown@example.com', hobbies=[])\n",
      "Alice\n"
     ]
    }
   ],
   "source": [
    "from dataclasses import dataclass, field\n",
    "from typing import List\n",
    "\n",
    "@dataclass\n",
    "class Person:\n",
    "    name : str\n",
    "    age : int\n",
    "    email : str = \"unknown@example.com\"\n",
    "    hobbies: List[str] = field(default_factory=list)\n",
    "\n",
    "    def __post_init__(self):\n",
    "        if self.age < 0:\n",
    "            raise ValueError(\"Age cannot be negative\")\n",
    "\n",
    "person1 = Person(\"Alice\", 25)\n",
    "person2 = Person(\"Bob\", 30, \"bob@example.com\", [\"reading\", \"coding\"])\n",
    "\n",
    "print(person1)\n",
    "print(person1.name)\n"
   ]
  },
  {
   "cell_type": "code",
   "execution_count": 23,
   "id": "0a6fab2e-3b22-4629-be5d-3970684afacb",
   "metadata": {},
   "outputs": [
    {
     "name": "stdout",
     "output_type": "stream",
     "text": [
      "False\n"
     ]
    }
   ],
   "source": [
    "print(person1 == person2)"
   ]
  },
  {
   "cell_type": "code",
   "execution_count": 25,
   "id": "a13a645f-a819-40df-afd2-ba88c964c9c0",
   "metadata": {},
   "outputs": [
    {
     "ename": "IndentationError",
     "evalue": "unexpected indent (355801949.py, line 7)",
     "output_type": "error",
     "traceback": [
      "  \u001b[36mCell\u001b[39m\u001b[36m \u001b[39m\u001b[32mIn[25]\u001b[39m\u001b[32m, line 7\u001b[39m\n\u001b[31m    \u001b[39m\u001b[31mp.x = 3\u001b[39m\n    ^\n\u001b[31mIndentationError\u001b[39m\u001b[31m:\u001b[39m unexpected indent\n"
     ]
    }
   ],
   "source": [
    "@dataclass(frozen=True)\n",
    "class Point:\n",
    "    x: int\n",
    "    y: int\n",
    "\n",
    "p = Point(1, 2)\n",
    " p.x = 3"
   ]
  },
  {
   "cell_type": "code",
   "execution_count": 26,
   "id": "2695d1ea-afbf-4771-a467-33eb4d33b388",
   "metadata": {},
   "outputs": [
    {
     "name": "stdout",
     "output_type": "stream",
     "text": [
      "b'*\\x00\\x00\\x00spam\\xc3\\xf5H@'\n"
     ]
    }
   ],
   "source": [
    "import struct\n",
    "\n",
    "data = struct.pack('i4sf', 42, b'spam', 3.14)\n",
    "print(data)"
   ]
  },
  {
   "cell_type": "code",
   "execution_count": 27,
   "id": "9cde5193-92c8-4fc9-9c3e-a5c80733c82c",
   "metadata": {},
   "outputs": [
    {
     "name": "stdout",
     "output_type": "stream",
     "text": [
      "(42, b'spam', 3.140000104904175)\n"
     ]
    }
   ],
   "source": [
    "unpacked = struct.unpack('i4sf', data)\n",
    "print(unpacked)"
   ]
  },
  {
   "cell_type": "code",
   "execution_count": 28,
   "id": "dedf8054-9b20-4cc1-96fc-afae9dd0c3bf",
   "metadata": {},
   "outputs": [],
   "source": [
    "text = \"Hello,World!\"\n",
    "multiline = \"\"\"this is a \n",
    "multiline string\"\"\""
   ]
  },
  {
   "cell_type": "code",
   "execution_count": 30,
   "id": "c43888c6-f686-4bba-9df2-2dedb07b3c04",
   "metadata": {},
   "outputs": [
    {
     "name": "stdout",
     "output_type": "stream",
     "text": [
      "HELLO,WORLD!\n",
      "hello,world!\n",
      "Hello,python!\n",
      "['Hello', 'World!']\n"
     ]
    }
   ],
   "source": [
    "print(text.upper())\n",
    "print(text.lower())\n",
    "print(text.replace(\"World\", \"python\"))\n",
    "print(text.split(\",\"))"
   ]
  },
  {
   "cell_type": "code",
   "execution_count": 31,
   "id": "165a5f16-41a0-4b7d-ae4a-1974232c1fd2",
   "metadata": {},
   "outputs": [
    {
     "name": "stdout",
     "output_type": "stream",
     "text": [
      "Hello World\n",
      "HelloHelloHello\n",
      "True\n",
      "5\n"
     ]
    }
   ],
   "source": [
    "print(\"Hello\" + \" \" + \"World\")\n",
    "print(\"Hello\" * 3)\n",
    "print(\"e\" in \"Hello\")\n",
    "print(len(\"Hello\"))"
   ]
  },
  {
   "cell_type": "code",
   "execution_count": 32,
   "id": "1af38733-6336-4897-914c-7e54b3bd2c01",
   "metadata": {},
   "outputs": [
    {
     "name": "stdout",
     "output_type": "stream",
     "text": [
      "P\n",
      "n\n",
      "yth\n",
      "nohtyP\n"
     ]
    }
   ],
   "source": [
    "text = \"Python\"\n",
    "print(text[0])\n",
    "print(text[-1])\n",
    "print(text[1:4])\n",
    "print(text[::-1])"
   ]
  },
  {
   "cell_type": "code",
   "execution_count": 33,
   "id": "62da9625-22e1-420a-aeef-99deecb6e17e",
   "metadata": {},
   "outputs": [
    {
     "name": "stdout",
     "output_type": "stream",
     "text": [
      "2025-07-20 23:05:27.835434\n",
      "2025-07-20\n",
      "2023-12-25 15:30:00\n"
     ]
    }
   ],
   "source": [
    "from datetime import datetime, date, time, timedelta\n",
    "\n",
    "now = datetime.now()\n",
    "today = date.today()\n",
    "\n",
    "specific_date = datetime(2023, 12, 25, 15, 30, 0)\n",
    "\n",
    "print(now)\n",
    "print(today)\n",
    "print(specific_date)"
   ]
  },
  {
   "cell_type": "code",
   "execution_count": 34,
   "id": "713f0698-72fb-483c-94d4-fb2bf7af5eda",
   "metadata": {},
   "outputs": [
    {
     "name": "stdout",
     "output_type": "stream",
     "text": [
      "2025-07-20 23:05:27\n"
     ]
    }
   ],
   "source": [
    "formatted = now.strftime(\"%Y-%m-%d %H:%M:%S\")\n",
    "print(formatted)"
   ]
  },
  {
   "cell_type": "code",
   "execution_count": 35,
   "id": "d40df9a9-d2b7-4c2b-a737-115683883be3",
   "metadata": {},
   "outputs": [
    {
     "name": "stdout",
     "output_type": "stream",
     "text": [
      "2023-12-25 00:00:00\n"
     ]
    }
   ],
   "source": [
    "date_string = \"2023-12-25\"\n",
    "parsed = datetime.strptime(date_string, \"%Y-%m-%d\")\n",
    "print(parsed)"
   ]
  },
  {
   "cell_type": "code",
   "execution_count": 38,
   "id": "b3609db0-ae4d-4809-bad7-bec46166460f",
   "metadata": {},
   "outputs": [
    {
     "name": "stdout",
     "output_type": "stream",
     "text": [
      "2025-07-21\n",
      "2025-07-13 23:05:27.835434\n"
     ]
    }
   ],
   "source": [
    "tomorrow = today + timedelta(days=1)\n",
    "week_ago = now - timedelta(weeks=1)\n",
    "print(tomorrow)\n",
    "print(week_ago)"
   ]
  },
  {
   "cell_type": "code",
   "execution_count": null,
   "id": "b684a5a2-9ff8-443b-9927-760c282b9bbc",
   "metadata": {},
   "outputs": [],
   "source": [
    "print(now.year)\n",
    "print(now.month)\n"
   ]
  },
  {
   "cell_type": "code",
   "execution_count": 3,
   "id": "8d07aa6f-ef52-4a03-ae63-92db5eea134e",
   "metadata": {},
   "outputs": [],
   "source": [
    "class Node:\n",
    "    def __init__(self, value):\n",
    "        self.value = value\n",
    "        self.parent = None\n",
    "        self.children = []\n",
    "\n",
    "parent = Node(\"parent\")\n",
    "child = Node(\"child\")\n",
    "parent.children.append(child)\n",
    "child.parent = parent"
   ]
  },
  {
   "cell_type": "code",
   "execution_count": 4,
   "id": "64c118bd-8a5f-4d5e-bbc3-9217870417d3",
   "metadata": {},
   "outputs": [
    {
     "data": {
      "text/plain": [
       "(28, 0, 0)"
      ]
     },
     "execution_count": 4,
     "metadata": {},
     "output_type": "execute_result"
    }
   ],
   "source": [
    "import gc\n",
    "gc.collect()\n",
    "gc.get_count()"
   ]
  },
  {
   "cell_type": "code",
   "execution_count": 5,
   "id": "472daea7-7888-4c4a-ac3f-9cbb4620d337",
   "metadata": {},
   "outputs": [
    {
     "name": "stdout",
     "output_type": "stream",
     "text": [
      "Cannot divide by zero!\n"
     ]
    }
   ],
   "source": [
    "try:\n",
    "    result = 10 / 0\n",
    "except ZeroDivisionError:\n",
    "    print(\"Cannot divide by zero!\")\n",
    "    result = None"
   ]
  },
  {
   "cell_type": "code",
   "execution_count": 6,
   "id": "feb834a8-7c82-4005-be42-88cb7f34d645",
   "metadata": {},
   "outputs": [
    {
     "name": "stdout",
     "output_type": "stream",
     "text": [
      "Error: Age cannot be negative\n"
     ]
    }
   ],
   "source": [
    "def check_age(age):\n",
    "    if age < 0:\n",
    "        raise ValueError(\"Age cannot be negative\")\n",
    "    return age\n",
    "\n",
    "try:\n",
    "    check_age(-5)\n",
    "except ValueError as e:\n",
    "    print(f\"Error: {e}\")"
   ]
  },
  {
   "cell_type": "code",
   "execution_count": 7,
   "id": "0e66d7ea-58a8-40e3-8b14-a6999f7bacb6",
   "metadata": {},
   "outputs": [
    {
     "ename": "CustomError",
     "evalue": "Something went wrong!",
     "output_type": "error",
     "traceback": [
      "\u001b[31m---------------------------------------------------------------------------\u001b[39m",
      "\u001b[31mCustomError\u001b[39m                               Traceback (most recent call last)",
      "\u001b[36mCell\u001b[39m\u001b[36m \u001b[39m\u001b[32mIn[7]\u001b[39m\u001b[32m, line 6\u001b[39m\n\u001b[32m      3\u001b[39m         \u001b[38;5;28mself\u001b[39m.message = message\n\u001b[32m      4\u001b[39m         \u001b[38;5;28msuper\u001b[39m().\u001b[34m__init__\u001b[39m(\u001b[38;5;28mself\u001b[39m.message)\n\u001b[32m----> \u001b[39m\u001b[32m6\u001b[39m \u001b[38;5;28;01mraise\u001b[39;00m CustomError(\u001b[33m\"\u001b[39m\u001b[33mSomething went wrong!\u001b[39m\u001b[33m\"\u001b[39m)\n",
      "\u001b[31mCustomError\u001b[39m: Something went wrong!"
     ]
    }
   ],
   "source": [
    "class CustomError(Exception):\n",
    "    def __init__(self, message):\n",
    "        self.message = message\n",
    "        super().__init__(self.message)\n",
    "\n",
    "raise CustomError(\"Something went wrong!\")"
   ]
  },
  {
   "cell_type": "code",
   "execution_count": 8,
   "id": "87673ffc-1ec9-4194-957e-4815201c0fd4",
   "metadata": {},
   "outputs": [
    {
     "name": "stdout",
     "output_type": "stream",
     "text": [
      "Exception type: <class 'ZeroDivisionError'>\n",
      "Exception message: division by zero\n",
      "Exception args: ('division by zero',)\n"
     ]
    }
   ],
   "source": [
    "try:\n",
    "    1/0\n",
    "except ZeroDivisionError as e:\n",
    "    print(f\"Exception type: {type(e)}\")\n",
    "    print(f\"Exception message: {e}\")\n",
    "    print(f\"Exception args: {e.args}\")"
   ]
  },
  {
   "cell_type": "code",
   "execution_count": 10,
   "id": "fb0535ef-5c0c-49ed-9640-d7a081bc2f83",
   "metadata": {},
   "outputs": [],
   "source": [
    "def greet(name: str) -> str:\n",
    "    return f\"Hello, {name}!\"\n",
    "\n",
    "age: int = 25\n",
    "prices: list[float] = [10.99, 5.50, 3.25]"
   ]
  },
  {
   "cell_type": "code",
   "execution_count": 13,
   "id": "406ec92c-e37a-4fda-9e70-98fb20a00dfc",
   "metadata": {},
   "outputs": [],
   "source": [
    "from typing import Protocol\n",
    "\n",
    "class drawable(Protocol):\n",
    "    def draw(self) -> None: ...\n",
    "\n",
    "class Circle:\n",
    "    def draw(self) -> None:\n",
    "        print(\"Drawing a circle\")\n",
    "\n",
    "class Square:\n",
    "    def draw(self) -> None:\n",
    "        print(\"Drawing a square\")"
   ]
  },
  {
   "cell_type": "code",
   "execution_count": 17,
   "id": "17ac8f2d-ca9c-4ac7-bb7f-6340d7fbc40a",
   "metadata": {},
   "outputs": [],
   "source": [
    "from typing import Final\n",
    "\n",
    "MAX_SIZE: Final = 100\n",
    "MAX_SIZE = 200"
   ]
  },
  {
   "cell_type": "code",
   "execution_count": 22,
   "id": "f2f4e2b2-0207-4239-a07f-bb8a47fa017d",
   "metadata": {},
   "outputs": [],
   "source": [
    "from typing import Final\n",
    "\n",
    "@final\n",
    "class BaseClass:\n",
    "    pass\n",
    "\n",
    "class Derived(BaseClass):\n",
    "    pass"
   ]
  },
  {
   "cell_type": "code",
   "execution_count": 26,
   "id": "cf9aa341-afa3-43f7-ab96-1069e9176394",
   "metadata": {},
   "outputs": [
    {
     "name": "stdout",
     "output_type": "stream",
     "text": [
      "Mode set to: read\n"
     ]
    }
   ],
   "source": [
    "from typing import Literal\n",
    "\n",
    "def set_mode(mode: Literal[\"read\", \"write\", \"append\"]) -> None:\n",
    "    print(f\"Mode set to: {mode}\")\n",
    "\n",
    "set_mode(\"read\")"
   ]
  },
  {
   "cell_type": "code",
   "execution_count": 27,
   "id": "557185b0-023e-4e59-a198-79b551560d6a",
   "metadata": {},
   "outputs": [
    {
     "name": "stdout",
     "output_type": "stream",
     "text": [
      "Mode set to: delete\n"
     ]
    }
   ],
   "source": [
    "set_mode(\"delete\")"
   ]
  },
  {
   "cell_type": "code",
   "execution_count": 28,
   "id": "d0e4fc01-fee5-48d1-889b-c80bd91af018",
   "metadata": {},
   "outputs": [],
   "source": [
    "from typing import TypedDict\n",
    "\n",
    "class Person(TypedDict):\n",
    "    name: str\n",
    "    age: int\n",
    "    email: str\n",
    "\n",
    "person: Person = {\n",
    "    \"name\": \"Alice\",\n",
    "    \"age\": 30,\n",
    "    \"email\": \"alice@example.com\"\n",
    "}"
   ]
  },
  {
   "cell_type": "code",
   "execution_count": 29,
   "id": "90e05988-9771-4e24-83ac-9a88bdef20b3",
   "metadata": {},
   "outputs": [
    {
     "name": "stdout",
     "output_type": "stream",
     "text": [
      "{'__name__': '__main__', '__doc__': 'Automatically created module for IPython interactive environment', '__package__': None, '__loader__': None, '__spec__': None, '__builtin__': <module 'builtins' (built-in)>, '__builtins__': <module 'builtins' (built-in)>, '_ih': ['', 'class Node:\\n    def __init__(self, value):\\n        self.value = value\\n        self.parent = None\\n        self.children = []\\n\\n    parent = Node(\"parent\")\\n    child = Node(\"child\")\\n    parent.chilren.append(child)\\n    child.parent = parent', 'class Node:\\n    def __init__(self, value):\\n        self.value = value\\n        self.parent = None\\n        self.children = []\\n\\nparent = Node(\"parent\")\\nchild = Node(\"child\")\\nparent.chilren.append(child)\\nchild.parent = parent', 'class Node:\\n    def __init__(self, value):\\n        self.value = value\\n        self.parent = None\\n        self.children = []\\n\\nparent = Node(\"parent\")\\nchild = Node(\"child\")\\nparent.children.append(child)\\nchild.parent = parent', 'import gc\\ngc.collect()\\ngc.get_count()', 'try:\\n    result = 10 / 0\\nexcept ZeroDivisionError:\\n    print(\"Cannot divide by zero!\")\\n    result = None', 'def check_age(age):\\n    if age < 0:\\n        raise ValueError(\"Age cannot be negative\")\\n    return age\\n\\ntry:\\n    check_age(-5)\\nexcept ValueError as e:\\n    print(f\"Error: {e}\")', 'class CustomError(Exception):\\n    def __init__(self, message):\\n        self.message = message\\n        super().__init__(self.message)\\n\\nraise CustomError(\"Something went wrong!\")', 'try:\\n    1/0\\nexcept ZeroDivisionError as e:\\n    print(f\"Exception type: {type(e)}\")\\n    print(f\"Exception message: {e}\")\\n    print(f\"Exception args: {e.args}\")', 'def greet(name: str) -> str:\\n    return f\"Hello, {name}!\"\\n\\nage: int = 25\\nprices: list[float] = [10.99, 5.50, 3.25]', 'def greet(name: str) -> str:\\n    return f\"Hello, {name}!\"\\n\\nage: int = 25\\nprices: list[float] = [10.99, 5.50, 3.25]', 'from typing import Protocol\\n\\nclass drawable(Protocol):\\n    def draw(self) -> None: ...\\n\\nclass Circle:\\n    def draw(self) -> None:\\n        print(\"Drawing a circle\")\\n\\nclass Square:\\n    def draw(self) -> None:\\n        print(\"Drawing a square\")', 'from typing import Protocol\\n\\nclass drawable(Protocol):\\n    def draw(self) -> None: ...\\n\\nclass Circle:\\n    def draw(self) -> None:\\n        print(\"Drawing a circle\")\\n\\nclass Square:\\n    def draw(self) -> None:\\n        print(\"Drawing a square\")', 'from typing import Protocol\\n\\nclass drawable(Protocol):\\n    def draw(self) -> None: ...\\n\\nclass Circle:\\n    def draw(self) -> None:\\n        print(\"Drawing a circle\")\\n\\nclass Square:\\n    def draw(self) -> None:\\n        print(\"Drawing a square\")', 'from typing import Final\\n\\nMAX_SIZE: Final = 100', 'MAX_SIZE = 200', 'from typing import Final\\n\\nMAX_SIZE: Final = 100\\nMAX_SIZE = 200', 'from typing import Final\\n\\nMAX_SIZE: Final = 100\\nMAX_SIZE = 200', 'from typing import final\\n\\n@final\\nclass BaseClass:\\n    pass\\n\\nclass Derived(BaseClass):', 'from typing import final\\n\\n@final\\nclass BaseClass:\\n    pass\\n\\nclass Derived(BaseClass):\\n    pass', 'from typing import final\\n\\n@final\\nclass BaseClass:\\n    pass\\n\\nclass Derived(BaseClass):\\n    pass', 'from typing import Final\\n\\n@final\\nclass BaseClass:\\n    pass\\n\\nclass Derived(BaseClass):\\n    pass', 'from typing import Final\\n\\n@final\\nclass BaseClass:\\n    pass\\n\\nclass Derived(BaseClass):\\n    pass', 'from typing import Literal\\n\\ndef set_mode(mode: Literal[\"read\", \"write\", \"append\"]) ->\\n    print(f\"Mode set to: {mode}\")\\n\\nset_mode(\"read\")', 'from typing import Literal\\n\\ndef set_mode(mode: Literal[\"read\", \"write\", \"append\"]): ->\\n    print(f\"Mode set to: {mode}\")\\n\\nset_mode(\"read\")', 'from typing import Literal\\n\\ndef set_mode(mode: Literal[\"read\", \"write\", \"append\"]) ->\\n    print(f\"Mode set to: {mode}\")\\n\\nset_mode(\"read\")', 'from typing import Literal\\n\\ndef set_mode(mode: Literal[\"read\", \"write\", \"append\"]) -> None:\\n    print(f\"Mode set to: {mode}\")\\n\\nset_mode(\"read\")', 'set_mode(\"delete\")', 'from typing import TypedDict\\n\\nclass Person(TypedDict):\\n    name: str\\n    age: int\\n    email: str\\n\\nperson: Person = {\\n    \"name\": \"Alice\",\\n    \"age\": 30,\\n    \"email\": \"alice@example.com\"\\n}', 'x = 42\\nprint(locals())\\nprint(globals())\\nprint(vars())'], '_oh': {4: (28, 0, 0)}, '_dh': [WindowsPath('C:/Users/user/PyCharmMiscProject')], 'In': ['', 'class Node:\\n    def __init__(self, value):\\n        self.value = value\\n        self.parent = None\\n        self.children = []\\n\\n    parent = Node(\"parent\")\\n    child = Node(\"child\")\\n    parent.chilren.append(child)\\n    child.parent = parent', 'class Node:\\n    def __init__(self, value):\\n        self.value = value\\n        self.parent = None\\n        self.children = []\\n\\nparent = Node(\"parent\")\\nchild = Node(\"child\")\\nparent.chilren.append(child)\\nchild.parent = parent', 'class Node:\\n    def __init__(self, value):\\n        self.value = value\\n        self.parent = None\\n        self.children = []\\n\\nparent = Node(\"parent\")\\nchild = Node(\"child\")\\nparent.children.append(child)\\nchild.parent = parent', 'import gc\\ngc.collect()\\ngc.get_count()', 'try:\\n    result = 10 / 0\\nexcept ZeroDivisionError:\\n    print(\"Cannot divide by zero!\")\\n    result = None', 'def check_age(age):\\n    if age < 0:\\n        raise ValueError(\"Age cannot be negative\")\\n    return age\\n\\ntry:\\n    check_age(-5)\\nexcept ValueError as e:\\n    print(f\"Error: {e}\")', 'class CustomError(Exception):\\n    def __init__(self, message):\\n        self.message = message\\n        super().__init__(self.message)\\n\\nraise CustomError(\"Something went wrong!\")', 'try:\\n    1/0\\nexcept ZeroDivisionError as e:\\n    print(f\"Exception type: {type(e)}\")\\n    print(f\"Exception message: {e}\")\\n    print(f\"Exception args: {e.args}\")', 'def greet(name: str) -> str:\\n    return f\"Hello, {name}!\"\\n\\nage: int = 25\\nprices: list[float] = [10.99, 5.50, 3.25]', 'def greet(name: str) -> str:\\n    return f\"Hello, {name}!\"\\n\\nage: int = 25\\nprices: list[float] = [10.99, 5.50, 3.25]', 'from typing import Protocol\\n\\nclass drawable(Protocol):\\n    def draw(self) -> None: ...\\n\\nclass Circle:\\n    def draw(self) -> None:\\n        print(\"Drawing a circle\")\\n\\nclass Square:\\n    def draw(self) -> None:\\n        print(\"Drawing a square\")', 'from typing import Protocol\\n\\nclass drawable(Protocol):\\n    def draw(self) -> None: ...\\n\\nclass Circle:\\n    def draw(self) -> None:\\n        print(\"Drawing a circle\")\\n\\nclass Square:\\n    def draw(self) -> None:\\n        print(\"Drawing a square\")', 'from typing import Protocol\\n\\nclass drawable(Protocol):\\n    def draw(self) -> None: ...\\n\\nclass Circle:\\n    def draw(self) -> None:\\n        print(\"Drawing a circle\")\\n\\nclass Square:\\n    def draw(self) -> None:\\n        print(\"Drawing a square\")', 'from typing import Final\\n\\nMAX_SIZE: Final = 100', 'MAX_SIZE = 200', 'from typing import Final\\n\\nMAX_SIZE: Final = 100\\nMAX_SIZE = 200', 'from typing import Final\\n\\nMAX_SIZE: Final = 100\\nMAX_SIZE = 200', 'from typing import final\\n\\n@final\\nclass BaseClass:\\n    pass\\n\\nclass Derived(BaseClass):', 'from typing import final\\n\\n@final\\nclass BaseClass:\\n    pass\\n\\nclass Derived(BaseClass):\\n    pass', 'from typing import final\\n\\n@final\\nclass BaseClass:\\n    pass\\n\\nclass Derived(BaseClass):\\n    pass', 'from typing import Final\\n\\n@final\\nclass BaseClass:\\n    pass\\n\\nclass Derived(BaseClass):\\n    pass', 'from typing import Final\\n\\n@final\\nclass BaseClass:\\n    pass\\n\\nclass Derived(BaseClass):\\n    pass', 'from typing import Literal\\n\\ndef set_mode(mode: Literal[\"read\", \"write\", \"append\"]) ->\\n    print(f\"Mode set to: {mode}\")\\n\\nset_mode(\"read\")', 'from typing import Literal\\n\\ndef set_mode(mode: Literal[\"read\", \"write\", \"append\"]): ->\\n    print(f\"Mode set to: {mode}\")\\n\\nset_mode(\"read\")', 'from typing import Literal\\n\\ndef set_mode(mode: Literal[\"read\", \"write\", \"append\"]) ->\\n    print(f\"Mode set to: {mode}\")\\n\\nset_mode(\"read\")', 'from typing import Literal\\n\\ndef set_mode(mode: Literal[\"read\", \"write\", \"append\"]) -> None:\\n    print(f\"Mode set to: {mode}\")\\n\\nset_mode(\"read\")', 'set_mode(\"delete\")', 'from typing import TypedDict\\n\\nclass Person(TypedDict):\\n    name: str\\n    age: int\\n    email: str\\n\\nperson: Person = {\\n    \"name\": \"Alice\",\\n    \"age\": 30,\\n    \"email\": \"alice@example.com\"\\n}', 'x = 42\\nprint(locals())\\nprint(globals())\\nprint(vars())'], 'Out': {4: (28, 0, 0)}, 'get_ipython': <bound method InteractiveShell.get_ipython of <ipykernel.zmqshell.ZMQInteractiveShell object at 0x00000235FC23F4D0>>, 'exit': <IPython.core.autocall.ZMQExitAutocall object at 0x00000235FC2D4D70>, 'quit': <IPython.core.autocall.ZMQExitAutocall object at 0x00000235FC2D4D70>, 'open': <function open at 0x00000235FA48F560>, '_': (28, 0, 0), '__': '', '___': '', '__session__': 'C:\\\\Users\\\\user\\\\PyCharmMiscProject\\\\Untitled.ipynb', '_i': 'from typing import TypedDict\\n\\nclass Person(TypedDict):\\n    name: str\\n    age: int\\n    email: str\\n\\nperson: Person = {\\n    \"name\": \"Alice\",\\n    \"age\": 30,\\n    \"email\": \"alice@example.com\"\\n}', '_ii': 'set_mode(\"delete\")', '_iii': 'from typing import Literal\\n\\ndef set_mode(mode: Literal[\"read\", \"write\", \"append\"]) -> None:\\n    print(f\"Mode set to: {mode}\")\\n\\nset_mode(\"read\")', '_i1': 'class Node:\\n    def __init__(self, value):\\n        self.value = value\\n        self.parent = None\\n        self.children = []\\n\\n    parent = Node(\"parent\")\\n    child = Node(\"child\")\\n    parent.chilren.append(child)\\n    child.parent = parent', '_i2': 'class Node:\\n    def __init__(self, value):\\n        self.value = value\\n        self.parent = None\\n        self.children = []\\n\\nparent = Node(\"parent\")\\nchild = Node(\"child\")\\nparent.chilren.append(child)\\nchild.parent = parent', 'Node': <class '__main__.Node'>, 'parent': <__main__.Node object at 0x00000235FC4697F0>, 'child': <__main__.Node object at 0x00000235FCA11090>, '_i3': 'class Node:\\n    def __init__(self, value):\\n        self.value = value\\n        self.parent = None\\n        self.children = []\\n\\nparent = Node(\"parent\")\\nchild = Node(\"child\")\\nparent.children.append(child)\\nchild.parent = parent', '_i4': 'import gc\\ngc.collect()\\ngc.get_count()', 'gc': <module 'gc' (built-in)>, '_4': (28, 0, 0), '_i5': 'try:\\n    result = 10 / 0\\nexcept ZeroDivisionError:\\n    print(\"Cannot divide by zero!\")\\n    result = None', 'result': None, '_i6': 'def check_age(age):\\n    if age < 0:\\n        raise ValueError(\"Age cannot be negative\")\\n    return age\\n\\ntry:\\n    check_age(-5)\\nexcept ValueError as e:\\n    print(f\"Error: {e}\")', 'check_age': <function check_age at 0x00000235FCA0E7A0>, '_i7': 'class CustomError(Exception):\\n    def __init__(self, message):\\n        self.message = message\\n        super().__init__(self.message)\\n\\nraise CustomError(\"Something went wrong!\")', 'CustomError': <class '__main__.CustomError'>, '_i8': 'try:\\n    1/0\\nexcept ZeroDivisionError as e:\\n    print(f\"Exception type: {type(e)}\")\\n    print(f\"Exception message: {e}\")\\n    print(f\"Exception args: {e.args}\")', '_i9': 'def greet(name: str) -> str:\\n    return f\"Hello, {name}!\"\\n\\nage: int = 25\\nprices: list[float] = [10.99, 5.50, 3.25]', 'greet': <function greet at 0x00000235FCA0F600>, '__annotations__': {'age': <class 'int'>, 'prices': list[float], 'MAX_SIZE': typing.Final, 'person': <class '__main__.Person'>}, 'age': 25, 'prices': [10.99, 5.5, 3.25], '_i10': 'def greet(name: str) -> str:\\n    return f\"Hello, {name}!\"\\n\\nage: int = 25\\nprices: list[float] = [10.99, 5.50, 3.25]', '_i11': 'from typing import Protocol\\n\\nclass drawable(Protocol):\\n    def draw(self) -> None: ...\\n\\nclass Circle:\\n    def draw(self) -> None:\\n        print(\"Drawing a circle\")\\n\\nclass Square:\\n    def draw(self) -> None:\\n        print(\"Drawing a square\")', 'Protocol': <class 'typing.Protocol'>, 'drawable': <class '__main__.drawable'>, 'Circle': <class '__main__.Circle'>, 'Square': <class '__main__.Square'>, '_i12': 'from typing import Protocol\\n\\nclass drawable(Protocol):\\n    def draw(self) -> None: ...\\n\\nclass Circle:\\n    def draw(self) -> None:\\n        print(\"Drawing a circle\")\\n\\nclass Square:\\n    def draw(self) -> None:\\n        print(\"Drawing a square\")', '_i13': 'from typing import Protocol\\n\\nclass drawable(Protocol):\\n    def draw(self) -> None: ...\\n\\nclass Circle:\\n    def draw(self) -> None:\\n        print(\"Drawing a circle\")\\n\\nclass Square:\\n    def draw(self) -> None:\\n        print(\"Drawing a square\")', '_i14': 'from typing import Final\\n\\nMAX_SIZE: Final = 100', 'Final': typing.Final, 'MAX_SIZE': 200, '_i15': 'MAX_SIZE = 200', '_i16': 'from typing import Final\\n\\nMAX_SIZE: Final = 100\\nMAX_SIZE = 200', '_i17': 'from typing import Final\\n\\nMAX_SIZE: Final = 100\\nMAX_SIZE = 200', '_i18': 'from typing import final\\n\\n@final\\nclass BaseClass:\\n    pass\\n\\nclass Derived(BaseClass):', '_i19': 'from typing import final\\n\\n@final\\nclass BaseClass:\\n    pass\\n\\nclass Derived(BaseClass):\\n    pass', 'final': <function final at 0x00000235F86385E0>, 'BaseClass': <class '__main__.BaseClass'>, 'Derived': <class '__main__.Derived'>, '_i20': 'from typing import final\\n\\n@final\\nclass BaseClass:\\n    pass\\n\\nclass Derived(BaseClass):\\n    pass', '_i21': 'from typing import Final\\n\\n@final\\nclass BaseClass:\\n    pass\\n\\nclass Derived(BaseClass):\\n    pass', '_i22': 'from typing import Final\\n\\n@final\\nclass BaseClass:\\n    pass\\n\\nclass Derived(BaseClass):\\n    pass', '_i23': 'from typing import Literal\\n\\ndef set_mode(mode: Literal[\"read\", \"write\", \"append\"]) ->\\n    print(f\"Mode set to: {mode}\")\\n\\nset_mode(\"read\")', '_i24': 'from typing import Literal\\n\\ndef set_mode(mode: Literal[\"read\", \"write\", \"append\"]): ->\\n    print(f\"Mode set to: {mode}\")\\n\\nset_mode(\"read\")', '_i25': 'from typing import Literal\\n\\ndef set_mode(mode: Literal[\"read\", \"write\", \"append\"]) ->\\n    print(f\"Mode set to: {mode}\")\\n\\nset_mode(\"read\")', '_i26': 'from typing import Literal\\n\\ndef set_mode(mode: Literal[\"read\", \"write\", \"append\"]) -> None:\\n    print(f\"Mode set to: {mode}\")\\n\\nset_mode(\"read\")', 'Literal': typing.Literal, 'set_mode': <function set_mode at 0x00000235FA4AC9A0>, '_i27': 'set_mode(\"delete\")', '_i28': 'from typing import TypedDict\\n\\nclass Person(TypedDict):\\n    name: str\\n    age: int\\n    email: str\\n\\nperson: Person = {\\n    \"name\": \"Alice\",\\n    \"age\": 30,\\n    \"email\": \"alice@example.com\"\\n}', 'TypedDict': <function TypedDict at 0x00000235F8638FE0>, 'Person': <class '__main__.Person'>, 'person': {'name': 'Alice', 'age': 30, 'email': 'alice@example.com'}, '_i29': 'x = 42\\nprint(locals())\\nprint(globals())\\nprint(vars())', 'x': 42}\n",
      "{'__name__': '__main__', '__doc__': 'Automatically created module for IPython interactive environment', '__package__': None, '__loader__': None, '__spec__': None, '__builtin__': <module 'builtins' (built-in)>, '__builtins__': <module 'builtins' (built-in)>, '_ih': ['', 'class Node:\\n    def __init__(self, value):\\n        self.value = value\\n        self.parent = None\\n        self.children = []\\n\\n    parent = Node(\"parent\")\\n    child = Node(\"child\")\\n    parent.chilren.append(child)\\n    child.parent = parent', 'class Node:\\n    def __init__(self, value):\\n        self.value = value\\n        self.parent = None\\n        self.children = []\\n\\nparent = Node(\"parent\")\\nchild = Node(\"child\")\\nparent.chilren.append(child)\\nchild.parent = parent', 'class Node:\\n    def __init__(self, value):\\n        self.value = value\\n        self.parent = None\\n        self.children = []\\n\\nparent = Node(\"parent\")\\nchild = Node(\"child\")\\nparent.children.append(child)\\nchild.parent = parent', 'import gc\\ngc.collect()\\ngc.get_count()', 'try:\\n    result = 10 / 0\\nexcept ZeroDivisionError:\\n    print(\"Cannot divide by zero!\")\\n    result = None', 'def check_age(age):\\n    if age < 0:\\n        raise ValueError(\"Age cannot be negative\")\\n    return age\\n\\ntry:\\n    check_age(-5)\\nexcept ValueError as e:\\n    print(f\"Error: {e}\")', 'class CustomError(Exception):\\n    def __init__(self, message):\\n        self.message = message\\n        super().__init__(self.message)\\n\\nraise CustomError(\"Something went wrong!\")', 'try:\\n    1/0\\nexcept ZeroDivisionError as e:\\n    print(f\"Exception type: {type(e)}\")\\n    print(f\"Exception message: {e}\")\\n    print(f\"Exception args: {e.args}\")', 'def greet(name: str) -> str:\\n    return f\"Hello, {name}!\"\\n\\nage: int = 25\\nprices: list[float] = [10.99, 5.50, 3.25]', 'def greet(name: str) -> str:\\n    return f\"Hello, {name}!\"\\n\\nage: int = 25\\nprices: list[float] = [10.99, 5.50, 3.25]', 'from typing import Protocol\\n\\nclass drawable(Protocol):\\n    def draw(self) -> None: ...\\n\\nclass Circle:\\n    def draw(self) -> None:\\n        print(\"Drawing a circle\")\\n\\nclass Square:\\n    def draw(self) -> None:\\n        print(\"Drawing a square\")', 'from typing import Protocol\\n\\nclass drawable(Protocol):\\n    def draw(self) -> None: ...\\n\\nclass Circle:\\n    def draw(self) -> None:\\n        print(\"Drawing a circle\")\\n\\nclass Square:\\n    def draw(self) -> None:\\n        print(\"Drawing a square\")', 'from typing import Protocol\\n\\nclass drawable(Protocol):\\n    def draw(self) -> None: ...\\n\\nclass Circle:\\n    def draw(self) -> None:\\n        print(\"Drawing a circle\")\\n\\nclass Square:\\n    def draw(self) -> None:\\n        print(\"Drawing a square\")', 'from typing import Final\\n\\nMAX_SIZE: Final = 100', 'MAX_SIZE = 200', 'from typing import Final\\n\\nMAX_SIZE: Final = 100\\nMAX_SIZE = 200', 'from typing import Final\\n\\nMAX_SIZE: Final = 100\\nMAX_SIZE = 200', 'from typing import final\\n\\n@final\\nclass BaseClass:\\n    pass\\n\\nclass Derived(BaseClass):', 'from typing import final\\n\\n@final\\nclass BaseClass:\\n    pass\\n\\nclass Derived(BaseClass):\\n    pass', 'from typing import final\\n\\n@final\\nclass BaseClass:\\n    pass\\n\\nclass Derived(BaseClass):\\n    pass', 'from typing import Final\\n\\n@final\\nclass BaseClass:\\n    pass\\n\\nclass Derived(BaseClass):\\n    pass', 'from typing import Final\\n\\n@final\\nclass BaseClass:\\n    pass\\n\\nclass Derived(BaseClass):\\n    pass', 'from typing import Literal\\n\\ndef set_mode(mode: Literal[\"read\", \"write\", \"append\"]) ->\\n    print(f\"Mode set to: {mode}\")\\n\\nset_mode(\"read\")', 'from typing import Literal\\n\\ndef set_mode(mode: Literal[\"read\", \"write\", \"append\"]): ->\\n    print(f\"Mode set to: {mode}\")\\n\\nset_mode(\"read\")', 'from typing import Literal\\n\\ndef set_mode(mode: Literal[\"read\", \"write\", \"append\"]) ->\\n    print(f\"Mode set to: {mode}\")\\n\\nset_mode(\"read\")', 'from typing import Literal\\n\\ndef set_mode(mode: Literal[\"read\", \"write\", \"append\"]) -> None:\\n    print(f\"Mode set to: {mode}\")\\n\\nset_mode(\"read\")', 'set_mode(\"delete\")', 'from typing import TypedDict\\n\\nclass Person(TypedDict):\\n    name: str\\n    age: int\\n    email: str\\n\\nperson: Person = {\\n    \"name\": \"Alice\",\\n    \"age\": 30,\\n    \"email\": \"alice@example.com\"\\n}', 'x = 42\\nprint(locals())\\nprint(globals())\\nprint(vars())'], '_oh': {4: (28, 0, 0)}, '_dh': [WindowsPath('C:/Users/user/PyCharmMiscProject')], 'In': ['', 'class Node:\\n    def __init__(self, value):\\n        self.value = value\\n        self.parent = None\\n        self.children = []\\n\\n    parent = Node(\"parent\")\\n    child = Node(\"child\")\\n    parent.chilren.append(child)\\n    child.parent = parent', 'class Node:\\n    def __init__(self, value):\\n        self.value = value\\n        self.parent = None\\n        self.children = []\\n\\nparent = Node(\"parent\")\\nchild = Node(\"child\")\\nparent.chilren.append(child)\\nchild.parent = parent', 'class Node:\\n    def __init__(self, value):\\n        self.value = value\\n        self.parent = None\\n        self.children = []\\n\\nparent = Node(\"parent\")\\nchild = Node(\"child\")\\nparent.children.append(child)\\nchild.parent = parent', 'import gc\\ngc.collect()\\ngc.get_count()', 'try:\\n    result = 10 / 0\\nexcept ZeroDivisionError:\\n    print(\"Cannot divide by zero!\")\\n    result = None', 'def check_age(age):\\n    if age < 0:\\n        raise ValueError(\"Age cannot be negative\")\\n    return age\\n\\ntry:\\n    check_age(-5)\\nexcept ValueError as e:\\n    print(f\"Error: {e}\")', 'class CustomError(Exception):\\n    def __init__(self, message):\\n        self.message = message\\n        super().__init__(self.message)\\n\\nraise CustomError(\"Something went wrong!\")', 'try:\\n    1/0\\nexcept ZeroDivisionError as e:\\n    print(f\"Exception type: {type(e)}\")\\n    print(f\"Exception message: {e}\")\\n    print(f\"Exception args: {e.args}\")', 'def greet(name: str) -> str:\\n    return f\"Hello, {name}!\"\\n\\nage: int = 25\\nprices: list[float] = [10.99, 5.50, 3.25]', 'def greet(name: str) -> str:\\n    return f\"Hello, {name}!\"\\n\\nage: int = 25\\nprices: list[float] = [10.99, 5.50, 3.25]', 'from typing import Protocol\\n\\nclass drawable(Protocol):\\n    def draw(self) -> None: ...\\n\\nclass Circle:\\n    def draw(self) -> None:\\n        print(\"Drawing a circle\")\\n\\nclass Square:\\n    def draw(self) -> None:\\n        print(\"Drawing a square\")', 'from typing import Protocol\\n\\nclass drawable(Protocol):\\n    def draw(self) -> None: ...\\n\\nclass Circle:\\n    def draw(self) -> None:\\n        print(\"Drawing a circle\")\\n\\nclass Square:\\n    def draw(self) -> None:\\n        print(\"Drawing a square\")', 'from typing import Protocol\\n\\nclass drawable(Protocol):\\n    def draw(self) -> None: ...\\n\\nclass Circle:\\n    def draw(self) -> None:\\n        print(\"Drawing a circle\")\\n\\nclass Square:\\n    def draw(self) -> None:\\n        print(\"Drawing a square\")', 'from typing import Final\\n\\nMAX_SIZE: Final = 100', 'MAX_SIZE = 200', 'from typing import Final\\n\\nMAX_SIZE: Final = 100\\nMAX_SIZE = 200', 'from typing import Final\\n\\nMAX_SIZE: Final = 100\\nMAX_SIZE = 200', 'from typing import final\\n\\n@final\\nclass BaseClass:\\n    pass\\n\\nclass Derived(BaseClass):', 'from typing import final\\n\\n@final\\nclass BaseClass:\\n    pass\\n\\nclass Derived(BaseClass):\\n    pass', 'from typing import final\\n\\n@final\\nclass BaseClass:\\n    pass\\n\\nclass Derived(BaseClass):\\n    pass', 'from typing import Final\\n\\n@final\\nclass BaseClass:\\n    pass\\n\\nclass Derived(BaseClass):\\n    pass', 'from typing import Final\\n\\n@final\\nclass BaseClass:\\n    pass\\n\\nclass Derived(BaseClass):\\n    pass', 'from typing import Literal\\n\\ndef set_mode(mode: Literal[\"read\", \"write\", \"append\"]) ->\\n    print(f\"Mode set to: {mode}\")\\n\\nset_mode(\"read\")', 'from typing import Literal\\n\\ndef set_mode(mode: Literal[\"read\", \"write\", \"append\"]): ->\\n    print(f\"Mode set to: {mode}\")\\n\\nset_mode(\"read\")', 'from typing import Literal\\n\\ndef set_mode(mode: Literal[\"read\", \"write\", \"append\"]) ->\\n    print(f\"Mode set to: {mode}\")\\n\\nset_mode(\"read\")', 'from typing import Literal\\n\\ndef set_mode(mode: Literal[\"read\", \"write\", \"append\"]) -> None:\\n    print(f\"Mode set to: {mode}\")\\n\\nset_mode(\"read\")', 'set_mode(\"delete\")', 'from typing import TypedDict\\n\\nclass Person(TypedDict):\\n    name: str\\n    age: int\\n    email: str\\n\\nperson: Person = {\\n    \"name\": \"Alice\",\\n    \"age\": 30,\\n    \"email\": \"alice@example.com\"\\n}', 'x = 42\\nprint(locals())\\nprint(globals())\\nprint(vars())'], 'Out': {4: (28, 0, 0)}, 'get_ipython': <bound method InteractiveShell.get_ipython of <ipykernel.zmqshell.ZMQInteractiveShell object at 0x00000235FC23F4D0>>, 'exit': <IPython.core.autocall.ZMQExitAutocall object at 0x00000235FC2D4D70>, 'quit': <IPython.core.autocall.ZMQExitAutocall object at 0x00000235FC2D4D70>, 'open': <function open at 0x00000235FA48F560>, '_': (28, 0, 0), '__': '', '___': '', '__session__': 'C:\\\\Users\\\\user\\\\PyCharmMiscProject\\\\Untitled.ipynb', '_i': 'from typing import TypedDict\\n\\nclass Person(TypedDict):\\n    name: str\\n    age: int\\n    email: str\\n\\nperson: Person = {\\n    \"name\": \"Alice\",\\n    \"age\": 30,\\n    \"email\": \"alice@example.com\"\\n}', '_ii': 'set_mode(\"delete\")', '_iii': 'from typing import Literal\\n\\ndef set_mode(mode: Literal[\"read\", \"write\", \"append\"]) -> None:\\n    print(f\"Mode set to: {mode}\")\\n\\nset_mode(\"read\")', '_i1': 'class Node:\\n    def __init__(self, value):\\n        self.value = value\\n        self.parent = None\\n        self.children = []\\n\\n    parent = Node(\"parent\")\\n    child = Node(\"child\")\\n    parent.chilren.append(child)\\n    child.parent = parent', '_i2': 'class Node:\\n    def __init__(self, value):\\n        self.value = value\\n        self.parent = None\\n        self.children = []\\n\\nparent = Node(\"parent\")\\nchild = Node(\"child\")\\nparent.chilren.append(child)\\nchild.parent = parent', 'Node': <class '__main__.Node'>, 'parent': <__main__.Node object at 0x00000235FC4697F0>, 'child': <__main__.Node object at 0x00000235FCA11090>, '_i3': 'class Node:\\n    def __init__(self, value):\\n        self.value = value\\n        self.parent = None\\n        self.children = []\\n\\nparent = Node(\"parent\")\\nchild = Node(\"child\")\\nparent.children.append(child)\\nchild.parent = parent', '_i4': 'import gc\\ngc.collect()\\ngc.get_count()', 'gc': <module 'gc' (built-in)>, '_4': (28, 0, 0), '_i5': 'try:\\n    result = 10 / 0\\nexcept ZeroDivisionError:\\n    print(\"Cannot divide by zero!\")\\n    result = None', 'result': None, '_i6': 'def check_age(age):\\n    if age < 0:\\n        raise ValueError(\"Age cannot be negative\")\\n    return age\\n\\ntry:\\n    check_age(-5)\\nexcept ValueError as e:\\n    print(f\"Error: {e}\")', 'check_age': <function check_age at 0x00000235FCA0E7A0>, '_i7': 'class CustomError(Exception):\\n    def __init__(self, message):\\n        self.message = message\\n        super().__init__(self.message)\\n\\nraise CustomError(\"Something went wrong!\")', 'CustomError': <class '__main__.CustomError'>, '_i8': 'try:\\n    1/0\\nexcept ZeroDivisionError as e:\\n    print(f\"Exception type: {type(e)}\")\\n    print(f\"Exception message: {e}\")\\n    print(f\"Exception args: {e.args}\")', '_i9': 'def greet(name: str) -> str:\\n    return f\"Hello, {name}!\"\\n\\nage: int = 25\\nprices: list[float] = [10.99, 5.50, 3.25]', 'greet': <function greet at 0x00000235FCA0F600>, '__annotations__': {'age': <class 'int'>, 'prices': list[float], 'MAX_SIZE': typing.Final, 'person': <class '__main__.Person'>}, 'age': 25, 'prices': [10.99, 5.5, 3.25], '_i10': 'def greet(name: str) -> str:\\n    return f\"Hello, {name}!\"\\n\\nage: int = 25\\nprices: list[float] = [10.99, 5.50, 3.25]', '_i11': 'from typing import Protocol\\n\\nclass drawable(Protocol):\\n    def draw(self) -> None: ...\\n\\nclass Circle:\\n    def draw(self) -> None:\\n        print(\"Drawing a circle\")\\n\\nclass Square:\\n    def draw(self) -> None:\\n        print(\"Drawing a square\")', 'Protocol': <class 'typing.Protocol'>, 'drawable': <class '__main__.drawable'>, 'Circle': <class '__main__.Circle'>, 'Square': <class '__main__.Square'>, '_i12': 'from typing import Protocol\\n\\nclass drawable(Protocol):\\n    def draw(self) -> None: ...\\n\\nclass Circle:\\n    def draw(self) -> None:\\n        print(\"Drawing a circle\")\\n\\nclass Square:\\n    def draw(self) -> None:\\n        print(\"Drawing a square\")', '_i13': 'from typing import Protocol\\n\\nclass drawable(Protocol):\\n    def draw(self) -> None: ...\\n\\nclass Circle:\\n    def draw(self) -> None:\\n        print(\"Drawing a circle\")\\n\\nclass Square:\\n    def draw(self) -> None:\\n        print(\"Drawing a square\")', '_i14': 'from typing import Final\\n\\nMAX_SIZE: Final = 100', 'Final': typing.Final, 'MAX_SIZE': 200, '_i15': 'MAX_SIZE = 200', '_i16': 'from typing import Final\\n\\nMAX_SIZE: Final = 100\\nMAX_SIZE = 200', '_i17': 'from typing import Final\\n\\nMAX_SIZE: Final = 100\\nMAX_SIZE = 200', '_i18': 'from typing import final\\n\\n@final\\nclass BaseClass:\\n    pass\\n\\nclass Derived(BaseClass):', '_i19': 'from typing import final\\n\\n@final\\nclass BaseClass:\\n    pass\\n\\nclass Derived(BaseClass):\\n    pass', 'final': <function final at 0x00000235F86385E0>, 'BaseClass': <class '__main__.BaseClass'>, 'Derived': <class '__main__.Derived'>, '_i20': 'from typing import final\\n\\n@final\\nclass BaseClass:\\n    pass\\n\\nclass Derived(BaseClass):\\n    pass', '_i21': 'from typing import Final\\n\\n@final\\nclass BaseClass:\\n    pass\\n\\nclass Derived(BaseClass):\\n    pass', '_i22': 'from typing import Final\\n\\n@final\\nclass BaseClass:\\n    pass\\n\\nclass Derived(BaseClass):\\n    pass', '_i23': 'from typing import Literal\\n\\ndef set_mode(mode: Literal[\"read\", \"write\", \"append\"]) ->\\n    print(f\"Mode set to: {mode}\")\\n\\nset_mode(\"read\")', '_i24': 'from typing import Literal\\n\\ndef set_mode(mode: Literal[\"read\", \"write\", \"append\"]): ->\\n    print(f\"Mode set to: {mode}\")\\n\\nset_mode(\"read\")', '_i25': 'from typing import Literal\\n\\ndef set_mode(mode: Literal[\"read\", \"write\", \"append\"]) ->\\n    print(f\"Mode set to: {mode}\")\\n\\nset_mode(\"read\")', '_i26': 'from typing import Literal\\n\\ndef set_mode(mode: Literal[\"read\", \"write\", \"append\"]) -> None:\\n    print(f\"Mode set to: {mode}\")\\n\\nset_mode(\"read\")', 'Literal': typing.Literal, 'set_mode': <function set_mode at 0x00000235FA4AC9A0>, '_i27': 'set_mode(\"delete\")', '_i28': 'from typing import TypedDict\\n\\nclass Person(TypedDict):\\n    name: str\\n    age: int\\n    email: str\\n\\nperson: Person = {\\n    \"name\": \"Alice\",\\n    \"age\": 30,\\n    \"email\": \"alice@example.com\"\\n}', 'TypedDict': <function TypedDict at 0x00000235F8638FE0>, 'Person': <class '__main__.Person'>, 'person': {'name': 'Alice', 'age': 30, 'email': 'alice@example.com'}, '_i29': 'x = 42\\nprint(locals())\\nprint(globals())\\nprint(vars())', 'x': 42}\n",
      "{'__name__': '__main__', '__doc__': 'Automatically created module for IPython interactive environment', '__package__': None, '__loader__': None, '__spec__': None, '__builtin__': <module 'builtins' (built-in)>, '__builtins__': <module 'builtins' (built-in)>, '_ih': ['', 'class Node:\\n    def __init__(self, value):\\n        self.value = value\\n        self.parent = None\\n        self.children = []\\n\\n    parent = Node(\"parent\")\\n    child = Node(\"child\")\\n    parent.chilren.append(child)\\n    child.parent = parent', 'class Node:\\n    def __init__(self, value):\\n        self.value = value\\n        self.parent = None\\n        self.children = []\\n\\nparent = Node(\"parent\")\\nchild = Node(\"child\")\\nparent.chilren.append(child)\\nchild.parent = parent', 'class Node:\\n    def __init__(self, value):\\n        self.value = value\\n        self.parent = None\\n        self.children = []\\n\\nparent = Node(\"parent\")\\nchild = Node(\"child\")\\nparent.children.append(child)\\nchild.parent = parent', 'import gc\\ngc.collect()\\ngc.get_count()', 'try:\\n    result = 10 / 0\\nexcept ZeroDivisionError:\\n    print(\"Cannot divide by zero!\")\\n    result = None', 'def check_age(age):\\n    if age < 0:\\n        raise ValueError(\"Age cannot be negative\")\\n    return age\\n\\ntry:\\n    check_age(-5)\\nexcept ValueError as e:\\n    print(f\"Error: {e}\")', 'class CustomError(Exception):\\n    def __init__(self, message):\\n        self.message = message\\n        super().__init__(self.message)\\n\\nraise CustomError(\"Something went wrong!\")', 'try:\\n    1/0\\nexcept ZeroDivisionError as e:\\n    print(f\"Exception type: {type(e)}\")\\n    print(f\"Exception message: {e}\")\\n    print(f\"Exception args: {e.args}\")', 'def greet(name: str) -> str:\\n    return f\"Hello, {name}!\"\\n\\nage: int = 25\\nprices: list[float] = [10.99, 5.50, 3.25]', 'def greet(name: str) -> str:\\n    return f\"Hello, {name}!\"\\n\\nage: int = 25\\nprices: list[float] = [10.99, 5.50, 3.25]', 'from typing import Protocol\\n\\nclass drawable(Protocol):\\n    def draw(self) -> None: ...\\n\\nclass Circle:\\n    def draw(self) -> None:\\n        print(\"Drawing a circle\")\\n\\nclass Square:\\n    def draw(self) -> None:\\n        print(\"Drawing a square\")', 'from typing import Protocol\\n\\nclass drawable(Protocol):\\n    def draw(self) -> None: ...\\n\\nclass Circle:\\n    def draw(self) -> None:\\n        print(\"Drawing a circle\")\\n\\nclass Square:\\n    def draw(self) -> None:\\n        print(\"Drawing a square\")', 'from typing import Protocol\\n\\nclass drawable(Protocol):\\n    def draw(self) -> None: ...\\n\\nclass Circle:\\n    def draw(self) -> None:\\n        print(\"Drawing a circle\")\\n\\nclass Square:\\n    def draw(self) -> None:\\n        print(\"Drawing a square\")', 'from typing import Final\\n\\nMAX_SIZE: Final = 100', 'MAX_SIZE = 200', 'from typing import Final\\n\\nMAX_SIZE: Final = 100\\nMAX_SIZE = 200', 'from typing import Final\\n\\nMAX_SIZE: Final = 100\\nMAX_SIZE = 200', 'from typing import final\\n\\n@final\\nclass BaseClass:\\n    pass\\n\\nclass Derived(BaseClass):', 'from typing import final\\n\\n@final\\nclass BaseClass:\\n    pass\\n\\nclass Derived(BaseClass):\\n    pass', 'from typing import final\\n\\n@final\\nclass BaseClass:\\n    pass\\n\\nclass Derived(BaseClass):\\n    pass', 'from typing import Final\\n\\n@final\\nclass BaseClass:\\n    pass\\n\\nclass Derived(BaseClass):\\n    pass', 'from typing import Final\\n\\n@final\\nclass BaseClass:\\n    pass\\n\\nclass Derived(BaseClass):\\n    pass', 'from typing import Literal\\n\\ndef set_mode(mode: Literal[\"read\", \"write\", \"append\"]) ->\\n    print(f\"Mode set to: {mode}\")\\n\\nset_mode(\"read\")', 'from typing import Literal\\n\\ndef set_mode(mode: Literal[\"read\", \"write\", \"append\"]): ->\\n    print(f\"Mode set to: {mode}\")\\n\\nset_mode(\"read\")', 'from typing import Literal\\n\\ndef set_mode(mode: Literal[\"read\", \"write\", \"append\"]) ->\\n    print(f\"Mode set to: {mode}\")\\n\\nset_mode(\"read\")', 'from typing import Literal\\n\\ndef set_mode(mode: Literal[\"read\", \"write\", \"append\"]) -> None:\\n    print(f\"Mode set to: {mode}\")\\n\\nset_mode(\"read\")', 'set_mode(\"delete\")', 'from typing import TypedDict\\n\\nclass Person(TypedDict):\\n    name: str\\n    age: int\\n    email: str\\n\\nperson: Person = {\\n    \"name\": \"Alice\",\\n    \"age\": 30,\\n    \"email\": \"alice@example.com\"\\n}', 'x = 42\\nprint(locals())\\nprint(globals())\\nprint(vars())'], '_oh': {4: (28, 0, 0)}, '_dh': [WindowsPath('C:/Users/user/PyCharmMiscProject')], 'In': ['', 'class Node:\\n    def __init__(self, value):\\n        self.value = value\\n        self.parent = None\\n        self.children = []\\n\\n    parent = Node(\"parent\")\\n    child = Node(\"child\")\\n    parent.chilren.append(child)\\n    child.parent = parent', 'class Node:\\n    def __init__(self, value):\\n        self.value = value\\n        self.parent = None\\n        self.children = []\\n\\nparent = Node(\"parent\")\\nchild = Node(\"child\")\\nparent.chilren.append(child)\\nchild.parent = parent', 'class Node:\\n    def __init__(self, value):\\n        self.value = value\\n        self.parent = None\\n        self.children = []\\n\\nparent = Node(\"parent\")\\nchild = Node(\"child\")\\nparent.children.append(child)\\nchild.parent = parent', 'import gc\\ngc.collect()\\ngc.get_count()', 'try:\\n    result = 10 / 0\\nexcept ZeroDivisionError:\\n    print(\"Cannot divide by zero!\")\\n    result = None', 'def check_age(age):\\n    if age < 0:\\n        raise ValueError(\"Age cannot be negative\")\\n    return age\\n\\ntry:\\n    check_age(-5)\\nexcept ValueError as e:\\n    print(f\"Error: {e}\")', 'class CustomError(Exception):\\n    def __init__(self, message):\\n        self.message = message\\n        super().__init__(self.message)\\n\\nraise CustomError(\"Something went wrong!\")', 'try:\\n    1/0\\nexcept ZeroDivisionError as e:\\n    print(f\"Exception type: {type(e)}\")\\n    print(f\"Exception message: {e}\")\\n    print(f\"Exception args: {e.args}\")', 'def greet(name: str) -> str:\\n    return f\"Hello, {name}!\"\\n\\nage: int = 25\\nprices: list[float] = [10.99, 5.50, 3.25]', 'def greet(name: str) -> str:\\n    return f\"Hello, {name}!\"\\n\\nage: int = 25\\nprices: list[float] = [10.99, 5.50, 3.25]', 'from typing import Protocol\\n\\nclass drawable(Protocol):\\n    def draw(self) -> None: ...\\n\\nclass Circle:\\n    def draw(self) -> None:\\n        print(\"Drawing a circle\")\\n\\nclass Square:\\n    def draw(self) -> None:\\n        print(\"Drawing a square\")', 'from typing import Protocol\\n\\nclass drawable(Protocol):\\n    def draw(self) -> None: ...\\n\\nclass Circle:\\n    def draw(self) -> None:\\n        print(\"Drawing a circle\")\\n\\nclass Square:\\n    def draw(self) -> None:\\n        print(\"Drawing a square\")', 'from typing import Protocol\\n\\nclass drawable(Protocol):\\n    def draw(self) -> None: ...\\n\\nclass Circle:\\n    def draw(self) -> None:\\n        print(\"Drawing a circle\")\\n\\nclass Square:\\n    def draw(self) -> None:\\n        print(\"Drawing a square\")', 'from typing import Final\\n\\nMAX_SIZE: Final = 100', 'MAX_SIZE = 200', 'from typing import Final\\n\\nMAX_SIZE: Final = 100\\nMAX_SIZE = 200', 'from typing import Final\\n\\nMAX_SIZE: Final = 100\\nMAX_SIZE = 200', 'from typing import final\\n\\n@final\\nclass BaseClass:\\n    pass\\n\\nclass Derived(BaseClass):', 'from typing import final\\n\\n@final\\nclass BaseClass:\\n    pass\\n\\nclass Derived(BaseClass):\\n    pass', 'from typing import final\\n\\n@final\\nclass BaseClass:\\n    pass\\n\\nclass Derived(BaseClass):\\n    pass', 'from typing import Final\\n\\n@final\\nclass BaseClass:\\n    pass\\n\\nclass Derived(BaseClass):\\n    pass', 'from typing import Final\\n\\n@final\\nclass BaseClass:\\n    pass\\n\\nclass Derived(BaseClass):\\n    pass', 'from typing import Literal\\n\\ndef set_mode(mode: Literal[\"read\", \"write\", \"append\"]) ->\\n    print(f\"Mode set to: {mode}\")\\n\\nset_mode(\"read\")', 'from typing import Literal\\n\\ndef set_mode(mode: Literal[\"read\", \"write\", \"append\"]): ->\\n    print(f\"Mode set to: {mode}\")\\n\\nset_mode(\"read\")', 'from typing import Literal\\n\\ndef set_mode(mode: Literal[\"read\", \"write\", \"append\"]) ->\\n    print(f\"Mode set to: {mode}\")\\n\\nset_mode(\"read\")', 'from typing import Literal\\n\\ndef set_mode(mode: Literal[\"read\", \"write\", \"append\"]) -> None:\\n    print(f\"Mode set to: {mode}\")\\n\\nset_mode(\"read\")', 'set_mode(\"delete\")', 'from typing import TypedDict\\n\\nclass Person(TypedDict):\\n    name: str\\n    age: int\\n    email: str\\n\\nperson: Person = {\\n    \"name\": \"Alice\",\\n    \"age\": 30,\\n    \"email\": \"alice@example.com\"\\n}', 'x = 42\\nprint(locals())\\nprint(globals())\\nprint(vars())'], 'Out': {4: (28, 0, 0)}, 'get_ipython': <bound method InteractiveShell.get_ipython of <ipykernel.zmqshell.ZMQInteractiveShell object at 0x00000235FC23F4D0>>, 'exit': <IPython.core.autocall.ZMQExitAutocall object at 0x00000235FC2D4D70>, 'quit': <IPython.core.autocall.ZMQExitAutocall object at 0x00000235FC2D4D70>, 'open': <function open at 0x00000235FA48F560>, '_': (28, 0, 0), '__': '', '___': '', '__session__': 'C:\\\\Users\\\\user\\\\PyCharmMiscProject\\\\Untitled.ipynb', '_i': 'from typing import TypedDict\\n\\nclass Person(TypedDict):\\n    name: str\\n    age: int\\n    email: str\\n\\nperson: Person = {\\n    \"name\": \"Alice\",\\n    \"age\": 30,\\n    \"email\": \"alice@example.com\"\\n}', '_ii': 'set_mode(\"delete\")', '_iii': 'from typing import Literal\\n\\ndef set_mode(mode: Literal[\"read\", \"write\", \"append\"]) -> None:\\n    print(f\"Mode set to: {mode}\")\\n\\nset_mode(\"read\")', '_i1': 'class Node:\\n    def __init__(self, value):\\n        self.value = value\\n        self.parent = None\\n        self.children = []\\n\\n    parent = Node(\"parent\")\\n    child = Node(\"child\")\\n    parent.chilren.append(child)\\n    child.parent = parent', '_i2': 'class Node:\\n    def __init__(self, value):\\n        self.value = value\\n        self.parent = None\\n        self.children = []\\n\\nparent = Node(\"parent\")\\nchild = Node(\"child\")\\nparent.chilren.append(child)\\nchild.parent = parent', 'Node': <class '__main__.Node'>, 'parent': <__main__.Node object at 0x00000235FC4697F0>, 'child': <__main__.Node object at 0x00000235FCA11090>, '_i3': 'class Node:\\n    def __init__(self, value):\\n        self.value = value\\n        self.parent = None\\n        self.children = []\\n\\nparent = Node(\"parent\")\\nchild = Node(\"child\")\\nparent.children.append(child)\\nchild.parent = parent', '_i4': 'import gc\\ngc.collect()\\ngc.get_count()', 'gc': <module 'gc' (built-in)>, '_4': (28, 0, 0), '_i5': 'try:\\n    result = 10 / 0\\nexcept ZeroDivisionError:\\n    print(\"Cannot divide by zero!\")\\n    result = None', 'result': None, '_i6': 'def check_age(age):\\n    if age < 0:\\n        raise ValueError(\"Age cannot be negative\")\\n    return age\\n\\ntry:\\n    check_age(-5)\\nexcept ValueError as e:\\n    print(f\"Error: {e}\")', 'check_age': <function check_age at 0x00000235FCA0E7A0>, '_i7': 'class CustomError(Exception):\\n    def __init__(self, message):\\n        self.message = message\\n        super().__init__(self.message)\\n\\nraise CustomError(\"Something went wrong!\")', 'CustomError': <class '__main__.CustomError'>, '_i8': 'try:\\n    1/0\\nexcept ZeroDivisionError as e:\\n    print(f\"Exception type: {type(e)}\")\\n    print(f\"Exception message: {e}\")\\n    print(f\"Exception args: {e.args}\")', '_i9': 'def greet(name: str) -> str:\\n    return f\"Hello, {name}!\"\\n\\nage: int = 25\\nprices: list[float] = [10.99, 5.50, 3.25]', 'greet': <function greet at 0x00000235FCA0F600>, '__annotations__': {'age': <class 'int'>, 'prices': list[float], 'MAX_SIZE': typing.Final, 'person': <class '__main__.Person'>}, 'age': 25, 'prices': [10.99, 5.5, 3.25], '_i10': 'def greet(name: str) -> str:\\n    return f\"Hello, {name}!\"\\n\\nage: int = 25\\nprices: list[float] = [10.99, 5.50, 3.25]', '_i11': 'from typing import Protocol\\n\\nclass drawable(Protocol):\\n    def draw(self) -> None: ...\\n\\nclass Circle:\\n    def draw(self) -> None:\\n        print(\"Drawing a circle\")\\n\\nclass Square:\\n    def draw(self) -> None:\\n        print(\"Drawing a square\")', 'Protocol': <class 'typing.Protocol'>, 'drawable': <class '__main__.drawable'>, 'Circle': <class '__main__.Circle'>, 'Square': <class '__main__.Square'>, '_i12': 'from typing import Protocol\\n\\nclass drawable(Protocol):\\n    def draw(self) -> None: ...\\n\\nclass Circle:\\n    def draw(self) -> None:\\n        print(\"Drawing a circle\")\\n\\nclass Square:\\n    def draw(self) -> None:\\n        print(\"Drawing a square\")', '_i13': 'from typing import Protocol\\n\\nclass drawable(Protocol):\\n    def draw(self) -> None: ...\\n\\nclass Circle:\\n    def draw(self) -> None:\\n        print(\"Drawing a circle\")\\n\\nclass Square:\\n    def draw(self) -> None:\\n        print(\"Drawing a square\")', '_i14': 'from typing import Final\\n\\nMAX_SIZE: Final = 100', 'Final': typing.Final, 'MAX_SIZE': 200, '_i15': 'MAX_SIZE = 200', '_i16': 'from typing import Final\\n\\nMAX_SIZE: Final = 100\\nMAX_SIZE = 200', '_i17': 'from typing import Final\\n\\nMAX_SIZE: Final = 100\\nMAX_SIZE = 200', '_i18': 'from typing import final\\n\\n@final\\nclass BaseClass:\\n    pass\\n\\nclass Derived(BaseClass):', '_i19': 'from typing import final\\n\\n@final\\nclass BaseClass:\\n    pass\\n\\nclass Derived(BaseClass):\\n    pass', 'final': <function final at 0x00000235F86385E0>, 'BaseClass': <class '__main__.BaseClass'>, 'Derived': <class '__main__.Derived'>, '_i20': 'from typing import final\\n\\n@final\\nclass BaseClass:\\n    pass\\n\\nclass Derived(BaseClass):\\n    pass', '_i21': 'from typing import Final\\n\\n@final\\nclass BaseClass:\\n    pass\\n\\nclass Derived(BaseClass):\\n    pass', '_i22': 'from typing import Final\\n\\n@final\\nclass BaseClass:\\n    pass\\n\\nclass Derived(BaseClass):\\n    pass', '_i23': 'from typing import Literal\\n\\ndef set_mode(mode: Literal[\"read\", \"write\", \"append\"]) ->\\n    print(f\"Mode set to: {mode}\")\\n\\nset_mode(\"read\")', '_i24': 'from typing import Literal\\n\\ndef set_mode(mode: Literal[\"read\", \"write\", \"append\"]): ->\\n    print(f\"Mode set to: {mode}\")\\n\\nset_mode(\"read\")', '_i25': 'from typing import Literal\\n\\ndef set_mode(mode: Literal[\"read\", \"write\", \"append\"]) ->\\n    print(f\"Mode set to: {mode}\")\\n\\nset_mode(\"read\")', '_i26': 'from typing import Literal\\n\\ndef set_mode(mode: Literal[\"read\", \"write\", \"append\"]) -> None:\\n    print(f\"Mode set to: {mode}\")\\n\\nset_mode(\"read\")', 'Literal': typing.Literal, 'set_mode': <function set_mode at 0x00000235FA4AC9A0>, '_i27': 'set_mode(\"delete\")', '_i28': 'from typing import TypedDict\\n\\nclass Person(TypedDict):\\n    name: str\\n    age: int\\n    email: str\\n\\nperson: Person = {\\n    \"name\": \"Alice\",\\n    \"age\": 30,\\n    \"email\": \"alice@example.com\"\\n}', 'TypedDict': <function TypedDict at 0x00000235F8638FE0>, 'Person': <class '__main__.Person'>, 'person': {'name': 'Alice', 'age': 30, 'email': 'alice@example.com'}, '_i29': 'x = 42\\nprint(locals())\\nprint(globals())\\nprint(vars())', 'x': 42}\n"
     ]
    }
   ],
   "source": [
    "x = 42\n",
    "print(locals())\n",
    "print(globals())\n",
    "print(vars())"
   ]
  },
  {
   "cell_type": "code",
   "execution_count": 30,
   "id": "3dd60032-6118-4ef5-b7de-b37cadddc411",
   "metadata": {},
   "outputs": [
    {
     "name": "stdout",
     "output_type": "stream",
     "text": [
      "True\n",
      "Alice\n",
      "['__class__', '__delattr__', '__dict__', '__dir__', '__doc__', '__eq__', '__firstlineno__', '__format__', '__ge__', '__getattribute__', '__getstate__', '__gt__', '__hash__', '__init__', '__init_subclass__', '__le__', '__lt__', '__module__', '__ne__', '__new__', '__reduce__', '__reduce_ex__', '__repr__', '__setattr__', '__sizeof__', '__static_attributes__', '__str__', '__subclasshook__', '__weakref__', 'age', 'name']\n"
     ]
    }
   ],
   "source": [
    "class Person:\n",
    "    def __init__(self, name):\n",
    "        self.name = name\n",
    "\n",
    "person = Person(\"Alice\")\n",
    "print(hasattr(person, \"name\"))\n",
    "print(getattr(person, \"name\"))\n",
    "setattr(person, \"age\", 25)\n",
    "print(dir(person))"
   ]
  },
  {
   "cell_type": "code",
   "execution_count": 31,
   "id": "20d4aec6-68ec-4615-a0e4-e71bd97c6a1f",
   "metadata": {},
   "outputs": [
    {
     "name": "stdout",
     "output_type": "stream",
     "text": [
      "OrderedDict({'a': <Parameter \"a\">, 'b': <Parameter \"b=10\">, 'args': <Parameter \"*args\">, 'kwargs': <Parameter \"**kwargs\">})\n"
     ]
    }
   ],
   "source": [
    "import inspect\n",
    "\n",
    "def example_function(a, b=10, *args, **kwargs):\n",
    "    pass\n",
    "\n",
    "sig = inspect.signature(example_function)\n",
    "print(sig.parameters)"
   ]
  },
  {
   "cell_type": "code",
   "execution_count": 32,
   "id": "8b641e40-ba42-4185-95a8-64b5853c0bba",
   "metadata": {},
   "outputs": [
    {
     "name": "stdout",
     "output_type": "stream",
     "text": [
      "Positional args: (1, 2, 3)\n",
      "Keyword args: {'name': 'Alice', 'age': 30}\n"
     ]
    }
   ],
   "source": [
    "def flexible_function(*args, **kwargs):\n",
    "    print(f\"Positional args: {args}\")\n",
    "    print(f\"Keyword args: {kwargs}\")\n",
    "\n",
    "flexible_function(1, 2, 3, name=\"Alice\", age=30)\n"
   ]
  },
  {
   "cell_type": "code",
   "execution_count": 33,
   "id": "90589a66-fd7e-4533-9eaa-59b9e6902997",
   "metadata": {},
   "outputs": [],
   "source": [
    "def square(x):\n",
    "    return x**2\n",
    "\n",
    "square_lambda = lambda x: x **2\n",
    "numbers = [1, 2, 3, 4, 5]\n",
    "squared = list(map(lambda x: x ** 2, numbers))"
   ]
  },
  {
   "cell_type": "code",
   "execution_count": 34,
   "id": "43e0972e-7aae-4ece-b240-d024e52cbd0e",
   "metadata": {},
   "outputs": [
    {
     "name": "stdout",
     "output_type": "stream",
     "text": [
      "15\n"
     ]
    }
   ],
   "source": [
    "def outer_function(x):\n",
    "    def inner_function(y):\n",
    "        return x + y \n",
    "    return inner_function\n",
    "\n",
    "add_10 = outer_function(10)\n",
    "print(add_10(5))"
   ]
  },
  {
   "cell_type": "code",
   "execution_count": 36,
   "id": "2baeb3e4-0190-47f8-8fe5-3448f83fb97c",
   "metadata": {},
   "outputs": [
    {
     "name": "stdout",
     "output_type": "stream",
     "text": [
      "Vector(4, 6)\n"
     ]
    }
   ],
   "source": [
    "class Vector:\n",
    "    def __init__(self, x, y):\n",
    "        self.x = x\n",
    "        self.y = y\n",
    "\n",
    "    def __add__(self, other):\n",
    "        return Vector(self.x + other.x, self.y + other.y)\n",
    "\n",
    "    def __str__(self):\n",
    "        return f\"Vector({self.x}, {self.y})\"\n",
    "\n",
    "v1 = Vector(1, 2)\n",
    "v2 = Vector(3, 4)\n",
    "v3 = v1 + v2\n",
    "print(v3)\n",
    "            "
   ]
  }
 ],
 "metadata": {
  "kernelspec": {
   "display_name": "Python 3 (ipykernel)",
   "language": "python",
   "name": "python3"
  },
  "language_info": {
   "codemirror_mode": {
    "name": "ipython",
    "version": 3
   },
   "file_extension": ".py",
   "mimetype": "text/x-python",
   "name": "python",
   "nbconvert_exporter": "python",
   "pygments_lexer": "ipython3",
   "version": "3.13.7"
  }
 },
 "nbformat": 4,
 "nbformat_minor": 5
}
